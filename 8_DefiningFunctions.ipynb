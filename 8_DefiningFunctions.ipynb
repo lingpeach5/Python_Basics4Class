{
  "nbformat": 4,
  "nbformat_minor": 0,
  "metadata": {
    "colab": {
      "provenance": [],
      "authorship_tag": "ABX9TyPAi2YbZAOyUBKWMbnTl+fu",
      "include_colab_link": true
    },
    "kernelspec": {
      "name": "python3",
      "display_name": "Python 3"
    },
    "language_info": {
      "name": "python"
    }
  },
  "cells": [
    {
      "cell_type": "markdown",
      "metadata": {
        "id": "view-in-github",
        "colab_type": "text"
      },
      "source": [
        "<a href=\"https://colab.research.google.com/github/ms624atyale/Python_Basics/blob/main/8_DefiningFunctions.ipynb\" target=\"_parent\"><img src=\"https://colab.research.google.com/assets/colab-badge.svg\" alt=\"Open In Colab\"/></a>"
      ]
    },
    {
      "cell_type": "code",
      "execution_count": null,
      "metadata": {
        "id": "v-gjA5sdhg68"
      },
      "outputs": [],
      "source": [
        "#@markdown 📌 Functions\n",
        "\n",
        "def add_number(n1,n2): \n",
        "  result1 = n1 + n2     #리턴값이 있는 함수 예시\n",
        "  return result1\n",
        "\n",
        "def add_txt(t1,t2):    #리턴값이 없는 함수 예시\n",
        "  print (t1 + t2)\n"
      ]
    },
    {
      "cell_type": "markdown",
      "source": [
        "## 🍒 정의된 함수를 호출하기 \n",
        "  - 1️⃣ 인자와 함수의 리턴값이 있는 경우 함수 호출 방법 (리턴값을 받을 변수를 지정해 주자) \n",
        "      -  변수 = 함수이름(값1,값2,...)\n",
        "  \n",
        "  - 2️⃣ 리턴값이 없는 경우 함수, 먼저 각 인자를 변수로 할당하고, 이후 함수이름에 대응 인자를 ( ) 안에 기입하는 것으로, 결과적으로는 함수이름만 호출한다.\n",
        "      -   함수이름(값1, 값2,...)\n",
        "  \n",
        "  - 3️⃣ 인자와 리턴값이 없는 함수 호출\n",
        "      -  함수이름( ) \n",
        "  \n",
        "  "
      ],
      "metadata": {
        "id": "NXwmfmAmwsVj"
      }
    },
    {
      "cell_type": "code",
      "source": [
        "def add_number(n1,n2): \n",
        "  result1 = n1 + n2     \n",
        "  return result1      #리턴값이 있는 함수 예시 \n",
        "\n",
        "example = add_number(10, 20)\n",
        "print(example)\n",
        "\n",
        "\n",
        "\n",
        "def add_txt(t1,t2):    #리턴값이 없는 함수 예시1\n",
        "  print (t1 + t2)\n",
        "\n",
        "txt1 = 'We are proud of'\n",
        "txt2 = ' South Korea.'\n",
        "add_txt(txt1,txt2)\n",
        "\n",
        "\n",
        "\n"
      ],
      "metadata": {
        "colab": {
          "base_uri": "https://localhost:8080/"
        },
        "id": "DMwpaqv7z2mQ",
        "outputId": "a357c292-9820-4dd1-d10e-d45612285997"
      },
      "execution_count": 1,
      "outputs": [
        {
          "output_type": "stream",
          "name": "stdout",
          "text": [
            "30\n",
            "We are proud of South Korea.\n"
          ]
        }
      ]
    },
    {
      "cell_type": "markdown",
      "source": [
        "### ⚡ 기본 인자 (e.g., t2='Python'): 함수 호출 때 t2 위치에 실제 값을 전달하지 않아도 'Python'이 기본값으로 대입됨 \n",
        "### ⚡ 키워드 인자: 함수 호출 때 괄호 안에 등호를 사용하여 표시할 때 이를 키워드 인자라고 한다. 예시 add_txt1(t1='My friend', t2='Python')"
      ],
      "metadata": {
        "id": "pgqX3r2RVFyE"
      }
    },
    {
      "cell_type": "code",
      "source": [
        "def add_txt1(t1,t2='Python'): #add_txt1은 t1과 t2를 ':'로 연결한 뒤 출력하는 함수다.\n",
        "  print(t1 + ':' + t2)\n",
        "\n",
        "add_txt1('Best') #add_txt1 함수를 호출하고 있음. 기본값 t2='Python'을 사용하며 호출\n",
        "add_txt1(t1='My friend', t2='Python') #add_txt1 함수를 호출하고 있음. 인자 이름을 명시하며 (=키워드 인자를 사용하며) 호출\n",
        "\n"
      ],
      "metadata": {
        "id": "NqusozFRVQ8Z",
        "outputId": "db97fd34-ea34-4165-f0b1-b24ba3440b71",
        "colab": {
          "base_uri": "https://localhost:8080/"
        }
      },
      "execution_count": 2,
      "outputs": [
        {
          "output_type": "stream",
          "name": "stdout",
          "text": [
            "Best:Python\n",
            "My friend:Python\n"
          ]
        }
      ]
    },
    {
      "cell_type": "markdown",
      "source": [
        "### ⚡ **<font color = 'red'> 가변 인자 (*args) </font>**는 인자의 개수가 명확치 않을 때 사용한다.\n",
        "### ⚡ **<font color = 'blue'> 키워드 가변 인자 (*kwargs)</font>**는 차후 어떤 키워드 인자가 필요한지 미확정 되었을 때 사용한다. \n",
        "\n"
      ],
      "metadata": {
        "id": "SmGNZArBgZq_"
      }
    },
    {
      "cell_type": "code",
      "source": [
        "def func_uncertain(*args):\n",
        "  print(args)\n",
        "\n",
        "func_uncertain() #*args에 아무값도 전달 안하면서 함수를 호출하면 빈 튜플로 결과가 출력된다.  \n",
        "\n",
        "def func_kwa(width, height, **kwargs):  #함수 정의 때 two asterisks 인 것을 주의하자.\n",
        "  print(kwargs)                         #Q: 함수 정의 때 kwargs 의 결과를 보는 것이 목적이면, width, height 인자는 왜 등록해 놓은 것일까? Ask MK316 about it.\n",
        "\n",
        "func_kwa(10, 20) #*kwargs에 아무값도 전달 안하면서 함수를 호출하면 빈 사전으로 결과가 출력된다.\n",
        "func_kwa(10, 20, depth=30, color='blue')\n"
      ],
      "metadata": {
        "id": "hUWjH2ZNiiTM",
        "outputId": "88c240fd-bffe-4cb2-8043-df8153b28034",
        "colab": {
          "base_uri": "https://localhost:8080/"
        }
      },
      "execution_count": 10,
      "outputs": [
        {
          "output_type": "stream",
          "name": "stdout",
          "text": [
            "()\n",
            "{}\n",
            "{'depth': 30, 'color': 'blue'}\n"
          ]
        }
      ]
    },
    {
      "cell_type": "markdown",
      "source": [
        "#To do: What are the code lines for? Think about it after taking a nap. "
      ],
      "metadata": {
        "id": "od69Xw-YnZl8"
      }
    },
    {
      "cell_type": "code",
      "source": [
        "def myfunction():\n",
        "  print ('안녕하세요')\n",
        "\n",
        "list = [1, 2, myfunction]\n",
        "list[2]() #리스트에서 2 번째 요소가 myfunction 함수라서, myfunction 함수에 인자 자리 ( )를 넣는 것과 list[2]( )는 같은 code line으로 볼 수 있다. "
      ],
      "metadata": {
        "id": "zwR-XAzLxXz_",
        "outputId": "855f3b80-590b-497e-9465-07ba83d36a44",
        "colab": {
          "base_uri": "https://localhost:8080/"
        }
      },
      "execution_count": null,
      "outputs": [
        {
          "output_type": "stream",
          "name": "stdout",
          "text": [
            "안녕하세요\n"
          ]
        }
      ]
    },
    {
      "cell_type": "code",
      "source": [
        "#@markdown 🌀 리스트의 요소 중 하나가 function 함수인 경우\n",
        "\n",
        "def myfunc():\n",
        "  print('hi')\n",
        "\n",
        "list1=[1,2,3,myfunc]\n",
        "myfunc()\n",
        "list1[3]()"
      ],
      "metadata": {
        "id": "-897h_JC5bVX",
        "outputId": "28129489-2dbc-4a47-f177-34b37e1c432b",
        "colab": {
          "base_uri": "https://localhost:8080/"
        }
      },
      "execution_count": null,
      "outputs": [
        {
          "output_type": "stream",
          "name": "stdout",
          "text": [
            "hi\n",
            "hi\n"
          ]
        }
      ]
    },
    {
      "cell_type": "markdown",
      "source": [
        "# 아래 부터는 이해해 보려는 My exercise 🐶 🐹\n"
      ],
      "metadata": {
        "id": "UlXAqNd2Cqqc"
      }
    },
    {
      "cell_type": "code",
      "source": [
        "#개인 함수 연습1\n",
        "\n",
        "def add_d(n1,n2):\n",
        "  result = n1 + n2\n",
        "  return result     #여기 실수했고\n",
        "\n",
        "sample = add_d(10,100)  #여기 실수했고\n",
        "print(sample)"
      ],
      "metadata": {
        "id": "7GFF_5uD9yKq",
        "outputId": "86e39bd0-4414-42ed-c852-026ec4da182b",
        "colab": {
          "base_uri": "https://localhost:8080/"
        }
      },
      "execution_count": null,
      "outputs": [
        {
          "output_type": "stream",
          "name": "stdout",
          "text": [
            "110\n"
          ]
        }
      ]
    },
    {
      "cell_type": "code",
      "source": [
        "#개인 함수 연습2\n",
        "\n",
        "def add_dd(n1, n2):\n",
        "  print(n1 + n2)\n",
        "\n",
        "n1=1000\n",
        "n2=10000\n",
        "\n",
        "add_dd(n1,n2) # print(add_dd(n1,n2))라고 잘못 썼음. "
      ],
      "metadata": {
        "id": "RBIokBRD-wPS",
        "outputId": "507b78d7-3c85-4a61-abae-acb3f0f2fe2b",
        "colab": {
          "base_uri": "https://localhost:8080/"
        }
      },
      "execution_count": null,
      "outputs": [
        {
          "output_type": "stream",
          "name": "stdout",
          "text": [
            "11000\n"
          ]
        }
      ]
    },
    {
      "cell_type": "code",
      "source": [
        "def add_ddd(n1,n2,n3):\n",
        "  results = n1 + n2 + n3\n",
        "  return results\n",
        "\n",
        "sample2 = add_ddd(1000, 10000, 100000) #변수 지정해서 함수의 인자 자리에 직접 수를 입력하는지 헷갈림 => 아 맞네. \n",
        "print (sample2)"
      ],
      "metadata": {
        "id": "WQLtv0fD_1Dv",
        "outputId": "c84391c0-124a-4037-92d6-eb333e3afaee",
        "colab": {
          "base_uri": "https://localhost:8080/"
        }
      },
      "execution_count": null,
      "outputs": [
        {
          "output_type": "stream",
          "name": "stdout",
          "text": [
            "111000\n"
          ]
        }
      ]
    },
    {
      "cell_type": "code",
      "source": [
        "def add_dddd(n1,n2, n3, n4):\n",
        "  print(n1 + n2 + n3 + n4)\n",
        "\n",
        "n1 = 1000\n",
        "n2 = 10000\n",
        "n3 = 100000\n",
        "n4 = 1000000\n",
        "\n",
        "add_dddd(n1,n2,n3,n4)"
      ],
      "metadata": {
        "id": "2Cww7Y9kBQl-",
        "outputId": "81df0fda-d46d-4c5e-957b-33554686f12b",
        "colab": {
          "base_uri": "https://localhost:8080/"
        }
      },
      "execution_count": null,
      "outputs": [
        {
          "output_type": "stream",
          "name": "stdout",
          "text": [
            "1111000\n"
          ]
        }
      ]
    }
  ]
}