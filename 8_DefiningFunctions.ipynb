{
  "nbformat": 4,
  "nbformat_minor": 0,
  "metadata": {
    "colab": {
      "provenance": [],
      "authorship_tag": "ABX9TyMHKeMyk+FdcgLhbbs2JY/C",
      "include_colab_link": true
    },
    "kernelspec": {
      "name": "python3",
      "display_name": "Python 3"
    },
    "language_info": {
      "name": "python"
    }
  },
  "cells": [
    {
      "cell_type": "markdown",
      "metadata": {
        "id": "view-in-github",
        "colab_type": "text"
      },
      "source": [
        "<a href=\"https://colab.research.google.com/github/ms624atyale/Python_Basics/blob/main/8_DefiningFunctions.ipynb\" target=\"_parent\"><img src=\"https://colab.research.google.com/assets/colab-badge.svg\" alt=\"Open In Colab\"/></a>"
      ]
    },
    {
      "cell_type": "code",
      "execution_count": null,
      "metadata": {
        "id": "v-gjA5sdhg68"
      },
      "outputs": [],
      "source": [
        "#@markdown 📌 Functions\n",
        "\n",
        "def add_number(n1,n2): \n",
        "  result1 = n1 + n2     #리턴값이 있는 함수 예시\n",
        "  return result1\n",
        "\n",
        "def add_txt(t1,t2):    #리턴값이 없는 함수 예시\n",
        "  print (t1 + t2)\n"
      ]
    },
    {
      "cell_type": "markdown",
      "source": [
        "###@ 🌻 Understanding return values of functions 함수의 리턴값 이해하기\n",
        "\n",
        "  - 1 return 리턴값이 한개인 경우\n",
        "  - multiple returns 리턴값이 여러개인 경우\n",
        "\n"
      ],
      "metadata": {
        "id": "gmea2AmRzNx2"
      }
    },
    {
      "cell_type": "code",
      "source": [
        "def reverse(x,y,z):\n",
        "  return z, y, x\n",
        "\n",
        "ret = reverse (1,2,3)\n",
        "print(ret)\n",
        "\n",
        "r1,r2,r3 = reverse('a','b','c')\n",
        "print(r1,r2,r3)\n",
        "\n",
        "r1,r2,r3=reverse('x','y','z')\n",
        "print(r1,r2,r3)"
      ],
      "metadata": {
        "id": "7u1GxbBGz4e1",
        "outputId": "990889ef-9a9d-495c-ee30-322cfd6ce300",
        "colab": {
          "base_uri": "https://localhost:8080/"
        }
      },
      "execution_count": null,
      "outputs": [
        {
          "output_type": "stream",
          "name": "stdout",
          "text": [
            "(3, 2, 1)\n",
            "c b a\n",
            "z y x\n"
          ]
        }
      ]
    },
    {
      "cell_type": "markdown",
      "source": [
        "### 🍒 정의된 함수를 호출하기 \n",
        "  - 1️⃣ 인자와 함수의 리턴값이 있는 경우 함수 호출 방법 (리턴값을 받을 변수를 지정해 주자) \n",
        "      -  변수 = 함수이름(값1,값2,...)\n",
        "  \n",
        "  - 2️⃣ 리턴값이 없는 경우 함수, 먼저 각 인자를 변수로 할당하고, 이후 함수이름에 대응 인자를 ( ) 안에 기입하는 것으로, 결과적으로는 함수이름만 호출한다.\n",
        "      -   함수이름(값1, 값2,...)\n",
        "  \n",
        "  - 3️⃣ 인자와 리턴값이 없는 함수 호출\n",
        "      -  함수이름( ) \n",
        "  \n",
        "  "
      ],
      "metadata": {
        "id": "NXwmfmAmwsVj"
      }
    },
    {
      "cell_type": "code",
      "source": [
        "def add_number(n1,n2): \n",
        "  result1 = n1 + n2     \n",
        "  return result1      #리턴값이 있는 함수 예시. My understanding: 함수 안에 print() 가 없으니 함수를 호출할 때는 print() 써줘야 함. 그러려면 호출 때 함수를 할당하는 변수 지정 필요. \n",
        "\n",
        "example = add_number(10, 20)\n",
        "print(example)\n",
        "\n",
        "\n",
        "\n",
        "def add_txt(t1,t2):    #리턴값이 없는 함수 예시1 My understanding: 함수 안에 print() 가 있으니 함수를 호출할 때는 print() 제외. \n",
        "  print (t1 + t2)\n",
        "\n",
        "txt1 = 'We are proud of'\n",
        "txt2 = ' South Korea.'\n",
        "add_txt(txt1,txt2)\n",
        "\n",
        "\n",
        "\n"
      ],
      "metadata": {
        "colab": {
          "base_uri": "https://localhost:8080/"
        },
        "id": "DMwpaqv7z2mQ",
        "outputId": "a357c292-9820-4dd1-d10e-d45612285997"
      },
      "execution_count": null,
      "outputs": [
        {
          "output_type": "stream",
          "name": "stdout",
          "text": [
            "30\n",
            "We are proud of South Korea.\n"
          ]
        }
      ]
    },
    {
      "cell_type": "markdown",
      "source": [
        "##### ⚡ 기본 인자 (e.g., t2='Python'): 함수 호출 때 t2 위치에 실제 값을 전달하지 않아도 'Python'이 기본값으로 대입됨 \n",
        "##### ⚡ 키워드 인자: 함수 호출 때 괄호 안에 등호를 사용하여 표시할 때 이를 키워드 인자라고 한다. 예시 add_txt1(t1='My friend', t2='Python')"
      ],
      "metadata": {
        "id": "pgqX3r2RVFyE"
      }
    },
    {
      "cell_type": "code",
      "source": [
        "# 위의 함수 정의 및 호출 이해 완료\n",
        "def add_txt1(t1,t2='Python'): #add_txt1은 t1과 t2를 ':'로 연결한 뒤 출력하는 함수다.\n",
        "  print(t1 + ':' + t2). # 연결 기호 + 실수 했음\n",
        "\n",
        "add_txt1('Best') #add_txt1 함수를 호출하고 있음. 기본값 t2='Python'을 사용하며 호출\n",
        "add_txt1(t1='My friend', t2='Python') #add_txt1 함수를 호출하고 있음. 인자 이름을 명시하며 (=키워드 인자를 사용하며) 호출\n",
        "add_txt1(t1='My buddy')\n",
        "\n"
      ],
      "metadata": {
        "id": "NqusozFRVQ8Z",
        "outputId": "e3bd580f-bebb-4b1b-fe65-0013f17e1c2e",
        "colab": {
          "base_uri": "https://localhost:8080/"
        }
      },
      "execution_count": null,
      "outputs": [
        {
          "output_type": "stream",
          "name": "stdout",
          "text": [
            "Best:Python\n",
            "My friend:Python\n",
            "My buddy:Python\n"
          ]
        }
      ]
    },
    {
      "cell_type": "code",
      "source": [
        "def couples(t1, t2='Python'):\n",
        "  print (t1 + ':' + t2)\n",
        "\n",
        "couples('Best')\n",
        "couples(t1='My friend')"
      ],
      "metadata": {
        "id": "wB1RSYhDIhgc",
        "outputId": "83c00bac-6bfe-4ec3-eb4f-5801b17af446",
        "colab": {
          "base_uri": "https://localhost:8080/"
        }
      },
      "execution_count": null,
      "outputs": [
        {
          "output_type": "stream",
          "name": "stdout",
          "text": [
            "Best:Python\n",
            "My friend:Python\n"
          ]
        }
      ]
    },
    {
      "cell_type": "markdown",
      "source": [
        "##### ⚡ **<font color = 'red'> 가변 인자 (*args) </font>**는 인자의 개수가 명확치 않을 때 사용한다.\n",
        "##### ⚡ **<font color = 'blue'> 키워드 가변 인자 (*kwargs)</font>**는 차후 어떤 키워드 인자가 필요한지 미확정 되었을 때 사용한다. \n",
        "\n"
      ],
      "metadata": {
        "id": "SmGNZArBgZq_"
      }
    },
    {
      "cell_type": "code",
      "source": [
        "def func_uncertain(*args):\n",
        "  print(args)\n",
        "\n",
        "func_uncertain() #*args에 아무값도 전달 안하면서 함수를 호출하면 빈 튜플로 결과가 출력된다.  \n",
        "\n",
        "def func_kwa(width, height, **kwargs):  #함수 정의 때 TWO asterisks 인 것을 주의하자. 또한 인자가 string 인데 ''를 동반 사용 X\n",
        "  print(kwargs)                         #Q: 함수 정의 때 kwargs 의 결과를 보는 것이 목적이면, width, height 인자는 왜 등록해 놓은 것일까? Ask MK316 about it.\n",
        "\n",
        "func_kwa(10, 20) #*kwargs에 아무값도 전달 안하면서 함수를 호출하면 빈 사전으로 결과가 출력된다. 그런데 여기에 두 숫자 인자를 꼭 써야 empty dictionary 형태의 결과 {} 가 나올까???\n",
        "func_kwa(10, 20, depth=30, color='blue') #첫번째 두 인자 10과 20은 왜 Dictionary 결과에는 역할이 없나??\n"
      ],
      "metadata": {
        "id": "hUWjH2ZNiiTM",
        "outputId": "64118e09-ed9b-4c2c-f239-ee4cce8a9014",
        "colab": {
          "base_uri": "https://localhost:8080/"
        }
      },
      "execution_count": null,
      "outputs": [
        {
          "output_type": "stream",
          "name": "stdout",
          "text": [
            "()\n",
            "{}\n",
            "{'depth': 30, 'color': 'blue'}\n"
          ]
        }
      ]
    },
    {
      "cell_type": "markdown",
      "source": [
        "#####  🌀 리스트의 요소 중 하나가 function 함수인 경우"
      ],
      "metadata": {
        "id": "od69Xw-YnZl8"
      }
    },
    {
      "cell_type": "code",
      "source": [
        "def myfunction():\n",
        "  print ('안녕하세요')\n",
        "\n",
        "list = [1, 2, myfunction]\n",
        "\n",
        "list[2]() #리스트에서 2 번째 요소가 myfunction 함수라서, myfunction 함수에 인자 자리 ( )를 넣는 것과 list[2]( )는 같은 code line으로 볼 수 있다. \n",
        "myfunction()"
      ],
      "metadata": {
        "id": "zwR-XAzLxXz_",
        "outputId": "574433b8-4532-40de-96e0-d67be8ae0bb4",
        "colab": {
          "base_uri": "https://localhost:8080/"
        }
      },
      "execution_count": null,
      "outputs": [
        {
          "output_type": "stream",
          "name": "stdout",
          "text": [
            "안녕하세요\n",
            "안녕하세요\n"
          ]
        }
      ]
    }
  ]
}