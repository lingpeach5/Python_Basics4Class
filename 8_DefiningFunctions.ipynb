{
  "nbformat": 4,
  "nbformat_minor": 0,
  "metadata": {
    "colab": {
      "provenance": [],
      "authorship_tag": "ABX9TyOmxy0MQ984QFbsmYWmmOUL",
      "include_colab_link": true
    },
    "kernelspec": {
      "name": "python3",
      "display_name": "Python 3"
    },
    "language_info": {
      "name": "python"
    }
  },
  "cells": [
    {
      "cell_type": "markdown",
      "metadata": {
        "id": "view-in-github",
        "colab_type": "text"
      },
      "source": [
        "<a href=\"https://colab.research.google.com/github/ms624atyale/Python_Basics/blob/main/8_DefiningFunctions.ipynb\" target=\"_parent\"><img src=\"https://colab.research.google.com/assets/colab-badge.svg\" alt=\"Open In Colab\"/></a>"
      ]
    },
    {
      "cell_type": "code",
      "execution_count": 3,
      "metadata": {
        "id": "v-gjA5sdhg68"
      },
      "outputs": [],
      "source": [
        "#@markdown 📌 Functions\n",
        "\n",
        "def add_number(n1,n2): \n",
        "  result1 = n1 + n2     #리턴값이 있는 함수 예시\n",
        "  return result1\n",
        "\n",
        "def add_txt(t1,t2):    #리턴값이 없는 함수 예시\n",
        "  print (t1 + t2)\n"
      ]
    },
    {
      "cell_type": "markdown",
      "source": [
        "## 🍒 정의된 함수를 호출하기 \n",
        "  - 1️⃣ 인자와 함수의 리턴값이 있는 경우 함수 호출 방법 (리턴값을 받을 변수를 지정해 주자) \n",
        "      -  변수 = 함수이름(값1,값2,...)\n",
        "  \n",
        "  - 2️⃣ 리턴값이 없는 경우 함수, 먼저 각 인자를 변수로 할당하고, 이후 함수이름에 대응 인자를 ( ) 안에 기입하는 것으로, 결과적으로는 함수이름만 호출한다.\n",
        "      -   함수이름(값1, 값2,...)\n",
        "  \n",
        "  - 3️⃣ 인자와 리턴값이 없는 함수 호출\n",
        "      -  함수이름( ) \n",
        "  \n",
        "  "
      ],
      "metadata": {
        "id": "NXwmfmAmwsVj"
      }
    },
    {
      "cell_type": "code",
      "source": [
        "def add_number(n1,n2): \n",
        "  result1 = n1 + n2     \n",
        "  return result1      #리턴값이 있는 함수 예시 \n",
        "\n",
        "example = add_number(10, 20)\n",
        "print(example)\n",
        "\n",
        "\n",
        "\n",
        "def add_txt(t1,t2):    #리턴값이 없는 함수 예시1\n",
        "  print (t1 + t2)\n",
        "\n",
        "txt1 = 'We are proud of'\n",
        "txt2 = ' South Korea.'\n",
        "add_txt(txt1,txt2)\n",
        "\n",
        "def add_txt1(t1,t2='Python'):\n",
        "  print(t1 + ':' + t2)\n",
        "\n",
        "add_txt1('Best')\n",
        "add_txt1(t1='My friend', t2='Python')\n",
        "\n"
      ],
      "metadata": {
        "id": "DMwpaqv7z2mQ",
        "outputId": "c2c29d6b-f96e-4fa4-e0bf-0ece4701252e",
        "colab": {
          "base_uri": "https://localhost:8080/"
        }
      },
      "execution_count": 14,
      "outputs": [
        {
          "output_type": "stream",
          "name": "stdout",
          "text": [
            "30\n",
            "We are proud of South Korea.\n",
            "Best:Python\n",
            "My friend:Python\n"
          ]
        }
      ]
    },
    {
      "cell_type": "markdown",
      "source": [
        "## ⚡ 가변 인자 (인자의 개수가 불명확할 때 사용): *args 이 부분은 파이썬200제 #40 (pp.89-91 참조하기)"
      ],
      "metadata": {
        "id": "xRNLwRGe5MVD"
      }
    }
  ]
}