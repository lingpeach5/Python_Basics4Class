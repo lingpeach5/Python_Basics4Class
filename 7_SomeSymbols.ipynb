{
  "nbformat": 4,
  "nbformat_minor": 0,
  "metadata": {
    "colab": {
      "provenance": [],
      "authorship_tag": "ABX9TyN/y8FNoXanBXABCi/LyxJh",
      "include_colab_link": true
    },
    "kernelspec": {
      "name": "python3",
      "display_name": "Python 3"
    },
    "language_info": {
      "name": "python"
    }
  },
  "cells": [
    {
      "cell_type": "markdown",
      "metadata": {
        "id": "view-in-github",
        "colab_type": "text"
      },
      "source": [
        "<a href=\"https://colab.research.google.com/github/ms624atyale/Python_Basics/blob/main/7_SomeSymbols.ipynb\" target=\"_parent\"><img src=\"https://colab.research.google.com/assets/colab-badge.svg\" alt=\"Open In Colab\"/></a>"
      ]
    },
    {
      "cell_type": "code",
      "execution_count": 2,
      "metadata": {
        "colab": {
          "base_uri": "https://localhost:8080/"
        },
        "id": "v-gjA5sdhg68",
        "outputId": "93f6cc62-ca55-4e83-fac2-6ac09ffcb1f4"
      },
      "outputs": [
        {
          "output_type": "stream",
          "name": "stdout",
          "text": [
            "True\n",
            "False\n",
            "True\n"
          ]
        }
      ],
      "source": [
        "#@markdown 📌Checking members (in): 시퀀스 자료의 요소를 확인할 때 사용\n",
        "\n",
        "list = [1,2,3,4]\n",
        "str = 'abcde'\n",
        "\n",
        "ret1 = 1 in list\n",
        "ret2 = 5 in list\n",
        "ret3 = 'a' in str\n",
        "\n",
        "print(ret1); print(ret2); print(ret3)"
      ]
    },
    {
      "cell_type": "markdown",
      "source": [
        "#📌 문자열 선언 방법\n",
        "  - use a set of single quotes (' ')\n",
        "  - use a set of double quotes (\" \")\n",
        "  - use a set of triple quotes (\"\"\"  \"\"\")\n",
        "        - 줄바꿈이 될 때도 triple quotes 안에 있는 모든 것은 문자열로 정의됨"
      ],
      "metadata": {
        "id": "Z9-Ut9_vhp4u"
      }
    },
    {
      "cell_type": "code",
      "source": [
        "str1 = 'I like Python'\n",
        "str2 = \"You like Python\"\n",
        "str3 = \"\"\" She\n",
        "  likes Python too\"\"\""
      ],
      "metadata": {
        "id": "KfxnIwBPhnhZ"
      },
      "execution_count": 3,
      "outputs": []
    },
    {
      "cell_type": "markdown",
      "source": [
        "## Understaning format strings 포맷 문자열\n",
        "\n",
        "| 포맷 문자열 | 설명  | \n",
        "|:---------|:-:|\n",
        "| %s | 문자열에 대응됨 | \n",
        "| %c | 문자나 기호 한 개에 대응됨 | \n",
        "| %f | 실수에 대응됨 | \n",
        "| %d | 정수에 대응됨 | \n",
        "| %% | 기호 %를 포함함 | \n",
        "\n",
        "실질적인 값을 포맷 문자열에 대입하는 방법\n",
        "\n",
        "1. 변수 할당\n",
        "2. 포맷 문자열이 1 개일 경우: print 함수를 사용하여 return 할 문장이나 수식을 입력 하고, 그 이어 기호% 뒤에 #1 변수를 입력한다.  \n",
        "3. 포맷 문자열이 2 개일 경우: print 함수를 사용하여 return 할 문장이나 수식을 입력 하고,() 안에, 첫 번째 %s에 대입할 문자열, 두 번 째 %s에 대입할 문자열을 쉼표를 사용하여 표시한다. \n",
        "\n",
        "혹은\n",
        "1. 변수에 할당하는 요소를 입력하면서 사용도 가능 \n",
        "\n"
      ],
      "metadata": {
        "id": "nvsI_bKWkEA6"
      }
    },
    {
      "cell_type": "code",
      "source": [
        "txt1 = 'JAVA'; txt2 = 'Python'\n",
        "num1 = 5.0; number2 = 10\n",
        "\n",
        "print('나는 %s 보다 %s 에 더 익숙합니다.' %(txt1, txt2))\n",
        "print('세계 경제 성장률은 전년에 비하여 %f%% 포인트 증가했다.' %num1)\n",
        "print('세계 경제 성장률은 전년에 비하여 %d%% 포인트 증가했다.' %num1)"
      ],
      "metadata": {
        "colab": {
          "base_uri": "https://localhost:8080/"
        },
        "id": "JdiDZDNnl_NJ",
        "outputId": "9ed4e84c-d68d-443e-a730-579fbd6b8896"
      },
      "execution_count": 13,
      "outputs": [
        {
          "output_type": "stream",
          "name": "stdout",
          "text": [
            "나는 JAVA 보다 Python 에 더 익숙합니다.\n",
            "세계 경제 성장률은 전년에 비하여 5.000000% 포인트 증가했다.\n",
            "세계 경제 성장률은 전년에 비하여 5% 포인트 증가했다.\n"
          ]
        }
      ]
    },
    {
      "cell_type": "code",
      "source": [
        "# 파이썬 200 제 따라했는데 Fail (p.81)\n",
        "from time import sleep\n",
        "for i in range(100):\n",
        "  msg = '\\r진행률 %d%%' %(i+1)\n",
        "  print(''*len(msg),end=\")\n",
        "  print(msg,end\")\n",
        "  sleep(0.1)"
      ],
      "metadata": {
        "colab": {
          "base_uri": "https://localhost:8080/",
          "height": 131
        },
        "id": "JMMwAL70l_QL",
        "outputId": "545e3a81-c120-4a9d-c5a7-223b4ec97b8f"
      },
      "execution_count": 16,
      "outputs": [
        {
          "output_type": "error",
          "ename": "SyntaxError",
          "evalue": "ignored",
          "traceback": [
            "\u001b[0;36m  File \u001b[0;32m\"<ipython-input-16-2efb911195e5>\"\u001b[0;36m, line \u001b[0;32m4\u001b[0m\n\u001b[0;31m    print(''*len(msg),end=\")\u001b[0m\n\u001b[0m                            ^\u001b[0m\n\u001b[0;31mSyntaxError\u001b[0m\u001b[0;31m:\u001b[0m EOL while scanning string literal\n"
          ]
        }
      ]
    },
    {
      "cell_type": "markdown",
      "source": [
        "## Understaning escape letter 이스케이프 문자\n",
        "\n",
        "이스케이프 문자는 키보드로 입력하기 어려운 기호를 나타내기 위해 백슬래쉬로 시작하는 문자이다. double quotes 안에 인용부호 \" \" 를 사용하는 경우에도 이스케이프 문자를 사용할 수 있다. \n",
        "\n",
        "| 파이썬에서 자주 사용하는 이스케이프 문자 | 설명  | \n",
        "|:---------|:-:|\n",
        "| \\n | 줄 바꾸기 | \n",
        "| \\t | 탭| \n",
        "| \\[enter] | 줄 계속 (다음 줄도 계속되는 줄이라는 표시) | \n",
        "| \\\\ | '\\' 기호자체 | \n",
        "| \\' 또는 \\\" | '기호 또는 \"기호 자체 | "
      ],
      "metadata": {
        "id": "oOq3BSdEsPQV"
      }
    },
    {
      "cell_type": "code",
      "source": [
        "print('I love Ptyon. \\n Python is easy.')\n",
        "print('Name: John Smith\\tGender:Male\\tAge:20')\n",
        "print ('We use single quotes(\\') and double quotes(\") when we define strings.')"
      ],
      "metadata": {
        "colab": {
          "base_uri": "https://localhost:8080/"
        },
        "id": "54MBw3nEtbGX",
        "outputId": "8a640ea9-5831-4e16-fa00-e4e599d36875"
      },
      "execution_count": 17,
      "outputs": [
        {
          "output_type": "stream",
          "name": "stdout",
          "text": [
            "I love Ptyon. \n",
            " Python is easy.\n",
            "Name: John Smith\tGender:Male\tAge:20\n",
            "We use single quotes(') and double quotes(\") when we define strings.\n"
          ]
        }
      ]
    }
  ]
}