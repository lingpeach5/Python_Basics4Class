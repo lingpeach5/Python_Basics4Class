{
  "nbformat": 4,
  "nbformat_minor": 0,
  "metadata": {
    "colab": {
      "provenance": [],
      "authorship_tag": "ABX9TyNj5ywaBgaM3zSEEwbUIPYk",
      "include_colab_link": true
    },
    "kernelspec": {
      "name": "python3",
      "display_name": "Python 3"
    },
    "language_info": {
      "name": "python"
    }
  },
  "cells": [
    {
      "cell_type": "markdown",
      "metadata": {
        "id": "view-in-github",
        "colab_type": "text"
      },
      "source": [
        "<a href=\"https://colab.research.google.com/github/ms624atyale/Python_Basics/blob/main/19_ExerciseforProgramming.ipynb\" target=\"_parent\"><img src=\"https://colab.research.google.com/assets/colab-badge.svg\" alt=\"Open In Colab\"/></a>"
      ]
    },
    {
      "cell_type": "markdown",
      "source": [],
      "metadata": {
        "id": "vp2wv29ZMWoj"
      }
    },
    {
      "cell_type": "markdown",
      "source": [
        "#<font color = 'red'>Exercise for Programming </font>\n",
        "\n",
        "1. 파일 열고 닫기 (다양한 경로 설정 포함, 다양한 파일형태)\n",
        "2. 텍스트 파일이 용량이 클 경우 파일을 한줄씩 읽고 출력 (variable.readline()module)"
      ],
      "metadata": {
        "id": "Qf1tquVLTVU6"
      }
    },
    {
      "cell_type": "code",
      "execution_count": 21,
      "metadata": {
        "colab": {
          "base_uri": "https://localhost:8080/"
        },
        "id": "PaIeIINBMVJ2",
        "outputId": "f939ed4c-87d7-4470-f932-99652fc13f91"
      },
      "outputs": [
        {
          "output_type": "stream",
          "name": "stdout",
          "text": [
            "PART ONE\n",
            "\n",
            "CHAPTER ONE\n",
            "\n",
            "ON AN EXCEPTIONALLY HOT evening early in July a young man came out of the tiny room which he rented from tenants in S. Place and walked slowly, as though in hesitation, towards K. Bridge.\n",
            "\n",
            "He had successfully avoided meeting his landlady on the stairs. His closet of a room was under the roof of a high, five-floor house and was more like a cupboard than a place in which to live. The landlady who provided him with the room and with dinner and service lived on the floor below, and every time he went out he was obliged to pass her kitchen, the door of which was always open. And each time he passed, the young man had a sick, frightened feeling, which made him grimace and feel ashamed. He was hopelessly in debt to his landlady and was afraid of meeting her.\n",
            "\n",
            "This was not because he was cowardly and browbeaten, quite the contrary; but for some time past he had been in an overstrained irritable condition, verging on hypochondria. He had become so completely absorbed in himself and isolated from everyone else that he dreaded meeting not only his landlady, but anyone at all. He was crushed by poverty, but even the anxieties of his position had recently ceased to weigh upon him. He had given up attending to matters of practical importance; he had lost all desire to do so. In fact, nothing that any landlady could do held any terror for him. But to be stopped on the stairs, to be forced to listen to her trivial, irrelevant gossip, to pestering demands for payment, threats and complaints, all the while racking his brains for excuses, avoiding the issue, lying — no, he would rather creep down the stairs like a cat and slip out unseen.\n",
            "\n",
            "However, when he emerged onto the street that evening, he became acutely aware of his fears.\n",
            "\n"
          ]
        }
      ],
      "source": [
        "#파일 열고 닫기 (다양한 경로 설정 포함, 다양한 파일형태)\n",
        "f1=open('/content/sample_data/crime_punishment/crime_punishment_chapter_one_sample.txt','rt')\n",
        "#f2=open('https://raw.githubusercontent.com/ms624atyale/Data_Misc/main/TheAesop_theFoxwithoutaTail.txt','rt') #Error\n",
        "#f3=open('Modules_Python.jpg', 'rb')#Error\n",
        "\n",
        "txt1 = f1.read()\n",
        "print(txt1)\n",
        "f1.close()\n"
      ]
    },
    {
      "cell_type": "code",
      "source": [
        "#텍스트 파일이 용량이 클 경우 파일을 한줄씩 읽고 출력 (variable.readline()module)\n",
        "f=open('/content/sample_data/crime_punishment/crime_punishment_chapter_one_sample.txt','rt')\n",
        "line_num = 1\n",
        "line = f.readline()\n",
        "\n",
        "while line:\n",
        "  print('%d %s' %(line_num, line), end='') #end='' 코드라인은 한 줄 삽입에 대한 명령어\n",
        "  line = f.readline()\n",
        "  line_num += 1  #사칙연산을 사용하여 좌측 변수와 우측정수를 함께 계산하여 동일한 변수에 할당할 때 사용하는 코드라인 variable += number\n",
        "f.close()"
      ],
      "metadata": {
        "id": "Anr7FF-QV7mN",
        "outputId": "1e3fd0a4-c348-4c28-f357-bacaae615125",
        "colab": {
          "base_uri": "https://localhost:8080/"
        }
      },
      "execution_count": 27,
      "outputs": [
        {
          "output_type": "stream",
          "name": "stdout",
          "text": [
            "1 PART ONE\n",
            "2 \n",
            "3 CHAPTER ONE\n",
            "4 \n",
            "5 ON AN EXCEPTIONALLY HOT evening early in July a young man came out of the tiny room which he rented from tenants in S. Place and walked slowly, as though in hesitation, towards K. Bridge.\n",
            "6 \n",
            "7 He had successfully avoided meeting his landlady on the stairs. His closet of a room was under the roof of a high, five-floor house and was more like a cupboard than a place in which to live. The landlady who provided him with the room and with dinner and service lived on the floor below, and every time he went out he was obliged to pass her kitchen, the door of which was always open. And each time he passed, the young man had a sick, frightened feeling, which made him grimace and feel ashamed. He was hopelessly in debt to his landlady and was afraid of meeting her.\n",
            "8 \n",
            "9 This was not because he was cowardly and browbeaten, quite the contrary; but for some time past he had been in an overstrained irritable condition, verging on hypochondria. He had become so completely absorbed in himself and isolated from everyone else that he dreaded meeting not only his landlady, but anyone at all. He was crushed by poverty, but even the anxieties of his position had recently ceased to weigh upon him. He had given up attending to matters of practical importance; he had lost all desire to do so. In fact, nothing that any landlady could do held any terror for him. But to be stopped on the stairs, to be forced to listen to her trivial, irrelevant gossip, to pestering demands for payment, threats and complaints, all the while racking his brains for excuses, avoiding the issue, lying — no, he would rather creep down the stairs like a cat and slip out unseen.\n",
            "10 \n",
            "11 However, when he emerged onto the street that evening, he became acutely aware of his fears.\n"
          ]
        }
      ]
    },
    {
      "cell_type": "code",
      "source": [
        "#Compare! 위 코드라인을 다음과 같이 작성하면 첫 번째 라인을 2 로 읽으면서, 'Chapter One'이라는 구문이 포함된 line이 셋 째줄에 나온다. \n",
        "f=open('/content/sample_data/crime_punishment/crime_punishment_chapter_one_sample.txt','rt')\n",
        "line_num = 1\n",
        "line = f.readline()\n",
        "\n",
        "while line:\n",
        "  line = f.readline()\n",
        "  line_num += 1  \n",
        "  print('%d %s' %(line_num, line), end='')\n",
        "f.close()"
      ],
      "metadata": {
        "id": "g47VVuL2G1Wd",
        "outputId": "f6098dc5-526e-412d-c1f6-7ac44f03947c",
        "colab": {
          "base_uri": "https://localhost:8080/"
        }
      },
      "execution_count": 28,
      "outputs": [
        {
          "output_type": "stream",
          "name": "stdout",
          "text": [
            "2 \n",
            "3 CHAPTER ONE\n",
            "4 \n",
            "5 ON AN EXCEPTIONALLY HOT evening early in July a young man came out of the tiny room which he rented from tenants in S. Place and walked slowly, as though in hesitation, towards K. Bridge.\n",
            "6 \n",
            "7 He had successfully avoided meeting his landlady on the stairs. His closet of a room was under the roof of a high, five-floor house and was more like a cupboard than a place in which to live. The landlady who provided him with the room and with dinner and service lived on the floor below, and every time he went out he was obliged to pass her kitchen, the door of which was always open. And each time he passed, the young man had a sick, frightened feeling, which made him grimace and feel ashamed. He was hopelessly in debt to his landlady and was afraid of meeting her.\n",
            "8 \n",
            "9 This was not because he was cowardly and browbeaten, quite the contrary; but for some time past he had been in an overstrained irritable condition, verging on hypochondria. He had become so completely absorbed in himself and isolated from everyone else that he dreaded meeting not only his landlady, but anyone at all. He was crushed by poverty, but even the anxieties of his position had recently ceased to weigh upon him. He had given up attending to matters of practical importance; he had lost all desire to do so. In fact, nothing that any landlady could do held any terror for him. But to be stopped on the stairs, to be forced to listen to her trivial, irrelevant gossip, to pestering demands for payment, threats and complaints, all the while racking his brains for excuses, avoiding the issue, lying — no, he would rather creep down the stairs like a cat and slip out unseen.\n",
            "10 \n",
            "11 However, when he emerged onto the street that evening, he became acutely aware of his fears.\n",
            "12 "
          ]
        }
      ]
    },
    {
      "cell_type": "code",
      "source": [
        "# Compare! While 함수 내에서 위 쪽에 이미 적시한 'line=f.readline()'을 그대로 쓰겠다고 'line=f.readline()'을 삭제하여 코드라인을 작성하면, 'Chapter One'이라는 구문이 포함된 line이 끊임없이 반복된다.  \n",
        "f=open('/content/sample_data/crime_punishment/crime_punishment_chapter_one_sample.txt','rt')\n",
        "line_num = 1\n",
        "line = f.readline()\n",
        "\n",
        "while line:\n",
        "  line_num += 1  \n",
        "  print('%d %s' %(line_num, line), end='')\n",
        "f.close()"
      ],
      "metadata": {
        "id": "w-_438M_HJm9"
      },
      "execution_count": null,
      "outputs": []
    }
  ]
}