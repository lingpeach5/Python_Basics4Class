{
  "nbformat": 4,
  "nbformat_minor": 0,
  "metadata": {
    "colab": {
      "provenance": [],
      "authorship_tag": "ABX9TyNMaSGc47etPa4b26q68SBm",
      "include_colab_link": true
    },
    "kernelspec": {
      "name": "python3",
      "display_name": "Python 3"
    },
    "language_info": {
      "name": "python"
    }
  },
  "cells": [
    {
      "cell_type": "markdown",
      "metadata": {
        "id": "view-in-github",
        "colab_type": "text"
      },
      "source": [
        "<a href=\"https://colab.research.google.com/github/ms624atyale/Python_Basics/blob/main/16_MoreaboutStrings.ipynb\" target=\"_parent\"><img src=\"https://colab.research.google.com/assets/colab-badge.svg\" alt=\"Open In Colab\"/></a>"
      ]
    },
    {
      "cell_type": "markdown",
      "source": [
        "## 🎯 문자열에 관한 여러가지 함수\n",
        "  1. 문자열을 특정 문자(열)로 분리하기 (.split() method) p.164 #93\n",
        "  2. 문자열을 특정 문자(열)로 결합하기 (.join() method) \n",
        "  3. 문자열에서 특정 문자(열)를 다른 대응소로 대체하기 (.replace() method)\n",
        "  4. 문자열을 바이트 객체로 바꾸기 (암호화 하기) (.encode() method)\n",
        "  5. 바이트를 문자열 객체로 바꾸기 (암호 풀기) (.decode() method)\n",
        "  6. 문자열 정렬하기 (.sorted() method, .join() method) as of 4/5/23\n",
        "  \n",
        "  To do list\n",
        "  unicode, bit, bite 개념 다시 이해하기\n",
        "  (p. 164 #93, Also consider to include p.159 #89; p161 #90) \n",
        "   "
      ],
      "metadata": {
        "id": "5GEk4TyTyvT7"
      }
    },
    {
      "cell_type": "code",
      "execution_count": null,
      "metadata": {
        "id": "W8pTh9SIytPf"
      },
      "outputs": [],
      "source": [
        "#문자열을 특정 문자(열)로 분리하기 (.split() function) -> PB 네이버에 해당 url 없음. 나중에 시간 들여 들여다 보기\n",
        "\n",
        "url = 'http://www.naver.com/news/today=20160831'\n",
        "log = "
      ]
    },
    {
      "cell_type": "code",
      "source": [
        "logistics = ['taegu', '제2군사령부', 'infantry', 'guns', 'bullets']\n",
        "bond = ';'\n",
        "ret = bond.join(logistics)\n",
        "print(ret)"
      ],
      "metadata": {
        "colab": {
          "base_uri": "https://localhost:8080/"
        },
        "id": "XR9wV2uxS_7-",
        "outputId": "bcc0fafe-ec6c-4a8e-c3af-ee63d2f58366"
      },
      "execution_count": 2,
      "outputs": [
        {
          "output_type": "stream",
          "name": "stdout",
          "text": [
            "taegu;제2군사령부;infantry;guns;bullets\n"
          ]
        }
      ]
    },
    {
      "cell_type": "code",
      "source": [
        "#문자열에서 특정 문자(열)를 다른 대응소로 대체하기 (.replace() method)\n",
        "\n",
        "txt = 'You should dial 053-112 for emergency.'\n",
        "ret1 = txt.replace('2','9')\n",
        "ret2 = txt.replace ('053', '1588')\n",
        "\n",
        "print(ret1)\n",
        "print(ret2)"
      ],
      "metadata": {
        "colab": {
          "base_uri": "https://localhost:8080/"
        },
        "id": "x_zTrcKrVK4T",
        "outputId": "7251ae15-57e0-41db-dd8e-40a7277b2202"
      },
      "execution_count": 5,
      "outputs": [
        {
          "output_type": "stream",
          "name": "stdout",
          "text": [
            "You should dial 053-119 for emergency.\n",
            "You should dial 1588-112 for emergency.\n"
          ]
        }
      ]
    },
    {
      "cell_type": "code",
      "source": [
        "# 문자열을 바이트 객체로 바꾸기 (암호화 하기) (.encode() method)\n",
        "\n",
        "txt = 'I love Python.'\n",
        "b_txt = txt.encode()\n",
        "\n",
        "print(txt)\n",
        "print(b_txt)\n",
        "\n",
        "# For more detail, see pp. 168-189 (keywords: unicode texts, UTF-8로 인코딩한 bite object)"
      ],
      "metadata": {
        "colab": {
          "base_uri": "https://localhost:8080/"
        },
        "id": "nDrsyax7WuHE",
        "outputId": "a7d01bcc-65aa-4a06-fecd-8fbaddc121be"
      },
      "execution_count": 7,
      "outputs": [
        {
          "output_type": "stream",
          "name": "stdout",
          "text": [
            "I love Python.\n",
            "b'I love Python.'\n"
          ]
        }
      ]
    },
    {
      "cell_type": "code",
      "source": [
        "# 바이트를 문자열 객체로 바꾸기 (암호 풀기) (.decode() method)\n",
        "\n",
        "b_txt = b'I love Python.'\n",
        "txt = b_txt.decode()\n",
        "\n",
        "print(txt)"
      ],
      "metadata": {
        "colab": {
          "base_uri": "https://localhost:8080/"
        },
        "id": "OXcvVSxnYGZF",
        "outputId": "7ae96be7-d047-468d-b87c-4c5c489c1a21"
      },
      "execution_count": 8,
      "outputs": [
        {
          "output_type": "stream",
          "name": "stdout",
          "text": [
            "I love Python.\n"
          ]
        }
      ]
    },
    {
      "cell_type": "code",
      "source": [],
      "metadata": {
        "id": "9pvJoQfaYCbI"
      },
      "execution_count": null,
      "outputs": []
    }
  ]
}