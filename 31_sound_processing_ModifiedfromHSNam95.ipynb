{
  "nbformat": 4,
  "nbformat_minor": 0,
  "metadata": {
    "colab": {
      "name": "sound_processing.ipynb",
      "provenance": [],
      "include_colab_link": true
    },
    "kernelspec": {
      "name": "python3",
      "display_name": "Python 3"
    },
    "language_info": {
      "name": "python"
    }
  },
  "cells": [
    {
      "cell_type": "markdown",
      "metadata": {
        "id": "view-in-github",
        "colab_type": "text"
      },
      "source": [
        "<a href=\"https://colab.research.google.com/github/ms624atyale/Python_Basics/blob/main/31_sound_processing_ModifiedfromHSNam95.ipynb\" target=\"_parent\"><img src=\"https://colab.research.google.com/assets/colab-badge.svg\" alt=\"Open In Colab\"/></a>"
      ]
    },
    {
      "cell_type": "markdown",
      "source": [
        "# Digital Signal Processing\n",
        "> sampling rate(Hz), frequency(Hz), phasor"
      ],
      "metadata": {
        "id": "NhOLUyQcc47r"
      }
    },
    {
      "cell_type": "code",
      "metadata": {
        "id": "2WAs2J9dWcUv",
        "cellView": "form"
      },
      "source": [
        "#@markdown 👀 🐾 <font color = 'red'> **Step 0: Install numpy, matplotlib, and IPython packages**\n",
        "\n",
        "import numpy as np\n",
        "import matplotlib.pyplot as plt\n",
        "import IPython.display as ipd"
      ],
      "execution_count": 1,
      "outputs": []
    },
    {
      "cell_type": "markdown",
      "metadata": {
        "id": "d3TfZBr7_pd7"
      },
      "source": [
        "## 🔉 **Phasor (sine)**"
      ]
    },
    {
      "cell_type": "code",
      "metadata": {
        "id": "PiiWF43_WcU2",
        "cellView": "form"
      },
      "source": [
        "#@markdown 👀 🐾 <font color = 'red'> **1. Parameter setting** ⤵️ \n",
        "\n",
        "#@markdown <font color = 'blue'> **amplitude, sampling rate, duration, frequency with 200Hz, & phase**\n",
        "\n",
        "amp = 1          # range [0.0, 1.0]\n",
        "sr = 10000       # sampling rate, Hz\n",
        "dur = 0.5        # in seconds\n",
        "freq = 200.0     # sine frequency, Hz\n",
        "phase = 0  # phase, radian"
      ],
      "execution_count": 2,
      "outputs": []
    },
    {
      "cell_type": "code",
      "metadata": {
        "id": "eog54PdaWcU2",
        "cellView": "form"
      },
      "source": [
        "#@markdown 👀 🐾 <font color = 'red'> **2. Generate sample ticks** ⤵️ \n",
        "\n",
        "nSamp = sr * dur\n",
        "samples = np.arange(1, nSamp+1)"
      ],
      "execution_count": 3,
      "outputs": []
    },
    {
      "cell_type": "code",
      "metadata": {
        "id": "qAc8Esm5OlaR",
        "cellView": "form"
      },
      "source": [
        "#@markdown 👀 🐾 <font color = 'red'> **3. Convert sample to time (sec)** ⤵️ \n",
        "\n",
        "t = samples/sr"
      ],
      "execution_count": 4,
      "outputs": []
    },
    {
      "cell_type": "code",
      "metadata": {
        "id": "RSv5Po5sWcU3",
        "cellView": "form"
      },
      "source": [
        "#@markdown 👀 🐾 <font color = 'red'> **4. Convert time to angle (radian)** ⤵️ \n",
        "\n",
        "theta0 = t * 2*np.pi * freq"
      ],
      "execution_count": 5,
      "outputs": []
    },
    {
      "cell_type": "code",
      "metadata": {
        "id": "cesUeSr3OybQ",
        "cellView": "form"
      },
      "source": [
        "#@markdown 👀 🐾 <font color = 'red'> **5. Shift angle by phase** ⤵️ \n",
        "\n",
        "theta = theta0 + phase"
      ],
      "execution_count": 6,
      "outputs": []
    },
    {
      "cell_type": "code",
      "metadata": {
        "id": "89hyLs9mWcU3",
        "cellView": "form"
      },
      "source": [
        "#@markdown 👀 🐾 <font color = 'red'> **6. Generate signal by sin-phasor** ⤵️ \n",
        "\n",
        "s = amp * np.sin(theta)"
      ],
      "execution_count": 7,
      "outputs": []
    },
    {
      "cell_type": "code",
      "metadata": {
        "id": "VRlMTkzlPMDb",
        "cellView": "form"
      },
      "source": [
        "#@markdown 👀 🐾 <font color = 'red'> **7. Plot the entire signal** ⤵️ \n",
        "\n",
        "plt.plot(theta, s, ':')\n",
        "plt.xlabel('angle (radian)')\n",
        "plt.ylabel('real')"
      ],
      "execution_count": null,
      "outputs": []
    },
    {
      "cell_type": "code",
      "metadata": {
        "id": "3ADA5DXBWcU3",
        "cellView": "form"
      },
      "source": [
        "#@markdown 👀 🐾 <font color = 'red'> **8. Plot a certain portion of signals** ⤵️ \n",
        "sampleRng = np.arange(0,100)\n",
        "plt.plot(t[sampleRng], s[sampleRng], ':')\n",
        "plt.xlabel('time (s)')\n",
        "plt.ylabel('real')"
      ],
      "execution_count": null,
      "outputs": []
    },
    {
      "cell_type": "code",
      "metadata": {
        "id": "hVYGTtZ6krh-",
        "cellView": "form"
      },
      "source": [
        "#@markdown 👀 🐾 <font color = 'red'> **9. Write and generate a waveform with 100Hz of fundamental frequency** ⤵️ \n",
        "\n",
        "ipd.Audio(s, rate=sr)"
      ],
      "execution_count": null,
      "outputs": []
    },
    {
      "cell_type": "code",
      "metadata": {
        "id": "E2RzJdMYepVH",
        "cellView": "form"
      },
      "source": [
        "#@markdown 👀 🐾 <font color = 'red'> **10. PHASOR_SINE ( ) function defined** ⤵️ \n",
        "\n",
        "def phasor_sine(amp, sr, dur, freq, phase):\n",
        "  t = np.arange(1, sr * dur+1)/sr\n",
        "  theta = t * 2*np.pi * freq + phase\n",
        "  s = amp * np.sin(theta)\n",
        "  return s, t, theta"
      ],
      "execution_count": 13,
      "outputs": []
    },
    {
      "cell_type": "code",
      "metadata": {
        "id": "KBF1AzEihCvt",
        "cellView": "form"
      },
      "source": [
        "#@markdown 👀 🐾 <font color = 'red'> **11. Write and generate a waveform with 110Hz of f0** ⤵️ \n",
        "amp = 1; sr = 10000; dur = 1; freq = 200; phase = 0\n",
        "s, t, theta = phasor_sine(amp, sr, dur, freq, phase)\n",
        "ipd.Audio(s, rate=sr)"
      ],
      "execution_count": null,
      "outputs": []
    },
    {
      "cell_type": "markdown",
      "metadata": {
        "id": "UbvPura88cTP"
      },
      "source": [
        "## 🔉 **Phasor (complex)**"
      ]
    },
    {
      "cell_type": "code",
      "metadata": {
        "id": "HE2s1cUu8cTQ",
        "cellView": "form"
      },
      "source": [
        "#@markdown 👀 🐾 <font color ='blue'> **1. Parameter setting** ⤵️\n",
        "\n",
        "amp = 1          # range [0.0, 1.0]\n",
        "sr = 10000       # sampling rate, Hz\n",
        "dur = 0.5        # in seconds\n",
        "freq = 50.0     # sine frequency, Hz\n",
        "phase = 0  # phase, radian"
      ],
      "execution_count": 39,
      "outputs": []
    },
    {
      "cell_type": "code",
      "metadata": {
        "id": "6EShFMfZ8cTS",
        "cellView": "form"
      },
      "source": [
        "#@markdown 👀 🐾 <font color ='blue'> **2. Generate sample ticks** ⤵️\n",
        "\n",
        "nSamp = sr * dur\n",
        "samples = np.arange(1, nSamp+1)"
      ],
      "execution_count": 40,
      "outputs": []
    },
    {
      "cell_type": "code",
      "metadata": {
        "id": "Qdfr7oov8cTT",
        "cellView": "form"
      },
      "source": [
        "#@markdown 👀 🐾 <font color ='blue'> **3. Convert samples to time** ⤵️\n",
        "\n",
        "t = samples/sr"
      ],
      "execution_count": 41,
      "outputs": []
    },
    {
      "cell_type": "code",
      "metadata": {
        "id": "4ZW9EVdm8cTT",
        "cellView": "form"
      },
      "source": [
        "#@markdown 👀 🐾 <font color ='blue'> **4. Convert time to angle in radian** ⤵️\n",
        "\n",
        "theta0 = t * 2*np.pi * freq"
      ],
      "execution_count": 42,
      "outputs": []
    },
    {
      "cell_type": "code",
      "metadata": {
        "id": "VerbCAtu8cTT",
        "cellView": "form"
      },
      "source": [
        "#@markdown 👀 🐾 <font color ='blue'> **5. Shift angle by phase** ⤵️\n",
        "\n",
        "theta = theta0 + phase"
      ],
      "execution_count": 43,
      "outputs": []
    },
    {
      "cell_type": "code",
      "metadata": {
        "id": "2i5SwVUN8cTU",
        "cellView": "form"
      },
      "source": [
        "#@markdown 👀 🐾 <font color ='blue'> **6. Generate signal by complex-phasor** ⤵️\n",
        "\n",
        "c = amp * np.exp(theta*1j)"
      ],
      "execution_count": 44,
      "outputs": []
    },
    {
      "cell_type": "code",
      "metadata": {
        "id": "3ULGOec-8cTU",
        "cellView": "form"
      },
      "source": [
        "#@markdown 👀 🐾 <font color ='blue'> **7. Plot the entire signal** ⤵️\n",
        "\n",
        "import plotly.graph_objects as go\n",
        "x, y, z = t, c.real, c.imag\n",
        "fig = go.Figure(data=[go.Scatter3d(x=x, y=y, z=z,\n",
        "                                   mode='markers',\n",
        "                                   marker=dict(size=3))])\n",
        "fig.update_layout(scene = dict(\n",
        "                    xaxis_title='time (sec)',\n",
        "                    yaxis_title='real',\n",
        "                    zaxis_title='imag'))\n",
        "fig.show()"
      ],
      "execution_count": null,
      "outputs": []
    },
    {
      "cell_type": "code",
      "metadata": {
        "id": "O6AdKbO18cTV",
        "cellView": "form"
      },
      "source": [
        "#@markdown 👀 🐾 <font color ='blue'> **8. Plot a certain portion of signals** ⤵️\n",
        "import plotly.graph_objects as go\n",
        "sampleRng = np.arange(0,100)\n",
        "x, y, z = t[sampleRng], c.real[sampleRng], c.imag[sampleRng]\n",
        "fig = go.Figure(data=[go.Scatter3d(x=x, y=y, z=z,\n",
        "                                   mode='markers',\n",
        "                                   marker=dict(size=3))])\n",
        "fig.update_layout(scene = dict(\n",
        "                    xaxis_title='time (sec)',\n",
        "                    yaxis_title='real',\n",
        "                    zaxis_title='imag'))\n",
        "fig.show()"
      ],
      "execution_count": null,
      "outputs": []
    },
    {
      "cell_type": "code",
      "metadata": {
        "id": "F9gD4_DY8cTV",
        "cellView": "form"
      },
      "source": [
        "#@markdown 👀 🐾 <font color ='blue'> **9. Write and generate 100Hz of Fundamental frequency** ⤵️\n",
        "\n",
        "ipd.Audio(c, rate=sr)"
      ],
      "execution_count": null,
      "outputs": []
    },
    {
      "cell_type": "code",
      "metadata": {
        "id": "VtBE8NGz8cTV",
        "cellView": "form"
      },
      "source": [
        "#@markdown 👀 🐾 <font color ='blue'> **10. PHASOR_COMPLEX ( ) function defined** ⤵️\n",
        "\n",
        "def phasor_complex(amp, sr, dur, freq, phase):\n",
        "  t = np.arange(1, sr * dur+1)/sr\n",
        "  theta = t * 2*np.pi * freq + phase\n",
        "  c = amp * np.exp(theta*1j)\n",
        "  return c, t, theta"
      ],
      "execution_count": 48,
      "outputs": []
    },
    {
      "cell_type": "code",
      "source": [
        "#@markdown 👀 🐾 <font color ='blue'> **11. Write and generate 500Hz of Fundamental frequency** ⤵️\n",
        "\n",
        "amp = 1; sr = 10000; dur = 1; freq = 100; phase = 0\n",
        "c, t, theta = phasor_complex(amp, sr, dur, freq, phase)\n",
        "ipd.Audio(c.real, rate=sr)"
      ],
      "metadata": {
        "cellView": "form",
        "id": "GXAJ9lMN4WZc"
      },
      "execution_count": null,
      "outputs": []
    },
    {
      "cell_type": "code",
      "source": [
        "#@markdown 👀 🐾 <font color ='blue'> **12. Write and generate 500Hz of Fundamental frequency** ⤵️\n",
        "\n",
        "amp = 1; sr = 10000; dur = 1; freq = 200; phase = 0\n",
        "c, t, theta = phasor_complex(amp, sr, dur, freq, phase)\n",
        "ipd.Audio(c.real, rate=sr)"
      ],
      "metadata": {
        "cellView": "form",
        "id": "K9Km4dFi4WAd"
      },
      "execution_count": null,
      "outputs": []
    },
    {
      "cell_type": "code",
      "metadata": {
        "id": "hR8gNlF88cTW",
        "cellView": "form"
      },
      "source": [
        "#@markdown 👀 🐾 <font color ='blue'> **13. Write and generate 500Hz of Fundamental frequency** ⤵️\n",
        "\n",
        "amp = 1; sr = 10000; dur = 1; freq = 500; phase = 0\n",
        "c, t, theta = phasor_complex(amp, sr, dur, freq, phase)\n",
        "ipd.Audio(c.real, rate=sr)"
      ],
      "execution_count": null,
      "outputs": []
    },
    {
      "cell_type": "code",
      "source": [
        "#@markdown 👀 🐾 <font color ='blue'> **14. Write and generate 800Hz of Fundamental frequency** ⤵️\n",
        "\n",
        "amp = 1; sr = 10000; dur = 1; freq = 800; phase = 0\n",
        "c, t, theta = phasor_complex(amp, sr, dur, freq, phase)\n",
        "ipd.Audio(c.real, rate=sr)"
      ],
      "metadata": {
        "cellView": "form",
        "id": "W4jKFQVXlV8m"
      },
      "execution_count": null,
      "outputs": []
    },
    {
      "cell_type": "code",
      "source": [
        "#@markdown 👀 🐾 <font color ='blue'> **15. Write and generate 1000Hz of Fundamental frequency** ⤵️\n",
        "\n",
        "amp = 1; sr = 10000; dur = 1; freq = 1000; phase = 0\n",
        "c, t, theta = phasor_complex(amp, sr, dur, freq, phase)\n",
        "ipd.Audio(c.real, rate=sr)"
      ],
      "metadata": {
        "cellView": "form",
        "id": "_RqpYCyblbA3"
      },
      "execution_count": null,
      "outputs": []
    },
    {
      "cell_type": "code",
      "source": [
        "#@markdown 👀 🐾 <font color ='blue'> **16. Write and generate 1000Hz of Fundamental frequency** ⤵️\n",
        "\n",
        "amp = 1; sr = 10000; dur = 1; freq = 2000; phase = 0\n",
        "c, t, theta = phasor_complex(amp, sr, dur, freq, phase)\n",
        "ipd.Audio(c.real, rate=sr)"
      ],
      "metadata": {
        "cellView": "form",
        "id": "EqTqFNAf0jM1"
      },
      "execution_count": null,
      "outputs": []
    },
    {
      "cell_type": "markdown",
      "source": [
        "# <font color = 'green'> **Hope you've enjoyed various pitches!** 🍓 🍩 🍹 🍨 🍭 "
      ],
      "metadata": {
        "id": "lxFtkE154tIB"
      }
    }
  ]
}