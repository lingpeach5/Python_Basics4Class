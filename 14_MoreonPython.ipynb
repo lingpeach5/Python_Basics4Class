{
  "nbformat": 4,
  "nbformat_minor": 0,
  "metadata": {
    "colab": {
      "provenance": [],
      "authorship_tag": "ABX9TyO/Wk5VDNZh8T6Ni5M6FAl6",
      "include_colab_link": true
    },
    "kernelspec": {
      "name": "python3",
      "display_name": "Python 3"
    },
    "language_info": {
      "name": "python"
    }
  },
  "cells": [
    {
      "cell_type": "markdown",
      "metadata": {
        "id": "view-in-github",
        "colab_type": "text"
      },
      "source": [
        "<a href=\"https://colab.research.google.com/github/ms624atyale/Python_Basics/blob/main/14_MoreonPython.ipynb\" target=\"_parent\"><img src=\"https://colab.research.google.com/assets/colab-badge.svg\" alt=\"Open In Colab\"/></a>"
      ]
    },
    {
      "cell_type": "markdown",
      "source": [
        "\n",
        "## 🎯 파이썬 내장 함수 input 사용하기 \n",
        " - input 의 인자는 안내 문구등의 문자열\n",
        " - 인자 끝에 colon 을 붙인다.\n",
        " - print 의 인자에 문자열을 쓰고, input 의 인자 중 입력값을 승계 받는 부분은 <font color = 'red'> <'+variable name+'>\n",
        "\n"
      ],
      "metadata": {
        "id": "hbsQbhFPJHAO"
      }
    },
    {
      "cell_type": "code",
      "execution_count": 5,
      "metadata": {
        "colab": {
          "base_uri": "https://localhost:8080/"
        },
        "id": "6YqLz46cIjIo",
        "outputId": "3f9dadd1-7b59-472d-b7e0-f97e65b21759"
      },
      "outputs": [
        {
          "output_type": "stream",
          "name": "stdout",
          "text": [
            "값을 입력하세요:1\n",
            "당신이 입력한 값은 <1>입니다.\n"
          ]
        }
      ],
      "source": [
        "k = input('값을 입력하세요:')\n",
        "print('당신이 입력한 값은 <'+k+'>입니다.')"
      ]
    }
  ]
}