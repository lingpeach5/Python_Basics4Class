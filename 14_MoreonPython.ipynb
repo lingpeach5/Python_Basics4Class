{
  "nbformat": 4,
  "nbformat_minor": 0,
  "metadata": {
    "colab": {
      "provenance": [],
      "authorship_tag": "ABX9TyOZKVZ4xsVaoQrL1Ufb8bxt",
      "include_colab_link": true
    },
    "kernelspec": {
      "name": "python3",
      "display_name": "Python 3"
    },
    "language_info": {
      "name": "python"
    }
  },
  "cells": [
    {
      "cell_type": "markdown",
      "metadata": {
        "id": "view-in-github",
        "colab_type": "text"
      },
      "source": [
        "<a href=\"https://colab.research.google.com/github/ms624atyale/Python_Basics/blob/main/14_MoreonPython.ipynb\" target=\"_parent\"><img src=\"https://colab.research.google.com/assets/colab-badge.svg\" alt=\"Open In Colab\"/></a>"
      ]
    },
    {
      "cell_type": "markdown",
      "source": [
        "\n",
        "## 🎯 파이썬 내장 함수 input 사용하기 \n",
        " - input 의 인자는 안내 문구등의 문자열\n",
        " - 인자 끝에 colon 을 붙인다 (e.g., input(enter a value:))\n",
        " - print 함수의 인자에 ''를 사용하여 문자열을 쓰고, 입력값을 승계 받는 부분은 위의 변수를 입력하되 <>, '', ++ 를 사용한다 ➡️ e.g., <font color = 'red'> <'+variable name+'>\n",
        "\n",
        "## 🎯 그 외 \n",
        " - 자료 클래스 확인하기\n",
        " - 최대값, 최소값 (max, min)\n",
        " - 문자열에서 특정 위치/구간의 문자 얻기\n",
        " - 문자열에서 홀수/짝수 위치 문자 따로 얻기 \n",
        " - 문자열을 거꾸로 만들기\n",
        " # to do #79 부터 (as of 3/30/23)\n",
        "\n"
      ],
      "metadata": {
        "id": "hbsQbhFPJHAO"
      }
    },
    {
      "cell_type": "code",
      "execution_count": null,
      "metadata": {
        "colab": {
          "base_uri": "https://localhost:8080/"
        },
        "id": "6YqLz46cIjIo",
        "outputId": "997be812-b700-43d0-dfd8-e216a30f680c"
      },
      "outputs": [
        {
          "output_type": "stream",
          "name": "stdout",
          "text": [
            "값을 입력하세요:100\n",
            "당신이 입력한 값은 <100>입니다.\n"
          ]
        }
      ],
      "source": [
        "k = input('값을 입력하세요:')\n",
        "print('당신이 입력한 값은 <'+k+'>입니다.')"
      ]
    },
    {
      "cell_type": "code",
      "source": [
        "#print(type(variable name)) ➡️ 프린트 함수의 인자로 type 함수를 사용하여 자료가 어떤 클래스인지 확인할 수 있다\n",
        "\n",
        "num = 123\n",
        "str = 'python'\n",
        "list = [1, 2, 't']\n",
        "dict = {'a':1,'b':2}\n",
        "\n",
        "def func():\n",
        "  print('Hello')\n",
        "\n",
        "print(type(num))\n",
        "print(type(list))\n",
        "print(type(dict))\n",
        "print(type(func))"
      ],
      "metadata": {
        "id": "2RswaPbS_4Xh",
        "outputId": "52ab4e8c-7106-422c-db05-24030d435c7f",
        "colab": {
          "base_uri": "https://localhost:8080/"
        }
      },
      "execution_count": null,
      "outputs": [
        {
          "output_type": "stream",
          "name": "stdout",
          "text": [
            "<class 'int'>\n",
            "<class 'list'>\n",
            "<class 'dict'>\n",
            "<class 'function'>\n"
          ]
        }
      ]
    },
    {
      "cell_type": "code",
      "source": [
        "list1 = [2, 200, 3.45, 215, -7.56, 111, 10, 28]\n",
        "maxval1 = max(list1)\n",
        "minval1 = min(list1)\n",
        "print(maxval1)\n",
        "print(minval1)\n",
        "\n",
        "txt1='alotofthingsoccureachday'\n",
        "maxval2 = max(txt1)\n",
        "minval2 = min(txt1)\n",
        "print(maxval2)\n",
        "print(minval2)"
      ],
      "metadata": {
        "id": "24fxCPcmFhe6",
        "outputId": "045279c4-eb0a-4f46-b152-5dfaa5f96ad7",
        "colab": {
          "base_uri": "https://localhost:8080/"
        }
      },
      "execution_count": null,
      "outputs": [
        {
          "output_type": "stream",
          "name": "stdout",
          "text": [
            "215\n",
            "-7.56\n",
            "y\n",
            "a\n"
          ]
        }
      ]
    },
    {
      "cell_type": "code",
      "source": [
        "#문자열에서 특정 위치의 문자 얻기; 문자열에서 지정 구간 문자 얻기 Part1\n",
        "\n",
        "txt1='This rat named Arthur'\n",
        "\n",
        "print(txt1[1])\n",
        "print(txt1[7])\n",
        "print(txt1[-3])\n",
        "\n",
        "print(txt1[1:]). #(나의 해석)두번째 요소부터 끝까지\n",
        "print(txt1[3:7]) #(나의 해석)네번째 요소부터 일곱번째 요소까지  \n",
        "print(txt1[:-5]) #처음부터 끝 5번째 요소들까지 제외한 것 \n",
        "\n",
        "print(txt1[::2])\n",
        "print(txt1[1::2])\n",
        "print(txt1[1:2])"
      ],
      "metadata": {
        "id": "5pmbCwhfitcw",
        "outputId": "14270739-1523-405d-c4ae-9bd4010167e6",
        "colab": {
          "base_uri": "https://localhost:8080/"
        }
      },
      "execution_count": 19,
      "outputs": [
        {
          "output_type": "stream",
          "name": "stdout",
          "text": [
            "h\n",
            "t\n",
            "h\n",
            "his rat named Arthur\n",
            "s ra\n",
            "This rat named A\n",
            "Ti a ae rhr\n",
            "hsrtnmdAtu\n",
            "h\n"
          ]
        }
      ]
    },
    {
      "cell_type": "code",
      "source": [
        "#문자열에서 지정 구간 문자 얻기 Part2\n",
        "txt2='Elizabeth'\n",
        "\n",
        "for i in range(len(txt2)):\n",
        "#for i in range(txt2): 를 사용하면 아래 [:i+1] 파트에 오류가 남\n",
        "  print (txt2[:i+1])"
      ],
      "metadata": {
        "id": "kIi4NLv8jiKL",
        "outputId": "89f08347-ed6e-45b6-a8d4-10252df80e72",
        "colab": {
          "base_uri": "https://localhost:8080/"
        }
      },
      "execution_count": 22,
      "outputs": [
        {
          "output_type": "stream",
          "name": "stdout",
          "text": [
            "E\n",
            "El\n",
            "Eli\n",
            "Eliz\n",
            "Eliza\n",
            "Elizab\n",
            "Elizabe\n",
            "Elizabet\n",
            "Elizabeth\n"
          ]
        }
      ]
    },
    {
      "cell_type": "code",
      "source": [
        "txt3='산뫼토뫼끼뫼' \n",
        "print(txt3[::2])\n",
        "print(txt3[1::2])\n",
        "\n",
        "txt4='산토끼'\n",
        "\n",
        "def reverse(x, y, z):\n",
        "  return z, y, x           #return 값은 할당기호 (=) 없이 reverse 함수 인자를 바로 입력한다. 아니면 error message 뜬다.\n",
        "\n",
        "r1,r2,r3 = reverse('산','토','끼')\n",
        "print (r1,r2,r3)\n",
        "\n",
        "ret = txt4[::-1]\n",
        "print(ret)"
      ],
      "metadata": {
        "id": "Yh84vwoevS1C",
        "outputId": "adfc8129-cda1-41b9-dd4f-f3d6b42ee2e3",
        "colab": {
          "base_uri": "https://localhost:8080/"
        }
      },
      "execution_count": 49,
      "outputs": [
        {
          "output_type": "stream",
          "name": "stdout",
          "text": [
            "산토끼\n",
            "뫼뫼뫼\n",
            "끼 토 산\n",
            "끼토산\n"
          ]
        }
      ]
    },
    {
      "cell_type": "code",
      "source": [
        "# to do #79 부터 (as of 3/30/23)"
      ],
      "metadata": {
        "id": "-YbYzhzt71Xi"
      },
      "execution_count": null,
      "outputs": []
    }
  ]
}