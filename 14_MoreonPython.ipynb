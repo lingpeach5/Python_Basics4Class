{
  "nbformat": 4,
  "nbformat_minor": 0,
  "metadata": {
    "colab": {
      "provenance": [],
      "authorship_tag": "ABX9TyNzK5m/66o6vHU1crxeivE/",
      "include_colab_link": true
    },
    "kernelspec": {
      "name": "python3",
      "display_name": "Python 3"
    },
    "language_info": {
      "name": "python"
    }
  },
  "cells": [
    {
      "cell_type": "markdown",
      "metadata": {
        "id": "view-in-github",
        "colab_type": "text"
      },
      "source": [
        "<a href=\"https://colab.research.google.com/github/ms624atyale/Python_Basics/blob/main/14_MoreonPython.ipynb\" target=\"_parent\"><img src=\"https://colab.research.google.com/assets/colab-badge.svg\" alt=\"Open In Colab\"/></a>"
      ]
    },
    {
      "cell_type": "markdown",
      "source": [
        "\n",
        "## 🎯 파이썬 내장 함수 input 사용하기 \n",
        " - input 의 인자는 안내 문구등의 문자열\n",
        " - 인자 끝에 colon 을 붙인다 (e.g., input(enter a value:))\n",
        " - print 함수의 인자에 ''를 사용하여 문자열을 쓰고, 입력값을 승계 받는 부분은 위의 변수를 입력하되 <>, '', ++ 를 사용한다 ➡️ e.g., <font color = 'red'> <'+variable name+'>\n",
        "\n",
        "## 🎯 그 외 \n",
        " - 자료 클래스 확인하기\n",
        " - 최대값, 최소값 (max, min)\n",
        " - 문자열에서 특정 위치/구간의 문자 얻기\n",
        " - 문자열에서 홀수/짝수 위치 문자 따로 얻기 \n",
        " - 문자열을 거꾸로 만들기\n",
        " - 문자열 합치기\n",
        " - 문자열 반복하기 \n",
        " - 문자열 확인하기\n",
        "\n"
      ],
      "metadata": {
        "id": "hbsQbhFPJHAO"
      }
    },
    {
      "cell_type": "code",
      "execution_count": null,
      "metadata": {
        "colab": {
          "base_uri": "https://localhost:8080/"
        },
        "id": "6YqLz46cIjIo",
        "outputId": "997be812-b700-43d0-dfd8-e216a30f680c"
      },
      "outputs": [
        {
          "output_type": "stream",
          "name": "stdout",
          "text": [
            "값을 입력하세요:100\n",
            "당신이 입력한 값은 <100>입니다.\n"
          ]
        }
      ],
      "source": [
        "k = input('값을 입력하세요:')\n",
        "print('당신이 입력한 값은 <'+k+'>입니다.')"
      ]
    },
    {
      "cell_type": "code",
      "source": [
        "#print(type(variable name)) ➡️ 프린트 함수의 인자로 type 함수를 사용하여 자료가 어떤 클래스인지 확인할 수 있다\n",
        "\n",
        "num = 123\n",
        "str = 'python'\n",
        "list = [1, 2, 't']\n",
        "dict = {'a':1,'b':2}\n",
        "\n",
        "def func():\n",
        "  print('Hello')\n",
        "\n",
        "print(type(num))\n",
        "print(type(list))\n",
        "print(type(dict))\n",
        "print(type(func))"
      ],
      "metadata": {
        "id": "2RswaPbS_4Xh",
        "outputId": "52ab4e8c-7106-422c-db05-24030d435c7f",
        "colab": {
          "base_uri": "https://localhost:8080/"
        }
      },
      "execution_count": null,
      "outputs": [
        {
          "output_type": "stream",
          "name": "stdout",
          "text": [
            "<class 'int'>\n",
            "<class 'list'>\n",
            "<class 'dict'>\n",
            "<class 'function'>\n"
          ]
        }
      ]
    },
    {
      "cell_type": "code",
      "source": [
        "list1 = [2, 200, 3.45, 215, -7.56, 111, 10, 28]\n",
        "maxval1 = max(list1)\n",
        "minval1 = min(list1)\n",
        "print(maxval1)\n",
        "print(minval1)\n",
        "\n",
        "txt1='alotofthingsoccureachday'\n",
        "maxval2 = max(txt1)\n",
        "minval2 = min(txt1)\n",
        "print(maxval2)\n",
        "print(minval2)"
      ],
      "metadata": {
        "id": "24fxCPcmFhe6",
        "outputId": "045279c4-eb0a-4f46-b152-5dfaa5f96ad7",
        "colab": {
          "base_uri": "https://localhost:8080/"
        }
      },
      "execution_count": null,
      "outputs": [
        {
          "output_type": "stream",
          "name": "stdout",
          "text": [
            "215\n",
            "-7.56\n",
            "y\n",
            "a\n"
          ]
        }
      ]
    },
    {
      "cell_type": "code",
      "source": [
        "#문자열에서 특정 위치의 문자 얻기; 문자열에서 지정 구간 문자 얻기 Part1\n",
        "\n",
        "txt1='This rat named Arthur'\n",
        "\n",
        "print(txt1[1])\n",
        "print(txt1[7])\n",
        "print(txt1[-3])\n",
        "\n",
        "print(txt1[1:]). #(나의 해석)두번째 요소부터 끝까지\n",
        "print(txt1[3:7]) #(나의 해석)네번째 요소부터 일곱번째 요소까지  \n",
        "print(txt1[:-5]) #처음부터 끝 5번째 요소들까지 제외한 것 \n",
        "\n",
        "print(txt1[::2])\n",
        "print(txt1[1::2])\n",
        "print(txt1[1:2])"
      ],
      "metadata": {
        "id": "5pmbCwhfitcw",
        "outputId": "14270739-1523-405d-c4ae-9bd4010167e6",
        "colab": {
          "base_uri": "https://localhost:8080/"
        }
      },
      "execution_count": null,
      "outputs": [
        {
          "output_type": "stream",
          "name": "stdout",
          "text": [
            "h\n",
            "t\n",
            "h\n",
            "his rat named Arthur\n",
            "s ra\n",
            "This rat named A\n",
            "Ti a ae rhr\n",
            "hsrtnmdAtu\n",
            "h\n"
          ]
        }
      ]
    },
    {
      "cell_type": "code",
      "source": [
        "#문자열에서 지정 구간 문자 얻기 Part2\n",
        "txt2='Elizabeth'\n",
        "\n",
        "for i in range(len(txt2)):\n",
        "#for i in range(txt2): 를 사용하면 아래 [:i+1] 파트에 오류가 남\n",
        "  print (txt2[:i+1])"
      ],
      "metadata": {
        "id": "kIi4NLv8jiKL",
        "outputId": "89f08347-ed6e-45b6-a8d4-10252df80e72",
        "colab": {
          "base_uri": "https://localhost:8080/"
        }
      },
      "execution_count": null,
      "outputs": [
        {
          "output_type": "stream",
          "name": "stdout",
          "text": [
            "E\n",
            "El\n",
            "Eli\n",
            "Eliz\n",
            "Eliza\n",
            "Elizab\n",
            "Elizabe\n",
            "Elizabet\n",
            "Elizabeth\n"
          ]
        }
      ]
    },
    {
      "cell_type": "code",
      "source": [
        "txt3='산뫼토뫼끼뫼' \n",
        "print(txt3[::2])\n",
        "print(txt3[1::2])\n",
        "\n",
        "txt4='산토끼'\n",
        "\n",
        "def reverse(x, y, z):\n",
        "  return z, y, x           #return 값은 할당기호 (=) 없이 reverse 함수 인자를 바로 입력한다. 아니면 error message 뜬다.\n",
        "\n",
        "r1,r2,r3 = reverse('산','토','끼')\n",
        "print (r1,r2,r3)\n",
        "\n",
        "ret = txt4[::-1]\n",
        "print(ret)"
      ],
      "metadata": {
        "id": "Yh84vwoevS1C",
        "outputId": "adfc8129-cda1-41b9-dd4f-f3d6b42ee2e3",
        "colab": {
          "base_uri": "https://localhost:8080/"
        }
      },
      "execution_count": null,
      "outputs": [
        {
          "output_type": "stream",
          "name": "stdout",
          "text": [
            "산토끼\n",
            "뫼뫼뫼\n",
            "끼 토 산\n",
            "끼토산\n"
          ]
        }
      ]
    },
    {
      "cell_type": "code",
      "source": [
        "# My exercise \n",
        "txt = '토끼야어디가?'\n",
        "res1=txt[::2]\n",
        "print (res)\n",
        "\n",
        "res2=txt[1::2]\n",
        "print(res2)\n",
        "\n",
        "def reverse(x,y):\n",
        "  return x, y\n",
        "\n",
        "res3=reverse(res1, res2)\n",
        "print(res3)\n",
        "\n",
        "res4 = txt[::-1]\n",
        "print(res4)\n",
        "\n",
        "for i in range(len(txt)):\n",
        "  print(txt[:i+1])"
      ],
      "metadata": {
        "id": "deGh-tJcPJEc",
        "outputId": "69679d67-9b3f-4ad9-a814-3be0176353ec",
        "colab": {
          "base_uri": "https://localhost:8080/"
        }
      },
      "execution_count": null,
      "outputs": [
        {
          "output_type": "stream",
          "name": "stdout",
          "text": [
            "토야어가\n",
            "끼어가\n",
            "('토야디?', '끼어가')\n",
            "?가디어야끼토\n",
            "토\n",
            "토끼\n",
            "토끼야\n",
            "토끼야어\n",
            "토끼야어디\n",
            "토끼야어디가\n",
            "토끼야어디가?\n"
          ]
        }
      ]
    },
    {
      "cell_type": "code",
      "source": [
        "name = input('입력할 파일 이름은 무엇입니까?:')\n",
        "result = name + '.txt'\n",
        "print ('입력한 파일 이름과 그 포맷은 <'+result+'> 입니다.')"
      ],
      "metadata": {
        "id": "9xbUW2c5RTkO",
        "outputId": "f896cd8a-ca9c-429c-f3d0-c1820f5a3de6",
        "colab": {
          "base_uri": "https://localhost:8080/"
        }
      },
      "execution_count": null,
      "outputs": [
        {
          "output_type": "stream",
          "name": "stdout",
          "text": [
            "입력할 파일 이름은 무엇입니까?:test\n",
            "입력한 파일 이름과 그 포맷은 <test.txt> 입니다.\n"
          ]
        }
      ]
    },
    {
      "cell_type": "code",
      "source": [
        "#문자열 합치기\n",
        "\n",
        "title = input('파일명을 입력하세요.:')\n",
        "titled = title + '.jpg'\n",
        "print ('저장된 파일은 <'+titled+'> 입니다.')"
      ],
      "metadata": {
        "id": "-YbYzhzt71Xi",
        "colab": {
          "base_uri": "https://localhost:8080/"
        },
        "outputId": "e286418d-f071-4dcb-dd2b-2691411777d7"
      },
      "execution_count": 11,
      "outputs": [
        {
          "output_type": "stream",
          "name": "stdout",
          "text": [
            "파일명을 입력하세요.:casper\n",
            "저장된 파일은 <casper.jpg> 입니다.\n"
          ]
        }
      ]
    },
    {
      "cell_type": "code",
      "source": [
        "#문자열 합치기 & 문자열 반복하기\n",
        "word1 = '우리나라 축구 대표팀'\n",
        "word2 = '화이팅'\n",
        "phrase1 = word1 + ' ' +  word2*10 + '~'*3 #Space 확보를 위해서는 quotes 안에 Space 를 확보해 놓으면 됨\n",
        "phrase2 = word1 + ', ' +  word2*10 + '~'*3\n",
        "print(phrase)"
      ],
      "metadata": {
        "id": "BeqK_TZfW6ds",
        "outputId": "a0acbc42-e765-4a6e-bb11-fa16697ad892",
        "colab": {
          "base_uri": "https://localhost:8080/"
        }
      },
      "execution_count": 22,
      "outputs": [
        {
          "output_type": "stream",
          "name": "stdout",
          "text": [
            "우리나라 축구 대표팀 화이팅화이팅화이팅화이팅화이팅화이팅화이팅화이팅화이팅화이팅~~~\n"
          ]
        }
      ]
    },
    {
      "cell_type": "code",
      "source": [
        "# 문자 or 문자열 확인하기\n",
        "\n",
        "txt1 = input('임의의 문장을 입력하세요:')\n",
        "\n",
        "if 'c' in txt1:\n",
        "  print('Yes')\n",
        "else:\n",
        "  print('No')\n",
        "\n",
        "if 'are' in txt1:\n",
        "  print ('Yes')\n",
        "else:\n",
        "  print('No')"
      ],
      "metadata": {
        "id": "i4UjFwlUcxWq",
        "outputId": "4cd21867-578b-4cde-bf1d-b6df29726f0b",
        "colab": {
          "base_uri": "https://localhost:8080/"
        }
      },
      "execution_count": 27,
      "outputs": [
        {
          "output_type": "stream",
          "name": "stdout",
          "text": [
            "임의의 문장을 입력하세요:Can I get your name and phone number?\n",
            "No\n",
            "No\n"
          ]
        }
      ]
    },
    {
      "cell_type": "code",
      "source": [
        "#문자열 길이 확인하기\n",
        "\n",
        "txt2 = input('Type in your sentence.')\n",
        "\n",
        "mslength = len(txt2)\n",
        "\n",
        "print('당신이 입력한 문자의 길이는 <%d> 입니다.' %mslength) "
      ],
      "metadata": {
        "id": "jD_sKtXQfa7y",
        "outputId": "63347d60-28e6-41f7-ba81-0f056462500b",
        "colab": {
          "base_uri": "https://localhost:8080/"
        }
      },
      "execution_count": 33,
      "outputs": [
        {
          "output_type": "stream",
          "name": "stdout",
          "text": [
            "Type in your sentence.Can I get your name and phone number?\n",
            "당신이 입력한 문자의 길이는 <37> 입니다.\n"
          ]
        }
      ]
    }
  ]
}