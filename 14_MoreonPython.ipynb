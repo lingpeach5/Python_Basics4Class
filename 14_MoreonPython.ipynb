{
  "nbformat": 4,
  "nbformat_minor": 0,
  "metadata": {
    "colab": {
      "provenance": [],
      "authorship_tag": "ABX9TyOQtLIsyipAmz5S8uvbWIRG",
      "include_colab_link": true
    },
    "kernelspec": {
      "name": "python3",
      "display_name": "Python 3"
    },
    "language_info": {
      "name": "python"
    }
  },
  "cells": [
    {
      "cell_type": "markdown",
      "metadata": {
        "id": "view-in-github",
        "colab_type": "text"
      },
      "source": [
        "<a href=\"https://colab.research.google.com/github/ms624atyale/Python_Basics/blob/main/14_MoreonPython.ipynb\" target=\"_parent\"><img src=\"https://colab.research.google.com/assets/colab-badge.svg\" alt=\"Open In Colab\"/></a>"
      ]
    },
    {
      "cell_type": "markdown",
      "source": [
        "\n",
        "## 🎯 파이썬 내장 함수 input 사용하기 \n",
        " - input 의 인자는 안내 문구등의 문자열\n",
        " - 인자 끝에 colon 을 붙인다 (e.g., input(enter a value:))\n",
        " - print 함수의 인자에 ''를 사용하여 문자열을 쓰고, 입력값을 승계 받는 부분은 위의 변수를 입력하되 <>, '', ++ 를 사용한다 ➡️ e.g., <font color = 'red'> <'+variable name+'>\n",
        "\n",
        "## 🎯 그 외 \n",
        " - 자료 클리스 확인하기\n",
        " - 최대값, 최소값 (max, min)\n",
        " - 문자열에서 특정 위치의 문자 얻기 (to be continued p. 141 (075) as of March 30, 2023)\n",
        "\n"
      ],
      "metadata": {
        "id": "hbsQbhFPJHAO"
      }
    },
    {
      "cell_type": "code",
      "execution_count": 1,
      "metadata": {
        "colab": {
          "base_uri": "https://localhost:8080/"
        },
        "id": "6YqLz46cIjIo",
        "outputId": "997be812-b700-43d0-dfd8-e216a30f680c"
      },
      "outputs": [
        {
          "output_type": "stream",
          "name": "stdout",
          "text": [
            "값을 입력하세요:100\n",
            "당신이 입력한 값은 <100>입니다.\n"
          ]
        }
      ],
      "source": [
        "k = input('값을 입력하세요:')\n",
        "print('당신이 입력한 값은 <'+k+'>입니다.')"
      ]
    },
    {
      "cell_type": "code",
      "source": [
        "#print(type(variable name)) ➡️ 프린트 함수의 인자로 type 함수를 사용하여 자료가 어떤 클래스인지 확인할 수 있다\n",
        "\n",
        "num = 123\n",
        "str = 'python'\n",
        "list = [1, 2, 't']\n",
        "dict = {'a':1,'b':2}\n",
        "\n",
        "def func():\n",
        "  print('Hello')\n",
        "\n",
        "print(type(num))\n",
        "print(type(list))\n",
        "print(type(dict))\n",
        "print(type(func))"
      ],
      "metadata": {
        "id": "2RswaPbS_4Xh",
        "outputId": "52ab4e8c-7106-422c-db05-24030d435c7f",
        "colab": {
          "base_uri": "https://localhost:8080/"
        }
      },
      "execution_count": 20,
      "outputs": [
        {
          "output_type": "stream",
          "name": "stdout",
          "text": [
            "<class 'int'>\n",
            "<class 'list'>\n",
            "<class 'dict'>\n",
            "<class 'function'>\n"
          ]
        }
      ]
    },
    {
      "cell_type": "code",
      "source": [
        "list1 = [2, 200, 3.45, 215, -7.56, 111, 10, 28]\n",
        "maxval1 = max(list1)\n",
        "minval1 = min(list1)\n",
        "print(maxval1)\n",
        "print(minval1)\n",
        "\n",
        "txt1='alotofthingsoccureachday'\n",
        "maxval2 = max(txt1)\n",
        "minval2 = min(txt1)\n",
        "print(maxval2)\n",
        "print(minval2)"
      ],
      "metadata": {
        "id": "24fxCPcmFhe6",
        "outputId": "045279c4-eb0a-4f46-b152-5dfaa5f96ad7",
        "colab": {
          "base_uri": "https://localhost:8080/"
        }
      },
      "execution_count": 24,
      "outputs": [
        {
          "output_type": "stream",
          "name": "stdout",
          "text": [
            "215\n",
            "-7.56\n",
            "y\n",
            "a\n"
          ]
        }
      ]
    }
  ]
}