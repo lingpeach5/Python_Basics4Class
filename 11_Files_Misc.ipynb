{
  "nbformat": 4,
  "nbformat_minor": 0,
  "metadata": {
    "colab": {
      "provenance": [],
      "authorship_tag": "ABX9TyOUFKT0B7hI09E4sK5Z89A6",
      "include_colab_link": true
    },
    "kernelspec": {
      "name": "python3",
      "display_name": "Python 3"
    },
    "language_info": {
      "name": "python"
    }
  },
  "cells": [
    {
      "cell_type": "markdown",
      "metadata": {
        "id": "view-in-github",
        "colab_type": "text"
      },
      "source": [
        "<a href=\"https://colab.research.google.com/github/ms624atyale/Python_Basics/blob/main/11_Files_Misc.ipynb\" target=\"_parent\"><img src=\"https://colab.research.google.com/assets/colab-badge.svg\" alt=\"Open In Colab\"/></a>"
      ]
    },
    {
      "cell_type": "markdown",
      "source": [
        "## 📙  Open & Close\n",
        "\n",
        "| 모드     | 설명  | \n",
        "|:--------|:-:|\n",
        "| r or rt | 텍스트 모드로 읽기 | \n",
        "| w or wt | 텍스트 모드로 쓰기 | \n",
        "| a or at | 텍스트 모드로 파일 마지막에 추가하기 | \n",
        "| rb| binary 모드로 읽기 | \n",
        "| wb | binary 모드로 쓰기 | \n",
        "| ab| binary 모드로 마지막에 추가하기| \n",
        "\n",
        "## ✏️ 파일을 열 때에는 내장함수 (open(인자1, 인자2))을 사용한다.\n",
        "  - 첫번째 인자에 파일 포멧까지 적어준다. \n",
        "  - 첫번째 인자는 파일이름만 쓰거나 전체적인 directory을 d: / / 등으로 슬래시를 사용하여 표시할 수 있다. \n",
        "  - 예시 \n",
        "      - file1 = open('이미지파일.jpg', 'rb')\n",
        "      - file2 = open('텍스트파일.txt', 'r')\n",
        "\n",
        "\n",
        "### ✏️✏️ 읽을 수 있는 모드로 파일을 호출하여, 이 파일 안에 니용을 읽을 때에는 내장함수 read()를 사용한다.\n",
        "\n",
        "### ✏️✏️✏️ 파일을 닫을 때에는 열어놓은 파일을 할당해 놓은 변수명 입력 후 Period 찍고 close() 내장함수를 입력한다. (예시: file.close())\n"
      ],
      "metadata": {
        "id": "FZIfErpsKCMn"
      }
    },
    {
      "cell_type": "markdown",
      "source": [
        "## 파일 열기부터 다시 하기"
      ],
      "metadata": {
        "id": "yndAj3KtdW7g"
      }
    },
    {
      "cell_type": "code",
      "execution_count": 4,
      "metadata": {
        "id": "xqZKOb3SDjRm"
      },
      "outputs": [],
      "source": [
        "file=open('/content/sample_data/crime_punish_ch_one.txt','rt')\n"
      ]
    }
  ]
}