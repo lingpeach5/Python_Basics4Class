{
  "nbformat": 4,
  "nbformat_minor": 0,
  "metadata": {
    "colab": {
      "provenance": [],
      "authorship_tag": "ABX9TyMlHTcoQsnlCks0zdvE1Eif",
      "include_colab_link": true
    },
    "kernelspec": {
      "name": "python3",
      "display_name": "Python 3"
    },
    "language_info": {
      "name": "python"
    }
  },
  "cells": [
    {
      "cell_type": "markdown",
      "metadata": {
        "id": "view-in-github",
        "colab_type": "text"
      },
      "source": [
        "<a href=\"https://colab.research.google.com/github/ms624atyale/Python_Basics/blob/main/15_2_MoreaboutStrings.ipynb\" target=\"_parent\"><img src=\"https://colab.research.google.com/assets/colab-badge.svg\" alt=\"Open In Colab\"/></a>"
      ]
    },
    {
      "cell_type": "markdown",
      "source": [
        "## 🎯 문자열에 관한 여러가지 함수\n",
        "  1. M. 문자열을 특정 문자(열)로 분리하기 (.split() method) p.164 #93\n",
        "  2. M. 문자열을 특정 문자(열)로 결합하기 (.join() method) \n",
        "  3. M. 문자열에서 특정 문자(열)를 다른 대응소로 대체하기 (.replace() method)\n",
        "  4. M. 문자열을 바이트 객체로 바꾸기 (암호화 하기) (.encode() method)\n",
        "  5. M. 바이트를 문자열 객체로 바꾸기 (암호 풀기) (.decode() method)\n",
        "  6. F. 문자열 정렬하기 (.sorted() function, .join() function) as of 4/5/23\n",
        "  \n",
        "  To do list\n",
        "  unicode, bit, bite 개념 다시 이해하기\n",
        "  (p. 164 #93, Also consider to include p.159 #89; p161 #90) \n",
        "  김미란교수님이 한글 관련할 때 필요할 수 있다고 조언\n",
        "   "
      ],
      "metadata": {
        "id": "5GEk4TyTyvT7"
      }
    },
    {
      "cell_type": "code",
      "execution_count": null,
      "metadata": {
        "id": "W8pTh9SIytPf"
      },
      "outputs": [],
      "source": [
        "#문자열을 특정 문자(열)로 분리하기 (.split() function) -> PB 네이버에 해당 url 없음. 나중에 시간 들여 들여다 보기\n",
        "\n",
        "url = 'http://www.naver.com/news/today=20160831'\n",
        "log = "
      ]
    },
    {
      "cell_type": "code",
      "source": [
        "logistics = ['taegu', '제2군사령부', 'infantry', 'guns', 'bullets']\n",
        "bond = ';'\n",
        "ret = bond.join(logistics)\n",
        "print(ret)"
      ],
      "metadata": {
        "colab": {
          "base_uri": "https://localhost:8080/"
        },
        "id": "XR9wV2uxS_7-",
        "outputId": "bcc0fafe-ec6c-4a8e-c3af-ee63d2f58366"
      },
      "execution_count": null,
      "outputs": [
        {
          "output_type": "stream",
          "name": "stdout",
          "text": [
            "taegu;제2군사령부;infantry;guns;bullets\n"
          ]
        }
      ]
    },
    {
      "cell_type": "code",
      "source": [
        "#문자열에서 특정 문자(열)를 다른 대응소로 대체하기 (.replace() method)\n",
        "\n",
        "txt = 'You should dial 053-112 for emergency.'\n",
        "ret1 = txt.replace('2','9')\n",
        "ret2 = txt.replace ('053', '1588')\n",
        "\n",
        "print(ret1)\n",
        "print(ret2)"
      ],
      "metadata": {
        "colab": {
          "base_uri": "https://localhost:8080/"
        },
        "id": "x_zTrcKrVK4T",
        "outputId": "7251ae15-57e0-41db-dd8e-40a7277b2202"
      },
      "execution_count": null,
      "outputs": [
        {
          "output_type": "stream",
          "name": "stdout",
          "text": [
            "You should dial 053-119 for emergency.\n",
            "You should dial 1588-112 for emergency.\n"
          ]
        }
      ]
    },
    {
      "cell_type": "code",
      "source": [
        "# 문자열을 바이트 객체로 바꾸기 (암호화 하기) (.encode() method)\n",
        "\n",
        "txt = 'I love Python.'\n",
        "b_txt = txt.encode()\n",
        "\n",
        "print(txt)\n",
        "print(b_txt)\n",
        "\n",
        "# For more detail, see pp. 168-189 (keywords: unicode texts, UTF-8로 인코딩한 bite object)"
      ],
      "metadata": {
        "colab": {
          "base_uri": "https://localhost:8080/"
        },
        "id": "nDrsyax7WuHE",
        "outputId": "a7d01bcc-65aa-4a06-fecd-8fbaddc121be"
      },
      "execution_count": null,
      "outputs": [
        {
          "output_type": "stream",
          "name": "stdout",
          "text": [
            "I love Python.\n",
            "b'I love Python.'\n"
          ]
        }
      ]
    },
    {
      "cell_type": "code",
      "source": [
        "# 바이트를 문자열 객체로 바꾸기 (암호 풀기) (.decode() method)\n",
        "\n",
        "b_txt = b'I love Python.'\n",
        "txt = b_txt.decode()\n",
        "\n",
        "print(txt)"
      ],
      "metadata": {
        "colab": {
          "base_uri": "https://localhost:8080/"
        },
        "id": "OXcvVSxnYGZF",
        "outputId": "7ae96be7-d047-468d-b87c-4c5c489c1a21"
      },
      "execution_count": null,
      "outputs": [
        {
          "output_type": "stream",
          "name": "stdout",
          "text": [
            "I love Python.\n"
          ]
        }
      ]
    },
    {
      "cell_type": "code",
      "source": [
        "#문자열 정리하기 (.sorted() function)\n",
        "\n",
        "str = input('Enter string sequences you like to sort:')\n",
        "ret1 = sorted(str)\n",
        "ret2 = sorted(str, reverse = True)\n",
        "\n",
        "print(ret1)\n",
        "print(ret2)\n",
        "\n",
        "ret3 = ''.join(ret1) # a pair of single quotes & period before join() function\n",
        "ret4 = ''.join(ret2)\n",
        "\n",
        "print('오름차 순으로 정렬된 문자는 <'+ret3+'> 입니다.')\n",
        "print (ret3)\n",
        "print('내림차 순으로 정렬된 문자는 <'+ret4+'> 입니다.')\n",
        "print (ret4)"
      ],
      "metadata": {
        "id": "9pvJoQfaYCbI",
        "colab": {
          "base_uri": "https://localhost:8080/"
        },
        "outputId": "ea3ff2cd-8d65-4b8d-d070-fe383c1a0189"
      },
      "execution_count": null,
      "outputs": [
        {
          "output_type": "stream",
          "name": "stdout",
          "text": [
            "Enter string sequences you like to sort:abcdefghijklmnopqrstuvwxyz\n",
            "['a', 'b', 'c', 'd', 'e', 'f', 'g', 'h', 'i', 'j', 'k', 'l', 'm', 'n', 'o', 'p', 'q', 'r', 's', 't', 'u', 'v', 'w', 'x', 'y', 'z']\n",
            "['z', 'y', 'x', 'w', 'v', 'u', 't', 's', 'r', 'q', 'p', 'o', 'n', 'm', 'l', 'k', 'j', 'i', 'h', 'g', 'f', 'e', 'd', 'c', 'b', 'a']\n",
            "오름차 순으로 정렬된 문자는 <abcdefghijklmnopqrstuvwxyz> 입니다.\n",
            "abcdefghijklmnopqrstuvwxyz\n",
            "내림차 순으로 정렬된 문자는 <zyxwvutsrqponmlkjihgfedcba> 입니다.\n",
            "zyxwvutsrqponmlkjihgfedcba\n"
          ]
        }
      ]
    },
    {
      "cell_type": "code",
      "source": [
        "#문자열 정리하기 (.sorted() function)\n",
        "\n",
        "str = input('Enter string sequences you like to sort:')\n",
        "ret1 = sorted(str)\n",
        "ret2 = sorted(str, reverse = True)\n",
        "\n",
        "print(ret1)\n",
        "print(ret2)\n",
        "\n",
        "ret3 = ''.join(ret1) # a pair of single quotes & period before join() function\n",
        "ret4 = ''.join(ret2)\n",
        "\n",
        "print('오름차 순으로 정렬된 문자는 <'+ret3+'> 입니다.')\n",
        "print('내림차 순으로 정렬된 문자는 <'+ret4+'> 입니다.')"
      ],
      "metadata": {
        "colab": {
          "base_uri": "https://localhost:8080/"
        },
        "id": "AQjzdmhzb_RO",
        "outputId": "a3e312a2-ee0c-4711-9d23-4fe6bc5a43ca"
      },
      "execution_count": null,
      "outputs": [
        {
          "output_type": "stream",
          "name": "stdout",
          "text": [
            "Enter string sequences you like to sort:산토끼토끼야어디를가느냐\n",
            "['가', '끼', '끼', '냐', '느', '디', '를', '산', '야', '어', '토', '토']\n",
            "['토', '토', '어', '야', '산', '를', '디', '느', '냐', '끼', '끼', '가']\n",
            "오름차 순으로 정렬된 문자는 <가끼끼냐느디를산야어토토> 입니다.\n",
            "내림차 순으로 정렬된 문자는 <토토어야산를디느냐끼끼가> 입니다.\n"
          ]
        }
      ]
    },
    {
      "cell_type": "code",
      "source": [
        "#LATER as of 4/7/23\n",
        "str = input('Type in a string sequence you like:')\n",
        "\n",
        "type(str)\n",
        "\n",
        "ret1 = sorted(str)\n",
        "ret2 = sorted(str, reverse = True)\n",
        "print(ret1)\n",
        "print(ret2)\n",
        "\n",
        "ret3 = ''.join(ret1)\n",
        "ret4 = ''.join(ret2)\n",
        "print = ('The ascending order of the string squence is <'+ret3+'>.')\n",
        "print = ('The ascending order of the string squence is <'+ret4+'>.')"
      ],
      "metadata": {
        "id": "Hk_acxymSqoy",
        "outputId": "586690cf-0c45-4855-81f9-2aad8ec58623",
        "colab": {
          "base_uri": "https://localhost:8080/",
          "height": 253
        }
      },
      "execution_count": 6,
      "outputs": [
        {
          "name": "stdout",
          "output_type": "stream",
          "text": [
            "Type in a string sequence you like:how are you\n"
          ]
        },
        {
          "output_type": "error",
          "ename": "TypeError",
          "evalue": "ignored",
          "traceback": [
            "\u001b[0;31m---------------------------------------------------------------------------\u001b[0m",
            "\u001b[0;31mTypeError\u001b[0m                                 Traceback (most recent call last)",
            "\u001b[0;32m<ipython-input-6-6e6c10ef4e7a>\u001b[0m in \u001b[0;36m<cell line: 8>\u001b[0;34m()\u001b[0m\n\u001b[1;32m      6\u001b[0m \u001b[0mret1\u001b[0m \u001b[0;34m=\u001b[0m \u001b[0msorted\u001b[0m\u001b[0;34m(\u001b[0m\u001b[0mstr\u001b[0m\u001b[0;34m)\u001b[0m\u001b[0;34m\u001b[0m\u001b[0;34m\u001b[0m\u001b[0m\n\u001b[1;32m      7\u001b[0m \u001b[0mret2\u001b[0m \u001b[0;34m=\u001b[0m \u001b[0msorted\u001b[0m\u001b[0;34m(\u001b[0m\u001b[0mstr\u001b[0m\u001b[0;34m,\u001b[0m \u001b[0mreverse\u001b[0m \u001b[0;34m=\u001b[0m \u001b[0;32mTrue\u001b[0m\u001b[0;34m)\u001b[0m\u001b[0;34m\u001b[0m\u001b[0;34m\u001b[0m\u001b[0m\n\u001b[0;32m----> 8\u001b[0;31m \u001b[0mprint\u001b[0m\u001b[0;34m(\u001b[0m\u001b[0mret1\u001b[0m\u001b[0;34m)\u001b[0m\u001b[0;34m\u001b[0m\u001b[0;34m\u001b[0m\u001b[0m\n\u001b[0m\u001b[1;32m      9\u001b[0m \u001b[0mprint\u001b[0m\u001b[0;34m(\u001b[0m\u001b[0mret2\u001b[0m\u001b[0;34m)\u001b[0m\u001b[0;34m\u001b[0m\u001b[0;34m\u001b[0m\u001b[0m\n\u001b[1;32m     10\u001b[0m \u001b[0;34m\u001b[0m\u001b[0m\n",
            "\u001b[0;31mTypeError\u001b[0m: 'str' object is not callable"
          ]
        }
      ]
    }
  ]
}