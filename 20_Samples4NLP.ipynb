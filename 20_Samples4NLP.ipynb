{
  "nbformat": 4,
  "nbformat_minor": 0,
  "metadata": {
    "colab": {
      "provenance": [],
      "authorship_tag": "ABX9TyMGitTBRWJuDppF8sG/AssO",
      "include_colab_link": true
    },
    "kernelspec": {
      "name": "python3",
      "display_name": "Python 3"
    },
    "language_info": {
      "name": "python"
    }
  },
  "cells": [
    {
      "cell_type": "markdown",
      "metadata": {
        "id": "view-in-github",
        "colab_type": "text"
      },
      "source": [
        "<a href=\"https://colab.research.google.com/github/ms624atyale/Python_Basics/blob/main/20_Samples4NLP.ipynb\" target=\"_parent\"><img src=\"https://colab.research.google.com/assets/colab-badge.svg\" alt=\"Open In Colab\"/></a>"
      ]
    },
    {
      "cell_type": "markdown",
      "source": [
        "## <font color = 'red'> Natural Language Processing </font> Sampling\n",
        "\n",
        "1. 문자열의 각 문자를 그 다음 문자로 변경하기\n",
        "2. URL을 slash'/'로 구분한 문자열이 요소인 리스트로 만들어 호스트 도메인 추출하기\n",
        "3. URL을 slash'?'로 구분한 문자열이 요소인 리스트로 만들어 URL에서 쿼리 문자열 추출하기 \n",
        "4. Omitted: stack 구현하기 (append, pop) 200제 #165\n",
        "5. 문장에 나타나는 문자 빈도수 계산하기 #167 (also refer to #131)\n",
        "6. 파일에서 특정 단어 개수 계산하기 #168"
      ],
      "metadata": {
        "id": "-VR3_3PGRbQN"
      }
    },
    {
      "cell_type": "code",
      "execution_count": null,
      "metadata": {
        "colab": {
          "base_uri": "https://localhost:8080/"
        },
        "id": "AbgN8OeLREFQ",
        "outputId": "bcc3ea8e-79a6-40c9-8b1e-c0d890c0b8a6"
      },
      "outputs": [
        {
          "output_type": "stream",
          "name": "stdout",
          "text": [
            "단어, 구문, 혹은 문장을 입력하세요:xyz\n",
            "yzx\n"
          ]
        }
      ],
      "source": [
        "#@markdown 🎯📌 문자열의 각 문자를 그 다음 문자로 변경하기\n",
        "\n",
        "seq = input('단어, 구문, 혹은 문장을 입력하세요:')\n",
        "\n",
        "ret = ''            #missed! remember!\n",
        "for i in range(len(seq)):\n",
        "  if i !=len(seq)-1: #text의 각 문자 index i에 대하여 i가 text의 맨 마지막 문자의 인덱스가 아니면 (이 때 -1 이 raw 로 사용됨. [] 안에 있지 않음. 이해X) \n",
        "    ret += seq[i+1] #ret에 txt[i+1]을 추가한다.\n",
        "  else:             #index i가 txt의 마지막 문자라면\n",
        "    ret +=seq[0]    #ret에 txt[0]을 추가한다.  \n",
        "\n",
        "print(ret)"
      ]
    },
    {
      "cell_type": "code",
      "source": [
        "#@markdown 🎯📌 URL을 slash'/'로 구분한 문자열이 요소인 리스트로 만들어 호스트 도메인 추출하기\n",
        "\n",
        "url = 'https://github.com/ms624atyale/Exercise/blob/main/20_NLPSampling.ipynb'\n",
        "\n",
        "temp = url.split('/') #url.split()function을 사용하여 url을 slash로 구분한 결과를 문자열이 요소인 리스트로 만듭니다.\n",
        "domain0 = temp[0]\n",
        "domain1 = temp[1]\n",
        "domain2 = temp[2]\n",
        "domain3 = temp[3]\n",
        "\n",
        "print(domain0)\n",
        "print(domain1)\n",
        "print(domain2)\n",
        "print(domain3)"
      ],
      "metadata": {
        "id": "lHHo0AP1AUMb",
        "outputId": "c472e7d3-c9eb-4778-c861-dc8f7dee6fc0",
        "colab": {
          "base_uri": "https://localhost:8080/"
        }
      },
      "execution_count": null,
      "outputs": [
        {
          "output_type": "stream",
          "name": "stdout",
          "text": [
            "https:\n",
            "\n",
            "github.com\n",
            "ms624atyale\n"
          ]
        }
      ]
    },
    {
      "cell_type": "code",
      "source": [
        "#@markdown 🎯📌 URL을 slash'/'로 구분한 문자열이 요소인 리스트로 만들어 URL에서 쿼리 문자열 추출하기\n",
        "#쿼리 문자열은 '?' 뒤에 표시되는 문자열을 지칭하는데, 쿼리 문자열은 변수=값 쌍이 &로 구분되어 나열된다. \n",
        "\n",
        "url = 'https://www.google.com/search?q=google+translate&oq=google+tran&aqs=chrome.0.69i59i512j69i57j0i512l4j0i10i512j0i512l3.3294j0j4&sourceid=chrome&ie=UTF-8'\n",
        "temp = url.split('?') #변수 temp에 url을 '?'로 구분한 문자열이 요소인 리스트를 할당하라.\n",
        "queries = temp[1].split('&') #temp[1]은 ? 다음에 나오는 문자열. 이 문자열을 '&'로 구분한 결과를 query (a pair of variable=value)로 만든다.\n",
        "\n",
        "for query in queries:\n",
        "  print(query)\n",
        "\n",
        "\n"
      ],
      "metadata": {
        "id": "oFaZxPbUEPy6",
        "colab": {
          "base_uri": "https://localhost:8080/"
        },
        "outputId": "2c26daf0-d7a8-44bb-e4c4-67a0e9cf3835"
      },
      "execution_count": 2,
      "outputs": [
        {
          "output_type": "stream",
          "name": "stdout",
          "text": [
            "q=google+translate\n",
            "oq=google+tran\n",
            "aqs=chrome.0.69i59i512j69i57j0i512l4j0i10i512j0i512l3.3294j0j4\n",
            "sourceid=chrome\n",
            "ie=UTF-8\n"
          ]
        }
      ]
    },
    {
      "cell_type": "code",
      "source": [
        "#@markdown 🎯📌 문장에 나타나는 문자 빈도수 계산하기\n",
        "\n",
        "def getTextfreq(filename):\n",
        "  with open(filename,'rt') as f:\n",
        "    text = f.read()\n",
        "    f_dic = {} #빈 사전으로 둔 f_dic 는 추후 함수가 적용된 때에는 문자(key):빈도수(value)가 한쌍으로 이루어진 요소인 사전으로 구성될 것이다.  \n",
        "    for c in text: #텍스트의 모든 문자를 한 개씩 끄집어내서\n",
        "      if c in f_dic: #만약 문자가 사전 f_dic에 key 로 존재한다면\n",
        "        f_dic[c]+=1 # 해당값을 1 씩 증가시켜 준다.\n",
        "      else:         #만약 문자가 사전 f_dic에 key 로 존재하지 않는다면\n",
        "        f_dic[c]=1  #새로운 요소 {c:1} 쌍을 f_dic에 추가한다. \n",
        "  return f_dic\n",
        "\n",
        "ret1 = getTextfreq('/content/sample_data/exercise/crime_punish_ch_one.txt')\n",
        "ret2 = sorted(ret1.items(), key=lambda x:x[1], reverse=True) #ret1을 내림차순으로 정렬하여 ret2로 재지정. ret2는 getTextfreq()함수가 리턴한 dictionary!!!! 사전 자료 정리는 refer to #131.\n",
        "#sorted()function에서 첫 번째 인자는 variable.items()module, 세 번째 인자는 ascending or descending, 두 번째 인자는 dictionary의 key값인데 key=lamda x:x[1] 이해X \n",
        "\n",
        "for c, freq in ret2:\n",
        "  if c =='\\n': #문자가 줄바꿈 기호('\\n')이면\n",
        "    continue  #화면에 출력하지 않고 그대로 넘어간다.\n",
        "  print('[%c] -> [%d]회 나타남' %(c,freq))\n"
      ],
      "metadata": {
        "colab": {
          "base_uri": "https://localhost:8080/"
        },
        "id": "x55KE-y0x4Py",
        "outputId": "85e9e88a-2d4b-4779-d2aa-8ea3c8c196e8"
      },
      "execution_count": 8,
      "outputs": [
        {
          "output_type": "stream",
          "name": "stdout",
          "text": [
            "[ ] -> [3357]회 나타남\n",
            "[e] -> [1727]회 나타남\n",
            "[t] -> [1292]회 나타남\n",
            "[a] -> [1131]회 나타남\n",
            "[o] -> [1086]회 나타남\n",
            "[n] -> [1037]회 나타남\n",
            "[i] -> [890]회 나타남\n",
            "[h] -> [890]회 나타남\n",
            "[s] -> [857]회 나타남\n",
            "[r] -> [745]회 나타남\n",
            "[d] -> [580]회 나타남\n",
            "[l] -> [568]회 나타남\n",
            "[u] -> [390]회 나타남\n",
            "[m] -> [387]회 나타남\n",
            "[w] -> [353]회 나타남\n",
            "[c] -> [306]회 나타남\n",
            "[g] -> [305]회 나타남\n",
            "[f] -> [271]회 나타남\n",
            "[,] -> [261]회 나타남\n",
            "[y] -> [255]회 나타남\n",
            "[b] -> [227]회 나타남\n",
            "[p] -> [225]회 나타남\n",
            "[.] -> [202]회 나타남\n",
            "[k] -> [168]회 나타남\n",
            "[v] -> [129]회 나타남\n",
            "[I] -> [57]회 나타남\n",
            "[“] -> [45]회 나타남\n",
            "[”] -> [45]회 나타남\n",
            "[T] -> [43]회 나타남\n",
            "[H] -> [36]회 나타남\n",
            "[’] -> [33]회 나타남\n",
            "[A] -> [25]회 나타남\n",
            "[x] -> [22]회 나타남\n",
            "[;] -> [16]회 나타남\n",
            "[—] -> [16]회 나타남\n",
            "[!] -> [15]회 나타남\n",
            "[B] -> [13]회 나타남\n",
            "[q] -> [13]회 나타남\n",
            "[-] -> [12]회 나타남\n",
            "[W] -> [12]회 나타남\n",
            "[O] -> [10]회 나타남\n",
            "[:] -> [10]회 나타남\n",
            "[R] -> [9]회 나타남\n",
            "[N] -> [9]회 나타남\n",
            "[?] -> [9]회 나타남\n",
            "[G] -> [9]회 나타남\n",
            "[P] -> [8]회 나타남\n",
            "[S] -> [8]회 나타남\n",
            "[j] -> [8]회 나타남\n",
            "[z] -> [8]회 나타남\n",
            "[E] -> [7]회 나타남\n",
            "[Y] -> [6]회 나타남\n",
            "[L] -> [4]회 나타남\n",
            "[C] -> [2]회 나타남\n",
            "[J] -> [2]회 나타남\n",
            "[F] -> [2]회 나타남\n",
            "[X] -> [1]회 나타남\n",
            "[K] -> [1]회 나타남\n",
            "[D] -> [1]회 나타남\n",
            "[Z] -> [1]회 나타남\n",
            "[U] -> [1]회 나타남\n"
          ]
        }
      ]
    },
    {
      "cell_type": "code",
      "source": [
        "#@markdown 🎯📌 문장에 나타나는 단어 빈도수 계산하기\n",
        "\n",
        "with open('/content/sample_data/exercise/crime_punish_ch_one.txt', 'rt') as f:\n",
        "  data = f.read()\n",
        "  count = data.split()\n",
        "  print('단어수: [%d]' %len(count)) #List의 크기는 요소의 개수이기 때문에 List 요소인 단어개수를 구하려고 len()function 사용."
      ],
      "metadata": {
        "id": "AdvHBpQA4rIP",
        "outputId": "35ae9b0f-9e82-4c6a-fe9c-ef817d221ff3",
        "colab": {
          "base_uri": "https://localhost:8080/"
        }
      },
      "execution_count": 12,
      "outputs": [
        {
          "output_type": "stream",
          "name": "stdout",
          "text": [
            "단어수: [3413]\n"
          ]
        }
      ]
    },
    {
      "cell_type": "code",
      "source": [
        "#@markdown 🏀⚽🏀🎾⚾ Exercise\n",
        "with open('/content/sample_data/exercise/crime_punish_ch_one.txt','rt') as f:\n",
        "  data = f.read()\n",
        "  count = data.split()\n",
        "  print('Number of Words: [%d]' %len(count))"
      ],
      "metadata": {
        "id": "SSnMcFh_5y79",
        "outputId": "05289f5a-1fcd-4aed-f22b-f124150e5d68",
        "colab": {
          "base_uri": "https://localhost:8080/"
        }
      },
      "execution_count": 17,
      "outputs": [
        {
          "output_type": "stream",
          "name": "stdout",
          "text": [
            "Number of Words: [3413]\n"
          ]
        }
      ]
    }
  ]
}