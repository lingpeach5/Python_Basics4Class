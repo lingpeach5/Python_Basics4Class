{
  "nbformat": 4,
  "nbformat_minor": 0,
  "metadata": {
    "colab": {
      "provenance": [],
      "authorship_tag": "ABX9TyM0SEeT5jFW3iGIWpddXZfY",
      "include_colab_link": true
    },
    "kernelspec": {
      "name": "python3",
      "display_name": "Python 3"
    },
    "language_info": {
      "name": "python"
    }
  },
  "cells": [
    {
      "cell_type": "markdown",
      "metadata": {
        "id": "view-in-github",
        "colab_type": "text"
      },
      "source": [
        "<a href=\"https://colab.research.google.com/github/ms624atyale/Python_Basics/blob/main/20_Samples4NLP.ipynb\" target=\"_parent\"><img src=\"https://colab.research.google.com/assets/colab-badge.svg\" alt=\"Open In Colab\"/></a>"
      ]
    },
    {
      "cell_type": "markdown",
      "source": [
        "## <font color = 'red'> Natural Language Processing </font> Sampling\n",
        "\n",
        "1. 문자열의 각 문자를 그 다음 문자로 변경하기\n",
        "2. URL을 slash'/'로 구분한 문자열이 요소인 리스트로 만들어 호스트 도메인 추출하기\n",
        "3. URL을 slash'?'로 구분한 문자열이 요소인 리스트로 만들어 URL에서 쿼리 문자열 추출하기 \n",
        "4. Omitted: stack 구현하기 (append, pop) 200제 #165\n",
        "5. 문장에 나타나는 문자 빈도수 계산하기 #167 (also refer to #131)\n",
        "6. 파일에서 특정 단어 개수 계산하기 #168"
      ],
      "metadata": {
        "id": "-VR3_3PGRbQN"
      }
    },
    {
      "cell_type": "code",
      "execution_count": null,
      "metadata": {
        "colab": {
          "base_uri": "https://localhost:8080/"
        },
        "id": "AbgN8OeLREFQ",
        "outputId": "bcc3ea8e-79a6-40c9-8b1e-c0d890c0b8a6"
      },
      "outputs": [
        {
          "output_type": "stream",
          "name": "stdout",
          "text": [
            "단어, 구문, 혹은 문장을 입력하세요:xyz\n",
            "yzx\n"
          ]
        }
      ],
      "source": [
        "#@markdown 🎯📌 문자열의 각 문자를 그 다음 문자로 변경하기\n",
        "\n",
        "seq = input('단어, 구문, 혹은 문장을 입력하세요:')\n",
        "\n",
        "ret = ''            #missed! remember!\n",
        "for i in range(len(seq)):\n",
        "  if i !=len(seq)-1: #text의 각 문자 index i에 대하여 i가 text의 맨 마지막 문자의 인덱스가 아니면 (이 때 -1 이 raw 로 사용됨. [] 안에 있지 않음. 이해X) \n",
        "    ret += seq[i+1] #ret에 txt[i+1]을 추가한다.\n",
        "  else:             #index i가 txt의 마지막 문자라면\n",
        "    ret +=seq[0]    #ret에 txt[0]을 추가한다.  \n",
        "\n",
        "print(ret)"
      ]
    },
    {
      "cell_type": "code",
      "source": [
        "#@markdown 🎯📌 URL을 slash'/'로 구분한 문자열이 요소인 리스트로 만들어 호스트 도메인 추출하기\n",
        "\n",
        "url = 'https://github.com/ms624atyale/Exercise/blob/main/20_NLPSampling.ipynb'\n",
        "\n",
        "temp = url.split('/') #url.split()function을 사용하여 url을 slash로 구분한 결과를 문자열이 요소인 리스트로 만듭니다.\n",
        "domain0 = temp[0]\n",
        "domain1 = temp[1]\n",
        "domain2 = temp[2]\n",
        "domain3 = temp[3]\n",
        "\n",
        "print(domain0)\n",
        "print(domain1)\n",
        "print(domain2)\n",
        "print(domain3)"
      ],
      "metadata": {
        "id": "lHHo0AP1AUMb",
        "outputId": "c472e7d3-c9eb-4778-c861-dc8f7dee6fc0",
        "colab": {
          "base_uri": "https://localhost:8080/"
        }
      },
      "execution_count": null,
      "outputs": [
        {
          "output_type": "stream",
          "name": "stdout",
          "text": [
            "https:\n",
            "\n",
            "github.com\n",
            "ms624atyale\n"
          ]
        }
      ]
    },
    {
      "cell_type": "code",
      "source": [
        "#@markdown 🎯📌 URL을 slash'/'로 구분한 문자열이 요소인 리스트로 만들어 URL에서 쿼리 문자열 추출하기\n",
        "#쿼리 문자열은 '?' 뒤에 표시되는 문자열을 지칭하는데, 쿼리 문자열은 변수=값 쌍이 &로 구분되어 나열된다. \n",
        "\n",
        "url = 'https://www.google.com/search?q=google+translate&oq=google+tran&aqs=chrome.0.69i59i512j69i57j0i512l4j0i10i512j0i512l3.3294j0j4&sourceid=chrome&ie=UTF-8'\n",
        "temp = url.split('?') #변수 temp에 url을 '?'로 구분한 문자열이 요소인 리스트를 할당하라.\n",
        "queries = temp[1].split('&') #temp[1]은 ? 다음에 나오는 문자열. 이 문자열을 '&'로 구분한 결과를 query (a pair of variable=value)로 만든다.\n",
        "\n",
        "for query in queries:\n",
        "  print(query)\n",
        "\n",
        "\n"
      ],
      "metadata": {
        "id": "oFaZxPbUEPy6",
        "colab": {
          "base_uri": "https://localhost:8080/"
        },
        "outputId": "2c26daf0-d7a8-44bb-e4c4-67a0e9cf3835"
      },
      "execution_count": null,
      "outputs": [
        {
          "output_type": "stream",
          "name": "stdout",
          "text": [
            "q=google+translate\n",
            "oq=google+tran\n",
            "aqs=chrome.0.69i59i512j69i57j0i512l4j0i10i512j0i512l3.3294j0j4\n",
            "sourceid=chrome\n",
            "ie=UTF-8\n"
          ]
        }
      ]
    },
    {
      "cell_type": "code",
      "source": [
        "#@markdown 🎯📌 문장에 나타나는 문자 빈도수 계산하기\n",
        "\n",
        "def getTextfreq(filename):\n",
        "  with open(filename,'rt') as f:\n",
        "    text = f.read()\n",
        "    f_dic = {} #빈 사전으로 둔 f_dic 는 추후 함수가 적용된 때에는 문자(key):빈도수(value)가 한쌍으로 이루어진 요소인 사전으로 구성될 것이다.  \n",
        "    for c in text: #텍스트의 모든 문자를 한 개씩 끄집어내서\n",
        "      if c in f_dic: #만약 문자가 사전 f_dic에 key 로 존재한다면\n",
        "        f_dic[c]+=1 # 해당값을 1 씩 증가시켜 준다.\n",
        "      else:         #만약 문자가 사전 f_dic에 key 로 존재하지 않는다면\n",
        "        f_dic[c]=1  #새로운 요소 {c:1} 쌍을 f_dic에 추가한다. \n",
        "  return f_dic\n",
        "\n",
        "ret1 = getTextfreq('/content/sample_data/exercise/crime_punish_ch_one.txt')\n",
        "ret2 = sorted(ret1.items(), key=lambda x:x[1], reverse=True) #ret1을 내림차순으로 정렬하여 ret2로 재지정. ret2는 getTextfreq()함수가 리턴한 dictionary!!!! 사전 자료 정리는 refer to #131.\n",
        "#sorted()function에서 첫 번째 인자는 variable.items()module, 세 번째 인자는 ascending or descending, 두 번째 인자는 dictionary의 key값인데 key=lamda x:x[1] 이해X \n",
        "\n",
        "for c, freq in ret2:\n",
        "  if c =='\\n': #문자가 줄바꿈 기호('\\n')이면\n",
        "    continue  #화면에 출력하지 않고 그대로 넘어간다.\n",
        "  print('[%c] -> [%d]회 나타남' %(c,freq))\n"
      ],
      "metadata": {
        "colab": {
          "base_uri": "https://localhost:8080/"
        },
        "id": "x55KE-y0x4Py",
        "outputId": "85e9e88a-2d4b-4779-d2aa-8ea3c8c196e8"
      },
      "execution_count": null,
      "outputs": [
        {
          "output_type": "stream",
          "name": "stdout",
          "text": [
            "[ ] -> [3357]회 나타남\n",
            "[e] -> [1727]회 나타남\n",
            "[t] -> [1292]회 나타남\n",
            "[a] -> [1131]회 나타남\n",
            "[o] -> [1086]회 나타남\n",
            "[n] -> [1037]회 나타남\n",
            "[i] -> [890]회 나타남\n",
            "[h] -> [890]회 나타남\n",
            "[s] -> [857]회 나타남\n",
            "[r] -> [745]회 나타남\n",
            "[d] -> [580]회 나타남\n",
            "[l] -> [568]회 나타남\n",
            "[u] -> [390]회 나타남\n",
            "[m] -> [387]회 나타남\n",
            "[w] -> [353]회 나타남\n",
            "[c] -> [306]회 나타남\n",
            "[g] -> [305]회 나타남\n",
            "[f] -> [271]회 나타남\n",
            "[,] -> [261]회 나타남\n",
            "[y] -> [255]회 나타남\n",
            "[b] -> [227]회 나타남\n",
            "[p] -> [225]회 나타남\n",
            "[.] -> [202]회 나타남\n",
            "[k] -> [168]회 나타남\n",
            "[v] -> [129]회 나타남\n",
            "[I] -> [57]회 나타남\n",
            "[“] -> [45]회 나타남\n",
            "[”] -> [45]회 나타남\n",
            "[T] -> [43]회 나타남\n",
            "[H] -> [36]회 나타남\n",
            "[’] -> [33]회 나타남\n",
            "[A] -> [25]회 나타남\n",
            "[x] -> [22]회 나타남\n",
            "[;] -> [16]회 나타남\n",
            "[—] -> [16]회 나타남\n",
            "[!] -> [15]회 나타남\n",
            "[B] -> [13]회 나타남\n",
            "[q] -> [13]회 나타남\n",
            "[-] -> [12]회 나타남\n",
            "[W] -> [12]회 나타남\n",
            "[O] -> [10]회 나타남\n",
            "[:] -> [10]회 나타남\n",
            "[R] -> [9]회 나타남\n",
            "[N] -> [9]회 나타남\n",
            "[?] -> [9]회 나타남\n",
            "[G] -> [9]회 나타남\n",
            "[P] -> [8]회 나타남\n",
            "[S] -> [8]회 나타남\n",
            "[j] -> [8]회 나타남\n",
            "[z] -> [8]회 나타남\n",
            "[E] -> [7]회 나타남\n",
            "[Y] -> [6]회 나타남\n",
            "[L] -> [4]회 나타남\n",
            "[C] -> [2]회 나타남\n",
            "[J] -> [2]회 나타남\n",
            "[F] -> [2]회 나타남\n",
            "[X] -> [1]회 나타남\n",
            "[K] -> [1]회 나타남\n",
            "[D] -> [1]회 나타남\n",
            "[Z] -> [1]회 나타남\n",
            "[U] -> [1]회 나타남\n"
          ]
        }
      ]
    },
    {
      "cell_type": "code",
      "source": [
        "#@markdown 🎯📌 문장에 나타나는 단어 빈도수 계산하기\n",
        "\n",
        "with open('/content/sample_data/exercise/crime_punish_ch_one.txt', 'rt') as f:\n",
        "  data = f.read()\n",
        "  count = data.split()\n",
        "  print('단어수: [%d]' %len(count)) #List의 크기는 요소의 개수이기 때문에 List 요소인 단어개수를 구하려고 len()function 사용."
      ],
      "metadata": {
        "id": "AdvHBpQA4rIP",
        "outputId": "35ae9b0f-9e82-4c6a-fe9c-ef817d221ff3",
        "colab": {
          "base_uri": "https://localhost:8080/"
        }
      },
      "execution_count": null,
      "outputs": [
        {
          "output_type": "stream",
          "name": "stdout",
          "text": [
            "단어수: [3413]\n"
          ]
        }
      ]
    },
    {
      "cell_type": "code",
      "source": [
        "#@markdown 🏀⚽🏀🎾⚾ Exercise\n",
        "with open('/content/sample_data/exercise/crime_punish_ch_one.txt', 'rt') as f:\n",
        "  data=f.read()\n",
        "  ret1 = data.split()\n",
        "  print(ret1)\n",
        "\n",
        "  ret2=len(ret1)\n",
        "  print('단어수:[%d]' %ret2)"
      ],
      "metadata": {
        "id": "SSnMcFh_5y79",
        "outputId": "30d9043e-7804-4abb-b0d7-0518632a5985",
        "colab": {
          "base_uri": "https://localhost:8080/"
        }
      },
      "execution_count": 1,
      "outputs": [
        {
          "output_type": "stream",
          "name": "stdout",
          "text": [
            "['PART', 'ONE', 'CHAPTER', 'ONE', 'ON', 'AN', 'EXCEPTIONALLY', 'HOT', 'evening', 'early', 'in', 'July', 'a', 'young', 'man', 'came', 'out', 'of', 'the', 'tiny', 'room', 'which', 'he', 'rented', 'from', 'tenants', 'in', 'S.', 'Place', 'and', 'walked', 'slowly,', 'as', 'though', 'in', 'hesitation,', 'towards', 'K.', 'Bridge.', 'He', 'had', 'successfully', 'avoided', 'meeting', 'his', 'landlady', 'on', 'the', 'stairs.', 'His', 'closet', 'of', 'a', 'room', 'was', 'under', 'the', 'roof', 'of', 'a', 'high,', 'five-floor', 'house', 'and', 'was', 'more', 'like', 'a', 'cupboard', 'than', 'a', 'place', 'in', 'which', 'to', 'live.', 'The', 'landlady', 'who', 'provided', 'him', 'with', 'the', 'room', 'and', 'with', 'dinner', 'and', 'service', 'lived', 'on', 'the', 'floor', 'below,', 'and', 'every', 'time', 'he', 'went', 'out', 'he', 'was', 'obliged', 'to', 'pass', 'her', 'kitchen,', 'the', 'door', 'of', 'which', 'was', 'always', 'open.', 'And', 'each', 'time', 'he', 'passed,', 'the', 'young', 'man', 'had', 'a', 'sick,', 'frightened', 'feeling,', 'which', 'made', 'him', 'grimace', 'and', 'feel', 'ashamed.', 'He', 'was', 'hopelessly', 'in', 'debt', 'to', 'his', 'landlady', 'and', 'was', 'afraid', 'of', 'meeting', 'her.', 'This', 'was', 'not', 'because', 'he', 'was', 'cowardly', 'and', 'browbeaten,', 'quite', 'the', 'contrary;', 'but', 'for', 'some', 'time', 'past', 'he', 'had', 'been', 'in', 'an', 'overstrained', 'irritable', 'condition,', 'verging', 'on', 'hypochondria.', 'He', 'had', 'become', 'so', 'completely', 'absorbed', 'in', 'himself', 'and', 'isolated', 'from', 'everyone', 'else', 'that', 'he', 'dreaded', 'meeting', 'not', 'only', 'his', 'landlady,', 'but', 'anyone', 'at', 'all.', 'He', 'was', 'crushed', 'by', 'poverty,', 'but', 'even', 'the', 'anxieties', 'of', 'his', 'position', 'had', 'recently', 'ceased', 'to', 'weigh', 'upon', 'him.', 'He', 'had', 'given', 'up', 'attending', 'to', 'matters', 'of', 'practical', 'importance;', 'he', 'had', 'lost', 'all', 'desire', 'to', 'do', 'so.', 'In', 'fact,', 'nothing', 'that', 'any', 'landlady', 'could', 'do', 'held', 'any', 'terror', 'for', 'him.', 'But', 'to', 'be', 'stopped', 'on', 'the', 'stairs,', 'to', 'be', 'forced', 'to', 'listen', 'to', 'her', 'trivial,', 'irrelevant', 'gossip,', 'to', 'pestering', 'demands', 'for', 'payment,', 'threats', 'and', 'complaints,', 'all', 'the', 'while', 'racking', 'his', 'brains', 'for', 'excuses,', 'avoiding', 'the', 'issue,', 'lying', '—', 'no,', 'he', 'would', 'rather', 'creep', 'down', 'the', 'stairs', 'like', 'a', 'cat', 'and', 'slip', 'out', 'unseen.', 'However,', 'when', 'he', 'emerged', 'onto', 'the', 'street', 'that', 'evening,', 'he', 'became', 'acutely', 'aware', 'of', 'his', 'fears.', '“I', 'want', 'to', 'attempt', 'a', 'thing', 'like', 'that', 'and', 'am', 'frightened', 'by', 'these', 'trifles,”', 'he', 'thought,', 'with', 'an', 'odd', 'smile.', '“Hm', '.', '.', '.', 'yes,', 'everything', 'is', 'in', 'someone’s', 'hands', 'and', 'they', 'let', 'it', 'all', 'slip', 'out', 'of', 'cowardice,', 'that’s', 'an', 'axiom.', 'It', 'would', 'be', 'interesting', 'to', 'know', 'what', 'it', 'is', 'people', 'are', 'most', 'afraid', 'of.', 'Taking', 'a', 'new', 'step,', 'uttering', 'a', 'new', 'word', 'is', 'what', 'they', 'fear', 'most', '.', '.', '.', 'But', 'I', 'am', 'talking', 'too', 'much.', 'It’s', 'because', 'I', 'babble', 'that', 'I', 'do', 'nothing.', 'Or', 'perhaps', 'it', 'is', 'that', 'I', 'babble', 'because', 'I', 'do', 'nothing.', 'I’ve', 'learned', 'to', 'babble', 'this', 'last', 'month,', 'lying', 'for', 'days', 'on', 'end', 'in', 'my', 'corner', 'thinking', '.', '.', '.', 'just', 'nonsense.', 'Why', 'am', 'I', 'going', 'there', 'now?', 'Am', 'I', 'capable', 'of', 'that?', 'Is', 'that', 'seriously', 'possible?', 'I’m', 'not', 'serious', 'about', 'it', 'at', 'all.', 'It’s', 'just', 'a', 'fantasy', 'to', 'amuse', 'myself;', 'a', 'plaything!', 'Yes,', 'maybe', 'it', 'is', 'a', 'plaything.”', 'The', 'heat', 'in', 'the', 'street', 'was', 'terrible:', 'and', 'the', 'airlessness,', 'the', 'bustle,', 'the', 'plaster,', 'the', 'scaffolding,', 'the', 'bricks', 'and', 'the', 'dust', 'all', 'around', 'him,', 'and', 'that', 'special', 'Petersburg', 'stench,', 'so', 'familiar', 'to', 'everyone', 'who', 'is', 'unable', 'to', 'get', 'out', 'of', 'town', 'during', 'the', 'summer', '—', 'all', 'worked', 'painfully', 'upon', 'the', 'young', 'man’s', 'already', 'overwrought', 'nerves.', 'The', 'unbearable', 'stench', 'from', 'the', 'taverns,', 'which', 'are', 'particularly', 'numerous', 'in', 'that', 'part', 'of', 'the', 'town,', 'and', 'the', 'drunken', 'men', 'whom', 'he', 'met', 'continually,', 'although', 'it', 'was', 'a', 'weekday,', 'completed', 'the', 'revolting', 'misery', 'of', 'the', 'picture.', 'An', 'expression', 'of', 'the', 'deepest', 'disgust', 'gleamed', 'for', 'a', 'moment', 'in', 'the', 'young', 'man’s', 'refined', 'face.', 'He', 'was,', 'by', 'the', 'way,', 'exceptionally', 'handsome,', 'above', 'average', 'in', 'height,', 'slim,', 'well-built,', 'with', 'beautiful', 'dark', 'eyes', 'and', 'dark', 'brown', 'hair.', 'Soon,', 'though,', 'he', 'sank', 'into', 'deep', 'thought,', 'or', 'more', 'accurately', 'speaking', 'into', 'a', 'complete', 'blankness', 'of', 'mind;', 'he', 'walked', 'along', 'not', 'observing', 'what', 'was', 'around', 'him', 'and', 'not', 'caring', 'to', 'observe', 'it.', 'From', 'time', 'to', 'time,', 'because', 'he', 'used', 'to', 'talk', 'to', 'himself,', 'he', 'would', 'mutter', 'something,', 'a', 'habit', 'to', 'which', 'he', 'had', 'just', 'confessed.', 'At', 'these', 'moments', 'he', 'would', 'become', 'conscious', 'that', 'his', 'ideas', 'were', 'sometimes', 'in', 'a', 'tangle', 'and', 'that', 'he', 'was', 'very', 'weak;', 'for', 'two', 'days', 'he', 'had', 'had', 'almost', 'nothing', 'to', 'eat.', 'He', 'was', 'so', 'badly', 'dressed', 'that', 'even', 'a', 'man', 'accustomed', 'to', 'shabbiness', 'would', 'have', 'been', 'ashamed', 'to', 'be', 'seen', 'in', 'the', 'street', 'in', 'such', 'rags.', 'In', 'that', 'part', 'of', 'town,', 'however,', 'scarcely', 'any', 'shortcoming', 'in', 'dress', 'would', 'have', 'created', 'surprise.', 'Due', 'to', 'the', 'proximity', 'of', 'the', 'Haymarket,', 'the', 'number', 'of', 'establishments', 'of', 'a', 'certain', 'kind', 'and', 'the', 'overwhelming', 'numbers', 'of', 'craftsmen', 'and', 'workers', 'crowded', 'in', 'these', 'streets', 'and', 'alleys', 'at', 'the', 'center', 'of', 'Petersburg,', 'so', 'many', 'different', 'types', 'of', 'people', 'were', 'to', 'be', 'seen', 'in', 'the', 'streets', 'that', 'no', 'figure,', 'however', 'strange,', 'would', 'have', 'caused', 'surprise.', 'But', 'there', 'was', 'such', 'accumulated', 'spite', 'and', 'contempt', 'in', 'the', 'young', 'man’s', 'heart,', 'that,', 'in', 'spite', 'of', 'all', 'the', 'cares', 'of', 'youth,', 'he', 'minded', 'his', 'rags', 'least', 'of', 'all.', 'It', 'was', 'a', 'different', 'matter', 'when', 'he', 'met', 'with', 'acquaintances', 'or', 'with', 'former', 'fellow', 'students,', 'whom,', 'indeed,', 'he', 'disliked', 'meeting', 'at', 'any', 'time.', 'And', 'yet', 'when', 'a', 'drunken', 'man', 'who,', 'for', 'some', 'unknown', 'reason,', 'was', 'being', 'taken', 'somewhere', 'in', 'a', 'huge', 'cart', 'dragged', 'by', 'a', 'heavy', 'cart-horse,', 'suddenly', 'shouted', 'at', 'him', 'as', 'he', 'drove', 'past,', '“Hey', 'there,', 'German', 'hatter,”', 'bellowing', 'at', 'the', 'top', 'of', 'his', 'voice', 'and', 'pointing', 'at', 'him', '—', 'the', 'young', 'man', 'stopped', 'suddenly', 'and', 'clutched', 'trembling', 'at', 'his', 'hat.', 'It', 'was', 'a', 'tall', 'round', 'one', 'from', 'Zimmermann’s,', 'but', 'completely', 'worn', 'out,', 'rusty', 'with', 'age,', 'all', 'torn', 'and', 'bespattered,', 'brimless', 'and', 'bent', 'on', 'one', 'side', 'in', 'a', 'most', 'hideous', 'fashion.', 'Not', 'shame,', 'however,', 'but', 'another', 'feeling', 'akin', 'to', 'terror', 'had', 'overtaken', 'him.', '“I', 'knew', 'it,”', 'he', 'muttered', 'in', 'confusion,', '“I', 'thought', 'so!', 'That’s', 'the', 'worst', 'of', 'all!', 'A', 'stupid', 'thing', 'like', 'this,', 'the', 'most', 'trivial', 'detail', 'might', 'spoil', 'the', 'whole', 'plan.', 'Yes,', 'my', 'hat', 'is', 'too', 'noticeable', '.', '.', '.', 'It', 'looks', 'absurd', 'and', 'that', 'makes', 'it', 'noticeable', '.', '.', '.', 'With', 'my', 'rags', 'I', 'ought', 'to', 'wear', 'a', 'cap,', 'any', 'old', 'pancake,', 'but', 'not', 'this', 'grotesque', 'thing.', 'Nobody', 'wears', 'hats', 'like', 'this,', 'it', 'would', 'be', 'noticed', 'a', 'mile', 'off,', 'it', 'would', 'be', 'remembered...', 'What', 'matters', 'is', 'that', 'people', 'would', 'remember', 'it,', 'and', 'that', 'would', 'give', 'them', 'a', 'clue.', 'For', 'this', 'business', 'I', 'should', 'be', 'as', 'unnoticeable', 'as', 'possible', '.', '.', '.', 'Trifles,', 'trifles', 'are', 'what', 'matter!', 'It’s', 'just', 'such', 'trifles', 'that', 'always', 'ruin', 'everything', '.', '.', '.', '”', 'He', 'did', 'not', 'have', 'far', 'to', 'go;', 'he', 'knew', 'indeed', 'how', 'many', 'steps', 'it', 'was', 'from', 'the', 'gate', 'of', 'his', 'house:', 'exactly', 'seven', 'hundred', 'and', 'thirty.', 'He', 'had', 'counted', 'them', 'once', 'when', 'he', 'had', 'been', 'lost', 'in', 'dreams.', 'At', 'the', 'time', 'he', 'had', 'put', 'no', 'faith', 'in', 'those', 'dreams', 'and', 'was', 'only', 'tantalizing', 'himself', 'with', 'their', 'hideous', 'insolence.', 'Now,', 'a', 'month', 'later,', 'he', 'had', 'begun', 'to', 'look', 'upon', 'them', 'differently,', 'and,', 'in', 'spite', 'of', 'the', 'monologues', 'in', 'which', 'he', 'jeered', 'at', 'his', 'own', 'impotence', 'and', 'indecision,', 'he', 'had', 'even,', 'involuntarily', 'as', 'it', 'were,', 'come', 'to', 'regard', 'this', '“hideous”', 'dream', 'as', 'an', 'exploit', 'to', 'be', 'attempted,', 'although', 'he', 'still', 'did', 'not', 'quite', 'believe', 'in', 'this', 'himself.', 'He', 'was', 'now', 'definitely', 'going', 'for', 'a', '“rehearsal”', 'of', 'this', 'undertaking', 'of', 'his,', 'and', 'at', 'every', 'step', 'he', 'grew', 'more', 'and', 'more', 'excited.', 'With', 'a', 'sinking', 'heart', 'and', 'a', 'nervous', 'tremor,', 'he', 'went', 'up', 'to', 'a', 'huge', 'house', 'which', 'on', 'one', 'side', 'looked', 'on', 'to', 'the', 'canal,', 'and', 'on', 'the', 'other', 'into', 'the', 'street.', 'This', 'house', 'was', 'let', 'out', 'in', 'tiny', 'apartments', 'and', 'was', 'inhabited', 'by', 'working', 'people', 'of', 'all', 'kinds', '—', 'tailors,', 'locksmiths,', 'cooks,', 'Germans', 'of', 'all', 'sorts,', 'girls', 'picking', 'up', 'a', 'living', 'as', 'best', 'they', 'could,', 'petty', 'clerks,', 'etc.', 'There', 'was', 'a', 'continual', 'coming', 'and', 'going', 'through', 'the', 'two', 'gates', 'and', 'in', 'the', 'two', 'courtyards', 'of', 'the', 'house.', 'Three', 'or', 'four', 'door-keepers', 'were', 'employed', 'in', 'the', 'building.', 'The', 'young', 'man', 'was', 'very', 'glad', 'not', 'to', 'meet', 'any', 'of', 'them,', 'and', 'at', 'once', 'slipped', 'unnoticed', 'through', 'the', 'door', 'on', 'the', 'right,', 'and', 'up', 'the', 'staircase.', 'It', 'was', 'a', 'back', 'staircase,', 'dark', 'and', 'narrow,', 'but', 'he', 'was', 'familiar', 'with', 'it', 'already,', 'and', 'knew', 'his', 'way,', 'and', 'he', 'liked', 'all', 'these', 'surroundings:', 'in', 'such', 'darkness', 'even', 'the', 'most', 'inquisitive', 'eyes', 'were', 'not', 'to', 'be', 'feared.', '“If', 'I', 'am', 'so', 'scared', 'now,', 'what', 'would', 'it', 'be', 'if', 'it', 'somehow', 'came', 'to', 'pass', 'that', 'I', 'were', 'really', 'going', 'to', 'do', 'it?”', 'he', 'could', 'not', 'help', 'asking', 'himself', 'as', 'he', 'reached', 'the', 'fourth', 'floor.', 'There', 'his', 'progress', 'was', 'barred', 'by', 'some', 'porters', 'who', 'were', 'moving', 'furniture', 'out', 'of', 'an', 'apartment.', 'He', 'knew', 'that', 'the', 'apartment', 'had', 'been', 'occupied', 'by', 'a', 'German', 'clerk', 'in', 'the', 'civil', 'service,', 'and', 'his', 'family.', 'This', 'German', 'was', 'moving', 'out', 'then,', 'and', 'so', 'the', 'fourth', 'floor', 'on', 'this', 'staircase', 'would', 'be', 'vacant', 'except', 'for', 'the', 'old', 'woman.', '“That’s', 'a', 'good', 'thing', 'anyway,”', 'he', 'thought', 'to', 'himself,', 'as', 'he', 'rang', 'the', 'bell', 'of', 'the', 'old', 'woman’s', 'flat.', 'The', 'bell', 'gave', 'a', 'faint', 'tinkle', 'as', 'though', 'it', 'were', 'made', 'of', 'tin', 'and', 'not', 'of', 'copper.', 'The', 'little', 'apartments', 'in', 'such', 'houses', 'always', 'have', 'bells', 'that', 'ring', 'like', 'that.', 'He', 'had', 'forgotten', 'the', 'note', 'of', 'that', 'bell,', 'and', 'now', 'its', 'peculiar', 'tinkle', 'seemed', 'to', 'remind', 'him', 'of', 'something', 'and', 'to', 'bring', 'it', 'clearly', 'before', 'him', '.', '.', '.', 'He', 'gave', 'a', 'start,', 'his', 'nerves', 'were', 'terribly', 'overstrained', 'by', 'now.', 'In', 'a', 'little', 'while,', 'the', 'door', 'was', 'opened', 'a', 'tiny', 'crack:', 'the', 'old', 'woman', 'eyed', 'her', 'visitor', 'with', 'evident', 'distrust', 'through', 'the', 'crack,', 'and', 'nothing', 'could', 'be', 'seen', 'but', 'her', 'little', 'eyes,', 'glittering', 'in', 'the', 'darkness.', 'But,', 'seeing', 'a', 'number', 'of', 'people', 'on', 'the', 'landing,', 'she', 'grew', 'bolder,', 'and', 'opened', 'the', 'door', 'wide.', 'The', 'young', 'man', 'stepped', 'into', 'the', 'dark', 'entryway,', 'which', 'was', 'partitioned', 'off', 'from', 'the', 'tiny', 'kitchen.', 'The', 'old', 'woman', 'stood', 'facing', 'him', 'in', 'silence', 'and', 'looking', 'inquiringly', 'at', 'him.', 'She', 'was', 'a', 'diminutive,', 'withered', 'old', 'woman', 'of', 'sixty,', 'with', 'sharp', 'mean', 'eyes', 'and', 'a', 'sharp', 'little', 'nose.', 'Her', 'colorless,', 'somewhat', 'grizzled', 'hair', 'was', 'thickly', 'smeared', 'with', 'oil,', 'and', 'she', 'wore', 'no', 'kerchief', 'over', 'it.', 'Round', 'her', 'thin', 'long', 'neck,', 'which', 'looked', 'like', 'a', 'hen’s', 'leg,', 'was', 'knotted', 'some', 'sort', 'of', 'flannel', 'rag,', 'and,', 'in', 'spite', 'of', 'the', 'heat,', 'there', 'hung', 'flapping', 'on', 'her', 'shoulders', 'a', 'tattered', 'fur', 'cape,', 'yellow', 'with', 'age.', 'The', 'old', 'woman', 'coughed', 'and', 'groaned', 'at', 'every', 'instant.', 'The', 'young', 'man', 'must', 'have', 'looked', 'at', 'her', 'with', 'a', 'rather', 'peculiar', 'expression,', 'for', 'a', 'gleam', 'of', 'mistrust', 'came', 'into', 'her', 'eyes', 'again.', '“Raskolnikov,', 'a', 'student,', 'I', 'came', 'here', 'a', 'month', 'ago,”', 'the', 'young', 'man', 'made', 'haste', 'to', 'mutter,', 'with', 'a', 'half', 'bow,', 'remembering', 'that', 'he', 'ought', 'to', 'be', 'more', 'polite.', '“I', 'remember,', 'sir,', 'I', 'remember', 'quite', 'well', 'your', 'coming', 'here,”', 'the', 'old', 'woman', 'said', 'distinctly,', 'still', 'keeping', 'her', 'inquiring', 'eyes', 'on', 'his', 'face.', '“And', 'here', '.', '.', '.', 'I', 'am', 'again', 'on', 'the', 'same', 'errand,”', 'Raskolnikov', 'continued,', 'a', 'little', 'disconcerted', 'and', 'surprised', 'at', 'the', 'old', 'woman’s', 'mistrust.', '“Perhaps', 'she', 'is', 'always', 'like', 'that', 'though,', 'only', 'I', 'did', 'not', 'notice', 'it', 'the', 'other', 'time,”', 'he', 'thought', 'with', 'an', 'uneasy', 'feeling.', 'The', 'old', 'woman', 'paused,', 'as', 'though', 'hesitating;', 'then', 'stepped', 'to', 'the', 'side,', 'and', 'pointing', 'to', 'the', 'door', 'of', 'the', 'room,', 'she', 'said,', 'letting', 'her', 'visitor', 'pass', 'in', 'front', 'of', 'her:', '“Step', 'in,', 'sir.”', 'The', 'little', 'room', 'the', 'young', 'man', 'walked', 'into,', 'with', 'yellow', 'paper', 'on', 'the', 'walls,', 'geraniums', 'and', 'muslin', 'curtains', 'in', 'the', 'windows,', 'was', 'brightly', 'lit', 'up', 'at', 'that', 'moment', 'by', 'the', 'setting', 'sun.', '“So', 'the', 'sun', 'will', 'shine', 'like', 'this', 'then', 'too!”', 'flashed', 'as', 'it', 'were', 'by', 'chance', 'through', 'Raskolnikov’s', 'mind,', 'and', 'with', 'a', 'rapid', 'glance', 'he', 'scanned', 'everything', 'in', 'the', 'room,', 'trying', 'as', 'far', 'as', 'possible', 'to', 'notice', 'and', 'remember', 'its', 'arrangement.', 'But', 'there', 'was', 'nothing', 'special', 'in', 'the', 'room.', 'The', 'furniture,', 'all', 'very', 'old', 'and', 'made', 'of', 'yellow', 'wood,', 'consisted', 'of', 'a', 'sofa', 'with', 'a', 'huge', 'bent', 'wooden', 'back,', 'an', 'oval', 'table', 'in', 'front', 'of', 'the', 'sofa,', 'a', 'dressing-table', 'with', 'a', 'mirror', 'fixed', 'on', 'it', 'between', 'the', 'windows,', 'chairs', 'along', 'the', 'walls', 'and', 'two', 'or', 'three', 'cheap', 'prints', 'in', 'yellow', 'frames,', 'representing', 'German', 'maidens', 'with', 'birds', 'in', 'their', 'hands', '—', 'that', 'was', 'all.', 'In', 'the', 'corner', 'a', 'light', 'was', 'burning', 'in', 'front', 'of', 'a', 'small', 'icon.', 'Everything', 'was', 'very', 'clean;', 'the', 'floor', 'and', 'the', 'furniture', 'were', 'brightly', 'polished;', 'everything', 'shone.', '“Lizaveta’s', 'work,”', 'thought', 'the', 'young', 'man.', 'There', 'was', 'not', 'a', 'speck', 'of', 'dust', 'to', 'be', 'seen', 'in', 'the', 'whole', 'apartment.', '“It’s', 'in', 'the', 'houses', 'of', 'spiteful', 'old', 'widows', 'that', 'one', 'finds', 'such', 'cleanliness,”', 'Raskolnikov', 'thought', 'again,', 'and', 'he', 'stole', 'a', 'curious', 'glance', 'at', 'the', 'cotton', 'curtain', 'over', 'the', 'door', 'leading', 'into', 'another', 'tiny', 'room,', 'in', 'which', 'stood', 'the', 'old', 'woman’s', 'bed', 'and', 'chest', 'of', 'drawers', 'and', 'into', 'which', 'he', 'had', 'never', 'looked', 'before.', 'These', 'two', 'rooms', 'made', 'up', 'the', 'whole', 'apartment.', '“What', 'do', 'you', 'want?”', 'the', 'old', 'woman', 'said', 'severely,', 'coming', 'into', 'the', 'room', 'and,', 'as', 'before,', 'standing', 'in', 'front', 'of', 'him', 'so', 'as', 'to', 'look', 'him', 'straight', 'in', 'the', 'face.', '“I’ve', 'brought', 'something', 'to', 'pawn', 'here,”', 'and', 'he', 'drew', 'out', 'of', 'his', 'pocket', 'an', 'old-fashioned', 'flat', 'silver', 'watch,', 'on', 'the', 'back', 'of', 'which', 'was', 'engraved', 'a', 'globe;', 'the', 'chain', 'was', 'of', 'steel.', '“But', 'the', 'time', 'is', 'up', 'for', 'your', 'last', 'pledge.', 'The', 'month', 'was', 'up', 'the', 'day', 'before', 'yesterday.”', '“I', 'will', 'bring', 'you', 'the', 'interest', 'for', 'another', 'month;', 'wait', 'a', 'little.”', '“That’s', 'for', 'me', 'to', 'do', 'as', 'I', 'please,', 'sir,', 'to', 'wait', 'or', 'to', 'sell', 'your', 'pledge', 'at', 'once.”', '“How', 'much', 'will', 'you', 'give', 'me', 'for', 'the', 'watch,', 'Aliona', 'Ivanovna?”', '“You', 'come', 'with', 'such', 'trifles,', 'sir,', 'it’s', 'scarcely', 'worth', 'anything.', 'I', 'gave', 'you', 'two', 'rubles', 'last', 'time', 'for', 'your', 'ring', 'and', 'one', 'could', 'buy', 'it', 'quite', 'new', 'at', 'a', 'jeweler’s', 'for', 'a', 'ruble', 'and', 'a', 'half.”', '“Give', 'me', 'four', 'rubles', 'for', 'it,', 'I', 'will', 'redeem', 'it,', 'it', 'was', 'my', 'father’s.', 'I', 'will', 'be', 'getting', 'some', 'money', 'soon.”', '“A', 'ruble', 'and', 'a', 'half,', 'and', 'interest', 'in', 'advance,', 'if', 'you', 'like!”', '“A', 'ruble', 'and', 'a', 'half!”', 'cried', 'the', 'young', 'man.', '“As', 'you', 'wish”', '—', 'and', 'the', 'old', 'woman', 'handed', 'him', 'back', 'the', 'watch.', 'The', 'young', 'man', 'took', 'it,', 'and', 'was', 'so', 'angry', 'that', 'he', 'was', 'on', 'the', 'point', 'of', 'going', 'away;', 'but', 'checked', 'himself', 'at', 'once,', 'remembering', 'that', 'there', 'was', 'nowhere', 'else', 'he', 'could', 'go,', 'and', 'that', 'he', 'had', 'had', 'another', 'reason', 'for', 'coming.', '“Hand', 'it', 'over,”', 'he', 'said', 'roughly.', 'The', 'old', 'woman', 'fumbled', 'in', 'her', 'pocket', 'for', 'her', 'keys,', 'and', 'disappeared', 'behind', 'the', 'curtain', 'into', 'the', 'other', 'room.', 'The', 'young', 'man,', 'left', 'standing', 'alone', 'in', 'the', 'middle', 'of', 'the', 'room,', 'listened', 'inquisitively,', 'thinking.', 'He', 'could', 'hear', 'her', 'unlocking', 'the', 'chest', 'of', 'drawers.', '“It', 'must', 'be', 'the', 'top', 'drawer,”', 'he', 'reflected.', '“So', 'she', 'carries', 'the', 'keys', 'in', 'a', 'pocket', 'on', 'the', 'right.', 'All', 'in', 'one', 'bunch', 'on', 'a', 'steel', 'ring', '.', '.', '.', 'And', 'there’s', 'one', 'key', 'there,', 'three', 'times', 'as', 'big', 'as', 'all', 'the', 'others,', 'with', 'deep', 'notches;', 'that', 'can’t', 'be', 'the', 'key', 'for', 'the', 'chest', 'of', 'drawers', '.', '.', '.', 'then', 'there', 'must', 'be', 'some', 'other', 'chest', 'or', 'b-box', '.', '.', '.', 'that’s', 'worth', 'knowing.', 'Strong-boxes', 'always', 'have', 'keys', 'like', 'that', '.', '.', '.', 'but', 'how', 'degrading', 'it', 'all', 'is.”', 'The', 'old', 'woman', 'came', 'back.', '“Here,', 'sir:', 'as', 'we', 'say', 'ten', 'kopecks', 'the', 'ruble', 'a', 'month,', 'so', 'I', 'must', 'take', 'fifteen', 'kopecks', 'from', 'a', 'ruble', 'and', 'a', 'half', 'for', 'the', 'month', 'in', 'advance.', 'But', 'for', 'the', 'two', 'rubles', 'I', 'lent', 'you', 'before,', 'you', 'owe', 'me', 'now', 'twenty', 'kopecks', 'on', 'the', 'same', 'reckoning', 'in', 'advance.', 'That', 'makes', 'thirty-five', 'kopecks', 'altogether.', 'So', 'I', 'must', 'give', 'you', 'a', 'ruble', 'and', 'fifteen', 'kopecks', 'for', 'the', 'watch.', 'Here', 'it', 'is.”', '“What!', 'Only', 'a', 'ruble', 'and', 'fifteen', 'kopecks', 'now!”', '“Exactly.”', 'The', 'young', 'man', 'did', 'not', 'dispute', 'it', 'and', 'took', 'the', 'money.', 'He', 'looked', 'at', 'the', 'old', 'woman,', 'and', 'was', 'in', 'no', 'hurry', 'to', 'get', 'away,', 'as', 'though', 'there', 'was', 'still', 'something', 'he', 'wanted', 'to', 'say', 'or', 'to', 'do,', 'but', 'he', 'did', 'not', 'himself', 'quite', 'know', 'what.', '“I', 'may', 'be', 'bringing', 'you', 'something', 'else', 'in', 'a', 'day', 'or', 'two,', 'Aliona', 'Ivanovna', '—', 'a', 'valuable', 'thing,', 'silver,', 'a', 'cigarette', 'box,', 'as', 'soon', 'as', 'I', 'get', 'it', 'back', 'from', 'a', 'friend', '.', '.', '.', '”', 'he', 'broke', 'off', 'in', 'confusion.', '“Well,', 'we', 'will', 'talk', 'about', 'it', 'then,', 'sir.”', '“Goodbye', '—', 'are', 'you', 'always', 'at', 'home', 'alone,', 'your', 'sister', 'is', 'not', 'here', 'with', 'you?”', 'he', 'asked', 'her', 'as', 'casually', 'as', 'possible', 'as', 'he', 'went', 'out', 'into', 'the', 'passage.', '“What', 'business', 'is', 'she', 'of', 'yours,', 'sir?”', '“Oh,', 'nothing', 'particular,', 'I', 'simply', 'asked.', 'You', 'are', 'too', 'quick', '.', '.', '.', 'Good-day,', 'Aliona', 'Ivanovna.”', 'Raskolnikov', 'went', 'out', 'in', 'complete', 'confusion.', 'This', 'confusion', 'became', 'more', 'and', 'more', 'intense.', 'As', 'he', 'went', 'down', 'the', 'stairs,', 'he', 'even', 'stopped', 'short,', 'two', 'or', 'three', 'times,', 'as', 'though', 'suddenly', 'struck', 'by', 'some', 'thought.', 'When', 'he', 'was', 'in', 'the', 'street', 'he', 'cried', 'out,', '“Oh,', 'God,', 'how', 'loathsome', 'it', 'all', 'is!', 'and', 'can', 'I,', 'can', 'I', 'possibly', '.', '.', '.', 'No,', 'it’s', 'nonsense,', 'it’s', 'absurd!”', 'he', 'added', 'resolutely.', '“And', 'how', 'could', 'such', 'an', 'atrocious', 'thing', 'come', 'into', 'my', 'head?', 'What', 'filthy', 'things', 'my', 'heart', 'is', 'capable', 'of.', 'Yes,', 'filthy', 'above', 'all,', 'disgusting,', 'loathsome,', 'loathsome!', '—', 'and', 'for', 'a', 'whole', 'month', 'I’ve', 'been', '.', '.', '.', '”', 'But', 'no', 'words,', 'no', 'exclamations,', 'could', 'express', 'his', 'agitation.', 'The', 'feeling', 'of', 'intense', 'repulsion,', 'which', 'had', 'begun', 'to', 'oppress', 'and', 'torture', 'his', 'heart', 'while', 'he', 'was', 'on', 'his', 'way', 'to', 'the', 'old', 'woman,', 'had', 'by', 'now', 'reached', 'such', 'a', 'pitch', 'and', 'had', 'taken', 'such', 'a', 'definite', 'form', 'that', 'he', 'did', 'not', 'know', 'what', 'to', 'do', 'with', 'himself', 'to', 'escape', 'from', 'his', 'wretchedness.', 'He', 'walked', 'along', 'the', 'pavement', 'like', 'a', 'drunken', 'man,', 'oblivious', 'of', 'the', 'passersby,', 'and', 'jostling', 'against', 'them,', 'and', 'only', 'came', 'to', 'his', 'senses', 'when', 'he', 'was', 'in', 'the', 'next', 'street.', 'Looking', 'round,', 'he', 'noticed', 'that', 'he', 'was', 'standing', 'close', 'to', 'a', 'tavern', 'which', 'was', 'entered', 'by', 'steps', 'leading', 'from', 'the', 'pavement', 'to', 'the', 'basement.', 'At', 'that', 'instant', 'two', 'drunken', 'men', 'came', 'out', 'of', 'the', 'door', 'and,', 'abusing', 'and', 'supporting', 'one', 'another,', 'they', 'mounted', 'the', 'steps.', 'Without', 'stopping', 'to', 'think,', 'Raskolnikov', 'went', 'down', 'the', 'steps', 'at', 'once.', 'Until', 'that', 'moment', 'he', 'had', 'never', 'been', 'into', 'a', 'tavern,', 'but', 'now', 'he', 'felt', 'dizzy', 'and', 'was', 'tormented', 'by', 'a', 'burning', 'thirst.', 'He', 'longed', 'for', 'a', 'drink', 'of', 'cold', 'beer,', 'and', 'attributed', 'his', 'sudden', 'weakness', 'to', 'hunger.', 'He', 'sat', 'down', 'at', 'a', 'sticky', 'little', 'table', 'in', 'a', 'dark', 'and', 'dirty', 'corner;', 'ordered', 'some', 'beer,', 'and', 'eagerly', 'drank', 'off', 'the', 'first', 'glassful.', 'At', 'once', 'he', 'felt', 'relief;', 'and', 'his', 'thoughts', 'became', 'clear.', '“All', 'that’s', 'nonsense,”', 'he', 'said', 'hopefully,', '“and', 'there', 'is', 'nothing', 'in', 'it', 'all', 'to', 'worry', 'about!', 'It’s', 'simply', 'physical', 'weakness.', 'Just', 'a', 'glass', 'of', 'beer,', 'a', 'piece', 'of', 'dry', 'bread', '—', 'and', 'in', 'one', 'moment', 'the', 'brain', 'is', 'ber,', 'the', 'mind', 'is', 'clearer', 'and', 'the', 'will', 'is', 'firm!', 'Pah,', 'how', 'utterly', 'petty', 'it', 'all', 'is!”', 'But,', 'though', 'he', 'spat', 'this', 'out', 'so', 'scornfully,', 'he', 'was', 'by', 'now', 'looking', 'cheerful', 'as', 'though', 'he', 'were', 'suddenly', 'set', 'free', 'from', 'a', 'terrible', 'burden:', 'and', 'he', 'gazed', 'round', 'in', 'a', 'friendly', 'way', 'at', 'the', 'people', 'in', 'the', 'room.', 'But', 'even', 'at', 'that', 'moment', 'he', 'had', 'a', 'dim', 'foreboding', 'that', 'this', 'happier', 'frame', 'of', 'mind', 'was', 'also', 'not', 'normal.', 'There', 'were', 'few', 'people', 'at', 'the', 'time', 'in', 'the', 'tavern.', 'Besides', 'the', 'two', 'drunken', 'men', 'he', 'had', 'met', 'on', 'the', 'steps,', 'a', 'group', 'consisting', 'of', 'about', 'five', 'men,', 'with', 'a', 'girl', 'and', 'a', 'concertina,', 'had', 'gone', 'out', 'at', 'the', 'same', 'time.', 'Their', 'departure', 'left', 'the', 'room', 'quiet', 'and', 'rather', 'empty.', 'The', 'persons', 'remaining', 'were', 'a', 'man', 'who', 'appeared', 'to', 'be', 'an', 'artisan,', 'drunk,', 'but', 'not', 'extremely', 'so,', 'sitting', 'with', 'a', 'beer,', 'and', 'his', 'companion,', 'a', 'huge,', 'stout', 'man', 'with', 'a', 'gray', 'beard,', 'in', 'a', 'short', 'full-skirted', 'coat.', 'He', 'was', 'very', 'drunk', 'and', 'had', 'dozed', 'off', 'on', 'the', 'bench;', 'every', 'now', 'and', 'then,', 'as', 'if', 'in', 'his', 'sleep,', 'he', 'began', 'cracking', 'his', 'fingers,', 'with', 'his', 'arms', 'wide', 'apart', 'and', 'the', 'upper', 'part', 'of', 'his', 'body', 'bouncing', 'about', 'on', 'the', 'bench,', 'while', 'he', 'hummed', 'some', 'meaningless', 'refrain,', 'trying', 'to', 'recall', 'some', 'such', 'lines', 'as', 'these:', '—', '“His', 'wife', 'a', 'year', 'he', 'stroked', 'and', 'loved', 'His', 'wife', 'a', '—', 'a', 'year', 'he', '—', 'stroked', 'and', 'loved.”', '—', 'Or', 'suddenly', 'waking', 'up', 'again:', '—', '“Walking', 'along', 'the', 'crowded', 'row', 'He', 'met', 'the', 'one', 'he', 'used', 'to', 'know.”', '—', 'But', 'no-one', 'shared', 'his', 'enjoyment:', 'his', 'silent', 'companion', 'looked', 'at', 'all', 'these', 'outbursts', 'with', 'hostility', 'and', 'mistrust.', 'There', 'was', 'another', 'man', 'in', 'the', 'room', 'who', 'looked', 'somewhat', 'like', 'a', 'retired', 'government', 'clerk.', 'He', 'was', 'sitting', 'apart,', 'sipping', 'now', 'and', 'then', 'from', 'his', 'mug', 'and', 'looking', 'round', 'at', 'the', 'company.', 'He,', 'too,', 'appeared', 'to', 'be', 'somewhat', 'excited.']\n",
            "단어수:[3413]\n"
          ]
        }
      ]
    },
    {
      "cell_type": "code",
      "source": [
        "#@markdown 🎯📌파일에서 특정 단어 개수 계산하기 #168\n",
        "#position에 관련한 92 번 예제를 더 보고 defined function 이해하기\n",
        "\n",
        "def countWord(filename, word):\n",
        "  with open(filename, 'rt') as f:\n",
        "    text = f.read()\n",
        "    text = text.lower()\n",
        "    pos = text.find(word)\n",
        "    count = 0\n",
        "    while pos!=-1: #💊Refer to 92번 예제\n",
        "      count+=1\n",
        "      pos = text.find(word,pos+1) #💊 인자 중간에 period 관성적으로 안쓰게 조심하기\n",
        "  return count\n",
        "\n",
        "word = input('관심있는 텍스트 파일에서 에서 단어 개수를 구할 단어를 입력하세요:')\n",
        "word = word.lower()\n",
        "ret = countWord('/content/sample_data/exercise/crime_punish_ch_one.txt', word) #💊 defined function에 따라 인자를 넣어야지, 관성적으로 (파일네임, 'rt')하면 안된다. \n",
        "print('[%s]의 개수: [%d]' %(word, ret))"
      ],
      "metadata": {
        "id": "DQn1AIerHDoE",
        "outputId": "6f784a45-c1db-40bc-95cc-01f4aed345b2",
        "colab": {
          "base_uri": "https://localhost:8080/"
        }
      },
      "execution_count": 11,
      "outputs": [
        {
          "output_type": "stream",
          "name": "stdout",
          "text": [
            "관심있는 텍스트 파일에서 에서 단어 개수를 구할 단어를 입력하세요:the\n",
            "[the]의 개수: [246]\n"
          ]
        }
      ]
    },
    {
      "cell_type": "code",
      "source": [
        "#@markdown 🎯📌 파일에서 특정 문자열 교체하기 #169\n",
        "\n",
        "t1 = input('찾을 단어를 입력하세요:')\n",
        "t2 = input ('변경할 단어를 입력하세요:')\n",
        "\n",
        "with open('/content/sample_data/exercise/crime_punish_ch_one.txt', 'rt') as f:\n",
        "  with open('/content/sample_data/exercise/crime_punish_ch_one.txt', 'wt') as cf:\n",
        "    txt1 = f.read()\n",
        "    txt2 = txt1.replace(t1, t2)\n",
        "    cf.write(txt2) \n",
        "\n",
        "print('[%s]는 [%s]로 변경되었습니다.' %(t1, t2))\n",
        "\n"
      ],
      "metadata": {
        "id": "aT_5M7mRIfBH",
        "outputId": "0d91ff63-324d-4d3d-e827-9ff94073d5eb",
        "colab": {
          "base_uri": "https://localhost:8080/"
        }
      },
      "execution_count": 14,
      "outputs": [
        {
          "output_type": "stream",
          "name": "stdout",
          "text": [
            "찾을 단어를 입력하세요:chapter\n",
            "변경할 단어를 입력하세요:ch.\n",
            "[chapter]는 [ch.]로 변경되었습니다.\n"
          ]
        }
      ]
    },
    {
      "cell_type": "code",
      "source": [
        "#@markdown 🏀⚽🏀🎾⚾ Exercise (변경된 단어로 파일 생성 후 새 파일에서 단어를 추출)\n",
        "\n",
        "t1 = input('찾을 단어를 입력하세요:')\n",
        "t2 = input ('변경할 단어를 입력하세요:')\n",
        "\n",
        "with open('/content/sample_data/exercise/crime_punish_ch_one.txt', 'rt') as f:\n",
        "  with open('/content/sample_data/exercise/crime_punish_ch_one.txt', 'wt') as cf:\n",
        "    txt1 = f.read()\n",
        "    txt2 = txt1.replace(t1, t2)\n",
        "    cf.write(txt2) \n",
        "    print('[%s]는 [%s]로 변경되었습니다.' %(t1, t2))\n",
        "    \n",
        "    with open('/content/sample_data/exercise/crime_punish_ch_one.txt', 'wt') as cf:\n",
        "      data = cf.read() #🆘 왜 안돼지???????\n",
        "      ret1 = data.split()\n",
        "      print(ret1)"
      ],
      "metadata": {
        "id": "xh0H_yjENOM6",
        "outputId": "cabd65d1-e683-4adf-f363-8d8eaf829719",
        "colab": {
          "base_uri": "https://localhost:8080/",
          "height": 288
        }
      },
      "execution_count": 20,
      "outputs": [
        {
          "output_type": "stream",
          "name": "stdout",
          "text": [
            "찾을 단어를 입력하세요:chapter\n",
            "변경할 단어를 입력하세요:ch.\n",
            "[chapter]는 [ch.]로 변경되었습니다.\n"
          ]
        },
        {
          "output_type": "error",
          "ename": "UnsupportedOperation",
          "evalue": "ignored",
          "traceback": [
            "\u001b[0;31m---------------------------------------------------------------------------\u001b[0m",
            "\u001b[0;31mUnsupportedOperation\u001b[0m                      Traceback (most recent call last)",
            "\u001b[0;32m<ipython-input-20-d56b334324b2>\u001b[0m in \u001b[0;36m<cell line: 6>\u001b[0;34m()\u001b[0m\n\u001b[1;32m     12\u001b[0m \u001b[0;34m\u001b[0m\u001b[0m\n\u001b[1;32m     13\u001b[0m     \u001b[0;32mwith\u001b[0m \u001b[0mopen\u001b[0m\u001b[0;34m(\u001b[0m\u001b[0;34m'/content/sample_data/exercise/crime_punish_ch_one.txt'\u001b[0m\u001b[0;34m,\u001b[0m \u001b[0;34m'wt'\u001b[0m\u001b[0;34m)\u001b[0m \u001b[0;32mas\u001b[0m \u001b[0mcf\u001b[0m\u001b[0;34m:\u001b[0m\u001b[0;34m\u001b[0m\u001b[0;34m\u001b[0m\u001b[0m\n\u001b[0;32m---> 14\u001b[0;31m       \u001b[0mdata\u001b[0m \u001b[0;34m=\u001b[0m \u001b[0mcf\u001b[0m\u001b[0;34m.\u001b[0m\u001b[0mread\u001b[0m\u001b[0;34m(\u001b[0m\u001b[0;34m)\u001b[0m\u001b[0;34m\u001b[0m\u001b[0;34m\u001b[0m\u001b[0m\n\u001b[0m\u001b[1;32m     15\u001b[0m       \u001b[0mret1\u001b[0m \u001b[0;34m=\u001b[0m \u001b[0mdata\u001b[0m\u001b[0;34m.\u001b[0m\u001b[0msplit\u001b[0m\u001b[0;34m(\u001b[0m\u001b[0;34m)\u001b[0m\u001b[0;34m\u001b[0m\u001b[0;34m\u001b[0m\u001b[0m\n\u001b[1;32m     16\u001b[0m       \u001b[0mprint\u001b[0m\u001b[0;34m(\u001b[0m\u001b[0mret1\u001b[0m\u001b[0;34m)\u001b[0m\u001b[0;34m\u001b[0m\u001b[0;34m\u001b[0m\u001b[0m\n",
            "\u001b[0;31mUnsupportedOperation\u001b[0m: not readable"
          ]
        }
      ]
    }
  ]
}