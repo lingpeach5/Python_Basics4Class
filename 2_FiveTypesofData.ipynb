{
  "nbformat": 4,
  "nbformat_minor": 0,
  "metadata": {
    "colab": {
      "name": "CodeCells_Basic_.ipynb",
      "provenance": [],
      "toc_visible": true,
      "authorship_tag": "ABX9TyPuQdjbSFbLcK8p0dBr7Pw7",
      "include_colab_link": true
    },
    "kernelspec": {
      "name": "python3",
      "display_name": "Python 3"
    },
    "language_info": {
      "name": "python"
    }
  },
  "cells": [
    {
      "cell_type": "markdown",
      "metadata": {
        "id": "view-in-github",
        "colab_type": "text"
      },
      "source": [
        "<a href=\"https://colab.research.google.com/github/ms624atyale/Python_Basics/blob/main/2_FiveTypesofData.ipynb\" target=\"_parent\"><img src=\"https://colab.research.google.com/assets/colab-badge.svg\" alt=\"Open In Colab\"/></a>"
      ]
    },
    {
      "cell_type": "markdown",
      "source": [
        "#🐹 🐾  Five Types of Data\n",
        "        Number, String, List, Tuple, Dictionary\n",
        "\n",
        "Variables can be either a number or a sequence.     \n",
        "\n",
        "1️⃣ Numbers can be either integers, floats, or imaginary numbers.\n",
        "- interger 정수 : -100, -30, -11, 0, 1, 5, 100, 302, etc.\n",
        "- float 실수 : -100.0, -30.0, -11.0, 0.0, 0.1, 2.4, 100.32, etc.\n",
        "- complex 복소수: 1 + 5j \n",
        "              ('j' represents imaginary numbers 허수) \n",
        "\n",
        "2️⃣ Three types of seqeunce data \n",
        "\n",
        "🅰️ <font color='red'> String </font> data are non-numerical data. It is indicated by a pair of either double quotations or single quotations. \n",
        "- \"a, b, c\" \n",
        "- 'a, b, c'\n",
        "- \"042114\" (cf., 042114)\n",
        "- \"I love Sam's pencil case\"\n",
        "\n",
        "🅱️ Data can be consecutively connected. The <font color='red'> list</font>-stle-type data is most common. If consecutively connected elements are protected from a modification, we especially call it a <font color='red'> tuple</font>-style-type. \n",
        "\n",
        "- i) <font color='red'> List</font>: A list is indicated by a pair of square brackets [ ].\n",
        "      ['a', 'abc', 1, '911', 'I love Python'] \n",
        "\n",
        "- ii) <font color='red'> Tuple</font>: A tuple is indicated by a pair of brackets ( ).\n",
        "      ('a', 'abc', 1, '911', 'I love Python')\n",
        "\n",
        "👀 Be aware that elements in a list/tuple can be numbers, strings, dictionaries, or embeded lists/tuples of any kind. Note that elements in a tuple cannot be modified but protected under no circumstances. \n",
        "\n",
        "- [1, 'a', 'bananas', 'berries','3.14']  \n",
        "- [{'Earth': 14725000000, 'Mars': 23934000000}, [1, 2, 3], ['b', '042-114', 'I like apples'], (100, 200, 300)] \n",
        "\n",
        "3️⃣ A paired data with a matched <font color='blue'>key - value</font> set.\n",
        "- {'a':1, 'b'':2, 'c':3}\n",
        "- {'d':4}\n",
        "\n"
      ],
      "metadata": {
        "id": "ttlPtPfmAAdV"
      }
    },
    {
      "cell_type": "markdown",
      "source": [
        "## <font color = 'green'> Creating & running code cells, arrow-up, and arrow-down\n",
        "\n"
      ],
      "metadata": {
        "id": "aJ0Z8qFlWaAx"
      }
    },
    {
      "cell_type": "code",
      "source": [
        "#@markdown Define variable a\n",
        "\n",
        "a = 1"
      ],
      "metadata": {
        "cellView": "form",
        "id": "xV1LWOHyWZaq"
      },
      "execution_count": null,
      "outputs": []
    },
    {
      "cell_type": "code",
      "source": [
        "#@markdown Define variable b\n",
        "b = 2"
      ],
      "metadata": {
        "cellView": "form",
        "id": "Kggbn20yVpFO"
      },
      "execution_count": null,
      "outputs": []
    },
    {
      "cell_type": "code",
      "source": [
        "#@markdown Use a print function and a Boolean operator + \n",
        "print(a + b)"
      ],
      "metadata": {
        "id": "oC2orsLTWQwg"
      },
      "execution_count": null,
      "outputs": []
    },
    {
      "cell_type": "markdown",
      "source": [
        "## <font color = 'green'> Deleting a code cell"
      ],
      "metadata": {
        "id": "zSushYscXEkk"
      }
    },
    {
      "cell_type": "code",
      "source": [
        "#@markdown Delete a current code cell \n",
        "\n",
        "c = 'delete'\n",
        "print (c)"
      ],
      "metadata": {
        "cellView": "form",
        "id": "DxeSoiafXW0z"
      },
      "execution_count": null,
      "outputs": []
    },
    {
      "cell_type": "markdown",
      "source": [
        "### ⏰ For more detailed and extensive information, visit [Overview of Colaboratory Features](https://colab.research.google.com/notebooks/basic_features_overview.ipynb)"
      ],
      "metadata": {
        "id": "zy4PTJNVg17p"
      }
    }
  ]
}