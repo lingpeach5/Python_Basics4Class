{
  "nbformat": 4,
  "nbformat_minor": 0,
  "metadata": {
    "colab": {
      "name": "CodeCells_Basic_.ipynb",
      "provenance": [],
      "toc_visible": true,
      "authorship_tag": "ABX9TyPCFpjI1SXqO6FSzc4qOdw+",
      "include_colab_link": true
    },
    "kernelspec": {
      "name": "python3",
      "display_name": "Python 3"
    },
    "language_info": {
      "name": "python"
    }
  },
  "cells": [
    {
      "cell_type": "markdown",
      "metadata": {
        "id": "view-in-github",
        "colab_type": "text"
      },
      "source": [
        "<a href=\"https://colab.research.google.com/github/ms624atyale/Python_Basics/blob/main/2_FiveTypesofData.ipynb\" target=\"_parent\"><img src=\"https://colab.research.google.com/assets/colab-badge.svg\" alt=\"Open In Colab\"/></a>"
      ]
    },
    {
      "cell_type": "markdown",
      "source": [
        "#🐹 🐾  Five Types of Data\n",
        "        Number, String, List, Tuple, Dictionary\n",
        "\n",
        "Variables can be either a number or a sequence.     \n",
        "\n",
        "1️⃣ Numbers can be either integers, floats, or imaginary numbers.\n",
        "- interger 정수 : -100, -30, -11, 0, 1, 5, 100, 302, etc.\n",
        "- float 실수 : -100.0, -30.0, -11.0, 0.0, 0.1, 2.4, 100.32, etc.\n",
        "- complex 복소수: 1 + 5j \n",
        "      ('j' represents imaginary numbers 허수) \n",
        "\n",
        "2️⃣ Three types of seqeunce data \n",
        "\n",
        "🅰️ <font color='red'> String </font> data are non-numerical data. It is indicated by a pair of either double quotations or single quotations. \n",
        "- \"a\", \"b\", \"c\" \n",
        "- 'a', 'b', 'c'\n",
        "- \"042114\" (cf., 042114)\n",
        "- \"I love Sam's pencil case\"\n",
        "\n",
        "🅱️ Data can be consecutively connected. The <font color='red'> list</font>-stle-type data is most common. If consecutively connected elements are protected from a modification, we especially call it a <font color='red'> tuple</font>-style-type. \n",
        "\n",
        "- i) <font color='red'> List</font>: A list is indicated by a pair of square brackets [ ].\n",
        "      ['a', 'abc', 1, '911', 'I love Python'] \n",
        "\n",
        "- ii) <font color='red'> Tuple</font>: A tuple is indicated by a pair of brackets ( ).\n",
        "      ('a', 'abc', 1, '911', 'I love Python')\n",
        "\n",
        "👀 Be aware that elements in a list/tuple can be numbers, strings, dictionaries, or embeded lists/tuples of any kind. Note that elements in a tuple cannot be modified but protected under no circumstances. \n",
        "\n",
        "- [1, 'a', 'bananas', 'berries','3.14']  \n",
        "- [{'Earth': 14725000000, 'Mars': 23934000000}, [1, 2, 3], ['b', '042-114', 'I like apples'], (100, 200, 300)] \n",
        "\n",
        "3️⃣ A paired data with a matched <font color='blue'>key - value</font> set.\n",
        "- {'a':'A', 'b':'B', 'c':\"C'}\n",
        "- {'a':1, 'b'':2, 'c':3}\n",
        "- {'d':4}\n",
        "\n"
      ],
      "metadata": {
        "id": "ttlPtPfmAAdV"
      }
    },
    {
      "cell_type": "markdown",
      "source": [
        "## <font color = 'green'> Exercise \n",
        "### <font color = 'green'>Assigning <font color = 'red'>Numbers</front> <font color = 'green'>to varialbes \n"
      ],
      "metadata": {
        "id": "aJ0Z8qFlWaAx"
      }
    },
    {
      "cell_type": "code",
      "source": [
        "#@markdown 📌 Assign 1 to a variable a. \n",
        "\n",
        "a = 1\n",
        "print (a)"
      ],
      "metadata": {
        "id": "xV1LWOHyWZaq"
      },
      "execution_count": null,
      "outputs": []
    },
    {
      "cell_type": "code",
      "source": [
        "#@markdown 📌 Assign 2 to a variable b.\n",
        "b = 2\n",
        "print (b)"
      ],
      "metadata": {
        "id": "Kggbn20yVpFO"
      },
      "execution_count": null,
      "outputs": []
    },
    {
      "cell_type": "code",
      "source": [
        "#@markdown 📌 Use a print function and a Boolean operator + \n",
        "print(a + b)"
      ],
      "metadata": {
        "id": "oC2orsLTWQwg"
      },
      "execution_count": null,
      "outputs": []
    },
    {
      "cell_type": "markdown",
      "source": [
        "## <font color = 'green'> Exercise\n",
        "### <font color = 'green'>Assigning <font color = 'red'> Strings</front> <font color = 'green'>to varialbes "
      ],
      "metadata": {
        "id": "zSushYscXEkk"
      }
    },
    {
      "cell_type": "code",
      "source": [
        "#@markdown 📌 Assign a string to a variable c\n",
        "\n",
        "c = \"I love Python\"\n",
        "print (c)"
      ],
      "metadata": {
        "id": "DxeSoiafXW0z",
        "outputId": "a48a508b-e0a5-4e9b-8ad1-e2b70c887cd0",
        "colab": {
          "base_uri": "https://localhost:8080/"
        }
      },
      "execution_count": null,
      "outputs": [
        {
          "output_type": "stream",
          "name": "stdout",
          "text": [
            "I love Python\n"
          ]
        }
      ]
    },
    {
      "cell_type": "code",
      "source": [
        "#@markdown 📌 To assign valid variable names\n",
        "a = 'Lori'\n",
        "_b = 'Sam'\n",
        "a_b = 'Ken'\n",
        "c_d = 'Jen'\n",
        "\n",
        "a = 'Emma' # Be aware that variable a is used two times!"
      ],
      "metadata": {
        "id": "FqAo7mMFEfjd"
      },
      "execution_count": null,
      "outputs": []
    },
    {
      "cell_type": "code",
      "source": [
        "#@markdown 📌 More on printing variables\n",
        "a = 'Lori'\n",
        "print(a)\n",
        "\n",
        "_b = 'Sam'\n",
        "print(_b)\n",
        "\n",
        "a_b = 'Ken'\n",
        "print(a_b)\n",
        "\n",
        "c_d = 'Jen'\n",
        "print(c_d)\n",
        "\n",
        "a= 'Emma'\n",
        "print(a)          #⏰ Remember the latest varialbe is printed if there is a redundant varialbe name. "
      ],
      "metadata": {
        "id": "I9Y-_bRZFCqQ"
      },
      "execution_count": null,
      "outputs": []
    },
    {
      "cell_type": "markdown",
      "source": [
        "## <font color = 'green'> Exercise\n",
        "### <font color = 'green'>Assigning <font color = 'red'>Lists</front> <font color = 'green'>to varialbes "
      ],
      "metadata": {
        "id": "zy4PTJNVg17p"
      }
    },
    {
      "cell_type": "code",
      "source": [
        "#@markdown 📌 Assign a list to a variable d\n",
        "\n",
        "d = [\"Mercury\", \"Venus\", \"Earth\", \"Mars\", \"Jupiter\", \"Saturn\", \"Uranus\", \"Neptune\"] #Names of planets\n",
        "e = [\"수성\", \"금성\", \"지구\", \"화성\", \"목성\", \"토성\", \"천황성\", \"혜왕성\" ] #행성 이름\n",
        "f = [1,2,3,4,5,6,7,8,9,10]\n",
        "\n",
        "print (d)\n",
        "print(e)\n",
        "print (f)"
      ],
      "metadata": {
        "id": "z4DHh7t_OCBS",
        "outputId": "4e45abeb-dd7f-4d3a-ea32-9cec220ea238",
        "colab": {
          "base_uri": "https://localhost:8080/"
        }
      },
      "execution_count": 9,
      "outputs": [
        {
          "output_type": "stream",
          "name": "stdout",
          "text": [
            "['Mercury', 'Venus', 'Earth', 'Mars', 'Jupiter', 'Saturn', 'Uranus', 'Neptune']\n",
            "['수성', '금성', '지구', '화성', '목성', '토성', '천황성', '혜왕성']\n",
            "[1, 2, 3, 4, 5, 6, 7, 8, 9, 10]\n"
          ]
        }
      ]
    },
    {
      "cell_type": "markdown",
      "source": [
        "## <font color = 'green'> Exercise\n",
        "### <font color = 'green'>Assigning <font color = 'red'>Tuples</front> <font color = 'green'>to varialbes "
      ],
      "metadata": {
        "id": "Ocss-eJjVQYS"
      }
    },
    {
      "cell_type": "code",
      "source": [
        "#@markdown 📌 Assign tuples to a variables, g, h, i\n",
        "\n",
        "g = (\"Mercury\", \"Venus\", \"Earth\", \"Mars\", \"Jupiter\", \"Saturn\", \"Uranus\", \"Neptune\") #Names of planets\n",
        "h = (\"수성\", \"금성\", \"지구\", \"화성\", \"목성\", \"토성\", \"천황성\", \"혜왕성\" ) #행성 이름\n",
        "i = (1,2,3,4,5,6,7,8,9,10)\n",
        "\n",
        "print (g)\n",
        "print(h)\n",
        "print (i)"
      ],
      "metadata": {
        "id": "yJ4OL86PVFoq",
        "outputId": "7335eed6-5aa0-4113-996d-bdb35798a745",
        "colab": {
          "base_uri": "https://localhost:8080/"
        }
      },
      "execution_count": 8,
      "outputs": [
        {
          "output_type": "stream",
          "name": "stdout",
          "text": [
            "('Mercury', 'Venus', 'Earth', 'Mars', 'Jupiter', 'Saturn', 'Uranus', 'Neptune')\n",
            "('수성', '금성', '지구', '화성', '목성', '토성', '천황성', '혜왕성')\n",
            "(1, 2, 3, 4, 5, 6, 7, 8, 9, 10)\n"
          ]
        }
      ]
    },
    {
      "cell_type": "markdown",
      "source": [
        "## <font color = 'green'> Exercise\n",
        "### <font color = 'green'>Assigning <font color = 'red'>Dictionaries</front> <font color = 'green'>to varialbes "
      ],
      "metadata": {
        "id": "0xH4JM7TVrVX"
      }
    },
    {
      "cell_type": "code",
      "source": [
        "#@markdown 📌 Assign a dictionary to a variable, k\n",
        "\n",
        "k = {'Mercury':'수성', 'Venus':'금성', 'Earth':'지구', 'Mars':'화성', 'Jupiter':'목성', 'Saturn':'토성', 'Uranus':'명왕성', 'Neptune':'해왕성'} #key in English: value in Korean\n",
        "\n",
        "m = {'Mercury 수성':1, 'Venus 금성':2, 'Earth 지구':3, 'Mars 화성':4, 'Jupiter 목성':5, 'Saturn 토성':6, 'Uranus 명왕성':7, 'Neptune 해왕성':8} # i) order of planets from the Sun, ii) key in English and Korean, iii) value in integers\n",
        "\n",
        "print (k)\n",
        "print (m)"
      ],
      "metadata": {
        "id": "gSLUolTJVyRF",
        "outputId": "a12a7a02-052f-430b-8389-0dc3f4d2cf52",
        "colab": {
          "base_uri": "https://localhost:8080/"
        }
      },
      "execution_count": null,
      "outputs": [
        {
          "output_type": "stream",
          "name": "stdout",
          "text": [
            "{'Mercury': '수성', 'Venus': '금성', 'Earth': '지구', 'Mars': '화성', 'Jupiter': '목성', 'Saturn': '토성', 'Uranus': '명왕성', 'Neptune': '해왕성'}\n",
            "{'Mercury 수성': 1, 'Venus 금성': 2, 'Earth 지구': 3, 'Mars 화성': 4, 'Jupiter 목성': 5, 'Saturn 토성': 6, 'Uranus 명왕성': 7, 'Neptune 해왕성': 8}\n",
            "{'a': 1, 'b': 2, 'c': 3}\n",
            "1\n"
          ]
        }
      ]
    },
    {
      "cell_type": "code",
      "source": [
        "#@markdown 📌 Print the value of key 'a' ('a' as string data)\n",
        "dict = {'a':1, 'b':2, 'c':3}\n",
        "print (dict)\n",
        "print(dict['a'])"
      ],
      "metadata": {
        "colab": {
          "base_uri": "https://localhost:8080/"
        },
        "id": "j6w4opO3bjnK",
        "outputId": "a82db6a0-4199-4b10-ee83-fb5829bd30eb"
      },
      "execution_count": 1,
      "outputs": [
        {
          "output_type": "stream",
          "name": "stdout",
          "text": [
            "{'a': 1, 'b': 2, 'c': 3}\n",
            "1\n"
          ]
        }
      ]
    },
    {
      "cell_type": "code",
      "source": [
        "#@markdown 📌 Replacing values of your dictionary data\n",
        "\n",
        "dict = {'a':1, 'b':2, 'c':3}\n",
        "\n",
        "print(dict)\n",
        "\n",
        "dict['a']=7\n",
        "print (dict)\n",
        "\n",
        "dict_data = {'c':10, 'b':20, 'a':30}\n",
        "print(dict_data)\n",
        "dict_data['a'] = 300\n",
        "print(dict_data)"
      ],
      "metadata": {
        "id": "LPGCS7A-t47c",
        "colab": {
          "base_uri": "https://localhost:8080/"
        },
        "outputId": "020ab3b4-babd-4c6a-fb67-9e9566e83682"
      },
      "execution_count": 4,
      "outputs": [
        {
          "output_type": "stream",
          "name": "stdout",
          "text": [
            "{'a': 1, 'b': 2, 'c': 3}\n",
            "{'a': 7, 'b': 2, 'c': 3}\n",
            "{'c': 10, 'b': 20, 'a': 30}\n",
            "{'c': 10, 'b': 20, 'a': 300}\n"
          ]
        }
      ]
    }
  ]
}