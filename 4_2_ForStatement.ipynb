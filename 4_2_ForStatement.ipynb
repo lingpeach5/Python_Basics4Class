{
  "nbformat": 4,
  "nbformat_minor": 0,
  "metadata": {
    "colab": {
      "provenance": [],
      "authorship_tag": "ABX9TyPvO5URNuY14cs9QNHuUuD5",
      "include_colab_link": true
    },
    "kernelspec": {
      "name": "python3",
      "display_name": "Python 3"
    },
    "language_info": {
      "name": "python"
    }
  },
  "cells": [
    {
      "cell_type": "markdown",
      "metadata": {
        "id": "view-in-github",
        "colab_type": "text"
      },
      "source": [
        "<a href=\"https://colab.research.google.com/github/ms624atyale/Python_Basics/blob/main/4_2_ForStatement.ipynb\" target=\"_parent\"><img src=\"https://colab.research.google.com/assets/colab-badge.svg\" alt=\"Open In Colab\"/></a>"
      ]
    },
    {
      "cell_type": "markdown",
      "source": [
        "### 1️⃣ FOR statements enable you to extract each one of elements from 1st element to the last from an object객체 or a certain range of data특정 범위의 자료.\n",
        "\n",
        "- ### <font color='red'> Example</font> from 파이썬 200제 & what I understnad from sample scripts\n",
        "\n",
        "        for 구성요소 or/and 아래 코드라인 변수 in 범위:\n",
        "            반복으로 실행할 코드 \n"
      ],
      "metadata": {
        "id": "4F2oj2G8OITt"
      }
    },
    {
      "cell_type": "code",
      "execution_count": 4,
      "metadata": {
        "id": "j0T81ZhAm6vm",
        "outputId": "91667b72-d485-4282-e21a-5947cdaf5065",
        "colab": {
          "base_uri": "https://localhost:8080/"
        }
      },
      "outputs": [
        {
          "output_type": "stream",
          "name": "stdout",
          "text": [
            "1\n",
            "2\n",
            "3\n",
            "4\n",
            "5\n",
            "6\n",
            "7\n",
            "8\n",
            "9\n"
          ]
        }
      ],
      "source": [
        "numbers = 1,2,3,4,5,6,7,8,9\n",
        "\n",
        "for i in numbers: # 'i' represents for integers. \n",
        "  print(i)"
      ]
    },
    {
      "cell_type": "code",
      "source": [
        "#@markdown Similar exercise for a For Statement.\n",
        "\n",
        "scope = [1,2,3,4,5]\n",
        "\n",
        "for x in scope: # An alphabet can be anything you like after 'for'. \n",
        "  print(x)"
      ],
      "metadata": {
        "id": "yg6N6sHSElwD",
        "outputId": "c801fb16-6196-4e80-d49b-436d990dae62",
        "colab": {
          "base_uri": "https://localhost:8080/"
        }
      },
      "execution_count": 5,
      "outputs": [
        {
          "output_type": "stream",
          "name": "stdout",
          "text": [
            "1\n",
            "2\n",
            "3\n",
            "4\n",
            "5\n"
          ]
        }
      ]
    },
    {
      "cell_type": "code",
      "source": [
        "#@markdown Similar exercise for a For Statement.\n",
        "\n",
        "scope = [1,2,3,4,5]\n",
        "\n",
        "for y in scope: # An alphabet can be anything you like after 'for'. \n",
        "  print(y)"
      ],
      "metadata": {
        "id": "NdwPi8lpFMXZ",
        "outputId": "d8551c84-e290-4f7a-b039-661fcb478746",
        "colab": {
          "base_uri": "https://localhost:8080/"
        }
      },
      "execution_count": 6,
      "outputs": [
        {
          "output_type": "stream",
          "name": "stdout",
          "text": [
            "1\n",
            "2\n",
            "3\n",
            "4\n",
            "5\n"
          ]
        }
      ]
    },
    {
      "cell_type": "markdown",
      "source": [
        "##👀 Before you run the following code lines of FOR Statement, you need to know the following. \n",
        "\n",
        "💊 Objects객체 used in FOR statements are i) string, ii) list or tuple, iii) dictionary, iv) range(), v) objects that can be repeated. \n",
        "\n",
        "    The results depend on the number in (range 범위). \n",
        "    e.g., range(0) ➡️  NONE, range(1) ➡️ 0, range(2) ➡️ 0,1, etc.  \n",
        "\n"
      ],
      "metadata": {
        "id": "qkd3saTwMQxP"
      }
    },
    {
      "cell_type": "code",
      "source": [
        "for i in range(1): \n",
        "  print (i)"
      ],
      "metadata": {
        "id": "0EEhWrh3nNih",
        "outputId": "a14029f4-12fc-46ae-ffe4-402ad2ed4347",
        "colab": {
          "base_uri": "https://localhost:8080/"
        }
      },
      "execution_count": 1,
      "outputs": [
        {
          "output_type": "stream",
          "name": "stdout",
          "text": [
            "0\n"
          ]
        }
      ]
    },
    {
      "cell_type": "code",
      "source": [
        "fruits = [\"apple\", \"banana\", \"grape\", \"strawberry\", \"pear\", \"mango\"]\n",
        "\n",
        "for i in fruits:\n",
        "  print(i)"
      ],
      "metadata": {
        "id": "n-UaDN7R3aCF",
        "outputId": "4c682973-4e2b-42eb-c926-f7b12a02a444",
        "colab": {
          "base_uri": "https://localhost:8080/"
        }
      },
      "execution_count": 7,
      "outputs": [
        {
          "output_type": "stream",
          "name": "stdout",
          "text": [
            "apple\n",
            "banana\n",
            "grape\n",
            "strawberry\n",
            "pear\n",
            "mango\n"
          ]
        }
      ]
    },
    {
      "cell_type": "code",
      "source": [
        "string='abcde'\n",
        "\n",
        "for c in string:\n",
        "  print(c)"
      ],
      "metadata": {
        "id": "d9PHvLnFPXJb",
        "outputId": "1c0cd239-cc86-4139-e651-856926f2608f",
        "colab": {
          "base_uri": "https://localhost:8080/"
        }
      },
      "execution_count": 8,
      "outputs": [
        {
          "output_type": "stream",
          "name": "stdout",
          "text": [
            "a\n",
            "b\n",
            "c\n",
            "d\n",
            "e\n"
          ]
        }
      ]
    },
    {
      "cell_type": "code",
      "source": [
        "list = [1,2,3,4,5]\n",
        "\n",
        "for c in list:\n",
        "  print(c)"
      ],
      "metadata": {
        "id": "OkVfgB8RQNTW",
        "outputId": "b2d76964-c523-4fdb-e7fa-f8c5e2465fc8",
        "colab": {
          "base_uri": "https://localhost:8080/"
        }
      },
      "execution_count": 9,
      "outputs": [
        {
          "output_type": "stream",
          "name": "stdout",
          "text": [
            "1\n",
            "2\n",
            "3\n",
            "4\n",
            "5\n"
          ]
        }
      ]
    },
    {
      "cell_type": "code",
      "source": [
        "dictionary={'a':97, 'b':98, 'c':99}\n",
        "\n",
        "for c in dictionary:\n",
        "  print(c)"
      ],
      "metadata": {
        "id": "rQ3TOnzFQVLH",
        "outputId": "0a57d1d7-31d6-4358-f075-344beb845af0",
        "colab": {
          "base_uri": "https://localhost:8080/"
        }
      },
      "execution_count": 10,
      "outputs": [
        {
          "output_type": "stream",
          "name": "stdout",
          "text": [
            "a\n",
            "b\n",
            "c\n"
          ]
        }
      ]
    },
    {
      "cell_type": "code",
      "source": [
        "for c in range(10):\n",
        "  print(c)"
      ],
      "metadata": {
        "id": "1_rjDUvqQpDk",
        "outputId": "f018841d-4881-4acf-f0fb-03a044d47517",
        "colab": {
          "base_uri": "https://localhost:8080/"
        }
      },
      "execution_count": 11,
      "outputs": [
        {
          "output_type": "stream",
          "name": "stdout",
          "text": [
            "0\n",
            "1\n",
            "2\n",
            "3\n",
            "4\n",
            "5\n",
            "6\n",
            "7\n",
            "8\n",
            "9\n"
          ]
        }
      ]
    },
    {
      "cell_type": "markdown",
      "source": [
        "# 2️⃣ FOR ~ CONTINUE ~ BREAK\n",
        "\n",
        "    for 구성요소 혹은 아래 코드라인 변수 in 범위:\n",
        "      ...\n",
        "      continue    # 다음 반복문 수행\n",
        "      ...\n",
        "      break       # for 반복문 탈출"
      ],
      "metadata": {
        "id": "t3GvOWsWQ1bi"
      }
    },
    {
      "cell_type": "code",
      "source": [
        "scope=[1,2,3,4,5]\n",
        "\n",
        "for x in scope:\n",
        "  print(x)        #화면에 해당 정수를 출력한 후 그 수가 3 보다 작으면 그 다음 숫자를 출력하고, 3 보다 크거나 같으면 종료\n",
        "  if x<3:\n",
        "    continue      # 이 경우 continue 없이도 코드라인 작성 가능\n",
        "  else:\n",
        "    break"
      ],
      "metadata": {
        "id": "dlwhZZ_oRQaQ",
        "outputId": "86a0508b-6369-4d41-ba79-d4edfa44ff8e",
        "colab": {
          "base_uri": "https://localhost:8080/"
        }
      },
      "execution_count": 12,
      "outputs": [
        {
          "output_type": "stream",
          "name": "stdout",
          "text": [
            "1\n",
            "2\n",
            "3\n"
          ]
        }
      ]
    },
    {
      "cell_type": "markdown",
      "source": [
        "2️⃣ FOR ~ ELSE\n",
        "\n",
        "    for 변수 in 범위:\n",
        "      반복 실행 코드\n",
        "    else:       \n",
        "      for 구문이 모두 실행되었을 때 실행할 코드"
      ],
      "metadata": {
        "id": "znGW0EEdS7Qq"
      }
    },
    {
      "cell_type": "code",
      "source": [
        "scope=[1,2,3,4,5]\n",
        "\n",
        "for x in scope:\n",
        "  print(x)         \n",
        "  break             #반복문이 break에 의해 중단됨 없이 정상적으로 모두 실행되어야만 특정 코드 실행할 경우 FOR ~ ELSE 사용\n",
        "else:\n",
        "    print('Perfect')"
      ],
      "metadata": {
        "id": "hQ3XN0KKTXvh"
      },
      "execution_count": null,
      "outputs": []
    }
  ]
}