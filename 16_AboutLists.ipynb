{
  "nbformat": 4,
  "nbformat_minor": 0,
  "metadata": {
    "colab": {
      "provenance": [],
      "authorship_tag": "ABX9TyOxyDqtzFoZ8Kly5+byS47R",
      "include_colab_link": true
    },
    "kernelspec": {
      "name": "python3",
      "display_name": "Python 3"
    },
    "language_info": {
      "name": "python"
    }
  },
  "cells": [
    {
      "cell_type": "markdown",
      "metadata": {
        "id": "view-in-github",
        "colab_type": "text"
      },
      "source": [
        "<a href=\"https://colab.research.google.com/github/ms624atyale/Python_Basics/blob/main/16_AboutLists.ipynb\" target=\"_parent\"><img src=\"https://colab.research.google.com/assets/colab-badge.svg\" alt=\"Open In Colab\"/></a>"
      ]
    },
    {
      "cell_type": "markdown",
      "source": [
        "# About Lists\n",
        "\n",
        "  - 순차적인 정수 리스트 만들기 \n",
        "  - 리스트에서 특정 위치의 요소 얻기\n",
        "  - 리스트에서 특정 요소의 위치 구하기 ListName.index(variable assigned with an element of your interest) method\n",
        "  - 리스트에서 특정 위치의 요소를 변경하기 (p. 177, #102) as of April 8th, 2023"
      ],
      "metadata": {
        "id": "Q7GO6Gl-dTwL"
      }
    },
    {
      "cell_type": "code",
      "execution_count": 2,
      "metadata": {
        "id": "3tRqYpafdSex",
        "outputId": "4077038a-1937-43a3-8aa5-a43d66308ce0",
        "colab": {
          "base_uri": "https://localhost:8080/"
        }
      },
      "outputs": [
        {
          "output_type": "stream",
          "name": "stdout",
          "text": [
            "[0, 1, 2, 3, 4, 5, 6, 7, 8, 9]\n",
            "[10, 11, 12, 13, 14, 15, 16, 17, 18, 19]\n",
            "55\n"
          ]
        }
      ],
      "source": [
        "#range() function\n",
        "\n",
        "ret1 = range(10)\n",
        "ret2 = range(10,20)\n",
        "\n",
        "print(list(ret1))\n",
        "print(list(ret2))\n"
      ]
    },
    {
      "cell_type": "code",
      "source": [
        "ret = 0\n",
        "for i in range(10):\n",
        "  ret +=(i+1) #i.e., ret=ret+(i+1)\n",
        "  print(ret)\n",
        "print(ret)"
      ],
      "metadata": {
        "id": "lUxpVLLCfkBJ",
        "outputId": "6827c594-e1c2-478e-8b1d-5bb43352b4cc",
        "colab": {
          "base_uri": "https://localhost:8080/"
        }
      },
      "execution_count": 8,
      "outputs": [
        {
          "output_type": "stream",
          "name": "stdout",
          "text": [
            "1\n",
            "3\n",
            "6\n",
            "10\n",
            "15\n",
            "21\n",
            "28\n",
            "36\n",
            "45\n",
            "55\n",
            "55\n"
          ]
        }
      ]
    },
    {
      "cell_type": "code",
      "source": [
        "#@markdown 리스트에서 특정 요소의 위치 구하기 index() function\n",
        "\n",
        "solarsystem = ['Sun', 'Mercury', 'Venus', 'earth', 'Mars', 'Jupiter', 'Saturn', 'Uranus', 'Neptune']\n",
        "planet = input('Enter the name of the planet:')\n",
        "position = solarsystem.index(planet)\n",
        "if position > 3:\n",
        "  print('The %s is the %dth planet from the Sun.' %(planet, position))\n",
        "else:\n",
        "  print('The %s is %dst/nd/rd planet from the Sun.' %(planet, position))"
      ],
      "metadata": {
        "id": "XXkO8cbWVfww",
        "outputId": "5fd36be1-715f-45bc-bf55-5f300517e121",
        "colab": {
          "base_uri": "https://localhost:8080/"
        }
      },
      "execution_count": 1,
      "outputs": [
        {
          "output_type": "stream",
          "name": "stdout",
          "text": [
            "Enter the name of the planet:Venus\n",
            "The Venus is 2st/nd/rd planet from the Sun.\n"
          ]
        }
      ]
    }
  ]
}