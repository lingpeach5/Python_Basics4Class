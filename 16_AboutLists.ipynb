{
  "nbformat": 4,
  "nbformat_minor": 0,
  "metadata": {
    "colab": {
      "provenance": [],
      "authorship_tag": "ABX9TyPAbn6RUNJCkPLuWLUGk/YC",
      "include_colab_link": true
    },
    "kernelspec": {
      "name": "python3",
      "display_name": "Python 3"
    },
    "language_info": {
      "name": "python"
    }
  },
  "cells": [
    {
      "cell_type": "markdown",
      "metadata": {
        "id": "view-in-github",
        "colab_type": "text"
      },
      "source": [
        "<a href=\"https://colab.research.google.com/github/ms624atyale/Python_Basics/blob/main/16_AboutLists.ipynb\" target=\"_parent\"><img src=\"https://colab.research.google.com/assets/colab-badge.svg\" alt=\"Open In Colab\"/></a>"
      ]
    },
    {
      "cell_type": "markdown",
      "source": [
        "# About Lists\n",
        "\n",
        "  - 순차적인 정수 리스트 만들기 \n",
        "  - 리스트에서 특정 위치의 요소 얻기\n",
        "  - 리스트에서 특정 요소의 위치 구하기 ListNameVariable.index(variable assigned with an element of your interest) method\n",
        "  - 리스트에서 특정 위치의 요소를 변경하기 ListNameVariable.index() method\n",
        "  - 리스트에서 특정 구간에 있는 요소 추출하기 \n",
        "  - 리스트에서 짝수 구간 요소만 추출하기 variable[1::2]\n",
        "  - 리스트에서 요소 역순으로 만들기 Part1 ListNameVariable.reverse() method\n",
        "  - 리스트에서 요소 역순으로 만들기 Part2 ListNameVariable.reverse() method & ListNameVaribable[::-1] (i.e., 리스트의 처음부터 끝까지 숫자를 끝에서 첫번째 부터 한 개씩 순차적으로 역리스트화 하기\n",
        "  (p. 181, #106) as of April 10th, 2023"
      ],
      "metadata": {
        "id": "Q7GO6Gl-dTwL"
      }
    },
    {
      "cell_type": "code",
      "execution_count": null,
      "metadata": {
        "id": "3tRqYpafdSex",
        "outputId": "4077038a-1937-43a3-8aa5-a43d66308ce0",
        "colab": {
          "base_uri": "https://localhost:8080/"
        }
      },
      "outputs": [
        {
          "output_type": "stream",
          "name": "stdout",
          "text": [
            "[0, 1, 2, 3, 4, 5, 6, 7, 8, 9]\n",
            "[10, 11, 12, 13, 14, 15, 16, 17, 18, 19]\n",
            "55\n"
          ]
        }
      ],
      "source": [
        "#range() & list() function\n",
        "\n",
        "ret1 = range(10)\n",
        "ret2 = range(10,20)\n",
        "\n",
        "print(list(ret1))\n",
        "print(list(ret2))\n"
      ]
    },
    {
      "cell_type": "code",
      "source": [
        "ret = 0\n",
        "for i in range(10):\n",
        "  ret +=(i+1) #i.e., ret=ret+(i+1)\n",
        "  print(ret)\n",
        "print(ret)"
      ],
      "metadata": {
        "id": "lUxpVLLCfkBJ",
        "outputId": "6827c594-e1c2-478e-8b1d-5bb43352b4cc",
        "colab": {
          "base_uri": "https://localhost:8080/"
        }
      },
      "execution_count": null,
      "outputs": [
        {
          "output_type": "stream",
          "name": "stdout",
          "text": [
            "1\n",
            "3\n",
            "6\n",
            "10\n",
            "15\n",
            "21\n",
            "28\n",
            "36\n",
            "45\n",
            "55\n",
            "55\n"
          ]
        }
      ]
    },
    {
      "cell_type": "code",
      "source": [
        "#@markdown 리스트에서 특정 요소의 위치 구하기 index() function\n",
        "\n",
        "solarsystem = ['Sun', 'Mercury', 'Venus', 'earth', 'Mars', 'Jupiter', 'Saturn', 'Uranus', 'Neptune']\n",
        "planet = input('Enter the name of the planet:')\n",
        "position = solarsystem.index(planet)\n",
        "if position > 3:\n",
        "  print('The %s is the %dth planet from the Sun.' %(planet, position))\n",
        "else:\n",
        "  print('The %s is %dst/nd/rd planet from the Sun.' %(planet, position))"
      ],
      "metadata": {
        "id": "XXkO8cbWVfww",
        "outputId": "5fd36be1-715f-45bc-bf55-5f300517e121",
        "colab": {
          "base_uri": "https://localhost:8080/"
        }
      },
      "execution_count": null,
      "outputs": [
        {
          "output_type": "stream",
          "name": "stdout",
          "text": [
            "Enter the name of the planet:Venus\n",
            "The Venus is 2st/nd/rd planet from the Sun.\n"
          ]
        }
      ]
    },
    {
      "cell_type": "code",
      "source": [
        "#More exercise\n",
        "\n",
        "solarsystem = ['태양', '수', '금', '지', '화', '목', '토', '천', '해']\n",
        "planet = input('행성 첫 자를 입력하세요:')\n",
        "position = solarsystem.index(planet)\n",
        "print ('%s는 %d 행성입니다.' %(planet, position))"
      ],
      "metadata": {
        "id": "lmmwynBq4nbm",
        "outputId": "e42cdf19-c1a5-4980-b368-7c8a78146309",
        "colab": {
          "base_uri": "https://localhost:8080/"
        }
      },
      "execution_count": null,
      "outputs": [
        {
          "output_type": "stream",
          "name": "stdout",
          "text": [
            "행성 첫 자를 입력하세요:금\n",
            "금는 2 행성입니다.\n"
          ]
        }
      ]
    },
    {
      "cell_type": "code",
      "source": [
        "#리스트에서 특정 위치의 요소를 변경하기\n",
        "\n",
        "solarsystem = ['태', '수', '금', '지', '화', '목', '토', '천', '해']\n",
        "planet = input('한글 행성 이름 첫자를 입력하세요:')\n",
        "position = solarsystem.index(planet)\n",
        "solarsystem[position] = input('행성의 영문명을 입력하세요:')\n",
        "print(solarsystem)\n"
      ],
      "metadata": {
        "id": "Cm5CvTuO58kY",
        "outputId": "1797e4dc-c684-4329-f5bf-c4312e71a848",
        "colab": {
          "base_uri": "https://localhost:8080/"
        }
      },
      "execution_count": null,
      "outputs": [
        {
          "output_type": "stream",
          "name": "stdout",
          "text": [
            "한글 행성 이름 첫자를 입력하세요:지\n",
            "행성의 영문명을 입력하세요:the earth\n",
            "['태', '수', '금', 'the earth', '화', '목', '토', '천', '해']\n"
          ]
        }
      ]
    },
    {
      "cell_type": "code",
      "source": [
        "#More exercise\n",
        "\n",
        "solarsystem = ['태', '수', '금', '지', '화', '목', '토', '천', '해']\n",
        "planet = '태'\n",
        "pos = solarsystem.index(planet)\n",
        "solarsystem[pos] = 'the Sun'\n",
        "print(solarsystem)"
      ],
      "metadata": {
        "id": "43-R_Gfd83DI",
        "outputId": "697c49ba-b0c1-4613-ee58-47c21461ac73",
        "colab": {
          "base_uri": "https://localhost:8080/"
        }
      },
      "execution_count": null,
      "outputs": [
        {
          "output_type": "stream",
          "name": "stdout",
          "text": [
            "['the Sun', '수', '금', '지', '화', '목', '토', '천', '해']\n"
          ]
        }
      ]
    },
    {
      "cell_type": "code",
      "source": [
        "# More exercise\n",
        "\n",
        "solarsys = ['태양','수성','금성','지구','화성','목성','토성','천왕성','해왕성']\n",
        "planet = '태양'\n",
        "pos = solarsys.index(planet)\n",
        "solarsys[pos] = 'the Sun'\n",
        "print(solarsys)"
      ],
      "metadata": {
        "id": "QJgA0FkiD253",
        "outputId": "163abb4b-e7ae-4e43-e0fc-df69bc6b5885",
        "colab": {
          "base_uri": "https://localhost:8080/"
        }
      },
      "execution_count": null,
      "outputs": [
        {
          "output_type": "stream",
          "name": "stdout",
          "text": [
            "['the Sun', '수성', '금성', '지구', '화성', '목성', '토성', '천왕성', '해왕성']\n"
          ]
        }
      ]
    },
    {
      "cell_type": "code",
      "source": [
        "#리스트에서 특정 구간에 있는 요소 추출하기\n",
        "\n",
        "solarsys = ['태양','수성','금성','지구','화성','목성','토성','천왕성','해왕성']\n",
        "two_characters = solarsys[0:7]\n",
        "three_characters = solarsys[-2:]\n",
        "mixed = solarsys [-5:]\n",
        "\n",
        "print(two_characters)\n",
        "print(three_characters)\n",
        "print(mixed)\n",
        "\n",
        "rockbased = solarsys[1:4]\n",
        "gasbased = solarsys[4:]\n",
        "\n",
        "print('태양계의 암석형 행성은:',end=''); print(rockbased)\n",
        "print('태양계의 가스형 행성은:',end=''); print(gasbased)\n",
        "\n",
        "print('태양계의 암석형 행성은:'); print(rockbased)"
      ],
      "metadata": {
        "id": "p-xzHlX6G04I",
        "outputId": "bb0c325e-53b9-4ba8-db23-90a1ba2242cb",
        "colab": {
          "base_uri": "https://localhost:8080/"
        }
      },
      "execution_count": null,
      "outputs": [
        {
          "output_type": "stream",
          "name": "stdout",
          "text": [
            "['태양', '수성', '금성', '지구', '화성', '목성', '토성']\n",
            "['천왕성', '해왕성']\n",
            "['화성', '목성', '토성', '천왕성', '해왕성']\n",
            "태양계의 암석형 행성은:['수성', '금성', '지구']\n",
            "태양계의 가스형 행성은:['화성', '목성', '토성', '천왕성', '해왕성']\n",
            "태양계의 암석형 행성은:\n",
            "['수성', '금성', '지구']\n"
          ]
        }
      ]
    },
    {
      "cell_type": "code",
      "source": [
        "#리스트에서 짝수 구간 요소만 추출하기\n",
        "\n",
        "solarsys = ['태양','수성','금성','지구','화성','목성','토성','천왕성','해왕성']\n",
        "odd = solarsys[::2]\n",
        "even = solarsys[1::2]\n",
        "print(odd)\n",
        "print(even)"
      ],
      "metadata": {
        "id": "mUSnwL6ZKhNs",
        "outputId": "1aac1cec-9c0d-4f42-9c29-0300876ec739",
        "colab": {
          "base_uri": "https://localhost:8080/"
        }
      },
      "execution_count": null,
      "outputs": [
        {
          "output_type": "stream",
          "name": "stdout",
          "text": [
            "['태양', '금성', '화성', '토성', '해왕성']\n",
            "['수성', '지구', '목성', '천왕성']\n"
          ]
        }
      ]
    },
    {
      "cell_type": "code",
      "source": [
        "#More exercise\n",
        "\n",
        "numbers = list(range(15)) #우측 요소에 (list 입력없이) range(15)라고만 쓰면 0과 15만 출력됨 [주의]\n",
        "even = numbers[::2]\n",
        "odd = numbers[1::2]\n",
        "\n",
        "print(numbers)\n",
        "print(even)\n",
        "print(odd)"
      ],
      "metadata": {
        "id": "iD6T9PeBLfVP",
        "outputId": "8234d35b-4e92-40ab-ceaa-74970d065853",
        "colab": {
          "base_uri": "https://localhost:8080/"
        }
      },
      "execution_count": null,
      "outputs": [
        {
          "output_type": "stream",
          "name": "stdout",
          "text": [
            "[0, 1, 2, 3, 4, 5, 6, 7, 8, 9, 10, 11, 12, 13, 14]\n",
            "[0, 2, 4, 6, 8, 10, 12, 14]\n",
            "[1, 3, 5, 7, 9, 11, 13]\n"
          ]
        }
      ]
    },
    {
      "cell_type": "code",
      "source": [
        "#More exercise\n",
        "\n",
        "numbers = list(range(1,21))\n",
        "odd = numbers[::2]\n",
        "even = numbers[1::2]\n",
        "\n",
        "print(odd)\n",
        "print(even)"
      ],
      "metadata": {
        "id": "RpoW4vlLMzE5",
        "outputId": "a2b94716-7d0a-4695-a66a-07165ae0442a",
        "colab": {
          "base_uri": "https://localhost:8080/"
        }
      },
      "execution_count": null,
      "outputs": [
        {
          "output_type": "stream",
          "name": "stdout",
          "text": [
            "[1, 3, 5, 7, 9, 11, 13, 15, 17, 19]\n",
            "[2, 4, 6, 8, 10, 12, 14, 16, 18, 20]\n"
          ]
        }
      ]
    },
    {
      "cell_type": "code",
      "source": [
        "#리스트에서 요소 역순으로 만들기 Part1 \n",
        "\n",
        "forwardn = list(range(21))\n",
        "forwardn.reverse() # codelined을 ret = forwardn.reverse()라고 입력하면 결과는 None 로 출력됨. 따라서 ret = 를 삭제해야 함.\n",
        "print(forwardn)"
      ],
      "metadata": {
        "id": "NH-WxzveNa2n",
        "outputId": "9aa456c6-38c9-4b9f-990e-c9366cf1fb26",
        "colab": {
          "base_uri": "https://localhost:8080/"
        }
      },
      "execution_count": 62,
      "outputs": [
        {
          "output_type": "stream",
          "name": "stdout",
          "text": [
            "[20, 19, 18, 17, 16, 15, 14, 13, 12, 11, 10, 9, 8, 7, 6, 5, 4, 3, 2, 1, 0]\n"
          ]
        }
      ]
    },
    {
      "cell_type": "code",
      "source": [
        "#리스트에서 요소 역순으로 만들기 Part2 => PB again\n",
        "\n",
        "forwardn = list(range(21))\n",
        "backwardn = reversed(forwardn)\n",
        "print(backwardn)\n"
      ],
      "metadata": {
        "id": "cgBYnQjxQX8d",
        "outputId": "1de54f86-4607-451a-b1b6-c7b241c041f5",
        "colab": {
          "base_uri": "https://localhost:8080/"
        }
      },
      "execution_count": 64,
      "outputs": [
        {
          "output_type": "stream",
          "name": "stdout",
          "text": [
            "<list_reverseiterator object at 0x7f5fffea7a00>\n"
          ]
        }
      ]
    }
  ]
}