{
  "nbformat": 4,
  "nbformat_minor": 0,
  "metadata": {
    "colab": {
      "provenance": [],
      "authorship_tag": "ABX9TyO1G2qyak856hK4oOmKXcQ9",
      "include_colab_link": true
    },
    "kernelspec": {
      "name": "python3",
      "display_name": "Python 3"
    },
    "language_info": {
      "name": "python"
    }
  },
  "cells": [
    {
      "cell_type": "markdown",
      "metadata": {
        "id": "view-in-github",
        "colab_type": "text"
      },
      "source": [
        "<a href=\"https://colab.research.google.com/github/ms624atyale/Python_Basics/blob/main/16_AboutLists.ipynb\" target=\"_parent\"><img src=\"https://colab.research.google.com/assets/colab-badge.svg\" alt=\"Open In Colab\"/></a>"
      ]
    },
    {
      "cell_type": "markdown",
      "source": [
        "# About Lists\n",
        "\n",
        "  - 순차적인 정수 리스트 만들기 \n",
        "  - 리스트에서 특정 위치의 요소 얻기\n",
        "  - 리스트에서 특정 요소의 위치 구하기 ListName.index(variable assigned with an element of your interest) method\n",
        "  - 리스트에서 특정 위치의 요소를 변경하기 \n",
        "  - 리스트에서 특정 구간에 있는 요소 추출하기 (p. 179, #103) as of April 9th, 2023"
      ],
      "metadata": {
        "id": "Q7GO6Gl-dTwL"
      }
    },
    {
      "cell_type": "code",
      "execution_count": null,
      "metadata": {
        "id": "3tRqYpafdSex",
        "outputId": "4077038a-1937-43a3-8aa5-a43d66308ce0",
        "colab": {
          "base_uri": "https://localhost:8080/"
        }
      },
      "outputs": [
        {
          "output_type": "stream",
          "name": "stdout",
          "text": [
            "[0, 1, 2, 3, 4, 5, 6, 7, 8, 9]\n",
            "[10, 11, 12, 13, 14, 15, 16, 17, 18, 19]\n",
            "55\n"
          ]
        }
      ],
      "source": [
        "#range() & list() function\n",
        "\n",
        "ret1 = range(10)\n",
        "ret2 = range(10,20)\n",
        "\n",
        "print(list(ret1))\n",
        "print(list(ret2))\n"
      ]
    },
    {
      "cell_type": "code",
      "source": [
        "ret = 0\n",
        "for i in range(10):\n",
        "  ret +=(i+1) #i.e., ret=ret+(i+1)\n",
        "  print(ret)\n",
        "print(ret)"
      ],
      "metadata": {
        "id": "lUxpVLLCfkBJ",
        "outputId": "6827c594-e1c2-478e-8b1d-5bb43352b4cc",
        "colab": {
          "base_uri": "https://localhost:8080/"
        }
      },
      "execution_count": null,
      "outputs": [
        {
          "output_type": "stream",
          "name": "stdout",
          "text": [
            "1\n",
            "3\n",
            "6\n",
            "10\n",
            "15\n",
            "21\n",
            "28\n",
            "36\n",
            "45\n",
            "55\n",
            "55\n"
          ]
        }
      ]
    },
    {
      "cell_type": "code",
      "source": [
        "#@markdown 리스트에서 특정 요소의 위치 구하기 index() function\n",
        "\n",
        "solarsystem = ['Sun', 'Mercury', 'Venus', 'earth', 'Mars', 'Jupiter', 'Saturn', 'Uranus', 'Neptune']\n",
        "planet = input('Enter the name of the planet:')\n",
        "position = solarsystem.index(planet)\n",
        "if position > 3:\n",
        "  print('The %s is the %dth planet from the Sun.' %(planet, position))\n",
        "else:\n",
        "  print('The %s is %dst/nd/rd planet from the Sun.' %(planet, position))"
      ],
      "metadata": {
        "id": "XXkO8cbWVfww",
        "outputId": "5fd36be1-715f-45bc-bf55-5f300517e121",
        "colab": {
          "base_uri": "https://localhost:8080/"
        }
      },
      "execution_count": null,
      "outputs": [
        {
          "output_type": "stream",
          "name": "stdout",
          "text": [
            "Enter the name of the planet:Venus\n",
            "The Venus is 2st/nd/rd planet from the Sun.\n"
          ]
        }
      ]
    },
    {
      "cell_type": "code",
      "source": [
        "solarsystem = ['태양', '수', '금', '지', '화', '목', '토', '천', '명']\n",
        "planet = input('행성 첫 자를 입력하세요:')\n",
        "position = solarsystem.index(planet)\n",
        "print ('%s는 %d 행성입니다.' %(planet, position))"
      ],
      "metadata": {
        "id": "lmmwynBq4nbm",
        "outputId": "e42cdf19-c1a5-4980-b368-7c8a78146309",
        "colab": {
          "base_uri": "https://localhost:8080/"
        }
      },
      "execution_count": 3,
      "outputs": [
        {
          "output_type": "stream",
          "name": "stdout",
          "text": [
            "행성 첫 자를 입력하세요:금\n",
            "금는 2 행성입니다.\n"
          ]
        }
      ]
    },
    {
      "cell_type": "code",
      "source": [
        "#리스트에서 특정 위치의 요소를 변경하기\n",
        "\n",
        "solarsystem = ['태', '수', '금', '지', '화', '목', '토', '천', '명']\n",
        "planet = input('한글 행성 이름 첫자를 입력하세요:')\n",
        "position = solarsystem.index(planet)\n",
        "solarsystem[position] = input('행성의 영문명을 입력하세요:')\n",
        "print(solarsystem)\n"
      ],
      "metadata": {
        "id": "Cm5CvTuO58kY",
        "outputId": "a99dbed1-02c1-413d-dfd6-192d46e3f1df",
        "colab": {
          "base_uri": "https://localhost:8080/"
        }
      },
      "execution_count": 10,
      "outputs": [
        {
          "output_type": "stream",
          "name": "stdout",
          "text": [
            "한글 행성 이름 첫자를 입력하세요:태\n",
            "행성의 영문명을 입력하세요:sun\n",
            "['sun', '수', '금', '지', '화', '목', '토', '천', '명']\n"
          ]
        }
      ]
    },
    {
      "cell_type": "code",
      "source": [
        "solarsystem = ['태', '수', '금', '지', '화', '목', '토', '천', '명']\n",
        "planet = '태'\n",
        "pos = solarsystem.index(planet)\n",
        "solarsystem[pos] = 'the Sun'\n",
        "print(solarsystem)"
      ],
      "metadata": {
        "id": "43-R_Gfd83DI",
        "outputId": "fe211f12-e623-4ecd-d252-c4b9a740c63c",
        "colab": {
          "base_uri": "https://localhost:8080/"
        }
      },
      "execution_count": 11,
      "outputs": [
        {
          "output_type": "stream",
          "name": "stdout",
          "text": [
            "['the Sun', '수', '금', '지', '화', '목', '토', '천', '명']\n"
          ]
        }
      ]
    }
  ]
}