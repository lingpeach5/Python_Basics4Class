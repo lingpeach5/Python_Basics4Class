{
  "nbformat": 4,
  "nbformat_minor": 0,
  "metadata": {
    "colab": {
      "provenance": [],
      "authorship_tag": "ABX9TyPj0vuOXtDuhL3eYNY0lbh1",
      "include_colab_link": true
    },
    "kernelspec": {
      "name": "python3",
      "display_name": "Python 3"
    },
    "language_info": {
      "name": "python"
    }
  },
  "cells": [
    {
      "cell_type": "markdown",
      "metadata": {
        "id": "view-in-github",
        "colab_type": "text"
      },
      "source": [
        "<a href=\"https://colab.research.google.com/github/ms624atyale/Python_Basics/blob/main/6_Operators.ipynb\" target=\"_parent\"><img src=\"https://colab.research.google.com/assets/colab-badge.svg\" alt=\"Open In Colab\"/></a>"
      ]
    },
    {
      "cell_type": "markdown",
      "source": [
        "## 📌 Assignment Operator 대입연산자\n",
        "\n",
        "- = 의 오른쪽 값을 = 의 왼쪽 변수에 할당한다.\n",
        "\n",
        "\n",
        "## 📌 Four Arithematic Operators 사칙연산자: 덧셈, 뺄샘, 곱셈, 나눗셈, 거듭제곱\n",
        "\n",
        "- 연산의 순서\n",
        "  \n",
        "  i) 괄호 안을 먼저 계산한다.\n",
        "\n",
        "  ii) 거듭제곱은 가장 먼저 계산한다. \n",
        "\n",
        "  iii) 곱셈-나눗셈은 연산 순위가 덧셈-뺄셈 보다 우선한다.\n",
        "  \n",
        "  iv) 이후 덧셈, 뺄셈이 적힌 순서대로 수행한다. \n",
        "\n",
        "      예시: \n",
        "\n",
        "      1 + (2+2*2/2) - (3*3**2) \n",
        "      = 1 + (2+4/2) - (3*9)\n",
        "      = 1 + (2+2) - (3*9)\n",
        "      = 1 + 4 + 27\n",
        "      = 32\n",
        "\n",
        "\n",
        "# 📌 True or False \n",
        "\n",
        "| Relational Operators 관계연산자 | Meaning의미|\n",
        "|:---------|:--:|\n",
        "| A==B | A & B 가 같으면 True |\n",
        "| A!=B | A & B 가 다르면 True |\n",
        "| A<B  | A 가 B 보다 작으면 True|\n",
        "| A<=B | A 가 B 보다 작거나 같으면 True|\n",
        "| A>B  | A 가 B 보다 크면 True|\n",
        "| A>=B | A 가 B 보다 크거나 같으면 True|\n",
        "\n"
      ],
      "metadata": {
        "id": "_jr4IKsJVo8n"
      }
    },
    {
      "cell_type": "code",
      "source": [
        "#@markdown ## <font color = 'red'> Exercise1 for True or False\n",
        "\n",
        "x = 1; y = 2\n",
        "str1 = 'abc'; str2 = 'python'\n",
        "\n",
        "print(x==y) # 수치 비교\n",
        "print(x!=y) # 수치 비교\n",
        "print(str1==str2) #문자열 비교\n",
        "print(str1=='python') #할당된 변수와 문자열 비교\n",
        "print(str2=='python') #할당된 변수와 문자열 비교\n",
        "print(str1<str2) #문자열 크기 비교"
      ],
      "metadata": {
        "cellView": "form",
        "id": "VzXS207_wrNG"
      },
      "execution_count": null,
      "outputs": []
    },
    {
      "cell_type": "markdown",
      "source": [
        "## ✅ Logical Operators 논리연산자 (and, or, not)\n",
        "\n",
        "| Relational Operators 관계연산자 | Meaning의미|\n",
        "|:---------|:--:|\n",
        "| A and B | A & B 가 모두 True  ➡️ True |\n",
        "| A or B | A, B 둘 중 하나 이상이 True  ➡️ True |\n",
        "| not A  | A 논리값의 반대|"
      ],
      "metadata": {
        "id": "J4Q-k162Zdv7"
      }
    },
    {
      "cell_type": "code",
      "execution_count": null,
      "metadata": {
        "cellView": "form",
        "id": "7FtusVNzVoCB"
      },
      "outputs": [],
      "source": [
        "#@markdown ## <font color = 'red'> Exercise2 for Logical Operators\n",
        "\n",
        "bool1 = True; bool2 = False; bool3 = True; bool4 = False\n",
        "\n",
        "print(bool1 and bool2) # return ➡️ False\n",
        "\n",
        "print(bool1 and bool3) # return ➡️ True\n",
        "\n",
        "print(bool2 or bool3) # return ➡️ True\n",
        "\n",
        "print(bool2 or bool4) # return ➡️ Flas\n",
        "\n",
        "print(not bool1) # return ➡️ False\n",
        "\n",
        "print(not bool2) # return ➡️ True\n"
      ]
    },
    {
      "cell_type": "markdown",
      "source": [
        "## 👀 파이썬 200제 Unit025 비트 연산자는 책을 읽고 이해해 보세요. 🍔 🍟 ☕"
      ],
      "metadata": {
        "id": "-2Hsyv39CywM"
      }
    },
    {
      "cell_type": "markdown",
      "source": [
        "# 📌비트 연산 \n",
        "  - 각 비트들을 자릿수에 맞게 비트별로 독립적으로 연산\n",
        "\n",
        "    - 'a' 컴퓨터 내부적으로 0110 0001\n",
        "    - 'b' 컴퓨터 내부적으로 0110 0010\n",
        "\n",
        "'a' 와 'b'를 비트별로 연산할 때는 아래 표를 이해햐면 된다.\n",
        "\n",
        "1 바이트를 2 진수로 표현하면 8 자리 숫자가 된다. 각 알파벳은 2 진수 표현 (즉, 8 자리에 0과 1로 표현)이 가능한데, 이로써 비트별로 연산하기가 가능하다.  \n",
        "\n",
        "\n",
        "|     |    |    |    |    |    |    |    |    |\n",
        "|:----|----|----|----|----|----|----|----|:--:|\n",
        "| 'a' | 0  | 1  | 1  | 0  | 0  | 0  | 0  | 1  |\n",
        "|     | ⬆️ | ⬆️ | ⬆️ | ⬆️ | ⬆️ | ⬆️ | ⬆️ | ⬆️ |\n",
        "|  | ⬇️ | ⬇️ | ⬇️ | ⬇️ | ⬇️ | ⬇️ | ⬇️ | ⬇️ |\n",
        "| 'b' | 0  | 1  | 1  | 0  | 0  | 0  | 1  | 0  |\n",
        "\n",
        "\n",
        "\n",
        "파이썬에서 사용 가능한 비트 연산자는 다음과 같다. \n",
        "\n",
        "| 비트 연산다| 의미|\n",
        "|:--------|:--:|\n",
        "| A & B | A와 B의 비트간 and 연산을 수행 |\n",
        "| A | B | A와 B의 비트간 or 연산을 수행 |\n",
        "| A^B   | A와 B의 비트간 배타적 논리합 xor 연산을 수행|\n",
        "| ~A   | A의 비트를 반전 시킴. A의 1의 보수를 만듦|\n",
        "| A >> n   | A의 모든 비트를 n만큼 오른쪽으로 이동 시킴|\n",
        "| A << n   | A의 모든 비트를 n만큼 왼쪽으로 이동 시킴|\n",
        "\n",
        "1바이트를 2진수로 표현하면 8 자리 숫자가 되어 사람이 읽기에 길다. 편의상 1바이트를 16진수로 표현하면, 2진수는 다음과 같이 16진수로 대응 가능하다. (예시: a = 01100001 = 61)\n",
        "\n",
        "|     |    |    |    |    |    |    |    |    |\n",
        "|:----|----|----|----|----|----|----|----|:--:|\n",
        "| 'a' | 0  | 1  | 1  | 0  | 0  | 0  | 0  | 1  |\n",
        "|     |상 | 위 | 4 | 비트   | 하 | 위 | 4 | 비트  |\n",
        "\n",
        "              ⬇️         ⬇️ \n",
        "              6           1"
      ],
      "metadata": {
        "id": "WSgwSKlq5-h6"
      }
    },
    {
      "cell_type": "markdown",
      "source": [
        "\n",
        "\n"
      ],
      "metadata": {
        "id": "JtqVHrQ9aXAo"
      }
    },
    {
      "cell_type": "code",
      "source": [
        "#@markdown 📌 연산자 축약 (+=, -=, *=, /=) 변수의 값을 사칙 연산하여, 그 결과를 동일한 변수에 대입할 때 사용된다. \n",
        "\n",
        "a=1\n",
        "a += 2 #(i.e., x = x +2)\n",
        "print(a)\n",
        "\n",
        "a=0\n",
        "a += 1 #(i.e., a = a + 1, a의 값은 1)\n",
        "print(a)\n",
        "a -= 5 #(i.e., a = a - 5, a의 값은 -4)\n",
        "print(a)\n",
        "a *= 2 #(i.e., a = a * 2, a의 값은 -8)\n",
        "print(a)\n",
        "a /= 4 #(i.e., a = a/4, a의 값은 -2)\n",
        "print(a)"
      ],
      "metadata": {
        "id": "iLDzG9sha2fx",
        "outputId": "84e2da57-a464-43ae-e408-8710a0229631",
        "colab": {
          "base_uri": "https://localhost:8080/"
        }
      },
      "execution_count": 4,
      "outputs": [
        {
          "output_type": "stream",
          "name": "stdout",
          "text": [
            "3\n",
            "1\n",
            "-4\n",
            "-8\n",
            "-2.0\n"
          ]
        }
      ]
    }
  ]
}