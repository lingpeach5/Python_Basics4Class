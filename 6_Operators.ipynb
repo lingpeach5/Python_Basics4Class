{
  "nbformat": 4,
  "nbformat_minor": 0,
  "metadata": {
    "colab": {
      "provenance": [],
      "authorship_tag": "ABX9TyMyhEn92O/XfAG1cXWOSNgp",
      "include_colab_link": true
    },
    "kernelspec": {
      "name": "python3",
      "display_name": "Python 3"
    },
    "language_info": {
      "name": "python"
    }
  },
  "cells": [
    {
      "cell_type": "markdown",
      "metadata": {
        "id": "view-in-github",
        "colab_type": "text"
      },
      "source": [
        "<a href=\"https://colab.research.google.com/github/ms624atyale/Python_Basics/blob/main/6_Operators.ipynb\" target=\"_parent\"><img src=\"https://colab.research.google.com/assets/colab-badge.svg\" alt=\"Open In Colab\"/></a>"
      ]
    },
    {
      "cell_type": "markdown",
      "source": [
        "## 📌 Assignment Operator 대입연산자\n",
        "\n",
        "- = 의 오른쪽 값을 = 의 왼쪽 변수에 할당한다.\n",
        "\n",
        "\n",
        "## 📌 Four Arithematic Operators 사칙연산자: 덧셈, 뺄샘, 곱셈, 나눗셈, 거듭제곱\n",
        "\n",
        "- 연산의 순서\n",
        "  \n",
        "  i) 괄호 안을 먼저 계산한다.\n",
        "\n",
        "  ii) 거듭제곱은 가장 먼저 계산한다. \n",
        "\n",
        "  iii) 곱셈-나눗셈은 연산 순위가 덧셈-뺄셈 보다 우선한다.\n",
        "  \n",
        "  iv) 이후 덧셈, 뺄셈이 적힌 순서대로 수행한다. \n",
        "\n",
        "      예시: \n",
        "\n",
        "      1 + (2+2*2/2) - (3*3**2) \n",
        "      = 1 + (2+4/2) - (3*9)\n",
        "      = 1 + (2+2) - (3*9)\n",
        "      = 1 + 4 + 27\n",
        "      = 32\n",
        "\n",
        "\n",
        "# 📌 True or False \n",
        "\n",
        "| Relational Operators 관계연산자 | Meaning의미|\n",
        "|:---------|:--:|\n",
        "| A==B | A & B 가 같으면 True |\n",
        "| A!=B | A & B 가 다르면 True |\n",
        "| A<B  | A 가 B 보다 작으면 True|\n",
        "| A<=B | A 가 B 보다 작거나 같으면 True|\n",
        "| A>B  | A 가 B 보다 크면 True|\n",
        "| A>=B | A 가 B 보다 크거나 같으면 True|\n",
        "\n"
      ],
      "metadata": {
        "id": "_jr4IKsJVo8n"
      }
    },
    {
      "cell_type": "code",
      "source": [
        "#@markdown ## <font color = 'red'> Exercise1 for True or False\n",
        "\n",
        "x = 1; y = 2\n",
        "str1 = 'abc'; str2 = 'python'\n",
        "\n",
        "print(x==y) # 수치 비교\n",
        "print(x!=y) # 수치 비교\n",
        "print(str1==str2) #문자열 비교\n",
        "print(str1=='python') #할당된 변수와 문자열 비교\n",
        "print(str2=='python') #할당된 변수와 문자열 비교\n",
        "print(str1<str2) #문자열 크기 비교"
      ],
      "metadata": {
        "cellView": "form",
        "id": "VzXS207_wrNG"
      },
      "execution_count": null,
      "outputs": []
    },
    {
      "cell_type": "markdown",
      "source": [
        "## ✅ Logical Operators 논리연산자 (and, or, not)\n",
        "\n",
        "| Relational Operators 관계연산자 | Meaning의미|\n",
        "|:---------|:--:|\n",
        "| A and B | A & B 가 모두 True  ➡️ True |\n",
        "| A or B | A, B 둘 중 하나 이상이 True  ➡️ True |\n",
        "| not A  | A 논리값의 반대|"
      ],
      "metadata": {
        "id": "J4Q-k162Zdv7"
      }
    },
    {
      "cell_type": "code",
      "execution_count": null,
      "metadata": {
        "cellView": "form",
        "id": "7FtusVNzVoCB"
      },
      "outputs": [],
      "source": [
        "#@markdown ## <font color = 'red'> Exercise2 for Logical Operators\n",
        "\n",
        "bool1 = True; bool2 = False; bool3 = True; bool4 = False\n",
        "\n",
        "print(bool1 and bool2) # return ➡️ False\n",
        "\n",
        "print(bool1 and bool3) # return ➡️ True\n",
        "\n",
        "print(bool2 or bool3) # return ➡️ True\n",
        "\n",
        "print(bool2 or bool4) # return ➡️ Flas\n",
        "\n",
        "print(not bool1) # return ➡️ False\n",
        "\n",
        "print(not bool2) # return ➡️ True\n"
      ]
    },
    {
      "cell_type": "markdown",
      "source": [
        "## 👀 파이썬 200제 Unit025 비트 연산자는 책을 읽고 이해해 보세요. 🍔 🍟 ☕"
      ],
      "metadata": {
        "id": "-2Hsyv39CywM"
      }
    }
  ]
}