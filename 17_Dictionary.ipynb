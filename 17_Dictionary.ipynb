{
  "nbformat": 4,
  "nbformat_minor": 0,
  "metadata": {
    "colab": {
      "provenance": [],
      "authorship_tag": "ABX9TyMBjvMbEa/iOy04q6/sCh7X",
      "include_colab_link": true
    },
    "kernelspec": {
      "name": "python3",
      "display_name": "Python 3"
    },
    "language_info": {
      "name": "python"
    }
  },
  "cells": [
    {
      "cell_type": "markdown",
      "metadata": {
        "id": "view-in-github",
        "colab_type": "text"
      },
      "source": [
        "<a href=\"https://colab.research.google.com/github/ms624atyale/Python_Basics/blob/main/17_Dictionary.ipynb\" target=\"_parent\"><img src=\"https://colab.research.google.com/assets/colab-badge.svg\" alt=\"Open In Colab\"/></a>"
      ]
    },
    {
      "cell_type": "markdown",
      "source": [
        "# 📌📌 About Dictionary\n",
        "\n",
        "  - 사전에 요소 추가\n",
        "   - 절차 \n",
        "      \n",
        "          i) 리스트A에 있는 각 인덱스에 연결되어 있는 요소를 enumerate()function 사용하여 먼저 준비\n",
        "          ii) 리스트B에 있는 각 인덱스에 연결되어 있는 요소를 value로 할당\n",
        "          iii) 리스트A의 요소인 k를 새사전C에서 key로 사용하고 여기에 대응하는 value 값은 리스트B의 인덱스에 대응하는 요소인 val 변수로 사용한다. \n",
        "\n",
        "  - 사전에 특정 요소값 변경하기\n",
        "  - 사전의 특정 요소값 제거하기 (del dict['key']\n",
        "  - 사전의 모든 요소 (key:value) 제거하기 (variable.clear() module)\n",
        "  - 사전에서 keys 만 추출하기 (vaiable.keys()module)\n",
        "  - 사전에서 값만 추출하기 (variable.values()module)\n",
        "  - 사전에 모든 요소를 개별적으로 추출하기 (variable.items()module & for ~ in ~ )\n",
        "  - 사전에 특정 키가 존재하는지 아니면 없는지 확인하기 (if k in dictionary: else:)\n",
        "  - 사전 정렬하기 (sorted)\n",
        "          \n"
      ],
      "metadata": {
        "id": "JCw5-Q3dxVuG"
      }
    },
    {
      "cell_type": "code",
      "execution_count": null,
      "metadata": {
        "id": "jrDP4eYjxUjX",
        "colab": {
          "base_uri": "https://localhost:8080/"
        },
        "outputId": "5a226739-f2a3-45eb-f067-f668ef331526"
      },
      "outputs": [
        {
          "output_type": "stream",
          "name": "stdout",
          "text": [
            "{'태양': 'Sun', '수성': 'Mercury', '금성': 'Venus', '지구': 'Earth', '화성': 'Mars', '목성': 'Jupiter', '토성': 'Saturn', '천왕성': 'Uranus', '해왕성': 'Naptune'}\n"
          ]
        }
      ],
      "source": [
        "#기존의 리스트 2 개를 연결하여 새사전을 만들기 (파이썬 200제에는 사전에 요소 추가로 제목이 되어 있음) \n",
        "solarkor = ['태양', '수성', '금성', '지구', '화성', '목성', '토성', '천왕성', '해왕성']\n",
        "solareng = ['Sun', 'Mercury', 'Venus', 'Earth', 'Mars', 'Jupiter', 'Saturn', 'Uranus', 'Naptune']\n",
        "\n",
        "solardict = {}\n",
        "\n",
        "for i, k in enumerate(solarkor):\n",
        "  val = solareng[i]\n",
        "  solardict[k] = val\n",
        "\n",
        "print(solardict)"
      ]
    },
    {
      "cell_type": "code",
      "source": [
        "#exercise\n",
        "listnumber = list(range(1,13))\n",
        "listzodiac = ['자', '축', '인', '묘', '진', '사', '오', '미', '신', '유', '술', '해'] \n",
        "\n",
        "dictnew = {}\n",
        "for i, k in enumerate(listnumber):\n",
        "  val = listzodiac[i]\n",
        "  dictnew[k] = val\n",
        "\n",
        "print(dictnew)\n",
        "  "
      ],
      "metadata": {
        "colab": {
          "base_uri": "https://localhost:8080/"
        },
        "id": "LlB3Yjcp8-6C",
        "outputId": "e7c216c2-2a04-4373-ca44-747cc6fc3c58"
      },
      "execution_count": null,
      "outputs": [
        {
          "output_type": "stream",
          "name": "stdout",
          "text": [
            "{1: '자', 2: '축', 3: '인', 4: '묘', 5: '진', 6: '사', 7: '오', 8: '미', 9: '신', 10: '유', 11: '술', 12: '해'}\n"
          ]
        }
      ]
    },
    {
      "cell_type": "code",
      "source": [
        "keys = list(range(1,13))\n",
        "vals = ['자', '축', '인', '묘', '진', '사', '오', '미', '신', '유', '술', '해'] \n",
        "\n",
        "dict = {}\n",
        "for i, k in enumerate(keys):\n",
        "  v = vals[i]\n",
        "  dict[k] = v #ㄴ내가 스스로 이 코드라인을 생각해 내기 힘듦\n",
        "print(dict)"
      ],
      "metadata": {
        "colab": {
          "base_uri": "https://localhost:8080/"
        },
        "id": "I0TkppkP6KkF",
        "outputId": "43d343aa-c675-4906-8076-f017ffc5da47"
      },
      "execution_count": null,
      "outputs": [
        {
          "output_type": "stream",
          "name": "stdout",
          "text": [
            "{1: '자', 2: '축', 3: '인', 4: '묘', 5: '진', 6: '사', 7: '오', 8: '미', 9: '신', 10: '유', 11: '술', 12: '해'}\n"
          ]
        }
      ]
    },
    {
      "cell_type": "code",
      "source": [
        "#사전의 특정 요소값 반영하기\n",
        "\n",
        "zodiac = {1: '자', 2: '축', 3: '인', 4: '묘', 5: '진', 6: '사', 7: '오', 8: '미', 9: '신', 10: '유', 11: '술', 12: '해'}\n",
        "zodiac[1]= '쥐'\n",
        "print(zodiac)\n",
        "\n",
        "galaxy = {'태양': 'Sun', '수성': 'Mercury', '금성': 'Venus', '지구': 'Earth', '화성': 'Mars', '목성': 'Jupiter', '토성': 'Saturn', '천왕성': 'Uranus', '해왕성': 'Naptune'}\n",
        "galaxy['태양'] = 'the Sun' #galaxy는 사전이기 때문에 integers 를 사용한 인덱스를 사용하면 의도한 결과가 안나오고 original dict 결과만 나온다. \n",
        "print(galaxy)"
      ],
      "metadata": {
        "colab": {
          "base_uri": "https://localhost:8080/"
        },
        "id": "ZxHhErwo8BcV",
        "outputId": "689e1462-df9e-4e3b-8cf0-de3fbf524d38"
      },
      "execution_count": null,
      "outputs": [
        {
          "output_type": "stream",
          "name": "stdout",
          "text": [
            "{1: '쥐', 2: '축', 3: '인', 4: '묘', 5: '진', 6: '사', 7: '오', 8: '미', 9: '신', 10: '유', 11: '술', 12: '해'}\n",
            "{'태양': 'the Sun', '수성': 'Mercury', '금성': 'Venus', '지구': 'Earth', '화성': 'Mars', '목성': 'Jupiter', '토성': 'Saturn', '천왕성': 'Uranus', '해왕성': 'Naptune'}\n"
          ]
        }
      ]
    },
    {
      "cell_type": "code",
      "source": [
        "#사전의 특정 요소값 제거하기 (del dict['key']\n",
        "\n",
        "galaxy = {'태양': 'Sun', '수성': 'Mercury', '금성': 'Venus', '지구': 'Earth', '화성': 'Mars', '목성': 'Jupiter', '토성': 'Saturn', '천왕성': 'Uranus', '해왕성': 'Naptune'}\n",
        "\n",
        "del galaxy['목성']\n",
        "print(galaxy)"
      ],
      "metadata": {
        "colab": {
          "base_uri": "https://localhost:8080/"
        },
        "id": "xr9_GLkC-H9g",
        "outputId": "34ee6e43-d16e-48d9-a537-507e26876d15"
      },
      "execution_count": null,
      "outputs": [
        {
          "output_type": "stream",
          "name": "stdout",
          "text": [
            "{'태양': 'Sun', '수성': 'Mercury', '금성': 'Venus', '지구': 'Earth', '화성': 'Mars', '토성': 'Saturn', '천왕성': 'Uranus', '해왕성': 'Naptune'}\n"
          ]
        }
      ]
    },
    {
      "cell_type": "code",
      "source": [
        "#사전의 모든 요소 (key:value) 제거하기 (variable.clear() module)\n",
        "\n",
        "galaxy = {'태양': 'Sun', '수성': 'Mercury', '금성': 'Venus', '지구': 'Earth', '화성': 'Mars', '목성': 'Jupiter', '토성': 'Saturn', '천왕성': 'Uranus', '해왕성': 'Naptune'}\n",
        "galaxy.clear() #empty dictionary 를 만듦\n",
        "print(galaxy)"
      ],
      "metadata": {
        "colab": {
          "base_uri": "https://localhost:8080/"
        },
        "id": "mo_ja2bT_W5C",
        "outputId": "cf6d2cd8-7256-4420-b7d9-5bc2096d2e6d"
      },
      "execution_count": null,
      "outputs": [
        {
          "output_type": "stream",
          "name": "stdout",
          "text": [
            "{}\n"
          ]
        }
      ]
    },
    {
      "cell_type": "code",
      "source": [
        "# 사전에서 카만 추출하기 ( + 한 개 요소의 values 변경 및 한 개 요소 삭제) (variable.keys()module)\n",
        "\n",
        "names = {'Sean':100000, 'Jennifer': 120000, 'Mike': 90000, 'William': 230000, 'Pamela': 45000, 'Emma': 70000}\n",
        "ks = names.keys()\n",
        "print(ks)\n",
        "\n",
        "names['Pamela'] = 80000\n",
        "\n",
        "del names['Emma']\n",
        "\n",
        "\n",
        "for k in ks:\n",
        "  print('Keys:%s \\t Values: %d' %(k, names[k]))"
      ],
      "metadata": {
        "id": "n97KnEb0LTVy",
        "outputId": "79986cb9-1142-4fd6-bd38-95aa5ed8da5f",
        "colab": {
          "base_uri": "https://localhost:8080/"
        }
      },
      "execution_count": 4,
      "outputs": [
        {
          "output_type": "stream",
          "name": "stdout",
          "text": [
            "dict_keys(['Sean', 'Jennifer', 'Mike', 'William', 'Pamela', 'Emma'])\n",
            "Keys:Sean \t Values: 100000\n",
            "Keys:Jennifer \t Values: 120000\n",
            "Keys:Mike \t Values: 90000\n",
            "Keys:William \t Values: 230000\n",
            "Keys:Pamela \t Values: 80000\n"
          ]
        }
      ]
    },
    {
      "cell_type": "code",
      "source": [
        "# 사전에서 값만 추출하기 (variable.values()module)\n",
        "\n",
        "names = {'Sean':100000, 'Jennifer': 120000, 'Mike': 90000, 'William': 230000, 'Pamela': 45000, 'Emma': 70000}\n",
        "vs = names.values()\n",
        "print(vs)\n",
        "\n",
        "val_list = list(vs)\n",
        "ret = sum(val_list)\n",
        "print(ret)\n",
        "print('신생아 수 총계:%d' %(ret))"
      ],
      "metadata": {
        "id": "jX-E8vxwNtP4",
        "outputId": "c60bfab9-2e81-4454-9d02-0c8b0941cd4e",
        "colab": {
          "base_uri": "https://localhost:8080/"
        }
      },
      "execution_count": 7,
      "outputs": [
        {
          "output_type": "stream",
          "name": "stdout",
          "text": [
            "dict_values([100000, 120000, 90000, 230000, 45000, 70000])\n",
            "655000\n",
            "신생아 수 총계:655000\n"
          ]
        }
      ]
    },
    {
      "cell_type": "code",
      "source": [
        "#사전에 모든 요소를 개별적으로 추출하기 (variable.items()module & for ~ in ~ )\n",
        "names = {'Sean':100000, 'Jennifer': 120000, 'Mike': 90000, 'William': 230000, 'Pamela': 45000, 'Emma': 70000}\n",
        "it = names.items()\n",
        "print(it)\n",
        "\n",
        "for i in it:\n",
        "  print(i) # for ~ it ~ 구문에 사용된 i 요소에 할당한 것을 출력하라 (*it 변수 아니고!)"
      ],
      "metadata": {
        "id": "QtXVRCoAPIle",
        "outputId": "8f2c210f-06dd-46a8-b7a4-47daa5b1a7aa",
        "colab": {
          "base_uri": "https://localhost:8080/"
        }
      },
      "execution_count": 17,
      "outputs": [
        {
          "output_type": "stream",
          "name": "stdout",
          "text": [
            "dict_items([('Sean', 100000), ('Jennifer', 120000), ('Mike', 90000), ('William', 230000), ('Pamela', 45000), ('Emma', 70000)])\n",
            "('Sean', 100000)\n",
            "('Jennifer', 120000)\n",
            "('Mike', 90000)\n",
            "('William', 230000)\n",
            "('Pamela', 45000)\n",
            "('Emma', 70000)\n"
          ]
        }
      ]
    },
    {
      "cell_type": "code",
      "source": [
        "#사전에 특정 키가 존재하는지 아니면 없는지 확인하기 (if k in dictionary: else:)\n",
        "\n",
        "names = {'Sean':100000, 'Jennifer': 120000, 'Mike': 90000, 'William': 230000, 'Pamela': 45000, 'Emma': 70000}\n",
        "\n",
        "k = input('키값을 입력하세요:')  #  colon 은 '' 안에 넣는다 (*밖이 아니고!)\n",
        "\n",
        "if k in names:\n",
        "  print('이름이 %s 인 신생아 숫자는 %d 입니다' %(k, names[k]))\n",
        "else:\n",
        "  print('자료에 %s 라는 이름은 없습니다' %k)"
      ],
      "metadata": {
        "id": "A5ehcJJwSFwN",
        "outputId": "51fabe4a-dd21-42ea-a63e-a65f4f2d521d",
        "colab": {
          "base_uri": "https://localhost:8080/"
        }
      },
      "execution_count": 35,
      "outputs": [
        {
          "output_type": "stream",
          "name": "stdout",
          "text": [
            "키값을 입력하세요:Emma\n",
            "이름이 Emma 인 신생아 숫자는 70000 입니다\n"
          ]
        }
      ]
    },
    {
      "cell_type": "code",
      "source": [
        "#사전 정려하기 (sorted()function)\n",
        "\n",
        "names = {'Sean':100000, 'Jennifer': 120000, 'Mike': 90000, 'William': 230000, 'Pamela': 45000, 'Emma': 70000}\n",
        "ret = sorted(names)\n",
        "print(ret)\n",
        "print(ret, reverse = True)"
      ],
      "metadata": {
        "id": "6qeKtuNgVps7",
        "outputId": "3883a9ff-6f1e-4bcc-b0ef-06e6f043423f",
        "colab": {
          "base_uri": "https://localhost:8080/",
          "height": 218
        }
      },
      "execution_count": 41,
      "outputs": [
        {
          "output_type": "stream",
          "name": "stdout",
          "text": [
            "['Emma', 'Jennifer', 'Mike', 'Pamela', 'Sean', 'William']\n"
          ]
        },
        {
          "output_type": "error",
          "ename": "TypeError",
          "evalue": "ignored",
          "traceback": [
            "\u001b[0;31m---------------------------------------------------------------------------\u001b[0m",
            "\u001b[0;31mTypeError\u001b[0m                                 Traceback (most recent call last)",
            "\u001b[0;32m<ipython-input-41-9fa594a8831e>\u001b[0m in \u001b[0;36m<cell line: 6>\u001b[0;34m()\u001b[0m\n\u001b[1;32m      4\u001b[0m \u001b[0mret\u001b[0m \u001b[0;34m=\u001b[0m \u001b[0msorted\u001b[0m\u001b[0;34m(\u001b[0m\u001b[0mnames\u001b[0m\u001b[0;34m)\u001b[0m\u001b[0;34m\u001b[0m\u001b[0;34m\u001b[0m\u001b[0m\n\u001b[1;32m      5\u001b[0m \u001b[0mprint\u001b[0m\u001b[0;34m(\u001b[0m\u001b[0mret\u001b[0m\u001b[0;34m)\u001b[0m\u001b[0;34m\u001b[0m\u001b[0;34m\u001b[0m\u001b[0m\n\u001b[0;32m----> 6\u001b[0;31m \u001b[0mprint\u001b[0m\u001b[0;34m(\u001b[0m\u001b[0mret\u001b[0m\u001b[0;34m,\u001b[0m \u001b[0mreverse\u001b[0m \u001b[0;34m=\u001b[0m \u001b[0;32mTrue\u001b[0m\u001b[0;34m)\u001b[0m\u001b[0;34m\u001b[0m\u001b[0;34m\u001b[0m\u001b[0m\n\u001b[0m",
            "\u001b[0;31mTypeError\u001b[0m: 'reverse' is an invalid keyword argument for print()"
          ]
        }
      ]
    }
  ]
}