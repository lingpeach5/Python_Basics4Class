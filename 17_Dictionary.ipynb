{
  "nbformat": 4,
  "nbformat_minor": 0,
  "metadata": {
    "colab": {
      "provenance": [],
      "authorship_tag": "ABX9TyN1+iiOgfb/Ok3ILtO+uRyv",
      "include_colab_link": true
    },
    "kernelspec": {
      "name": "python3",
      "display_name": "Python 3"
    },
    "language_info": {
      "name": "python"
    }
  },
  "cells": [
    {
      "cell_type": "markdown",
      "metadata": {
        "id": "view-in-github",
        "colab_type": "text"
      },
      "source": [
        "<a href=\"https://colab.research.google.com/github/ms624atyale/Python_Basics/blob/main/17_Dictionary.ipynb\" target=\"_parent\"><img src=\"https://colab.research.google.com/assets/colab-badge.svg\" alt=\"Open In Colab\"/></a>"
      ]
    },
    {
      "cell_type": "markdown",
      "source": [
        "# 📌📌 About Dictionary\n",
        "\n",
        "  - 사전에 요소 추가\n",
        "   - 절차 \n",
        "      \n",
        "          i) 리스트A에 있는 각 인덱스에 연결되어 있는 요소를 enumerate()function 사용하여 먼저 준비\n",
        "          ii) 리스트B에 있는 각 인덱스에 연결되어 있는 요소를 value로 할당\n",
        "          iii) 리스트A의 요소인 k를 새사전C에서 key로 사용하고 여기에 대응하는 value 값은 리스트B의 인덱스에 대응하는 요소인 val 변수로 사용한다. \n",
        "\n",
        "  - 사전에 특정 요소값 변경하기\n",
        "  - 사전의 특정 요소값 제거하기 (del dict['key']\n",
        "  - 사전의 모든 요소 (key:value) 제거하기 (variable.clear() module)\n",
        "  - 사전에서 keys 만 추출하기 \n",
        "  - p.205. #127\n",
        "          \n"
      ],
      "metadata": {
        "id": "JCw5-Q3dxVuG"
      }
    },
    {
      "cell_type": "code",
      "execution_count": 4,
      "metadata": {
        "id": "jrDP4eYjxUjX",
        "colab": {
          "base_uri": "https://localhost:8080/"
        },
        "outputId": "5a226739-f2a3-45eb-f067-f668ef331526"
      },
      "outputs": [
        {
          "output_type": "stream",
          "name": "stdout",
          "text": [
            "{'태양': 'Sun', '수성': 'Mercury', '금성': 'Venus', '지구': 'Earth', '화성': 'Mars', '목성': 'Jupiter', '토성': 'Saturn', '천왕성': 'Uranus', '해왕성': 'Naptune'}\n"
          ]
        }
      ],
      "source": [
        "#기존의 리스트 2 개를 연결하여 새사전을 만들기 (파이썬 200제에는 사전에 요소 추가로 제목이 되어 있음) \n",
        "solarkor = ['태양', '수성', '금성', '지구', '화성', '목성', '토성', '천왕성', '해왕성']\n",
        "solareng = ['Sun', 'Mercury', 'Venus', 'Earth', 'Mars', 'Jupiter', 'Saturn', 'Uranus', 'Naptune']\n",
        "\n",
        "solardict = {}\n",
        "\n",
        "for i, k in enumerate(solarkor):\n",
        "  val = solareng[i]\n",
        "  solardict[k] = val\n",
        "\n",
        "print(solardict)"
      ]
    },
    {
      "cell_type": "code",
      "source": [
        "#exercise\n",
        "listnumber = list(range(1,13))\n",
        "listzodiac = ['자', '축', '인', '묘', '진', '사', '오', '미', '신', '유', '술', '해'] \n",
        "\n",
        "dictnew = {}\n",
        "for i, k in enumerate(listnumber):\n",
        "  val = listzodiac[i]\n",
        "  dictnew[k] = val\n",
        "\n",
        "print(dictnew)\n",
        "  "
      ],
      "metadata": {
        "colab": {
          "base_uri": "https://localhost:8080/"
        },
        "id": "LlB3Yjcp8-6C",
        "outputId": "e7c216c2-2a04-4373-ca44-747cc6fc3c58"
      },
      "execution_count": 1,
      "outputs": [
        {
          "output_type": "stream",
          "name": "stdout",
          "text": [
            "{1: '자', 2: '축', 3: '인', 4: '묘', 5: '진', 6: '사', 7: '오', 8: '미', 9: '신', 10: '유', 11: '술', 12: '해'}\n"
          ]
        }
      ]
    },
    {
      "cell_type": "code",
      "source": [
        "keys = list(range(1,13))\n",
        "vals = ['자', '축', '인', '묘', '진', '사', '오', '미', '신', '유', '술', '해'] \n",
        "\n",
        "dict = {}\n",
        "for i, k in enumerate(keys):\n",
        "  v = vals[i]\n",
        "  dict[k] = v #ㄴ내가 스스로 이 코드라인을 생각해 내기 힘듦\n",
        "print(dict)"
      ],
      "metadata": {
        "colab": {
          "base_uri": "https://localhost:8080/"
        },
        "id": "I0TkppkP6KkF",
        "outputId": "43d343aa-c675-4906-8076-f017ffc5da47"
      },
      "execution_count": 3,
      "outputs": [
        {
          "output_type": "stream",
          "name": "stdout",
          "text": [
            "{1: '자', 2: '축', 3: '인', 4: '묘', 5: '진', 6: '사', 7: '오', 8: '미', 9: '신', 10: '유', 11: '술', 12: '해'}\n"
          ]
        }
      ]
    },
    {
      "cell_type": "code",
      "source": [
        "#사전의 특정 요소값 반영하기\n",
        "\n",
        "zodiac = {1: '자', 2: '축', 3: '인', 4: '묘', 5: '진', 6: '사', 7: '오', 8: '미', 9: '신', 10: '유', 11: '술', 12: '해'}\n",
        "zodiac[1]= '쥐'\n",
        "print(zodiac)\n",
        "\n",
        "galaxy = {'태양': 'Sun', '수성': 'Mercury', '금성': 'Venus', '지구': 'Earth', '화성': 'Mars', '목성': 'Jupiter', '토성': 'Saturn', '천왕성': 'Uranus', '해왕성': 'Naptune'}\n",
        "galaxy['태양'] = 'the Sun' #galaxy는 사전이기 때문에 integers 를 사용한 인덱스를 사용하면 의도한 결과가 안나오고 original dict 결과만 나온다. \n",
        "print(galaxy)"
      ],
      "metadata": {
        "colab": {
          "base_uri": "https://localhost:8080/"
        },
        "id": "ZxHhErwo8BcV",
        "outputId": "689e1462-df9e-4e3b-8cf0-de3fbf524d38"
      },
      "execution_count": 10,
      "outputs": [
        {
          "output_type": "stream",
          "name": "stdout",
          "text": [
            "{1: '쥐', 2: '축', 3: '인', 4: '묘', 5: '진', 6: '사', 7: '오', 8: '미', 9: '신', 10: '유', 11: '술', 12: '해'}\n",
            "{'태양': 'the Sun', '수성': 'Mercury', '금성': 'Venus', '지구': 'Earth', '화성': 'Mars', '목성': 'Jupiter', '토성': 'Saturn', '천왕성': 'Uranus', '해왕성': 'Naptune'}\n"
          ]
        }
      ]
    },
    {
      "cell_type": "code",
      "source": [
        "#사전의 특정 요소값 제거하기 (del dict['key']\n",
        "\n",
        "galaxy = {'태양': 'Sun', '수성': 'Mercury', '금성': 'Venus', '지구': 'Earth', '화성': 'Mars', '목성': 'Jupiter', '토성': 'Saturn', '천왕성': 'Uranus', '해왕성': 'Naptune'}\n",
        "\n",
        "del galaxy['목성']\n",
        "print(galaxy)"
      ],
      "metadata": {
        "colab": {
          "base_uri": "https://localhost:8080/"
        },
        "id": "xr9_GLkC-H9g",
        "outputId": "34ee6e43-d16e-48d9-a537-507e26876d15"
      },
      "execution_count": 14,
      "outputs": [
        {
          "output_type": "stream",
          "name": "stdout",
          "text": [
            "{'태양': 'Sun', '수성': 'Mercury', '금성': 'Venus', '지구': 'Earth', '화성': 'Mars', '토성': 'Saturn', '천왕성': 'Uranus', '해왕성': 'Naptune'}\n"
          ]
        }
      ]
    },
    {
      "cell_type": "code",
      "source": [
        "#사전의 모든 요소 (key:value) 제거하기 (variable.clear() module)\n",
        "\n",
        "galaxy = {'태양': 'Sun', '수성': 'Mercury', '금성': 'Venus', '지구': 'Earth', '화성': 'Mars', '목성': 'Jupiter', '토성': 'Saturn', '천왕성': 'Uranus', '해왕성': 'Naptune'}\n",
        "galaxy.clear() #empty dictionary 를 만듦\n",
        "print(galaxy)"
      ],
      "metadata": {
        "colab": {
          "base_uri": "https://localhost:8080/"
        },
        "id": "mo_ja2bT_W5C",
        "outputId": "cf6d2cd8-7256-4420-b7d9-5bc2096d2e6d"
      },
      "execution_count": 17,
      "outputs": [
        {
          "output_type": "stream",
          "name": "stdout",
          "text": [
            "{}\n"
          ]
        }
      ]
    }
  ]
}