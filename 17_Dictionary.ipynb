{
  "nbformat": 4,
  "nbformat_minor": 0,
  "metadata": {
    "colab": {
      "provenance": [],
      "authorship_tag": "ABX9TyPFNtbOcdoC6hzirsieWP3x",
      "include_colab_link": true
    },
    "kernelspec": {
      "name": "python3",
      "display_name": "Python 3"
    },
    "language_info": {
      "name": "python"
    }
  },
  "cells": [
    {
      "cell_type": "markdown",
      "metadata": {
        "id": "view-in-github",
        "colab_type": "text"
      },
      "source": [
        "<a href=\"https://colab.research.google.com/github/ms624atyale/Python_Basics/blob/main/17_Dictionary.ipynb\" target=\"_parent\"><img src=\"https://colab.research.google.com/assets/colab-badge.svg\" alt=\"Open In Colab\"/></a>"
      ]
    },
    {
      "cell_type": "markdown",
      "source": [
        "# 📌📌 About Dictionary\n",
        "\n",
        "  - 사전에 요소 추가\n",
        "   - 절차 \n",
        "      \n",
        "          i) 리스트A에 있는 각 인덱스에 연결되어 있는 요소를 enumerate()function 사용하여 먼저 준비\n",
        "          ii) 리스트B에 있는 각 인덱스에 연결되어 있는 요소를 value로 할당\n",
        "          iii) 리스트A의 요소인 k를 새사전C에서 key로 사용하고 여기에 대응하는 value 값은 리스트B의 인덱스에 대응하는 요소인 val 변수로 사용한다. \n",
        "          \n",
        "  - 사전에 특정 요소값 변경하기\n",
        "   \n",
        "          \n"
      ],
      "metadata": {
        "id": "JCw5-Q3dxVuG"
      }
    },
    {
      "cell_type": "code",
      "execution_count": 4,
      "metadata": {
        "id": "jrDP4eYjxUjX",
        "outputId": "5a226739-f2a3-45eb-f067-f668ef331526",
        "colab": {
          "base_uri": "https://localhost:8080/"
        }
      },
      "outputs": [
        {
          "output_type": "stream",
          "name": "stdout",
          "text": [
            "{'태양': 'Sun', '수성': 'Mercury', '금성': 'Venus', '지구': 'Earth', '화성': 'Mars', '목성': 'Jupiter', '토성': 'Saturn', '천왕성': 'Uranus', '해왕성': 'Naptune'}\n"
          ]
        }
      ],
      "source": [
        "#기존의 리스트 2 개를 연결하여 새사전을 만들기 (파이썬 200제에는 사전에 요소 추가로 제목이 되어 있음) \n",
        "solarkor = ['태양', '수성', '금성', '지구', '화성', '목성', '토성', '천왕성', '해왕성']\n",
        "solareng = ['Sun', 'Mercury', 'Venus', 'Earth', 'Mars', 'Jupiter', 'Saturn', 'Uranus', 'Naptune']\n",
        "\n",
        "solardict = {}\n",
        "\n",
        "for i, k in enumerate(solarkor):\n",
        "  val = solareng[i]\n",
        "  solardict[k] = val\n",
        "\n",
        "print(solardict)"
      ]
    }
  ]
}