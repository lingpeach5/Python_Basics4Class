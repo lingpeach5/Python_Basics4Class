{
  "nbformat": 4,
  "nbformat_minor": 0,
  "metadata": {
    "colab": {
      "provenance": [],
      "authorship_tag": "ABX9TyNs+5R6eewyi0Ee6e8FjWyd",
      "include_colab_link": true
    },
    "kernelspec": {
      "name": "python3",
      "display_name": "Python 3"
    },
    "language_info": {
      "name": "python"
    }
  },
  "cells": [
    {
      "cell_type": "markdown",
      "metadata": {
        "id": "view-in-github",
        "colab_type": "text"
      },
      "source": [
        "<a href=\"https://colab.research.google.com/github/ms624atyale/Python_Basics/blob/main/20_NLPSampling.ipynb\" target=\"_parent\"><img src=\"https://colab.research.google.com/assets/colab-badge.svg\" alt=\"Open In Colab\"/></a>"
      ]
    },
    {
      "cell_type": "markdown",
      "source": [
        "## <font color = 'red'> Natural Language Processing </font> Sampling\n",
        "\n",
        "1. 문자열의 각 문자를 그 다음 문자로 변경하기"
      ],
      "metadata": {
        "id": "-VR3_3PGRbQN"
      }
    },
    {
      "cell_type": "code",
      "execution_count": 3,
      "metadata": {
        "colab": {
          "base_uri": "https://localhost:8080/"
        },
        "id": "AbgN8OeLREFQ",
        "outputId": "27dd66ce-95c9-4ab3-98b4-82d790fcea02"
      },
      "outputs": [
        {
          "output_type": "stream",
          "name": "stdout",
          "text": [
            "문장을 입력하세요:Elizabeth\n",
            "lizabethE\n"
          ]
        }
      ],
      "source": [
        "#@markdown 🎯📌 문자열의 각 문자를 그 다음 문자로 변경하기\n",
        "\n",
        "txt = input('문장을 입력하세요:')\n",
        "\n",
        "ret = ''\n",
        "for i in range(len(txt)):\n",
        "  if i !=len(txt)-1:\n",
        "    ret += txt[i+1]\n",
        "  else:\n",
        "    ret +=txt[0]\n",
        "\n",
        "print(ret)"
      ]
    }
  ]
}