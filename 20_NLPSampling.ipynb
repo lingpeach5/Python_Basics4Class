{
  "nbformat": 4,
  "nbformat_minor": 0,
  "metadata": {
    "colab": {
      "provenance": [],
      "authorship_tag": "ABX9TyPEqkqTW6Hw0koYu4y4H1zS",
      "include_colab_link": true
    },
    "kernelspec": {
      "name": "python3",
      "display_name": "Python 3"
    },
    "language_info": {
      "name": "python"
    }
  },
  "cells": [
    {
      "cell_type": "markdown",
      "metadata": {
        "id": "view-in-github",
        "colab_type": "text"
      },
      "source": [
        "<a href=\"https://colab.research.google.com/github/ms624atyale/Python_Basics/blob/main/20_NLPSampling.ipynb\" target=\"_parent\"><img src=\"https://colab.research.google.com/assets/colab-badge.svg\" alt=\"Open In Colab\"/></a>"
      ]
    },
    {
      "cell_type": "markdown",
      "source": [
        "## <font color = 'red'> Natural Language Processing </font> Sampling\n",
        "\n",
        "1. 문자열의 각 문자를 그 다음 문자로 변경하기\n",
        "2. URL을 slash'/'로 구분한 문자열이 요소인 리스트로 만들어 호스트 도메인 추출하기\n",
        "3. URL을 slash'/'로 구분한 문자열이 요소인 리스트로 만들어 URL에서 쿼리 문자열 추출하기 "
      ],
      "metadata": {
        "id": "-VR3_3PGRbQN"
      }
    },
    {
      "cell_type": "code",
      "execution_count": 5,
      "metadata": {
        "colab": {
          "base_uri": "https://localhost:8080/"
        },
        "id": "AbgN8OeLREFQ",
        "outputId": "bcc3ea8e-79a6-40c9-8b1e-c0d890c0b8a6"
      },
      "outputs": [
        {
          "output_type": "stream",
          "name": "stdout",
          "text": [
            "단어, 구문, 혹은 문장을 입력하세요:xyz\n",
            "yzx\n"
          ]
        }
      ],
      "source": [
        "#@markdown 🎯📌 문자열의 각 문자를 그 다음 문자로 변경하기\n",
        "\n",
        "seq = input('단어, 구문, 혹은 문장을 입력하세요:')\n",
        "\n",
        "ret = ''            #missed! remember!\n",
        "for i in range(len(seq)):\n",
        "  if i !=len(seq)-1: #text의 각 문자 index i에 대하여 i가 text의 맨 마지막 문자의 인덱스가 아니면 (이 때 -1 이 raw 로 사용됨. [] 안에 있지 않음. 이해X) \n",
        "    ret += seq[i+1] #ret에 txt[i+1]을 추가한다.\n",
        "  else:             #index i가 txt의 마지막 문자라면\n",
        "    ret +=seq[0]    #ret에 txt[0]을 추가한다.  \n",
        "\n",
        "print(ret)"
      ]
    },
    {
      "cell_type": "code",
      "source": [
        "#@markdown 🎯📌 URL을 slash'/'로 구분한 문자열이 요소인 리스트로 만들어 호스트 도메인 추출하기\n",
        "\n",
        "url = 'https://github.com/ms624atyale/Exercise/blob/main/20_NLPSampling.ipynb'\n",
        "\n",
        "temp = url.split('/') #url.split()function을 사용하여 url을 slash로 구분한 결과를 문자열이 요소인 리스트로 만듭니다.\n",
        "domain0 = temp[0]\n",
        "domain1 = temp[1]\n",
        "domain2 = temp[2]\n",
        "domain3 = temp[3]\n",
        "\n",
        "print(domain0)\n",
        "print(domain1)\n",
        "print(domain2)\n",
        "print(domain3)"
      ],
      "metadata": {
        "id": "lHHo0AP1AUMb",
        "outputId": "c472e7d3-c9eb-4778-c861-dc8f7dee6fc0",
        "colab": {
          "base_uri": "https://localhost:8080/"
        }
      },
      "execution_count": 10,
      "outputs": [
        {
          "output_type": "stream",
          "name": "stdout",
          "text": [
            "https:\n",
            "\n",
            "github.com\n",
            "ms624atyale\n"
          ]
        }
      ]
    },
    {
      "cell_type": "code",
      "source": [
        "#@markdown 🎯📌 URL을 slash'/'로 구분한 문자열이 요소인 리스트로 만들어 URL에서 쿼리 문자열 추출하기\n",
        "#쿼리 문자열은 '?' 뒤에 표시되는 문자열을 지칭하는데, 쿼리 문자열은 변수=값 쌍이 &로 구분되어 나열된다. \n"
      ],
      "metadata": {
        "id": "oFaZxPbUEPy6"
      },
      "execution_count": null,
      "outputs": []
    }
  ]
}