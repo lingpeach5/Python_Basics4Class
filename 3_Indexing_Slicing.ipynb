{
  "nbformat": 4,
  "nbformat_minor": 0,
  "metadata": {
    "colab": {
      "provenance": [],
      "authorship_tag": "ABX9TyNKd00g8Qhnr+YGp/iS+Fha",
      "include_colab_link": true
    },
    "kernelspec": {
      "name": "python3",
      "display_name": "Python 3"
    },
    "language_info": {
      "name": "python"
    }
  },
  "cells": [
    {
      "cell_type": "markdown",
      "metadata": {
        "id": "view-in-github",
        "colab_type": "text"
      },
      "source": [
        "<a href=\"https://colab.research.google.com/github/ms624atyale/Python_Basics/blob/main/3_Indexing_Slicing.ipynb\" target=\"_parent\"><img src=\"https://colab.research.google.com/assets/colab-badge.svg\" alt=\"Open In Colab\"/></a>"
      ]
    },
    {
      "cell_type": "markdown",
      "source": [
        "# 📌 Indexing of Sequence Data \n",
        "\n",
        "| str data | I |   | l | o | v | e |  | P | y | t | h | o |n | ! |\n",
        "|:---------|:--|:--|:--|:--|:--|:--|:--|:--|:--|:--|:--|:-|:-|:-:|\n",
        "| Forward Indexing | 0 | 1 | 2 | 3 | 4 | 5 | 6 | 7 | 8 | 9 | 10| 11| 12|13|\n",
        "| Backward Indexing|-14| -13| -12| -11| -10| -9| -8| -7| -6| -5| -4| -3| -2|-1|\n",
        "\n",
        "\n",
        "\n",
        "# ✂️ Slicing of List data\n",
        "\n",
        "        👻 You have to deduct one (-1) from the second element \n",
        "\n",
        "-[:] from the first element to the final element (e.g., 'I love Python!')\n",
        "\n",
        "| str data | I |   | l | o | v | e |  | P | y | t | h | o |n | ! |\n",
        "|:---------|:--|:--|:--|:--|:--|:--|:--|:--|:--|:--|:--|:-|:-|:-:|\n",
        "| Forward Indexing | 0 | 1 | 2 | 3 | 4 | 5 | 6 | 7 | 8 | 9 | 10| 11| 12|13|\n",
        "| Backward Indexing|-14| -13| -12| -11| -10| -9| -8| -7| -6| -5| -4| -3| -2|-1|\n",
        "\n",
        "\n",
        "- [1:5] from Index 1 to Index 4 (e.g., ' love')\n",
        "\n",
        "\n",
        "| str data |   | l | o | v | \n",
        "|:---------|:--|:--|:--|:-:|\n",
        "| Forward Indexing | 1 | 2 | 3 | 4 | \n",
        "\n",
        "\n",
        "- [:5] from Index 0 to Index 4 (e.g., 'I love')\n",
        "\n",
        "\n",
        "| str data | I |   | l | o | v |\n",
        "|:---------|:--|:--|:--|:--|:-:|\n",
        "| Forward Indexing | 0 | 1 | 2 | 3 | 4 |\n",
        "\n",
        "\n",
        "- [5:] from Index 5 to the final element (e.g., 'e Python!')\n",
        "\n",
        "| str data | e |  | P | y | t | h | o |n | ! |\n",
        "|:---------|:--|:--|:--|:--|:--|:--|:-|:-|:-:|\n",
        "| Forward Indexing | 5 | 6 | 7 | 8 | 9 | 10| 11| 12|13|\n",
        "\n",
        "- [:-3] from forward Index 0 to Backward Index -4 (e.g., 'I love Pyth')\n",
        "\n",
        "| str data | I |   | l | o | v | e |  | P | y | t | h |\n",
        "|:---------|:--|:--|:--|:--|:--|:--|:--|:--|:--|:--|:-:|\n",
        "| Forward Indexing | 0 | 1 | 2 | 3 | 4 | 5 | 6 | 7 | 8 | 9 | 10|\n",
        "| Backward Indexing|-14| -13| -12| -11| -10| -9| -8| -7| -6| -5| -4| -3| -2|-1|\n",
        "\n",
        "- [-3:] from backward Index -3 to the final element (e.g., 'on!') \n",
        "\n",
        "| str data | o |n | ! |\n",
        "|:---------|:-|:-|:-:|\n",
        "| Backward Indexing|-3| -2|-1|\n",
        "\n",
        "\n",
        "- [::2] Every other lement from the first element (Ilv\n",
        "\n",
        "| str data | I | l | v |  | y | h | o |\n",
        "|:---------|:--|:--|:--|:--|:--|:--|:-:|\n",
        "| Forward Indexing | 0 | 2 | 4 | 6 | 8 | 10| 12|\n",
        "\n",
        "\n",
        "\n",
        "# ⚾ ⚽ 🏀 🎾 🎯 It is time to get some exercise!"
      ],
      "metadata": {
        "id": "hz0-YwDvaAYj"
      }
    },
    {
      "cell_type": "code",
      "execution_count": null,
      "metadata": {
        "colab": {
          "base_uri": "https://localhost:8080/"
        },
        "cellView": "form",
        "id": "0mZYBcGxZz0O",
        "outputId": "21b1bd3d-c2eb-49f9-aaf9-0d305000ab36"
      },
      "outputs": [
        {
          "output_type": "stream",
          "name": "stdout",
          "text": [
            "I love python\n",
            "['apple', 'banana', 'grapes', 'mango']\n",
            "('apple', 'banana', 'grapes', 'mango')\n"
          ]
        }
      ],
      "source": [
        "#@markdown 🚗 🚙 Sequence data (str, list, tuple)\n",
        "\n",
        "#@markdown ##Exercise\n",
        "\n",
        "\n",
        "str_data = 'I love python'\n",
        "list_data = ['apple', 'banana', 'grapes', 'mango']\n",
        "tuple_data = ('apple', 'banana', 'grapes', 'mango')\n",
        "\n",
        "print (str_data)\n",
        "print (list_data)\n",
        "print(tuple_data)"
      ]
    },
    {
      "cell_type": "code",
      "source": [
        "#@markdown 📌 Apply indices to string data\n",
        "\n",
        "#@markdown Forward Indexing\n",
        "\n",
        "str_data=\"I love Python\"\n",
        "print(str_data[0])\n",
        "print(str_data[1])\n",
        "print(str_data[2])\n",
        "print(str_data[3])\n",
        "print(str_data[4])\n",
        "print(str_data[5])\n",
        "print(str_data[6])\n",
        "print(str_data[7])\n",
        "print(str_data[8])\n",
        "print(str_data[9])\n",
        "print(str_data[10])\n",
        "print(str_data[11])\n",
        "print(str_data[12])"
      ],
      "metadata": {
        "id": "gdAwjLQIfRej"
      },
      "execution_count": null,
      "outputs": []
    },
    {
      "cell_type": "code",
      "source": [
        "#@markdown 📌 Apply indices to String data\n",
        "\n",
        "#@markdown Backward Indexing\n",
        "\n",
        "str_data=\"I love Python\"\n",
        "print(str_data[-1])\n",
        "print(str_data[-2])\n",
        "print(str_data[-3])\n",
        "print(str_data[-4])\n",
        "print(str_data[-5])\n",
        "print(str_data[-6])\n",
        "print(str_data[-7])\n",
        "print(str_data[-8])\n",
        "print(str_data[-9])\n",
        "print(str_data[-10])\n",
        "print(str_data[-11])\n",
        "print(str_data[-12])\n",
        "print(str_data[-13])"
      ],
      "metadata": {
        "cellView": "form",
        "id": "3LaeY0POiniS"
      },
      "execution_count": null,
      "outputs": []
    },
    {
      "cell_type": "code",
      "source": [
        "strdata = 'Time is money!!'\n",
        "print(strdata[5])\n",
        "print(strdata[-2])\n",
        "print(strdata[0])"
      ],
      "metadata": {
        "id": "S90zmkNWGdZt"
      },
      "execution_count": null,
      "outputs": []
    },
    {
      "cell_type": "code",
      "source": [
        "listdata = [1, 2, [1,2,3]]\n",
        "print(listdata[0])\n",
        "print(listdata[-1])\n",
        "print(listdata[2][-1])"
      ],
      "metadata": {
        "id": "zki7vU-sGfHK"
      },
      "execution_count": null,
      "outputs": []
    },
    {
      "cell_type": "code",
      "source": [
        "#@markdown 📌 Apply indices to List data\n",
        "\n",
        "#@markdown ## Replacment by means of using incices\n",
        "\n",
        "list_data = ['apple', 'banana', 'grapes', 'mango']\n",
        "list_data[0]=\"shine musket\"\n",
        "\n",
        "print (list_data)"
      ],
      "metadata": {
        "id": "a7fl8AK3jCTR"
      },
      "execution_count": null,
      "outputs": []
    },
    {
      "cell_type": "code",
      "source": [
        "#@markdown 👀 Apply indices to Tupple data\n",
        "\n",
        "#@markdown ### No Replacement for Tuple data (<font color = 'red'> TypeError</font> will pop up: <font color = 'red'>'tuple' object does not support item assignment)\n",
        "\n",
        "tuple_data = ('apple', 'banana', 'grapes', 'mango')\n",
        "tuple_data[0]=\"shine musket\"\n",
        "\n",
        "print (tuple_data)"
      ],
      "metadata": {
        "cellView": "form",
        "id": "u6Z0sSltvXSQ"
      },
      "execution_count": null,
      "outputs": []
    },
    {
      "cell_type": "code",
      "source": [
        "@#markdown Slicing sequence data\n",
        "\n",
        "strdata = 'Time is money!!'\n",
        "print(strdata[1:5])\n",
        "print(strdata[:7])\n",
        "print(strdata[9:])\n",
        "print(strdata[:-3])\n",
        "print(strdata[-3:])\n",
        "print(strdata[:])\n",
        "print(strdata[::2]) # 처음부터 끝까지 스텝을 2로 해서 슬라이싱 하기."
      ],
      "metadata": {
        "id": "gsv43biRGwT1"
      },
      "execution_count": null,
      "outputs": []
    },
    {
      "cell_type": "markdown",
      "source": [
        "#시퀀스 자료 연결하기 (+)\n",
        "  -자료형이 동일한 두 개의 시퀀스 자료는 연결 가능\n",
        "  \n",
        "\n",
        "#시퀀스 자료 반복하기 (*숫자)"
      ],
      "metadata": {
        "id": "M_oQWafaH5Sf"
      }
    },
    {
      "cell_type": "code",
      "source": [
        "strdata1 = 'I love'; strdata2='Python'\n",
        "print (strdata1 + strdata2)\n",
        "print(strdata1*5)"
      ],
      "metadata": {
        "id": "9f7DeKbGIN4g"
      },
      "execution_count": null,
      "outputs": []
    },
    {
      "cell_type": "code",
      "source": [
        "subject = 'BTS'; verb= 'sings'; object = 'butter'\n",
        "sentence = subject + verb + object * 5\n",
        "print (sentence)\n"
      ],
      "metadata": {
        "id": "4Cx2C_BTIpQy",
        "outputId": "be300782-c69f-455d-ae86-17efd9436b08",
        "colab": {
          "base_uri": "https://localhost:8080/"
        }
      },
      "execution_count": null,
      "outputs": [
        {
          "output_type": "stream",
          "name": "stdout",
          "text": [
            "BTSsingsbutterbutterbutterbutterbutter\n"
          ]
        }
      ]
    },
    {
      "cell_type": "code",
      "source": [
        "#@markdown 시퀀스 자료 크기 이해하기 (len)\n",
        "\n",
        "strdata1 = 'I love Python'\n",
        "print(len(strdata1))"
      ],
      "metadata": {
        "id": "-Y7LAfeXKDsO"
      },
      "execution_count": null,
      "outputs": []
    }
  ]
}