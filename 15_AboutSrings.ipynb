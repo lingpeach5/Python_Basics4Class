{
  "nbformat": 4,
  "nbformat_minor": 0,
  "metadata": {
    "colab": {
      "provenance": [],
      "authorship_tag": "ABX9TyMa56wQtHTkOIAwBgh9LiC5",
      "include_colab_link": true
    },
    "kernelspec": {
      "name": "python3",
      "display_name": "Python 3"
    },
    "language_info": {
      "name": "python"
    }
  },
  "cells": [
    {
      "cell_type": "markdown",
      "metadata": {
        "id": "view-in-github",
        "colab_type": "text"
      },
      "source": [
        "<a href=\"https://colab.research.google.com/github/ms624atyale/Python_Basics/blob/main/15_AboutSrings.ipynb\" target=\"_parent\"><img src=\"https://colab.research.google.com/assets/colab-badge.svg\" alt=\"Open In Colab\"/></a>"
      ]
    },
    {
      "cell_type": "markdown",
      "source": [
        "\n",
        "## 🎯 문자열에 관한 여러가지 함수\n",
        "  1. 문자열에서 특정 위치/구간의 문자 얻기\n",
        "  2. 문자열에서 홀수/짝수 위치 문자 따로 얻기 \n",
        "  3. 문자열을 거꾸로 만들기\n",
        "  4. 문자열 합치기\n",
        "  5. 문자열 반복하기 \n",
        "  6. 문자열 확인하기\n",
        "  7. 문자열 길이 확인하기\n",
        "    - unicode\n",
        "      - codeline: len(variable name)\n",
        "    - bite\n",
        "      - codeline: len.encode(variable name)\n",
        "  8. 문자열이 알파벳인지 검사 (.isalpha())\n",
        "    - codeline: variable 1 = varialbe0.isalpha() function 사용하기\n",
        "  9. 문자열이 \"숫자만으로\" 구성되어 있는지 확인하기 (.isdigit())\n",
        "  10.문자열이 \"알파벳 or 숫자만\"인지 확인하기 (.isalnum())\n",
        "  11.문자열에서 upper case <-> lower case 변환하기\n",
        "  12.문자열에서 좌우 공백 제거하기 (.lstrip(); (.rstrip()); .strip())\n",
        "  13. 문자열에서 특정 문자(열) 개수 구하기 (.count() function)\n",
        "  14. 문자열에서 특정 문자(열) 위치 찾기 (.find() function)\n",
        "  15. M. 문자열을 특정 문자(열)로 분리하기 (.split() method) p.164 #93\n",
        "  16. M. 문자열을 특정 문자(열)로 결합하기 (.join() method) \n",
        "  17. M. 문자열에서 특정 문자(열)를 다른 대응소로 대체하기 (.replace() method)\n",
        "  18. M. 문자열을 바이트 객체로 바꾸기 (암호화 하기) (.encode() method)\n",
        "  19. M. 바이트를 문자열 객체로 바꾸기 (암호 풀기) (.decode() method)\n",
        "  20. F. 문자열 정렬하기 (.sorted() function, .join() function) as of 4/5/23\n",
        "  \n",
        "  To do list\n",
        "  unicode, bit, bite 개념 다시 이해하기\n",
        "  (p. 164 #93, Also consider to include p.159 #89; p161 #90) \n",
        "  김미란교수님이 한글 관련할 때 필요할 수 있다고 조언\n",
        "   \n"
      ],
      "metadata": {
        "id": "hbsQbhFPJHAO"
      }
    },
    {
      "cell_type": "code",
      "source": [
        "#문자열에서 특정 위치의 문자 얻기; 문자열에서 지정 구간 문자 얻기 Part1\n",
        "\n",
        "txt1='This rat named Arthur'\n",
        "\n",
        "print(txt1[1])\n",
        "print(txt1[7])\n",
        "print(txt1[-3])\n",
        "\n",
        "print(txt1[1:]) #(나의 해석)두번째 요소부터 끝까지\n",
        "print(txt1[3:7]) #(나의 해석)네번째 요소부터 일곱번째 요소까지  \n",
        "print(txt1[:-5]) #처음부터 끝 5번째 요소들까지 제외한 것 \n",
        "\n",
        "print(txt1[::2])\n",
        "print(txt1[1::2])\n",
        "print(txt1[1:2])"
      ],
      "metadata": {
        "id": "5pmbCwhfitcw",
        "outputId": "9562d6ee-c684-440a-8a6b-e48c4c3a807d",
        "colab": {
          "base_uri": "https://localhost:8080/"
        }
      },
      "execution_count": null,
      "outputs": [
        {
          "output_type": "stream",
          "name": "stdout",
          "text": [
            "h\n",
            "t\n",
            "h\n",
            "his rat named Arthur\n",
            "s ra\n",
            "This rat named A\n",
            "Ti a ae rhr\n",
            "hsrtnmdAtu\n",
            "h\n"
          ]
        }
      ]
    },
    {
      "cell_type": "code",
      "source": [
        "#문자열에서 지정 구간 문자 얻기 Part2\n",
        "txt2='Elizabeth'\n",
        "\n",
        "for i in range(len(txt2)):\n",
        "#for i in range(txt2): 를 사용하면 아래 [:i+1] 파트에 오류가 남\n",
        "  print (txt2[:i+1])"
      ],
      "metadata": {
        "id": "kIi4NLv8jiKL",
        "outputId": "89f08347-ed6e-45b6-a8d4-10252df80e72",
        "colab": {
          "base_uri": "https://localhost:8080/"
        }
      },
      "execution_count": null,
      "outputs": [
        {
          "output_type": "stream",
          "name": "stdout",
          "text": [
            "E\n",
            "El\n",
            "Eli\n",
            "Eliz\n",
            "Eliza\n",
            "Elizab\n",
            "Elizabe\n",
            "Elizabet\n",
            "Elizabeth\n"
          ]
        }
      ]
    },
    {
      "cell_type": "code",
      "source": [
        "txt3='산뫼토뫼끼뫼' \n",
        "print(txt3[::2])\n",
        "print(txt3[1::2])\n",
        "\n",
        "txt4='산토끼'\n",
        "\n",
        "def reverse(x, y, z):\n",
        "  return z, y, x           #return 값은 할당기호 (=) 없이 reverse 함수 인자를 바로 입력한다. 아니면 error message 뜬다.\n",
        "\n",
        "r1,r2,r3 = reverse('산','토','끼')\n",
        "print (r1,r2,r3)\n",
        "\n",
        "ret = txt4[::-1]\n",
        "print(ret)"
      ],
      "metadata": {
        "id": "Yh84vwoevS1C",
        "outputId": "adfc8129-cda1-41b9-dd4f-f3d6b42ee2e3",
        "colab": {
          "base_uri": "https://localhost:8080/"
        }
      },
      "execution_count": null,
      "outputs": [
        {
          "output_type": "stream",
          "name": "stdout",
          "text": [
            "산토끼\n",
            "뫼뫼뫼\n",
            "끼 토 산\n",
            "끼토산\n"
          ]
        }
      ]
    },
    {
      "cell_type": "code",
      "source": [
        "# My exercise \n",
        "txt = '토끼야어디가?'\n",
        "res1=txt[::2]\n",
        "print (res1)\n",
        "\n",
        "res2=txt[1::2]\n",
        "print(res2)\n",
        "\n",
        "def reverse(x,y):\n",
        "  return x, y\n",
        "\n",
        "res3=reverse(res1, res2)\n",
        "print(res3)\n",
        "\n",
        "res4 = txt[::-1]\n",
        "print(res4)\n",
        "\n",
        "for i in range(len(txt)):\n",
        "  print(txt[:i+1])"
      ],
      "metadata": {
        "id": "deGh-tJcPJEc",
        "outputId": "86e8517c-e4d6-4242-9c8c-d0acf721ee27",
        "colab": {
          "base_uri": "https://localhost:8080/"
        }
      },
      "execution_count": null,
      "outputs": [
        {
          "output_type": "stream",
          "name": "stdout",
          "text": [
            "토야디?\n",
            "끼어가\n",
            "('토야디?', '끼어가')\n",
            "?가디어야끼토\n",
            "토\n",
            "토끼\n",
            "토끼야\n",
            "토끼야어\n",
            "토끼야어디\n",
            "토끼야어디가\n",
            "토끼야어디가?\n"
          ]
        }
      ]
    },
    {
      "cell_type": "code",
      "source": [
        "name = input('입력할 파일 이름은 무엇입니까?:')\n",
        "result = name + '.txt'\n",
        "print ('입력한 파일 이름과 그 포맷은 <'+result+'> 입니다.')"
      ],
      "metadata": {
        "id": "9xbUW2c5RTkO",
        "outputId": "f896cd8a-ca9c-429c-f3d0-c1820f5a3de6",
        "colab": {
          "base_uri": "https://localhost:8080/"
        }
      },
      "execution_count": null,
      "outputs": [
        {
          "output_type": "stream",
          "name": "stdout",
          "text": [
            "입력할 파일 이름은 무엇입니까?:test\n",
            "입력한 파일 이름과 그 포맷은 <test.txt> 입니다.\n"
          ]
        }
      ]
    },
    {
      "cell_type": "code",
      "source": [
        "#문자열 합치기\n",
        "\n",
        "title = input('파일명을 입력하세요.:')\n",
        "titled = title + '.jpg'\n",
        "print ('저장된 파일은 <'+titled+'> 입니다.')"
      ],
      "metadata": {
        "id": "-YbYzhzt71Xi",
        "colab": {
          "base_uri": "https://localhost:8080/"
        },
        "outputId": "e286418d-f071-4dcb-dd2b-2691411777d7"
      },
      "execution_count": null,
      "outputs": [
        {
          "output_type": "stream",
          "name": "stdout",
          "text": [
            "파일명을 입력하세요.:casper\n",
            "저장된 파일은 <casper.jpg> 입니다.\n"
          ]
        }
      ]
    },
    {
      "cell_type": "code",
      "source": [
        "#문자열 합치기 & 문자열 반복하기\n",
        "word1 = '우리나라 축구 대표팀'\n",
        "word2 = '화이팅'\n",
        "phrase1 = word1 + ' ' +  word2*10 + '~'*3 #Space 확보를 위해서는 quotes 안에 Space 를 확보해 놓으면 됨\n",
        "phrase2 = word1 + ', ' +  word2*10 + '~'*3\n",
        "print(phrase1)\n",
        "print(phrase2)"
      ],
      "metadata": {
        "id": "BeqK_TZfW6ds",
        "outputId": "3e650d54-428b-4a65-9f72-7665b639bc98",
        "colab": {
          "base_uri": "https://localhost:8080/"
        }
      },
      "execution_count": null,
      "outputs": [
        {
          "output_type": "stream",
          "name": "stdout",
          "text": [
            "우리나라 축구 대표팀 화이팅화이팅화이팅화이팅화이팅화이팅화이팅화이팅화이팅화이팅~~~\n",
            "우리나라 축구 대표팀, 화이팅화이팅화이팅화이팅화이팅화이팅화이팅화이팅화이팅화이팅~~~\n"
          ]
        }
      ]
    },
    {
      "cell_type": "code",
      "source": [
        "# 문자 or 문자열 확인하기\n",
        "\n",
        "txt1 = input('임의의 문장을 입력하세요:')\n",
        "\n",
        "if 'c' in txt1:\n",
        "  print('Yes')\n",
        "else:\n",
        "  print('No')\n",
        "\n",
        "if 'are' in txt1:\n",
        "  print ('Yes')\n",
        "else:\n",
        "  print('No')"
      ],
      "metadata": {
        "id": "i4UjFwlUcxWq",
        "outputId": "4cd21867-578b-4cde-bf1d-b6df29726f0b",
        "colab": {
          "base_uri": "https://localhost:8080/"
        }
      },
      "execution_count": null,
      "outputs": [
        {
          "output_type": "stream",
          "name": "stdout",
          "text": [
            "임의의 문장을 입력하세요:Can I get your name and phone number?\n",
            "No\n",
            "No\n"
          ]
        }
      ]
    },
    {
      "cell_type": "code",
      "source": [
        "#문자열 길이 확인하기\n",
        "\n",
        "txt2 = input('Type in your sentence.')\n",
        "\n",
        "mslength = len(txt2)\n",
        "\n",
        "print('당신이 입력한 문자의 길이는 <%d> 입니다.' %mslength) "
      ],
      "metadata": {
        "id": "jD_sKtXQfa7y",
        "outputId": "1e981753-b37a-42ca-b7b1-66cd1e9b5a08",
        "colab": {
          "base_uri": "https://localhost:8080/"
        }
      },
      "execution_count": null,
      "outputs": [
        {
          "output_type": "stream",
          "name": "stdout",
          "text": [
            "Type in your sentence.What is your name?\n",
            "당신이 입력한 문자의 길이는 <18> 입니다.\n"
          ]
        }
      ]
    },
    {
      "cell_type": "code",
      "source": [
        "#문자열이 \"알파벳만\"으로 구성되었는지 검사 isalpha(variable name)\n",
        "\n",
        "txt1 = 'hi'\n",
        "txt2 = '안녕'\n",
        "txt3 = 'Hi Emma!'\n",
        "txt4 = 'where2go'\n",
        "\n",
        "ret1 = txt1.isalpha()\n",
        "ret2 = txt2.isalpha()\n",
        "ret3 = txt3.isalpha()\n",
        "ret4 = txt4.isalpha()\n",
        "\n",
        "print(ret1)\n",
        "print(ret2)\n",
        "print(ret3)\n",
        "print(ret4)\n",
        "\n",
        "type(ret1)"
      ],
      "metadata": {
        "id": "7XaAL574mabs",
        "outputId": "621f0aa7-ee42-4912-f3ba-a1aa0c4589e5",
        "colab": {
          "base_uri": "https://localhost:8080/"
        }
      },
      "execution_count": null,
      "outputs": [
        {
          "output_type": "stream",
          "name": "stdout",
          "text": [
            "True\n",
            "True\n",
            "False\n",
            "False\n"
          ]
        },
        {
          "output_type": "execute_result",
          "data": {
            "text/plain": [
              "bool"
            ]
          },
          "metadata": {},
          "execution_count": 14
        }
      ]
    },
    {
      "cell_type": "code",
      "source": [
        "#문자열이 \"숫자만으로\" 구성되어 있는지 확인하기\n",
        "\n",
        "txt5='042-629-7342'\n",
        "txt6='NIH00043'\n",
        "txt7='114'\n",
        "\n",
        "ret5 = txt5.isdigit()\n",
        "ret6 = txt6.isdigit()\n",
        "ret7 = txt7.isdigit()\n",
        "\n",
        "print(ret5)\n",
        "print(ret6)\n",
        "print(ret7)\n",
        "\n",
        "type(ret5)"
      ],
      "metadata": {
        "colab": {
          "base_uri": "https://localhost:8080/"
        },
        "id": "XcFfVZujsDZp",
        "outputId": "b2ade73b-822f-4f13-8410-37a45079e853"
      },
      "execution_count": null,
      "outputs": [
        {
          "output_type": "stream",
          "name": "stdout",
          "text": [
            "False\n",
            "False\n",
            "True\n"
          ]
        },
        {
          "output_type": "execute_result",
          "data": {
            "text/plain": [
              "bool"
            ]
          },
          "metadata": {},
          "execution_count": 20
        }
      ]
    },
    {
      "cell_type": "code",
      "source": [
        "#문자열이 \"알파벳 or 숫자만\"인지 확인하기 \n",
        "\n",
        "txt8='NIH00043'\n",
        "txt9='NIH-00043'\n",
        "\n",
        "ret8 = txt8.isalnum()\n",
        "ret9 = txt9.isalnum()\n",
        "\n",
        "print(ret8)\n",
        "print(ret9)\n",
        "\n",
        "type(ret9)\n"
      ],
      "metadata": {
        "colab": {
          "base_uri": "https://localhost:8080/"
        },
        "id": "uUI6hf_-uFks",
        "outputId": "38f5c82b-657e-4a05-906d-569d204bf838"
      },
      "execution_count": null,
      "outputs": [
        {
          "output_type": "stream",
          "name": "stdout",
          "text": [
            "True\n",
            "False\n"
          ]
        },
        {
          "output_type": "execute_result",
          "data": {
            "text/plain": [
              "bool"
            ]
          },
          "metadata": {},
          "execution_count": 21
        }
      ]
    },
    {
      "cell_type": "code",
      "source": [
        "#문자열에서 upper case <-> lower case 변환하기\n",
        "\n",
        "txt1='somewhere over the rainbow'\n",
        "\n",
        "ret1 = txt1.upper()\n",
        "\n",
        "ret2 = ret1.lower()\n",
        "\n",
        "print(txt1)\n",
        "print(ret1)\n",
        "print(ret2)"
      ],
      "metadata": {
        "colab": {
          "base_uri": "https://localhost:8080/"
        },
        "id": "Bwg1bMJwu7-V",
        "outputId": "1a940f56-b2cf-4fc8-a8b4-787f7ece259e"
      },
      "execution_count": null,
      "outputs": [
        {
          "output_type": "stream",
          "name": "stdout",
          "text": [
            "somewhere over the rainbow\n",
            "SOMEWHERE OVER THE RAINBOW\n",
            "somewhere over the rainbow\n"
          ]
        }
      ]
    },
    {
      "cell_type": "code",
      "source": [
        "#문자열에서 왼쪽 오른쪽 공백 제거하기\n",
        "\n",
        "txt = ' The string sequence include space on the left and the right. '\n",
        "\n",
        "ret1 = txt.lstrip()\n",
        "ret2 = txt.rstrip()\n",
        "ret3 = txt.strip()\n",
        "\n",
        "print('<'+txt+'>')\n",
        "print(txt)\n",
        "print('<'+ret1+'>')\n",
        "print('<'+ret2+'>')\n",
        "print('<'+ret3+'>')"
      ],
      "metadata": {
        "colab": {
          "base_uri": "https://localhost:8080/"
        },
        "id": "yRTKgmp1wdLC",
        "outputId": "130719e4-776d-4f6a-c6ae-3041c260d8e2"
      },
      "execution_count": null,
      "outputs": [
        {
          "output_type": "stream",
          "name": "stdout",
          "text": [
            "< The string sequence include space on the left and the right. >\n",
            " The string sequence include space on the left and the right. \n",
            "<The string sequence include space on the left and the right. >\n",
            "< The string sequence include space on the left and the right.>\n",
            "<The string sequence include space on the left and the right.>\n"
          ]
        }
      ]
    },
    {
      "cell_type": "code",
      "source": [
        "#문자열에 있는 문자(열) 개수 구하기 .count() 함수\n",
        "\n",
        "txt = 'The string sequence include space on the left and the right.'\n",
        "\n",
        "ret1 = txt.count('the')\n",
        "ret2 = txt.count('s')\n",
        "\n",
        "print(ret1)\n",
        "print(ret2)\n",
        "\n"
      ],
      "metadata": {
        "colab": {
          "base_uri": "https://localhost:8080/"
        },
        "id": "aNfn32wmxk4R",
        "outputId": "cb561f2c-927a-45c6-e680-b2d5db505ad2"
      },
      "execution_count": null,
      "outputs": [
        {
          "output_type": "stream",
          "name": "stdout",
          "text": [
            "2\n",
            "3\n"
          ]
        }
      ]
    },
    {
      "cell_type": "code",
      "source": [
        "#문자열에서 특정 문자(열) 위치 찾기 (.find() function): 구하는 character or word 의 최초 인덱스(위치)를 알려줌.\n",
        "\n",
        "txt = input('Type in a phrase you like:')\n",
        "\n",
        "where1 = txt.find('s')\n",
        "where2 = txt.find('e', 4)\n",
        "where3 = txt.find('rainbow')\n",
        "where4 = txt.find('z')\n",
        "\n",
        "print(where1)\n",
        "print(where2)\n",
        "print(where3)\n",
        "print(where4) # -1 값이 리턴 되면 해당 문자(열)을 찾을 수 없을 때이다.\n"
      ],
      "metadata": {
        "id": "xGSfhs_4yIXW",
        "outputId": "41e8eab2-b9a1-43e3-d2f5-b8d95efd92b7",
        "colab": {
          "base_uri": "https://localhost:8080/"
        }
      },
      "execution_count": null,
      "outputs": [
        {
          "output_type": "stream",
          "name": "stdout",
          "text": [
            "Type in a phrase you like:somewhere over the rainbow \n",
            "0\n",
            "6\n",
            "19\n",
            "-1\n"
          ]
        }
      ]
    },
    {
      "cell_type": "code",
      "source": [
        "#문자열을 특정 문자(열)로 분리하기 (.split() function) -> PB 네이버에 해당 url 없음. 나중에 시간 들여 들여다 보기\n",
        "\n",
        "url='https://v.daum.net/v/20230502214920299'\n",
        "\n",
        "ret=url.split('/')\n",
        "#print(ret) \n",
        "\n",
        "log = 'name:Emma age:20 gender:female nationality: U.S.A.'\n",
        "sep = log.split()\n",
        "for data in sep:\n",
        "  d1, d2 = data.split(':')\n",
        "  print('[%s] -> [%s]' %(d1,d2)) "
      ],
      "metadata": {
        "id": "5aK2Lb_WQUct",
        "outputId": "37f29c11-9eac-4964-ec17-176bdfc26a58",
        "colab": {
          "base_uri": "https://localhost:8080/",
          "height": 201
        }
      },
      "execution_count": 14,
      "outputs": [
        {
          "output_type": "error",
          "ename": "TypeError",
          "evalue": "ignored",
          "traceback": [
            "\u001b[0;31m---------------------------------------------------------------------------\u001b[0m",
            "\u001b[0;31mTypeError\u001b[0m                                 Traceback (most recent call last)",
            "\u001b[0;32m<ipython-input-14-9af96903b694>\u001b[0m in \u001b[0;36m<cell line: 10>\u001b[0;34m()\u001b[0m\n\u001b[1;32m     10\u001b[0m \u001b[0;32mfor\u001b[0m \u001b[0mdata\u001b[0m \u001b[0;32min\u001b[0m \u001b[0msep\u001b[0m\u001b[0;34m:\u001b[0m\u001b[0;34m\u001b[0m\u001b[0;34m\u001b[0m\u001b[0m\n\u001b[1;32m     11\u001b[0m   \u001b[0md1\u001b[0m\u001b[0;34m,\u001b[0m \u001b[0md2\u001b[0m \u001b[0;34m=\u001b[0m \u001b[0mdata\u001b[0m\u001b[0;34m.\u001b[0m\u001b[0msplit\u001b[0m\u001b[0;34m(\u001b[0m\u001b[0;34m':'\u001b[0m\u001b[0;34m)\u001b[0m\u001b[0;34m\u001b[0m\u001b[0;34m\u001b[0m\u001b[0m\n\u001b[0;32m---> 12\u001b[0;31m   \u001b[0mprint\u001b[0m\u001b[0;34m(\u001b[0m\u001b[0;34m'[%s] -> [%s]'\u001b[0m \u001b[0;34m%\u001b[0m\u001b[0;34m(\u001b[0m\u001b[0md1\u001b[0m\u001b[0;34m,\u001b[0m\u001b[0md2\u001b[0m\u001b[0;34m)\u001b[0m\u001b[0;34m)\u001b[0m\u001b[0;34m\u001b[0m\u001b[0;34m\u001b[0m\u001b[0m\n\u001b[0m",
            "\u001b[0;31mTypeError\u001b[0m: 'str' object is not callable"
          ]
        }
      ]
    },
    {
      "cell_type": "code",
      "source": [
        "logistics = ['taegu', '제2군사령부', 'infantry', 'guns', 'bullets']\n",
        "bond = ';'\n",
        "ret = bond.join(logistics)\n",
        "print(ret)"
      ],
      "metadata": {
        "id": "AH3tEjogQYOO",
        "outputId": "f3644fb1-6b00-4242-d582-29d1d569156f",
        "colab": {
          "base_uri": "https://localhost:8080/"
        }
      },
      "execution_count": 2,
      "outputs": [
        {
          "output_type": "stream",
          "name": "stdout",
          "text": [
            "taegu;제2군사령부;infantry;guns;bullets\n"
          ]
        }
      ]
    },
    {
      "cell_type": "code",
      "source": [
        "#문자열에서 특정 문자(열)를 다른 대응소로 대체하기 (.replace() method)\n",
        "\n",
        "txt = 'You should dial 053-112 for emergency.'\n",
        "ret1 = txt.replace('2','9')\n",
        "ret2 = txt.replace ('053', '1588')\n",
        "\n",
        "print(ret1)\n",
        "print(ret2)"
      ],
      "metadata": {
        "id": "276EaANxQakO",
        "outputId": "57a480d2-7289-46d9-d599-9e4ceb9bb396",
        "colab": {
          "base_uri": "https://localhost:8080/"
        }
      },
      "execution_count": 3,
      "outputs": [
        {
          "output_type": "stream",
          "name": "stdout",
          "text": [
            "You should dial 053-119 for emergency.\n",
            "You should dial 1588-112 for emergency.\n"
          ]
        }
      ]
    },
    {
      "cell_type": "code",
      "source": [
        "# 문자열을 바이트 객체로 바꾸기 (암호화 하기) (.encode() method)\n",
        "\n",
        "txt = 'I love Python.'\n",
        "b_txt = txt.encode()\n",
        "\n",
        "print(txt)\n",
        "print(b_txt)\n",
        "\n",
        "# For more detail, see pp. 168-189 (keywords: unicode texts, UTF-8로 인코딩한 bite object)"
      ],
      "metadata": {
        "id": "ACHodeh5QbMq",
        "outputId": "86796892-57c1-4259-e621-a4c72041c6be",
        "colab": {
          "base_uri": "https://localhost:8080/"
        }
      },
      "execution_count": 4,
      "outputs": [
        {
          "output_type": "stream",
          "name": "stdout",
          "text": [
            "I love Python.\n",
            "b'I love Python.'\n"
          ]
        }
      ]
    },
    {
      "cell_type": "code",
      "source": [
        "# 바이트를 문자열 객체로 바꾸기 (암호 풀기) (.decode() method)\n",
        "\n",
        "b_txt = b'I love Python.'\n",
        "txt = b_txt.decode()\n",
        "\n",
        "print(txt)"
      ],
      "metadata": {
        "id": "47vQUjrcQeKd",
        "outputId": "bd1c1028-c35b-4b1e-f1d5-bf031ec2bab7",
        "colab": {
          "base_uri": "https://localhost:8080/"
        }
      },
      "execution_count": 5,
      "outputs": [
        {
          "output_type": "stream",
          "name": "stdout",
          "text": [
            "I love Python.\n"
          ]
        }
      ]
    },
    {
      "cell_type": "code",
      "source": [
        "#문자열 정리하기 (.sorted() function)\n",
        "\n",
        "str = input('Enter string sequences you like to sort:')\n",
        "ret1 = sorted(str)\n",
        "ret2 = sorted(str, reverse = True)\n",
        "\n",
        "print(ret1)\n",
        "print(ret2)\n",
        "\n",
        "ret3 = ''.join(ret1) # a pair of single quotes & period before join() function\n",
        "ret4 = ''.join(ret2)\n",
        "\n",
        "print('오름차 순으로 정렬된 문자는 <'+ret3+'> 입니다.')\n",
        "print (ret3)\n",
        "print('내림차 순으로 정렬된 문자는 <'+ret4+'> 입니다.')\n",
        "print (ret4)"
      ],
      "metadata": {
        "id": "IiAeRIIyQgd2",
        "outputId": "651721a2-9a58-478c-8b9d-f982eb93b9e6",
        "colab": {
          "base_uri": "https://localhost:8080/"
        }
      },
      "execution_count": 6,
      "outputs": [
        {
          "output_type": "stream",
          "name": "stdout",
          "text": [
            "Enter string sequences you like to sort:abcdefghijklmnopqrstuvwxyz\n",
            "['a', 'b', 'c', 'd', 'e', 'f', 'g', 'h', 'i', 'j', 'k', 'l', 'm', 'n', 'o', 'p', 'q', 'r', 's', 't', 'u', 'v', 'w', 'x', 'y', 'z']\n",
            "['z', 'y', 'x', 'w', 'v', 'u', 't', 's', 'r', 'q', 'p', 'o', 'n', 'm', 'l', 'k', 'j', 'i', 'h', 'g', 'f', 'e', 'd', 'c', 'b', 'a']\n",
            "오름차 순으로 정렬된 문자는 <abcdefghijklmnopqrstuvwxyz> 입니다.\n",
            "abcdefghijklmnopqrstuvwxyz\n",
            "내림차 순으로 정렬된 문자는 <zyxwvutsrqponmlkjihgfedcba> 입니다.\n",
            "zyxwvutsrqponmlkjihgfedcba\n"
          ]
        }
      ]
    },
    {
      "cell_type": "code",
      "source": [
        "#문자열 정리하기 (.sorted() function)\n",
        "\n",
        "str = input('Enter string sequences you like to sort:')\n",
        "ret1 = sorted(str)\n",
        "ret2 = sorted(str, reverse = True)\n",
        "\n",
        "print(ret1)\n",
        "print(ret2)\n",
        "\n",
        "ret3 = ''.join(ret1) # a pair of single quotes & period before join() function\n",
        "ret4 = ''.join(ret2)\n",
        "\n",
        "print('오름차 순으로 정렬된 문자는 <'+ret3+'> 입니다.')\n",
        "print('내림차 순으로 정렬된 문자는 <'+ret4+'> 입니다.')"
      ],
      "metadata": {
        "id": "ss2v6phdQjeb",
        "outputId": "fdde8ccf-b6a9-4ff9-f603-ecfb497d0c66",
        "colab": {
          "base_uri": "https://localhost:8080/"
        }
      },
      "execution_count": 7,
      "outputs": [
        {
          "output_type": "stream",
          "name": "stdout",
          "text": [
            "Enter string sequences you like to sort:산토끼토끼야어디를가느냐\n",
            "['가', '끼', '끼', '냐', '느', '디', '를', '산', '야', '어', '토', '토']\n",
            "['토', '토', '어', '야', '산', '를', '디', '느', '냐', '끼', '끼', '가']\n",
            "오름차 순으로 정렬된 문자는 <가끼끼냐느디를산야어토토> 입니다.\n",
            "내림차 순으로 정렬된 문자는 <토토어야산를디느냐끼끼가> 입니다.\n"
          ]
        }
      ]
    },
    {
      "cell_type": "code",
      "source": [
        "#LATER as of 4/7/23\n",
        "str = input('Type in a string sequence you like:')\n",
        "\n",
        "type(str)\n",
        "\n",
        "ret1 = sorted(str)\n",
        "ret2 = sorted(str, reverse = True)\n",
        "print(ret1)\n",
        "print(ret2)\n",
        "\n",
        "ret3 = ''.join(ret1)\n",
        "ret4 = ''.join(ret2)\n",
        "print = ('The ascending order of the string squence is <'+ret3+'>.')\n",
        "print = ('The ascending order of the string squence is <'+ret4+'>.')"
      ],
      "metadata": {
        "id": "fAYzmjsrQmp-",
        "outputId": "80a07839-c31f-42e3-caba-d2ad9f91de87",
        "colab": {
          "base_uri": "https://localhost:8080/"
        }
      },
      "execution_count": 8,
      "outputs": [
        {
          "output_type": "stream",
          "name": "stdout",
          "text": [
            "Type in a string sequence you like:how are you\n",
            "[' ', ' ', 'a', 'e', 'h', 'o', 'o', 'r', 'u', 'w', 'y']\n",
            "['y', 'w', 'u', 'r', 'o', 'o', 'h', 'e', 'a', ' ', ' ']\n"
          ]
        }
      ]
    }
  ]
}