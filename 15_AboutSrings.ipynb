{
  "nbformat": 4,
  "nbformat_minor": 0,
  "metadata": {
    "colab": {
      "provenance": [],
      "authorship_tag": "ABX9TyNQ8Nqir6WnBdR2GGPXTFZQ",
      "include_colab_link": true
    },
    "kernelspec": {
      "name": "python3",
      "display_name": "Python 3"
    },
    "language_info": {
      "name": "python"
    }
  },
  "cells": [
    {
      "cell_type": "markdown",
      "metadata": {
        "id": "view-in-github",
        "colab_type": "text"
      },
      "source": [
        "<a href=\"https://colab.research.google.com/github/ms624atyale/Python_Basics/blob/main/15_AboutSrings.ipynb\" target=\"_parent\"><img src=\"https://colab.research.google.com/assets/colab-badge.svg\" alt=\"Open In Colab\"/></a>"
      ]
    },
    {
      "cell_type": "markdown",
      "source": [
        "\n",
        "## 🎯 문자열에 관한 여러가지 함수\n",
        "  1. 문자열에서 특정 위치/구간의 문자 얻기\n",
        "  2. 문자열에서 홀수/짝수 위치 문자 따로 얻기 \n",
        "  3. 문자열을 거꾸로 만들기\n",
        "  4. 문자열 합치기\n",
        "  5. 문자열 반복하기 \n",
        "  6. 문자열 확인하기\n",
        "  7. 문자열 길이 확인하기\n",
        "    - unicode\n",
        "      - codeline: len(variable name)\n",
        "    - bite\n",
        "      - codeline: len.encode(variable name)\n",
        "  8. 문자열이 알파벳인지 검사 (.isalpha())\n",
        "    - codeline: variable 1 = varialbe0.isalpha() function 사용하기\n",
        "  9. 문자열이 \"숫자만으로\" 구성되어 있는지 확인하기 (.isdigit())\n",
        "  10.문자열이 \"알파벳 or 숫자만\"인지 확인하기 (.isalnum())\n",
        "  11.문자열에서 upper case <-> lower case 변환하기\n",
        "  12.문자열에서 좌우 공백 제거하기 (.lstrip(); (.rstrip()); .strip())\n",
        "  13. 문자열에서 특정 문자(열) 개수 구하기 (.count() function)\n",
        "  14. 문자열에서 특정 문자(열) 위치 찾기 (.find() function)\n"
      ],
      "metadata": {
        "id": "hbsQbhFPJHAO"
      }
    },
    {
      "cell_type": "code",
      "source": [
        "#문자열에서 특정 위치의 문자 얻기; 문자열에서 지정 구간 문자 얻기 Part1\n",
        "\n",
        "txt1='This rat named Arthur'\n",
        "\n",
        "print(txt1[1])\n",
        "print(txt1[7])\n",
        "print(txt1[-3])\n",
        "\n",
        "print(txt1[1:]) #(나의 해석)두번째 요소부터 끝까지\n",
        "print(txt1[3:7]) #(나의 해석)네번째 요소부터 일곱번째 요소까지  \n",
        "print(txt1[:-5]) #처음부터 끝 5번째 요소들까지 제외한 것 \n",
        "\n",
        "print(txt1[::2])\n",
        "print(txt1[1::2])\n",
        "print(txt1[1:2])"
      ],
      "metadata": {
        "id": "5pmbCwhfitcw",
        "outputId": "9562d6ee-c684-440a-8a6b-e48c4c3a807d",
        "colab": {
          "base_uri": "https://localhost:8080/"
        }
      },
      "execution_count": null,
      "outputs": [
        {
          "output_type": "stream",
          "name": "stdout",
          "text": [
            "h\n",
            "t\n",
            "h\n",
            "his rat named Arthur\n",
            "s ra\n",
            "This rat named A\n",
            "Ti a ae rhr\n",
            "hsrtnmdAtu\n",
            "h\n"
          ]
        }
      ]
    },
    {
      "cell_type": "code",
      "source": [
        "#문자열에서 지정 구간 문자 얻기 Part2\n",
        "txt2='Elizabeth'\n",
        "\n",
        "for i in range(len(txt2)):\n",
        "#for i in range(txt2): 를 사용하면 아래 [:i+1] 파트에 오류가 남\n",
        "  print (txt2[:i+1])"
      ],
      "metadata": {
        "id": "kIi4NLv8jiKL",
        "outputId": "89f08347-ed6e-45b6-a8d4-10252df80e72",
        "colab": {
          "base_uri": "https://localhost:8080/"
        }
      },
      "execution_count": null,
      "outputs": [
        {
          "output_type": "stream",
          "name": "stdout",
          "text": [
            "E\n",
            "El\n",
            "Eli\n",
            "Eliz\n",
            "Eliza\n",
            "Elizab\n",
            "Elizabe\n",
            "Elizabet\n",
            "Elizabeth\n"
          ]
        }
      ]
    },
    {
      "cell_type": "code",
      "source": [
        "txt3='산뫼토뫼끼뫼' \n",
        "print(txt3[::2])\n",
        "print(txt3[1::2])\n",
        "\n",
        "txt4='산토끼'\n",
        "\n",
        "def reverse(x, y, z):\n",
        "  return z, y, x           #return 값은 할당기호 (=) 없이 reverse 함수 인자를 바로 입력한다. 아니면 error message 뜬다.\n",
        "\n",
        "r1,r2,r3 = reverse('산','토','끼')\n",
        "print (r1,r2,r3)\n",
        "\n",
        "ret = txt4[::-1]\n",
        "print(ret)"
      ],
      "metadata": {
        "id": "Yh84vwoevS1C",
        "outputId": "adfc8129-cda1-41b9-dd4f-f3d6b42ee2e3",
        "colab": {
          "base_uri": "https://localhost:8080/"
        }
      },
      "execution_count": null,
      "outputs": [
        {
          "output_type": "stream",
          "name": "stdout",
          "text": [
            "산토끼\n",
            "뫼뫼뫼\n",
            "끼 토 산\n",
            "끼토산\n"
          ]
        }
      ]
    },
    {
      "cell_type": "code",
      "source": [
        "# My exercise \n",
        "txt = '토끼야어디가?'\n",
        "res1=txt[::2]\n",
        "print (res1)\n",
        "\n",
        "res2=txt[1::2]\n",
        "print(res2)\n",
        "\n",
        "def reverse(x,y):\n",
        "  return x, y\n",
        "\n",
        "res3=reverse(res1, res2)\n",
        "print(res3)\n",
        "\n",
        "res4 = txt[::-1]\n",
        "print(res4)\n",
        "\n",
        "for i in range(len(txt)):\n",
        "  print(txt[:i+1])"
      ],
      "metadata": {
        "id": "deGh-tJcPJEc",
        "outputId": "86e8517c-e4d6-4242-9c8c-d0acf721ee27",
        "colab": {
          "base_uri": "https://localhost:8080/"
        }
      },
      "execution_count": null,
      "outputs": [
        {
          "output_type": "stream",
          "name": "stdout",
          "text": [
            "토야디?\n",
            "끼어가\n",
            "('토야디?', '끼어가')\n",
            "?가디어야끼토\n",
            "토\n",
            "토끼\n",
            "토끼야\n",
            "토끼야어\n",
            "토끼야어디\n",
            "토끼야어디가\n",
            "토끼야어디가?\n"
          ]
        }
      ]
    },
    {
      "cell_type": "code",
      "source": [
        "name = input('입력할 파일 이름은 무엇입니까?:')\n",
        "result = name + '.txt'\n",
        "print ('입력한 파일 이름과 그 포맷은 <'+result+'> 입니다.')"
      ],
      "metadata": {
        "id": "9xbUW2c5RTkO",
        "outputId": "f896cd8a-ca9c-429c-f3d0-c1820f5a3de6",
        "colab": {
          "base_uri": "https://localhost:8080/"
        }
      },
      "execution_count": null,
      "outputs": [
        {
          "output_type": "stream",
          "name": "stdout",
          "text": [
            "입력할 파일 이름은 무엇입니까?:test\n",
            "입력한 파일 이름과 그 포맷은 <test.txt> 입니다.\n"
          ]
        }
      ]
    },
    {
      "cell_type": "code",
      "source": [
        "#문자열 합치기\n",
        "\n",
        "title = input('파일명을 입력하세요.:')\n",
        "titled = title + '.jpg'\n",
        "print ('저장된 파일은 <'+titled+'> 입니다.')"
      ],
      "metadata": {
        "id": "-YbYzhzt71Xi",
        "colab": {
          "base_uri": "https://localhost:8080/"
        },
        "outputId": "e286418d-f071-4dcb-dd2b-2691411777d7"
      },
      "execution_count": null,
      "outputs": [
        {
          "output_type": "stream",
          "name": "stdout",
          "text": [
            "파일명을 입력하세요.:casper\n",
            "저장된 파일은 <casper.jpg> 입니다.\n"
          ]
        }
      ]
    },
    {
      "cell_type": "code",
      "source": [
        "#문자열 합치기 & 문자열 반복하기\n",
        "word1 = '우리나라 축구 대표팀'\n",
        "word2 = '화이팅'\n",
        "phrase1 = word1 + ' ' +  word2*10 + '~'*3 #Space 확보를 위해서는 quotes 안에 Space 를 확보해 놓으면 됨\n",
        "phrase2 = word1 + ', ' +  word2*10 + '~'*3\n",
        "print(phrase1)\n",
        "print(phrase2)"
      ],
      "metadata": {
        "id": "BeqK_TZfW6ds",
        "outputId": "3e650d54-428b-4a65-9f72-7665b639bc98",
        "colab": {
          "base_uri": "https://localhost:8080/"
        }
      },
      "execution_count": null,
      "outputs": [
        {
          "output_type": "stream",
          "name": "stdout",
          "text": [
            "우리나라 축구 대표팀 화이팅화이팅화이팅화이팅화이팅화이팅화이팅화이팅화이팅화이팅~~~\n",
            "우리나라 축구 대표팀, 화이팅화이팅화이팅화이팅화이팅화이팅화이팅화이팅화이팅화이팅~~~\n"
          ]
        }
      ]
    },
    {
      "cell_type": "code",
      "source": [
        "# 문자 or 문자열 확인하기\n",
        "\n",
        "txt1 = input('임의의 문장을 입력하세요:')\n",
        "\n",
        "if 'c' in txt1:\n",
        "  print('Yes')\n",
        "else:\n",
        "  print('No')\n",
        "\n",
        "if 'are' in txt1:\n",
        "  print ('Yes')\n",
        "else:\n",
        "  print('No')"
      ],
      "metadata": {
        "id": "i4UjFwlUcxWq",
        "outputId": "4cd21867-578b-4cde-bf1d-b6df29726f0b",
        "colab": {
          "base_uri": "https://localhost:8080/"
        }
      },
      "execution_count": null,
      "outputs": [
        {
          "output_type": "stream",
          "name": "stdout",
          "text": [
            "임의의 문장을 입력하세요:Can I get your name and phone number?\n",
            "No\n",
            "No\n"
          ]
        }
      ]
    },
    {
      "cell_type": "code",
      "source": [
        "#문자열 길이 확인하기\n",
        "\n",
        "txt2 = input('Type in your sentence.')\n",
        "\n",
        "mslength = len(txt2)\n",
        "\n",
        "print('당신이 입력한 문자의 길이는 <%d> 입니다.' %mslength) "
      ],
      "metadata": {
        "id": "jD_sKtXQfa7y",
        "outputId": "1e981753-b37a-42ca-b7b1-66cd1e9b5a08",
        "colab": {
          "base_uri": "https://localhost:8080/"
        }
      },
      "execution_count": null,
      "outputs": [
        {
          "output_type": "stream",
          "name": "stdout",
          "text": [
            "Type in your sentence.What is your name?\n",
            "당신이 입력한 문자의 길이는 <18> 입니다.\n"
          ]
        }
      ]
    },
    {
      "cell_type": "code",
      "source": [
        "#문자열이 \"알파벳만\"으로 구성되었는지 검사 isalpha(variable name)\n",
        "\n",
        "txt1 = 'hi'\n",
        "txt2 = '안녕'\n",
        "txt3 = 'Hi Emma!'\n",
        "txt4 = 'where2go'\n",
        "\n",
        "ret1 = txt1.isalpha()\n",
        "ret2 = txt2.isalpha()\n",
        "ret3 = txt3.isalpha()\n",
        "ret4 = txt4.isalpha()\n",
        "\n",
        "print(ret1)\n",
        "print(ret2)\n",
        "print(ret3)\n",
        "print(ret4)\n",
        "\n",
        "type(ret1)"
      ],
      "metadata": {
        "id": "7XaAL574mabs",
        "outputId": "621f0aa7-ee42-4912-f3ba-a1aa0c4589e5",
        "colab": {
          "base_uri": "https://localhost:8080/"
        }
      },
      "execution_count": null,
      "outputs": [
        {
          "output_type": "stream",
          "name": "stdout",
          "text": [
            "True\n",
            "True\n",
            "False\n",
            "False\n"
          ]
        },
        {
          "output_type": "execute_result",
          "data": {
            "text/plain": [
              "bool"
            ]
          },
          "metadata": {},
          "execution_count": 14
        }
      ]
    },
    {
      "cell_type": "code",
      "source": [
        "#문자열이 \"숫자만으로\" 구성되어 있는지 확인하기\n",
        "\n",
        "txt5='042-629-7342'\n",
        "txt6='NIH00043'\n",
        "txt7='114'\n",
        "\n",
        "ret5 = txt5.isdigit()\n",
        "ret6 = txt6.isdigit()\n",
        "ret7 = txt7.isdigit()\n",
        "\n",
        "print(ret5)\n",
        "print(ret6)\n",
        "print(ret7)\n",
        "\n",
        "type(ret5)"
      ],
      "metadata": {
        "colab": {
          "base_uri": "https://localhost:8080/"
        },
        "id": "XcFfVZujsDZp",
        "outputId": "b2ade73b-822f-4f13-8410-37a45079e853"
      },
      "execution_count": null,
      "outputs": [
        {
          "output_type": "stream",
          "name": "stdout",
          "text": [
            "False\n",
            "False\n",
            "True\n"
          ]
        },
        {
          "output_type": "execute_result",
          "data": {
            "text/plain": [
              "bool"
            ]
          },
          "metadata": {},
          "execution_count": 20
        }
      ]
    },
    {
      "cell_type": "code",
      "source": [
        "#문자열이 \"알파벳 or 숫자만\"인지 확인하기 \n",
        "\n",
        "txt8='NIH00043'\n",
        "txt9='NIH-00043'\n",
        "\n",
        "ret8 = txt8.isalnum()\n",
        "ret9 = txt9.isalnum()\n",
        "\n",
        "print(ret8)\n",
        "print(ret9)\n",
        "\n",
        "type(ret9)\n"
      ],
      "metadata": {
        "colab": {
          "base_uri": "https://localhost:8080/"
        },
        "id": "uUI6hf_-uFks",
        "outputId": "38f5c82b-657e-4a05-906d-569d204bf838"
      },
      "execution_count": null,
      "outputs": [
        {
          "output_type": "stream",
          "name": "stdout",
          "text": [
            "True\n",
            "False\n"
          ]
        },
        {
          "output_type": "execute_result",
          "data": {
            "text/plain": [
              "bool"
            ]
          },
          "metadata": {},
          "execution_count": 21
        }
      ]
    },
    {
      "cell_type": "code",
      "source": [
        "#문자열에서 upper case <-> lower case 변환하기\n",
        "\n",
        "txt1='somewhere over the rainbow'\n",
        "\n",
        "ret1 = txt1.upper()\n",
        "\n",
        "ret2 = ret1.lower()\n",
        "\n",
        "print(txt1)\n",
        "print(ret1)\n",
        "print(ret2)"
      ],
      "metadata": {
        "colab": {
          "base_uri": "https://localhost:8080/"
        },
        "id": "Bwg1bMJwu7-V",
        "outputId": "1a940f56-b2cf-4fc8-a8b4-787f7ece259e"
      },
      "execution_count": null,
      "outputs": [
        {
          "output_type": "stream",
          "name": "stdout",
          "text": [
            "somewhere over the rainbow\n",
            "SOMEWHERE OVER THE RAINBOW\n",
            "somewhere over the rainbow\n"
          ]
        }
      ]
    },
    {
      "cell_type": "code",
      "source": [
        "#문자열에서 왼쪽 오른쪽 공백 제거하기\n",
        "\n",
        "txt = ' The string sequence include space on the left and the right. '\n",
        "\n",
        "ret1 = txt.lstrip()\n",
        "ret2 = txt.rstrip()\n",
        "ret3 = txt.strip()\n",
        "\n",
        "print('<'+txt+'>')\n",
        "print(txt)\n",
        "print('<'+ret1+'>')\n",
        "print('<'+ret2+'>')\n",
        "print('<'+ret3+'>')"
      ],
      "metadata": {
        "colab": {
          "base_uri": "https://localhost:8080/"
        },
        "id": "yRTKgmp1wdLC",
        "outputId": "130719e4-776d-4f6a-c6ae-3041c260d8e2"
      },
      "execution_count": null,
      "outputs": [
        {
          "output_type": "stream",
          "name": "stdout",
          "text": [
            "< The string sequence include space on the left and the right. >\n",
            " The string sequence include space on the left and the right. \n",
            "<The string sequence include space on the left and the right. >\n",
            "< The string sequence include space on the left and the right.>\n",
            "<The string sequence include space on the left and the right.>\n"
          ]
        }
      ]
    },
    {
      "cell_type": "code",
      "source": [
        "#문자열에 있는 문자(열) 개수 구하기 .count() 함수\n",
        "\n",
        "txt = 'The string sequence include space on the left and the right.'\n",
        "\n",
        "ret1 = txt.count('the')\n",
        "ret2 = txt.count('s')\n",
        "\n",
        "print(ret1)\n",
        "print(ret2)\n",
        "\n"
      ],
      "metadata": {
        "colab": {
          "base_uri": "https://localhost:8080/"
        },
        "id": "aNfn32wmxk4R",
        "outputId": "cb561f2c-927a-45c6-e680-b2d5db505ad2"
      },
      "execution_count": null,
      "outputs": [
        {
          "output_type": "stream",
          "name": "stdout",
          "text": [
            "2\n",
            "3\n"
          ]
        }
      ]
    },
    {
      "cell_type": "code",
      "source": [
        "#문자열에서 특정 문자(열) 위치 찾기 (.find() function): 구하는 character or word 의 최초 인덱스(위치)를 알려줌.\n",
        "\n",
        "txt = input('Type in a phrase you like:')\n",
        "\n",
        "where1 = txt.find('s')\n",
        "where2 = txt.find('e', 4)\n",
        "where3 = txt.find('rainbow')\n",
        "where4 = txt.find('z')\n",
        "\n",
        "print(where1)\n",
        "print(where2)\n",
        "print(where3)\n",
        "print(where4) # -1 값이 리턴 되면 해당 문자(열)을 찾을 수 없을 때이다.\n"
      ],
      "metadata": {
        "id": "xGSfhs_4yIXW",
        "outputId": "41e8eab2-b9a1-43e3-d2f5-b8d95efd92b7",
        "colab": {
          "base_uri": "https://localhost:8080/"
        }
      },
      "execution_count": 14,
      "outputs": [
        {
          "output_type": "stream",
          "name": "stdout",
          "text": [
            "Type in a phrase you like:somewhere over the rainbow \n",
            "0\n",
            "6\n",
            "19\n",
            "-1\n"
          ]
        }
      ]
    }
  ]
}