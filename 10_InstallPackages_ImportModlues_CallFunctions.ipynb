{
  "nbformat": 4,
  "nbformat_minor": 0,
  "metadata": {
    "colab": {
      "provenance": [],
      "authorship_tag": "ABX9TyPRdGXoTFMcWCksqOVOOkwB",
      "include_colab_link": true
    },
    "kernelspec": {
      "name": "python3",
      "display_name": "Python 3"
    },
    "language_info": {
      "name": "python"
    }
  },
  "cells": [
    {
      "cell_type": "markdown",
      "metadata": {
        "id": "view-in-github",
        "colab_type": "text"
      },
      "source": [
        "<a href=\"https://colab.research.google.com/github/ms624atyale/Python_Basics/blob/main/10_InstallPackages_ImportModlues_CallFunctions.ipynb\" target=\"_parent\"><img src=\"https://colab.research.google.com/assets/colab-badge.svg\" alt=\"Open In Colab\"/></a>"
      ]
    },
    {
      "cell_type": "code",
      "execution_count": null,
      "metadata": {
        "id": "5TPWVgk272SH"
      },
      "outputs": [],
      "source": []
    },
    {
      "cell_type": "markdown",
      "source": [
        "# 🎁 Python Package\n",
        "  - Python modues 을 계층적인 디렉토리 형태로 구성\n",
        "  - !pip install 페키지이름\n",
        "\n",
        "# 🎒🎒 Python Moduess\n",
        "  - Python functions 로 구성\n",
        "  - import 페키지.모듈이름 [외부 페키지 경우]\n",
        "  - from 페키지이름 import 모듈이름\n",
        "  - import 모듈이름 [Python 내장 페키지 경우]\n",
        "  - import 모듈이름 as Abbreviation\n",
        "\n",
        "\n",
        "# 🏀 ⚽ ⚾ 🎾 Python functions\n",
        "  - 외부 모듈에 있는 함수 \n",
        "  - import 모듈이름.함수이름()\n",
        "  - from 모듈이름 import 함수이름\n",
        "\n",
        "## For you information, check out **Python Module Index** ([Visit Colab documentation]((https://docs.python.org/3/py-modindex.html))\n",
        "\n"
      ],
      "metadata": {
        "id": "aCsaIGXK73ms"
      }
    },
    {
      "cell_type": "code",
      "source": [
        "import os\n",
        "os.mkdir (\"txtfolder\")      #os 모듈과 mkdir 함수 사이에 period 있음 \n",
        "!pip install corpus-toolkit #corpus-toolkit 패키지에 하이픈 있음"
      ],
      "metadata": {
        "colab": {
          "base_uri": "https://localhost:8080/"
        },
        "id": "8PxL2p05WDin",
        "outputId": "41e7ce97-8d84-4452-ce71-c96ca2cc9272"
      },
      "execution_count": 29,
      "outputs": [
        {
          "output_type": "stream",
          "name": "stdout",
          "text": [
            "Looking in indexes: https://pypi.org/simple, https://us-python.pkg.dev/colab-wheels/public/simple/\n",
            "Collecting corpus-toolkit\n",
            "  Using cached corpus_toolkit-0.32-py3-none-any.whl (1.7 MB)\n",
            "Installing collected packages: corpus-toolkit\n",
            "Successfully installed corpus-toolkit-0.32\n"
          ]
        }
      ]
    },
    {
      "cell_type": "code",
      "source": [
        "def add_txt(t1,t2):\n",
        "  return t1 + ':' + t2\n",
        "\n",
        "def reverse(x,y,z):\n",
        "  return z,y,x"
      ],
      "metadata": {
        "id": "NhAZEMfQTBfx"
      },
      "execution_count": 13,
      "outputs": []
    },
    {
      "cell_type": "code",
      "source": [
        "from time import sleep\n",
        "sleep(5)\n",
        "\n"
      ],
      "metadata": {
        "id": "7JtzhtqpBJvo"
      },
      "execution_count": 19,
      "outputs": []
    },
    {
      "cell_type": "code",
      "source": [
        "add_txt('Best', 'Python')"
      ],
      "metadata": {
        "colab": {
          "base_uri": "https://localhost:8080/",
          "height": 35
        },
        "id": "WT99DvdwUGDa",
        "outputId": "701b8edc-029e-4324-a143-1e54a1170aed"
      },
      "execution_count": 16,
      "outputs": [
        {
          "output_type": "execute_result",
          "data": {
            "text/plain": [
              "'Best:Python'"
            ],
            "application/vnd.google.colaboratory.intrinsic+json": {
              "type": "string"
            }
          },
          "metadata": {},
          "execution_count": 16
        }
      ]
    },
    {
      "cell_type": "code",
      "source": [
        "reverse ('산', '토', '끼')"
      ],
      "metadata": {
        "colab": {
          "base_uri": "https://localhost:8080/"
        },
        "id": "FEKc3UAPUL8X",
        "outputId": "515f32ba-b225-4e2e-b46b-fe3ef61ce61c"
      },
      "execution_count": 17,
      "outputs": [
        {
          "output_type": "execute_result",
          "data": {
            "text/plain": [
              "('끼', '토', '산')"
            ]
          },
          "metadata": {},
          "execution_count": 17
        }
      ]
    }
  ]
}