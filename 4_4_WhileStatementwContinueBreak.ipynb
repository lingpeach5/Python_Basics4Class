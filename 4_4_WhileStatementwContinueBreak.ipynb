{
  "nbformat": 4,
  "nbformat_minor": 0,
  "metadata": {
    "colab": {
      "provenance": [],
      "authorship_tag": "ABX9TyM3vRfaxw4cbI3GbJjjmb1w",
      "include_colab_link": true
    },
    "kernelspec": {
      "name": "python3",
      "display_name": "Python 3"
    },
    "language_info": {
      "name": "python"
    }
  },
  "cells": [
    {
      "cell_type": "markdown",
      "metadata": {
        "id": "view-in-github",
        "colab_type": "text"
      },
      "source": [
        "<a href=\"https://colab.research.google.com/github/ms624atyale/Python_Basics/blob/main/4_4_WhileStatementwContinueBreak.ipynb\" target=\"_parent\"><img src=\"https://colab.research.google.com/assets/colab-badge.svg\" alt=\"Open In Colab\"/></a>"
      ]
    },
    {
      "cell_type": "markdown",
      "source": [
        "Python 200제 Unit 014"
      ],
      "metadata": {
        "id": "DR869DSG8AZi"
      }
    },
    {
      "cell_type": "code",
      "execution_count": 3,
      "metadata": {
        "colab": {
          "base_uri": "https://localhost:8080/"
        },
        "id": "NwKZsgBw3dI_",
        "outputId": "e7f9e85f-254d-4160-aae0-fe2818269433"
      },
      "outputs": [
        {
          "output_type": "stream",
          "name": "stdout",
          "text": [
            "3\n",
            "4\n",
            "5\n",
            "6\n",
            "7\n",
            "8\n"
          ]
        }
      ],
      "source": [
        "x = 0\n",
        "while x < 10:\n",
        "  x = x +1\n",
        "  if x<3:\n",
        "    continue\n",
        "  print(x)\n",
        "  if x>7:\n",
        "    break"
      ]
    },
    {
      "cell_type": "code",
      "source": [
        "x = 1\n",
        "total =0\n",
        "while 1:\n",
        "  total = total +x\n",
        "  if total > 100000:\n",
        "    print(x)\n",
        "    print(total)\n",
        "    break\n",
        "  x = x+1"
      ],
      "metadata": {
        "colab": {
          "base_uri": "https://localhost:8080/"
        },
        "id": "ZKUzxhDm8LX0",
        "outputId": "c325e9c7-0f49-4fb6-cffb-7e2f150fb8e0"
      },
      "execution_count": 4,
      "outputs": [
        {
          "output_type": "stream",
          "name": "stdout",
          "text": [
            "447\n",
            "100128\n"
          ]
        }
      ]
    }
  ]
}