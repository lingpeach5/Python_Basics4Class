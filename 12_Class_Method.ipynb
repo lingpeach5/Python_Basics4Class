{
  "nbformat": 4,
  "nbformat_minor": 0,
  "metadata": {
    "colab": {
      "provenance": [],
      "authorship_tag": "ABX9TyOtcC/2D2aqB/EI0C72uHDc",
      "include_colab_link": true
    },
    "kernelspec": {
      "name": "python3",
      "display_name": "Python 3"
    },
    "language_info": {
      "name": "python"
    }
  },
  "cells": [
    {
      "cell_type": "markdown",
      "metadata": {
        "id": "view-in-github",
        "colab_type": "text"
      },
      "source": [
        "<a href=\"https://colab.research.google.com/github/ms624atyale/Python_Basics/blob/main/12_Class_Method.ipynb\" target=\"_parent\"><img src=\"https://colab.research.google.com/assets/colab-badge.svg\" alt=\"Open In Colab\"/></a>"
      ]
    },
    {
      "cell_type": "markdown",
      "source": [
        "## Class, Class members, Instant members, Class method, Class initiate, Class delete, Class heritage\n",
        "\n",
        "---\n",
        "1. Class (Unit 049)\n",
        "  * 하나의 독립된 공간을 클래스라고 하는데, 이를 위해서는 이름을 지정하여 공간 (i.e., **class NameClass:**) 이름공간을 만든다.\n",
        "  * NameClass를 **함수처럼 호출**하여 (i.e., <font color = 'brown'> NameClass() 라고 ()를 붙여 codeline 쓰기</font>) 이를 **Instant Object**(인스턴트 객체) (Instant or Object)로 만든다. 이후 해당 Instant Object는 Variable로 역할 한다.\n",
        "    * 호출 (Call) 방법\n",
        "      * InstantObject.ClassMember\n",
        "      * InstantObject.ClassMethod\n",
        "  * >> class NameClass: >> def ClassMethod(**self**) 클래스메소드의 첫 번째 인자는 무조건 self (refer to Instant Object)\n",
        "  * ClassMethod에 따로 정의해야 하는 인자가 있으면, 해당 인자는 두 번째 인자가 된다. 문자열일 경우 () 안에서 ''를 사용한다.\n",
        "  * Class member.Class method() ↔️ variable.function()\n",
        "  * Advantage: 체계적인 코드라인 작성이 가능하기에 코드가 간결해진다.\n",
        "\n",
        "2. Instant member\n",
        "  * ClassMethod(self.variable)\n",
        "  * 클래스메소드에서 두 번째 인자로 사용되는 것이 인스터트 멤버\n",
        "  * 클래스메소드 \"안\"에서 선언된다고\" 표현한다.\n",
        "\n",
        "2. Class member\n",
        "  * class NAMECLASS: 내에서 변수 이름으로 선언\n",
        "  * ClassMember.ClassMethod() 클래스멤버는 클래스메소드 \"바깥\"에서 선언된다고 표현한다.\n",
        "  \n",
        "\n",
        "\n"
      ],
      "metadata": {
        "id": "3V3eF3-rqKDl"
      }
    },
    {
      "cell_type": "markdown",
      "source": [
        "객체(object) or 인스턴트(instant)\n",
        "\n",
        "<font color = 'red'> **클래스로 만든 객체를 ‘인스턴스’라고도 한다. 그렇다면 객체와 인스턴스의 차이는 무엇일까?**  \n",
        "\n",
        "a = Cookie()로 만든 a는 객체이다. 그리고 a 객체는 Cookie의 인스턴스이다.\n",
        "- 인스턴스라는 말은 특정 객체(a)가 어떤 클래스(Cookie)의 객체인지를 관계 위주로 설명할 때 사용한다.\n",
        "- ‘a는 인스턴스’보다 ‘a는 객체’라는 표현이 어울리며 ‘a는 Cookie의 객체’보다 ‘a는 Cookie의 인스턴스’라는 표현이 훨씬 잘 어울린다."
      ],
      "metadata": {
        "id": "URLcwWYnPZga"
      }
    },
    {
      "cell_type": "code",
      "execution_count": null,
      "metadata": {
        "id": "XKm8hYRNqJE2",
        "outputId": "c84201cd-ff91-4d47-9e16-d1d5792bee14",
        "colab": {
          "base_uri": "https://localhost:8080/"
        }
      },
      "outputs": [
        {
          "output_type": "stream",
          "name": "stdout",
          "text": [
            "How are you?\n",
            "Emma! see you!\n"
          ]
        }
      ],
      "source": [
        "class Greetings: #독립된 공간을 Class 라고 함\n",
        "  def sayHello(self): #Class Method\n",
        "    print('How are you?')\n",
        "\n",
        "  def sayBye(self,name): #Class Method에서 두 번째 인자로 사용되는 name은 Instant Member\n",
        "    print('%s! see you!' %name)\n",
        "\n",
        "obj = Greetings()\n",
        "obj.sayHello()\n",
        "obj.sayBye('Emma')"
      ]
    },
    {
      "cell_type": "code",
      "source": [
        "#Caculator.py\n",
        "\n",
        "result = 0\n",
        "def add(num):\n",
        "  global result\n",
        "  result += num # 결괏값(result)에 입력값(num) 더하기\n",
        "  return result\n",
        "\n",
        "print(add(3))\n",
        "print(add(4))\n",
        "print(add(3))"
      ],
      "metadata": {
        "id": "WihO1BZeKbZG",
        "outputId": "e8dc1ff8-f237-4026-b857-2369a98ae5fc",
        "colab": {
          "base_uri": "https://localhost:8080/"
        }
      },
      "execution_count": null,
      "outputs": [
        {
          "output_type": "stream",
          "name": "stdout",
          "text": [
            "3\n",
            "7\n",
            "10\n"
          ]
        }
      ]
    },
    {
      "cell_type": "code",
      "source": [
        "#Caculator.py\n",
        "\n",
        "result = 0\n",
        "\n",
        "def sub(num):\n",
        "  global result\n",
        "  result -= num # 결과값(result)에 입력값(num) 빼기\n",
        "  return result\n",
        "\n",
        "print(sub(1))"
      ],
      "metadata": {
        "id": "jVjgyyFORTwi",
        "outputId": "8bdba521-f3ea-45ca-b43b-3c0c84b741fc",
        "colab": {
          "base_uri": "https://localhost:8080/"
        }
      },
      "execution_count": null,
      "outputs": [
        {
          "output_type": "stream",
          "name": "stdout",
          "text": [
            "-1\n"
          ]
        }
      ]
    },
    {
      "cell_type": "code",
      "source": [
        "class Calculator:\n",
        "  def __init__(self):\n",
        "    self.result = 0\n",
        "\n",
        "  def add(self, num):\n",
        "    self.result += num\n",
        "    return self.result\n",
        "\n",
        "  def sub(self, num):\n",
        "    self.result -= num\n",
        "    return self.result\n",
        "\n",
        "print(add(1))\n",
        "print(sub(1))"
      ],
      "metadata": {
        "id": "oNq5KaLjOCzB",
        "outputId": "ee7b3923-f67f-4321-fac8-04307965c903",
        "colab": {
          "base_uri": "https://localhost:8080/"
        }
      },
      "execution_count": null,
      "outputs": [
        {
          "output_type": "stream",
          "name": "stdout",
          "text": [
            "0\n",
            "-1\n"
          ]
        }
      ]
    },
    {
      "cell_type": "markdown",
      "source": [
        "### <font color = 'brown'> **Annotation for the above code lines**\n",
        "\n",
        "class Calculator:: Defines a class named Calculator.\n",
        "\n",
        "1. def __init__(self):: Defines the constructor method (__init__) for the Calculator class. This method initializes the object's attributes when an instance of the class is created. In this case, it initializes the result attribute to 0.\n",
        "\n",
        "2. self.result = 0: Initializes an instance variable result within the Calculator class and sets it to 0. This variable will be used to store the intermediate results during calculations.\n",
        "\n",
        "3. def add(self, num):: Defines a method named add within the Calculator class. The method takes a parameter num representing the number to be added to the result.\n",
        "\n",
        "4. self.result += num: Adds the num parameter to the result attribute of the object (the current running total).\n",
        "\n",
        "5. return self.result: Returns the updated value of self.result after performing the addition.\n",
        "\n",
        "6. def sub(self, num):: Defines a method named sub within the Calculator class. The method takes a parameter num representing the number to be subtracted from the result.\n",
        "\n",
        "7. self.result -= num: Subtracts the num parameter from the result attribute of the object (the current running total).\n",
        "\n",
        "8. return self.result: Returns the updated value of self.result after performing the subtraction.\n",
        "\n",
        "9. print(add(1)): Calls the add method of the Calculator class with the argument 1 and prints the result of the addition. However, there is an error in this line because add is an instance method, and it should be called on an instance of the class, not directly. The correct way to use it is by creating an instance of the Calculator class first.\n",
        "\n",
        "10. print(sub(1)): Calls the sub method of the Calculator class with the argument 1 and prints the result of the subtraction. As with the previous line, this will also raise an error for the same reason."
      ],
      "metadata": {
        "id": "oligLYERej7Z"
      }
    }
  ]
}