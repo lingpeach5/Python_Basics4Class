{
  "nbformat": 4,
  "nbformat_minor": 0,
  "metadata": {
    "colab": {
      "provenance": [],
      "authorship_tag": "ABX9TyPTB+Mih5f0eeEq3QfTXo0Z",
      "include_colab_link": true
    },
    "kernelspec": {
      "name": "python3",
      "display_name": "Python 3"
    },
    "language_info": {
      "name": "python"
    }
  },
  "cells": [
    {
      "cell_type": "markdown",
      "metadata": {
        "id": "view-in-github",
        "colab_type": "text"
      },
      "source": [
        "<a href=\"https://colab.research.google.com/github/ms624atyale/Python_Basics/blob/main/12_Class_Method.ipynb\" target=\"_parent\"><img src=\"https://colab.research.google.com/assets/colab-badge.svg\" alt=\"Open In Colab\"/></a>"
      ]
    },
    {
      "cell_type": "markdown",
      "source": [
        "## Class, Class members, Instant members, Class method, Class initiate, Class delete, Class heritage\n",
        "\n",
        "---\n",
        "1. Class (Unit 049)\n",
        "  * 하나의 독립된 공간을 클래스라고 하는데, 이를 위해서는 이름을 지정하여 공간 (i.e., class NameClass:) 이름공간을 만든다.\n",
        "  * NameClass를 **함수처럼 호출**하여 (i.e., <font color = 'brown'> NameClass() 라고 ()를 붙여 codeline 쓰기</font>) 이를 **Instant Object**(인스턴트 객체)로 만든다. 이후 해당 Instant Object는 Variable로 역할 한다.\n",
        "    * 호출 (Call) 방법\n",
        "      * InstantObject.ClassMember\n",
        "      * InstantObject.ClassMethod\n",
        "  * >> class NameClass: >> def ClassMethod(**self**) 클래스메소드의 첫 번째 인자는 무조건 self (refer to Instant Object)\n",
        "  * ClassMethod에 따로 정의해야 하는 인자가 있으면, 해당 인자는 두 번째 인자가 된다. 문자열일 경우 () 안에서 ''를 사용한다. \n",
        "  * Class member.Class method() ↔️ variable.function()\n",
        "  * Advantage: 체계적인 코드라인 작성이 가능하기에 코드가 간결해진다.\n",
        "\n",
        "2. Instant member\n",
        "  * ClassMethod(self.variable)\n",
        "  * 클래스메소드에서 두 번째 인자로 사용되는 것이 인스터트 멤버\n",
        "  * 클래스메소드 \"안\"에서 선언된다고\" 표현한다.\n",
        "\n",
        "2. Class member\n",
        "  * class NAMECLASS: 내에서 변수 이름으로 선언\n",
        "  * ClassMember.ClassMethod() 클래스멤버는 클래스메소드 \"바깥\"에서 선언된다고 표현한다.\n",
        "  \n",
        "\n",
        "\n"
      ],
      "metadata": {
        "id": "3V3eF3-rqKDl"
      }
    },
    {
      "cell_type": "code",
      "execution_count": 2,
      "metadata": {
        "id": "XKm8hYRNqJE2",
        "outputId": "c84201cd-ff91-4d47-9e16-d1d5792bee14",
        "colab": {
          "base_uri": "https://localhost:8080/"
        }
      },
      "outputs": [
        {
          "output_type": "stream",
          "name": "stdout",
          "text": [
            "How are you?\n",
            "Emma! see you!\n"
          ]
        }
      ],
      "source": [
        "class Greetings:\n",
        "  def sayHello(self):\n",
        "    print('How are you?')\n",
        "  \n",
        "  def sayBye(self,name):\n",
        "    print('%s! see you!' %name)\n",
        "\n",
        "obj = Greetings()\n",
        "obj.sayHello()\n",
        "obj.sayBye('Emma')"
      ]
    }
  ]
}