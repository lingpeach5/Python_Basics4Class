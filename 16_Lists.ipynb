{
  "nbformat": 4,
  "nbformat_minor": 0,
  "metadata": {
    "colab": {
      "provenance": [],
      "authorship_tag": "ABX9TyPHl2przBBdKuu+DUxu8o2P",
      "include_colab_link": true
    },
    "kernelspec": {
      "name": "python3",
      "display_name": "Python 3"
    },
    "language_info": {
      "name": "python"
    }
  },
  "cells": [
    {
      "cell_type": "markdown",
      "metadata": {
        "id": "view-in-github",
        "colab_type": "text"
      },
      "source": [
        "<a href=\"https://colab.research.google.com/github/ms624atyale/Python_Basics/blob/main/16_Lists.ipynb\" target=\"_parent\"><img src=\"https://colab.research.google.com/assets/colab-badge.svg\" alt=\"Open In Colab\"/></a>"
      ]
    },
    {
      "cell_type": "markdown",
      "source": [
        "# About Lists\n",
        "\n",
        "  - 순차적인 정수 리스트 만들기 \n",
        "  - 리스트에서 특정 위치의 요소 얻기\n",
        "  - 리스트에서 특정 요소의 위치 구하기 ListNameVariable.index(variable assigned with an element of your interest) method\n",
        "  - 리스트에서 특정 위치의 요소를 변경하기 ListNameVariable.index() method\n",
        "  - 리스트에서 특정 구간에 있는 요소 추출하기 \n",
        "  - 리스트에서 짝수 구간 요소만 추출하기 variable[1::2]\n",
        "  - 리스트에서 요소 역순으로 만들기 Part1 ListNameVariable.reverse() method\n",
        "  - 리스트에서 요소 역순으로 만들기 Part2 ListNameVariable.reverse() method & ListNameVaribable[::-1] (i.e., 리스트의 처음부터 끝까지 숫자를 끝에서 첫번째 부터 한 개씩 순차적으로 역리스트화 하기\n",
        "  - 리스트 합치기 (+)\n",
        "  - 리스트 반복하기 (*)\n",
        "  - 리스트 요소 추가하기 (append() method)\n",
        "  - 리스트의 특정 위치에 요소 삽입하기 (insert () method)\n",
        "  - 리스트의 특정 위치에 요소 제거하기 (del variable[])\n",
        "  - 리스트의 특정 위치에 요소 제거하기 (remove () method)\n",
        "  - 리스트에 있는 요소 개수 구하기 (len () function)\n",
        "  - 리스트에서 특정 요소 개수 구하기 (count() function)\n",
        "  - 리스트 요소 정렬하기 (sort () method) The original list is manipulated as a result. \n",
        "  - 리스트 요소 정렬하기 (sorted () function) The original list is intact and a sorted result is returned.\n",
        "  - 리스트 요소 무작위로 섞기 (from random import shuffle)\n",
        "  - 리스트의 모든 요소를 인덱스와 쌍으로 추출하기 (enumerate()function)\n",
        "  - 리스트의 모든 요소의 합 구하기 (sum()functio\n",
        "  - 리스트 요소가 모두 참인지 확인하기 (all()function; any()function)(p. 198, #122) as of April 15th, 2023"
      ],
      "metadata": {
        "id": "Q7GO6Gl-dTwL"
      }
    },
    {
      "cell_type": "code",
      "execution_count": null,
      "metadata": {
        "id": "3tRqYpafdSex",
        "outputId": "4077038a-1937-43a3-8aa5-a43d66308ce0",
        "colab": {
          "base_uri": "https://localhost:8080/"
        }
      },
      "outputs": [
        {
          "output_type": "stream",
          "name": "stdout",
          "text": [
            "[0, 1, 2, 3, 4, 5, 6, 7, 8, 9]\n",
            "[10, 11, 12, 13, 14, 15, 16, 17, 18, 19]\n",
            "55\n"
          ]
        }
      ],
      "source": [
        "#range() & list() function\n",
        "\n",
        "ret1 = range(10)\n",
        "ret2 = range(10,20)\n",
        "\n",
        "print(list(ret1))\n",
        "print(list(ret2))\n"
      ]
    },
    {
      "cell_type": "code",
      "source": [
        "ret = 0\n",
        "for i in range(10):\n",
        "  ret +=(i+1) #i.e., ret=ret+(i+1)\n",
        "  print(ret)\n",
        "print(ret)"
      ],
      "metadata": {
        "id": "lUxpVLLCfkBJ",
        "outputId": "6827c594-e1c2-478e-8b1d-5bb43352b4cc",
        "colab": {
          "base_uri": "https://localhost:8080/"
        }
      },
      "execution_count": null,
      "outputs": [
        {
          "output_type": "stream",
          "name": "stdout",
          "text": [
            "1\n",
            "3\n",
            "6\n",
            "10\n",
            "15\n",
            "21\n",
            "28\n",
            "36\n",
            "45\n",
            "55\n",
            "55\n"
          ]
        }
      ]
    },
    {
      "cell_type": "code",
      "source": [
        "#@markdown 리스트에서 특정 요소의 위치 구하기 index() function\n",
        "\n",
        "solarsystem = ['Sun', 'Mercury', 'Venus', 'earth', 'Mars', 'Jupiter', 'Saturn', 'Uranus', 'Neptune']\n",
        "planet = input('Enter the name of the planet:')\n",
        "position = solarsystem.index(planet)\n",
        "if position > 3:\n",
        "  print('The %s is the %dth planet from the Sun.' %(planet, position))\n",
        "else:\n",
        "  print('The %s is %dst/nd/rd planet from the Sun.' %(planet, position))"
      ],
      "metadata": {
        "id": "XXkO8cbWVfww",
        "outputId": "5fd36be1-715f-45bc-bf55-5f300517e121",
        "colab": {
          "base_uri": "https://localhost:8080/"
        }
      },
      "execution_count": null,
      "outputs": [
        {
          "output_type": "stream",
          "name": "stdout",
          "text": [
            "Enter the name of the planet:Venus\n",
            "The Venus is 2st/nd/rd planet from the Sun.\n"
          ]
        }
      ]
    },
    {
      "cell_type": "code",
      "source": [
        "#More exercise\n",
        "\n",
        "solarsystem = ['태양', '수', '금', '지', '화', '목', '토', '천', '해']\n",
        "planet = input('행성 첫 자를 입력하세요:')\n",
        "position = solarsystem.index(planet)\n",
        "print ('%s는 %d 행성입니다.' %(planet, position))"
      ],
      "metadata": {
        "id": "lmmwynBq4nbm",
        "outputId": "e42cdf19-c1a5-4980-b368-7c8a78146309",
        "colab": {
          "base_uri": "https://localhost:8080/"
        }
      },
      "execution_count": null,
      "outputs": [
        {
          "output_type": "stream",
          "name": "stdout",
          "text": [
            "행성 첫 자를 입력하세요:금\n",
            "금는 2 행성입니다.\n"
          ]
        }
      ]
    },
    {
      "cell_type": "code",
      "source": [
        "#리스트에서 특정 위치의 요소를 변경하기\n",
        "\n",
        "solarsystem = ['태', '수', '금', '지', '화', '목', '토', '천', '해']\n",
        "planet = input('한글 행성 이름 첫자를 입력하세요:')\n",
        "position = solarsystem.index(planet)\n",
        "solarsystem[position] = input('행성의 영문명을 입력하세요:')\n",
        "print(solarsystem)\n"
      ],
      "metadata": {
        "id": "Cm5CvTuO58kY",
        "outputId": "1797e4dc-c684-4329-f5bf-c4312e71a848",
        "colab": {
          "base_uri": "https://localhost:8080/"
        }
      },
      "execution_count": null,
      "outputs": [
        {
          "output_type": "stream",
          "name": "stdout",
          "text": [
            "한글 행성 이름 첫자를 입력하세요:지\n",
            "행성의 영문명을 입력하세요:the earth\n",
            "['태', '수', '금', 'the earth', '화', '목', '토', '천', '해']\n"
          ]
        }
      ]
    },
    {
      "cell_type": "code",
      "source": [
        "#More exercise\n",
        "\n",
        "solarsystem = ['태', '수', '금', '지', '화', '목', '토', '천', '해']\n",
        "planet = '태'\n",
        "pos = solarsystem.index(planet)\n",
        "solarsystem[pos] = 'the Sun'\n",
        "print(solarsystem)"
      ],
      "metadata": {
        "id": "43-R_Gfd83DI",
        "outputId": "697c49ba-b0c1-4613-ee58-47c21461ac73",
        "colab": {
          "base_uri": "https://localhost:8080/"
        }
      },
      "execution_count": null,
      "outputs": [
        {
          "output_type": "stream",
          "name": "stdout",
          "text": [
            "['the Sun', '수', '금', '지', '화', '목', '토', '천', '해']\n"
          ]
        }
      ]
    },
    {
      "cell_type": "code",
      "source": [
        "# More exercise\n",
        "\n",
        "solarsys = ['태양','수성','금성','지구','화성','목성','토성','천왕성','해왕성']\n",
        "planet = '태양'\n",
        "pos = solarsys.index(planet)\n",
        "solarsys[pos] = 'the Sun'\n",
        "print(solarsys)"
      ],
      "metadata": {
        "id": "QJgA0FkiD253",
        "outputId": "163abb4b-e7ae-4e43-e0fc-df69bc6b5885",
        "colab": {
          "base_uri": "https://localhost:8080/"
        }
      },
      "execution_count": null,
      "outputs": [
        {
          "output_type": "stream",
          "name": "stdout",
          "text": [
            "['the Sun', '수성', '금성', '지구', '화성', '목성', '토성', '천왕성', '해왕성']\n"
          ]
        }
      ]
    },
    {
      "cell_type": "code",
      "source": [
        "#리스트에서 특정 구간에 있는 요소 추출하기\n",
        "\n",
        "solarsys = ['태양','수성','금성','지구','화성','목성','토성','천왕성','해왕성']\n",
        "two_characters = solarsys[0:7]\n",
        "three_characters = solarsys[-2:]\n",
        "mixed = solarsys [-5:]\n",
        "\n",
        "print(two_characters)\n",
        "print(three_characters)\n",
        "print(mixed)\n",
        "\n",
        "rockbased = solarsys[1:4]\n",
        "gasbased = solarsys[4:]\n",
        "\n",
        "print('태양계의 암석형 행성은:',end=''); print(rockbased)\n",
        "print('태양계의 가스형 행성은:',end=''); print(gasbased)\n",
        "\n",
        "print('태양계의 암석형 행성은:'); print(rockbased)"
      ],
      "metadata": {
        "id": "p-xzHlX6G04I",
        "outputId": "bb0c325e-53b9-4ba8-db23-90a1ba2242cb",
        "colab": {
          "base_uri": "https://localhost:8080/"
        }
      },
      "execution_count": null,
      "outputs": [
        {
          "output_type": "stream",
          "name": "stdout",
          "text": [
            "['태양', '수성', '금성', '지구', '화성', '목성', '토성']\n",
            "['천왕성', '해왕성']\n",
            "['화성', '목성', '토성', '천왕성', '해왕성']\n",
            "태양계의 암석형 행성은:['수성', '금성', '지구']\n",
            "태양계의 가스형 행성은:['화성', '목성', '토성', '천왕성', '해왕성']\n",
            "태양계의 암석형 행성은:\n",
            "['수성', '금성', '지구']\n"
          ]
        }
      ]
    },
    {
      "cell_type": "code",
      "source": [
        "#리스트에서 짝수 구간 요소만 추출하기\n",
        "\n",
        "solarsys = ['태양','수성','금성','지구','화성','목성','토성','천왕성','해왕성']\n",
        "odd = solarsys[::2]\n",
        "even = solarsys[1::2]\n",
        "print(odd)\n",
        "print(even)"
      ],
      "metadata": {
        "id": "mUSnwL6ZKhNs",
        "outputId": "1aac1cec-9c0d-4f42-9c29-0300876ec739",
        "colab": {
          "base_uri": "https://localhost:8080/"
        }
      },
      "execution_count": null,
      "outputs": [
        {
          "output_type": "stream",
          "name": "stdout",
          "text": [
            "['태양', '금성', '화성', '토성', '해왕성']\n",
            "['수성', '지구', '목성', '천왕성']\n"
          ]
        }
      ]
    },
    {
      "cell_type": "code",
      "source": [
        "#More exercise\n",
        "\n",
        "numbers = list(range(15)) #우측 요소에 (list 입력없이) range(15)라고만 쓰면 0과 15만 출력됨 [주의]\n",
        "even = numbers[::2]\n",
        "odd = numbers[1::2]\n",
        "\n",
        "print(numbers)\n",
        "print(even)\n",
        "print(odd)"
      ],
      "metadata": {
        "id": "iD6T9PeBLfVP",
        "outputId": "8234d35b-4e92-40ab-ceaa-74970d065853",
        "colab": {
          "base_uri": "https://localhost:8080/"
        }
      },
      "execution_count": null,
      "outputs": [
        {
          "output_type": "stream",
          "name": "stdout",
          "text": [
            "[0, 1, 2, 3, 4, 5, 6, 7, 8, 9, 10, 11, 12, 13, 14]\n",
            "[0, 2, 4, 6, 8, 10, 12, 14]\n",
            "[1, 3, 5, 7, 9, 11, 13]\n"
          ]
        }
      ]
    },
    {
      "cell_type": "code",
      "source": [
        "#More exercise\n",
        "\n",
        "numbers = list(range(1,21))\n",
        "odd = numbers[::2]\n",
        "even = numbers[1::2]\n",
        "\n",
        "print(odd)\n",
        "print(even)"
      ],
      "metadata": {
        "id": "RpoW4vlLMzE5",
        "outputId": "a2b94716-7d0a-4695-a66a-07165ae0442a",
        "colab": {
          "base_uri": "https://localhost:8080/"
        }
      },
      "execution_count": null,
      "outputs": [
        {
          "output_type": "stream",
          "name": "stdout",
          "text": [
            "[1, 3, 5, 7, 9, 11, 13, 15, 17, 19]\n",
            "[2, 4, 6, 8, 10, 12, 14, 16, 18, 20]\n"
          ]
        }
      ]
    },
    {
      "cell_type": "code",
      "source": [
        "#리스트에서 요소 역순으로 만들기 Part1 \n",
        "\n",
        "forwardn = list(range(21))\n",
        "forwardn.reverse() # codelined을 ret = forwardn.reverse()라고 입력하면 결과는 None 로 출력됨. 따라서 ret = 를 삭제해야 함. ???왜 reverse() method 에서는 return 변수를 쓸 수 없나요? \n",
        "print(forwardn)"
      ],
      "metadata": {
        "id": "NH-WxzveNa2n",
        "outputId": "9aa456c6-38c9-4b9f-990e-c9366cf1fb26",
        "colab": {
          "base_uri": "https://localhost:8080/"
        }
      },
      "execution_count": null,
      "outputs": [
        {
          "output_type": "stream",
          "name": "stdout",
          "text": [
            "[20, 19, 18, 17, 16, 15, 14, 13, 12, 11, 10, 9, 8, 7, 6, 5, 4, 3, 2, 1, 0]\n"
          ]
        }
      ]
    },
    {
      "cell_type": "code",
      "source": [
        "#리스트에서 요소 역순으로 만들기 Part2 => \n",
        "\n",
        "forwardn = list(range(3))\n",
        "backwardn = reversed(forwardn)\n",
        "backward_slicing = forwardn[::-1]\n",
        "\n",
        "print('원본 리스트', end=''); print(forwardn)\n",
        "print('역순 리스트', end=''); print(list(backwardn)) #역순 함수 (reversed() function)은 print 코드라인에서 인자로 list 화 해야지 결과값이 나온다. \n",
        "print('슬라이싱을 이용한 역순 리스트', end=''); print(backward_slicing)\n"
      ],
      "metadata": {
        "id": "cgBYnQjxQX8d",
        "outputId": "28dbc158-8fd2-406e-be99-e74ee516d0cb",
        "colab": {
          "base_uri": "https://localhost:8080/"
        }
      },
      "execution_count": null,
      "outputs": [
        {
          "output_type": "stream",
          "name": "stdout",
          "text": [
            "원본 리스트[0, 1, 2]\n",
            "역순 리스트[2, 1, 0]\n",
            "슬라이싱을 이용한 역순 리스트[2, 1, 0]\n"
          ]
        }
      ]
    },
    {
      "cell_type": "code",
      "source": [
        "#리스트 합치기 (+)\n",
        "list1 = ['1', '2', '3']\n",
        "list2 = ['a','b','c']\n",
        "list3 = list1 + list2\n",
        "\n",
        "print(list3)"
      ],
      "metadata": {
        "id": "n2mHitfOSVH5",
        "outputId": "d04f9c2f-8c28-4c7b-a03a-6af12c5d2ba0",
        "colab": {
          "base_uri": "https://localhost:8080/"
        }
      },
      "execution_count": null,
      "outputs": [
        {
          "output_type": "stream",
          "name": "stdout",
          "text": [
            "['1', '2', '3', 'a', 'b', 'c']\n"
          ]
        }
      ]
    },
    {
      "cell_type": "code",
      "source": [
        "#리스트 반복하기 (*)\n",
        "ret1 = list(range(3))\n",
        "ret2 = ret1*3\n",
        "print(ret2)"
      ],
      "metadata": {
        "id": "eaenhElcTA9q",
        "outputId": "23677ed5-bf00-4169-802e-b5555f1def8b",
        "colab": {
          "base_uri": "https://localhost:8080/"
        }
      },
      "execution_count": null,
      "outputs": [
        {
          "output_type": "stream",
          "name": "stdout",
          "text": [
            "[0, 1, 2, 0, 1, 2, 0, 1, 2]\n"
          ]
        }
      ]
    },
    {
      "cell_type": "code",
      "source": [
        "#리스트에 요소 추가하기 (append() method)\n",
        "\n",
        "list = []\n",
        "for i in range(3):\n",
        "  txt = input('리스트에 추가할 값을 입력하세요(%d/3):' %(i+1))\n",
        "  list.append(txt)\n",
        "print(list)"
      ],
      "metadata": {
        "id": "yw6uCGfGTVgp",
        "outputId": "a60a66a5-0a23-4497-e82b-c426f093e9ac",
        "colab": {
          "base_uri": "https://localhost:8080/"
        }
      },
      "execution_count": null,
      "outputs": [
        {
          "output_type": "stream",
          "name": "stdout",
          "text": [
            "리스트에 추가할 값을 입력하세요(1/3):12\n",
            "리스트에 추가할 값을 입력하세요(2/3):14\n",
            "리스트에 추가할 값을 입력하세요(3/3):18\n",
            "['12', '14', '18']\n"
          ]
        }
      ]
    },
    {
      "cell_type": "code",
      "source": [
        "#리스트의 특정 위치에 요소 삽입하기 (insert() method) 이 때 인자는 2 개 필요하다. 끼워 드는 위치에 대한 인자와 삽입하는 인자에 해당하는 str 정보\n",
        "solarsys = ['태양','수성','금성','지구','화성','목성','토성','천왕성','해왕성']\n",
        "pos = solarsys.index('지구')  #Not confident about using index() method\n",
        "solarsys.insert(pos, '달') #Not confident about not using a variable\n",
        "print(solarsys)"
      ],
      "metadata": {
        "id": "VAbaWvq18KQi",
        "outputId": "82dddf3d-8a43-46a0-b20a-a13d5c5ddc52",
        "colab": {
          "base_uri": "https://localhost:8080/"
        }
      },
      "execution_count": null,
      "outputs": [
        {
          "output_type": "stream",
          "name": "stdout",
          "text": [
            "['태양', '수성', '금성', '지구', '화성', '소행성', '목성', '토성', '천왕성', '해왕성']\n"
          ]
        }
      ]
    },
    {
      "cell_type": "markdown",
      "source": [
        "### ☁️ Ⓜ️ variable 을 사용해야 제대로 결과값이 나오는 경우\n",
        "  - pos = solarsys.index('지구')\n",
        "\n",
        "### ☁️ Ⓜ️ index 번호를 쓸 때에는 variable 을 안쓰네...\n",
        "  -solarsys[3]\n",
        "\n",
        "### ☁️ Ⓜ️ 나는 위 예시에 대한 정확한 이해가 없음.\n",
        "\n",
        "이제껏 정리한 내용을 통털어 다시 본 다음에 위 사항에 대한 나름의 이해가 필요함"
      ],
      "metadata": {
        "id": "hW7Qjae4-Ou8"
      }
    },
    {
      "cell_type": "code",
      "source": [
        "#리스트의 특정 위치 요소/객체 제거하기 del keyword (del keyword 다음에 object 입력)\n",
        "\n",
        "solarsys = ['태양', '수성', '금성', '지구', '화성', '소행성', '목성', '토성', '천왕성', '해왕성']\n",
        "del solarsys[-1]\n",
        "print(solarsys)\n",
        "\n",
        "del solarsys[:5] \n",
        "print(solarsys)\n",
        "\n",
        "del solarsys[:-2]\n",
        "print(solarsys)\n",
        "\n",
        "solarsys = ['태양', '수성', '금성', '지구', '화성', '소행성', '목성', '토성', '천왕성', '해왕성']\n",
        "del solarsys\n",
        "print(solarsys) #메모리에서 solarsys 객체가 제거되었기 때문에 에러 메세지 뜬다 (e.g., NameError: name 'solarsys' is not defined)\n",
        "\n",
        "\n"
      ],
      "metadata": {
        "id": "4SdMQ3em9WHs",
        "outputId": "3f4cc6eb-4841-4574-80d9-3d692fd0e87d",
        "colab": {
          "base_uri": "https://localhost:8080/",
          "height": 288
        }
      },
      "execution_count": null,
      "outputs": [
        {
          "output_type": "stream",
          "name": "stdout",
          "text": [
            "['태양', '수성', '금성', '지구', '화성', '소행성', '목성', '토성', '천왕성']\n",
            "['소행성', '목성', '토성', '천왕성']\n",
            "['토성', '천왕성']\n"
          ]
        },
        {
          "output_type": "error",
          "ename": "NameError",
          "evalue": "ignored",
          "traceback": [
            "\u001b[0;31m---------------------------------------------------------------------------\u001b[0m",
            "\u001b[0;31mNameError\u001b[0m                                 Traceback (most recent call last)",
            "\u001b[0;32m<ipython-input-8-07f92c77836e>\u001b[0m in \u001b[0;36m<cell line: 15>\u001b[0;34m()\u001b[0m\n\u001b[1;32m     13\u001b[0m \u001b[0msolarsys\u001b[0m \u001b[0;34m=\u001b[0m \u001b[0;34m[\u001b[0m\u001b[0;34m'태양'\u001b[0m\u001b[0;34m,\u001b[0m \u001b[0;34m'수성'\u001b[0m\u001b[0;34m,\u001b[0m \u001b[0;34m'금성'\u001b[0m\u001b[0;34m,\u001b[0m \u001b[0;34m'지구'\u001b[0m\u001b[0;34m,\u001b[0m \u001b[0;34m'화성'\u001b[0m\u001b[0;34m,\u001b[0m \u001b[0;34m'소행성'\u001b[0m\u001b[0;34m,\u001b[0m \u001b[0;34m'목성'\u001b[0m\u001b[0;34m,\u001b[0m \u001b[0;34m'토성'\u001b[0m\u001b[0;34m,\u001b[0m \u001b[0;34m'천왕성'\u001b[0m\u001b[0;34m,\u001b[0m \u001b[0;34m'해왕성'\u001b[0m\u001b[0;34m]\u001b[0m\u001b[0;34m\u001b[0m\u001b[0;34m\u001b[0m\u001b[0m\n\u001b[1;32m     14\u001b[0m \u001b[0;32mdel\u001b[0m \u001b[0msolarsys\u001b[0m\u001b[0;34m\u001b[0m\u001b[0;34m\u001b[0m\u001b[0m\n\u001b[0;32m---> 15\u001b[0;31m \u001b[0mprint\u001b[0m\u001b[0;34m(\u001b[0m\u001b[0msolarsys\u001b[0m\u001b[0;34m)\u001b[0m\u001b[0;34m\u001b[0m\u001b[0;34m\u001b[0m\u001b[0m\n\u001b[0m\u001b[1;32m     16\u001b[0m \u001b[0;34m\u001b[0m\u001b[0m\n\u001b[1;32m     17\u001b[0m \u001b[0;34m\u001b[0m\u001b[0m\n",
            "\u001b[0;31mNameError\u001b[0m: name 'solarsys' is not defined"
          ]
        }
      ]
    },
    {
      "cell_type": "code",
      "source": [
        "#리스트의 특정 위치 요소 제거하기 (remove() method)\n",
        "\n",
        "solarsys = ['태양', '수성', '금성', '달', '지구', '화성', '소행성', '목성', '토성', '천왕성', '해왕성']\n",
        "solarsys.remove('달')\n",
        "print(solarsys)"
      ],
      "metadata": {
        "id": "45UxxqIGFuoy",
        "outputId": "93528dbf-18df-4755-d5a8-871f386e9e7e",
        "colab": {
          "base_uri": "https://localhost:8080/"
        }
      },
      "execution_count": null,
      "outputs": [
        {
          "output_type": "stream",
          "name": "stdout",
          "text": [
            "['태양', '수성', '금성', '지구', '화성', '소행성', '목성', '토성', '천왕성', '해왕성']\n"
          ]
        }
      ]
    },
    {
      "cell_type": "code",
      "source": [
        "#리스트에 있는 요소 개수 구하기 (len() function (Python 내장 함수))\n",
        "\n",
        "solarsys = ['태양', '수성', '금성', '달', '지구', '화성', '소행성', '목성', '토성', '천왕성', '해왕성']\n",
        "ret = len(solarsys) \n",
        "print(ret)"
      ],
      "metadata": {
        "id": "ur5Q_80jZk-S",
        "outputId": "fccd841b-a9c7-4b95-86e9-771cbfeab089",
        "colab": {
          "base_uri": "https://localhost:8080/"
        }
      },
      "execution_count": null,
      "outputs": [
        {
          "output_type": "stream",
          "name": "stdout",
          "text": [
            "11\n"
          ]
        }
      ]
    },
    {
      "cell_type": "code",
      "source": [
        "#리스트에서 특정 요소 개수 구하기 (count() function)\n",
        "\n",
        "solarsys = ['태양', '수성', '금성', '달', '지구', '달', '화성', '소행성', '목성', '토성', '천왕성', '해왕성', '태양', '수성', '금성', '달', '지구', '달', '화성', '소행성', '목성', '토성', '천왕성', '해왕성']\n",
        "\n",
        "cnt = solarsys.count('달')\n",
        "print(cnt)\n",
        "\n",
        "#cf., index() method 는 position 을 구하는 것이다. \n",
        "inx = solarsys.index('달')\n",
        "print(inx) "
      ],
      "metadata": {
        "id": "8y-VzRbQaBuD",
        "outputId": "8b0c276e-1ba8-42b4-f022-b4e22c334928",
        "colab": {
          "base_uri": "https://localhost:8080/"
        }
      },
      "execution_count": null,
      "outputs": [
        {
          "output_type": "stream",
          "name": "stdout",
          "text": [
            "4\n",
            "3\n"
          ]
        }
      ]
    },
    {
      "cell_type": "code",
      "source": [
        "#리스트 요소 정렬하기 (sort () method) The original list is manipulated as a result. \n",
        "\n",
        "solarsys = ['태양', '수성', '금성', '달', '지구', '화성', '소행성', '목성', '토성', '천왕성', '해왕성']\n",
        "solarsys.sort() #ascending order\n",
        "print(solarsys)\n",
        "\n",
        "solarsys.sort(reverse=True)\n",
        "print(solarsys) #descending order"
      ],
      "metadata": {
        "id": "tb6mbT8SeWCE",
        "outputId": "f6eb0723-b4cb-4850-dd56-bd5dbab3bc19",
        "colab": {
          "base_uri": "https://localhost:8080/"
        }
      },
      "execution_count": null,
      "outputs": [
        {
          "output_type": "stream",
          "name": "stdout",
          "text": [
            "['금성', '달', '목성', '소행성', '수성', '지구', '천왕성', '태양', '토성', '해왕성', '화성']\n",
            "['화성', '해왕성', '토성', '태양', '천왕성', '지구', '수성', '소행성', '목성', '달', '금성']\n"
          ]
        }
      ]
    },
    {
      "cell_type": "code",
      "source": [
        "#리스트 요소 정렬하기 (sorted () function) The original list is intact and a sorted result is returned. \n",
        "\n",
        "solarsys = ['태양', '수성', '금성', '달', '지구', '화성', '소행성', '목성', '토성', '천왕성', '해왕성']\n",
        "ret1 = sorted(solarsys)\n",
        "ret2 = sorted(solarsys, reverse=True)\n",
        "print(solarsys)\n",
        "print(ret1)\n",
        "print(ret2)"
      ],
      "metadata": {
        "id": "L3vVWWfkfWfT",
        "outputId": "d7dc0615-b51e-4ed7-e1ed-dee55eb9b661",
        "colab": {
          "base_uri": "https://localhost:8080/"
        }
      },
      "execution_count": null,
      "outputs": [
        {
          "output_type": "stream",
          "name": "stdout",
          "text": [
            "['태양', '수성', '금성', '달', '지구', '화성', '소행성', '목성', '토성', '천왕성', '해왕성']\n",
            "['금성', '달', '목성', '소행성', '수성', '지구', '천왕성', '태양', '토성', '해왕성', '화성']\n",
            "['화성', '해왕성', '토성', '태양', '천왕성', '지구', '수성', '소행성', '목성', '달', '금성']\n"
          ]
        }
      ]
    },
    {
      "cell_type": "code",
      "source": [
        "#리스트 요소 무작위로 섞기\n",
        "\n",
        "from random import shuffle\n",
        "\n",
        "listdata = list(range(1,11))\n",
        "for i in range(3): # 즉, 0, 1, 2 세 번 반복하라는 뜻\n",
        "  shuffle(listdata)\n",
        "  print(listdata)\n",
        "\n",
        "\n",
        "#리스트 요소 무작위로 섞기를 내가 임의로 변형 시켜보니까 결과가 파이썬200제와 다름. 나는 이 함수가 객체를 리턴하는 것에 대해 더 정확히 이해할 필요가 있음.\n",
        "listdata = list(range(1,11))\n",
        "for i in range(3): # 즉, 0, 1, 2 세 번 반복하라는 뜻\n",
        "  ret = shuffle(listdata)\n",
        "  print(ret)\n",
        "\n",
        "else:\n",
        "  print(listdata)\n",
        "\n"
      ],
      "metadata": {
        "id": "E7vGHSqjqLTL",
        "outputId": "db0d3001-e6a3-4abc-c00a-a91de690f699",
        "colab": {
          "base_uri": "https://localhost:8080/"
        }
      },
      "execution_count": 8,
      "outputs": [
        {
          "output_type": "stream",
          "name": "stdout",
          "text": [
            "[10, 8, 4, 1, 5, 2, 9, 6, 3, 7]\n",
            "[10, 5, 4, 1, 6, 7, 9, 8, 3, 2]\n",
            "[7, 4, 8, 5, 2, 1, 10, 3, 9, 6]\n",
            "None\n",
            "None\n",
            "None\n",
            "[8, 6, 10, 3, 1, 7, 4, 2, 5, 9]\n"
          ]
        }
      ]
    },
    {
      "cell_type": "code",
      "source": [
        "#리스트의 모든 요소를 인덱스와 쌍으로 추출하기 (enumerate()function)\n",
        "\n",
        "solarsys = ['태양', '수성', '금성', '지구', '화성', '목성', '토성', '천왕성', '해왕성']\n",
        "ret = list(enumerate(solarsys)) \n",
        "print(ret)\n",
        "\n",
        "for i, body in enumerate(solarsys): #in 다음에 반복 가능한 자료\n",
        "  print('태양계의 %d번째 천체:%s' %(i, body))"
      ],
      "metadata": {
        "id": "i_QaC9IKs_TZ",
        "outputId": "6ed07591-0822-49d9-a4f3-0f3335788f49",
        "colab": {
          "base_uri": "https://localhost:8080/"
        }
      },
      "execution_count": 10,
      "outputs": [
        {
          "output_type": "stream",
          "name": "stdout",
          "text": [
            "[(0, '태양'), (1, '수성'), (2, '금성'), (3, '지구'), (4, '화성'), (5, '목성'), (6, '토성'), (7, '천왕성'), (8, '해왕성')]\n",
            "태양계의 0번째 천체:태양\n",
            "태양계의 1번째 천체:수성\n",
            "태양계의 2번째 천체:금성\n",
            "태양계의 3번째 천체:지구\n",
            "태양계의 4번째 천체:화성\n",
            "태양계의 5번째 천체:목성\n",
            "태양계의 6번째 천체:토성\n",
            "태양계의 7번째 천체:천왕성\n",
            "태양계의 8번째 천체:해왕성\n"
          ]
        }
      ]
    },
    {
      "cell_type": "code",
      "source": [
        "#리스트의 모든 요소의 합 구하기 (sum()function)\n",
        "\n",
        "listdata = list(range(1,21))\n",
        "ret = sum(listdata)\n",
        "print(ret)"
      ],
      "metadata": {
        "id": "J8jtTU2UvpDy",
        "outputId": "17f706a9-963a-4e04-8adb-50d9a1bcbab5",
        "colab": {
          "base_uri": "https://localhost:8080/"
        }
      },
      "execution_count": 11,
      "outputs": [
        {
          "output_type": "stream",
          "name": "stdout",
          "text": [
            "210\n"
          ]
        }
      ]
    },
    {
      "cell_type": "code",
      "source": [
        "#리스트 요소가 모두 참인지 확인하기 (all()function; any()function)"
      ],
      "metadata": {
        "id": "lZ0v0wQ4whkV"
      },
      "execution_count": null,
      "outputs": []
    }
  ]
}