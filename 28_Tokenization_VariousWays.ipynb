{
  "nbformat": 4,
  "nbformat_minor": 0,
  "metadata": {
    "colab": {
      "provenance": [],
      "authorship_tag": "ABX9TyNURo8XyfDQd5XXv2xkgqPs",
      "include_colab_link": true
    },
    "kernelspec": {
      "name": "python3",
      "display_name": "Python 3"
    },
    "language_info": {
      "name": "python"
    },
    "widgets": {
      "application/vnd.jupyter.widget-state+json": {
        "64e585d84be44966934239a6c3692e11": {
          "model_module": "@jupyter-widgets/controls",
          "model_name": "HBoxModel",
          "model_module_version": "1.5.0",
          "state": {
            "_dom_classes": [],
            "_model_module": "@jupyter-widgets/controls",
            "_model_module_version": "1.5.0",
            "_model_name": "HBoxModel",
            "_view_count": null,
            "_view_module": "@jupyter-widgets/controls",
            "_view_module_version": "1.5.0",
            "_view_name": "HBoxView",
            "box_style": "",
            "children": [
              "IPY_MODEL_74b7f82b752140cdaada48ac79b68854",
              "IPY_MODEL_44510ad646c74f838d77066bba9bb4c4"
            ],
            "layout": "IPY_MODEL_05c69a23897e411da7bf25544a8de624"
          }
        },
        "74b7f82b752140cdaada48ac79b68854": {
          "model_module": "@jupyter-widgets/controls",
          "model_name": "ImageModel",
          "model_module_version": "1.5.0",
          "state": {
            "_dom_classes": [],
            "_model_module": "@jupyter-widgets/controls",
            "_model_module_version": "1.5.0",
            "_model_name": "ImageModel",
            "_view_count": null,
            "_view_module": "@jupyter-widgets/controls",
            "_view_module_version": "1.5.0",
            "_view_name": "ImageView",
            "format": "png",
            "height": "600",
            "layout": "IPY_MODEL_019424edc1044790b5e035540cff84f4",
            "width": "700"
          }
        },
        "44510ad646c74f838d77066bba9bb4c4": {
          "model_module": "@jupyter-widgets/controls",
          "model_name": "VBoxModel",
          "model_module_version": "1.5.0",
          "state": {
            "_dom_classes": [],
            "_model_module": "@jupyter-widgets/controls",
            "_model_module_version": "1.5.0",
            "_model_name": "VBoxModel",
            "_view_count": null,
            "_view_module": "@jupyter-widgets/controls",
            "_view_module_version": "1.5.0",
            "_view_name": "VBoxView",
            "box_style": "",
            "children": [
              "IPY_MODEL_1c76f5704a444a0593f1133897744edd",
              "IPY_MODEL_e7104164ccfb48b69a04488fd853131f",
              "IPY_MODEL_9859b8c4f6d84c9d801fe9622ad2e68d"
            ],
            "layout": "IPY_MODEL_aebe58e9de5a41d99e4e9fc7a343d580"
          }
        },
        "05c69a23897e411da7bf25544a8de624": {
          "model_module": "@jupyter-widgets/base",
          "model_name": "LayoutModel",
          "model_module_version": "1.2.0",
          "state": {
            "_model_module": "@jupyter-widgets/base",
            "_model_module_version": "1.2.0",
            "_model_name": "LayoutModel",
            "_view_count": null,
            "_view_module": "@jupyter-widgets/base",
            "_view_module_version": "1.2.0",
            "_view_name": "LayoutView",
            "align_content": null,
            "align_items": null,
            "align_self": null,
            "border": null,
            "bottom": null,
            "display": null,
            "flex": null,
            "flex_flow": null,
            "grid_area": null,
            "grid_auto_columns": null,
            "grid_auto_flow": null,
            "grid_auto_rows": null,
            "grid_column": null,
            "grid_gap": null,
            "grid_row": null,
            "grid_template_areas": null,
            "grid_template_columns": null,
            "grid_template_rows": null,
            "height": null,
            "justify_content": null,
            "justify_items": null,
            "left": null,
            "margin": null,
            "max_height": null,
            "max_width": null,
            "min_height": null,
            "min_width": null,
            "object_fit": null,
            "object_position": null,
            "order": null,
            "overflow": null,
            "overflow_x": null,
            "overflow_y": null,
            "padding": null,
            "right": null,
            "top": null,
            "visibility": null,
            "width": null
          }
        },
        "019424edc1044790b5e035540cff84f4": {
          "model_module": "@jupyter-widgets/base",
          "model_name": "LayoutModel",
          "model_module_version": "1.2.0",
          "state": {
            "_model_module": "@jupyter-widgets/base",
            "_model_module_version": "1.2.0",
            "_model_name": "LayoutModel",
            "_view_count": null,
            "_view_module": "@jupyter-widgets/base",
            "_view_module_version": "1.2.0",
            "_view_name": "LayoutView",
            "align_content": null,
            "align_items": null,
            "align_self": null,
            "border": null,
            "bottom": null,
            "display": null,
            "flex": null,
            "flex_flow": null,
            "grid_area": null,
            "grid_auto_columns": null,
            "grid_auto_flow": null,
            "grid_auto_rows": null,
            "grid_column": null,
            "grid_gap": null,
            "grid_row": null,
            "grid_template_areas": null,
            "grid_template_columns": null,
            "grid_template_rows": null,
            "height": null,
            "justify_content": null,
            "justify_items": null,
            "left": null,
            "margin": null,
            "max_height": null,
            "max_width": null,
            "min_height": null,
            "min_width": null,
            "object_fit": null,
            "object_position": null,
            "order": null,
            "overflow": null,
            "overflow_x": null,
            "overflow_y": null,
            "padding": null,
            "right": null,
            "top": null,
            "visibility": null,
            "width": null
          }
        },
        "1c76f5704a444a0593f1133897744edd": {
          "model_module": "@jupyter-widgets/controls",
          "model_name": "ButtonModel",
          "model_module_version": "1.5.0",
          "state": {
            "_dom_classes": [],
            "_model_module": "@jupyter-widgets/controls",
            "_model_module_version": "1.5.0",
            "_model_name": "ButtonModel",
            "_view_count": null,
            "_view_module": "@jupyter-widgets/controls",
            "_view_module_version": "1.5.0",
            "_view_name": "ButtonView",
            "button_style": "",
            "description": "1",
            "disabled": false,
            "icon": "",
            "layout": "IPY_MODEL_3afb45b862624dd781a6b22f45c900ce",
            "style": "IPY_MODEL_c13015e409994f9789dc59cf661bed7c",
            "tooltip": ""
          }
        },
        "e7104164ccfb48b69a04488fd853131f": {
          "model_module": "@jupyter-widgets/controls",
          "model_name": "ButtonModel",
          "model_module_version": "1.5.0",
          "state": {
            "_dom_classes": [],
            "_model_module": "@jupyter-widgets/controls",
            "_model_module_version": "1.5.0",
            "_model_name": "ButtonModel",
            "_view_count": null,
            "_view_module": "@jupyter-widgets/controls",
            "_view_module_version": "1.5.0",
            "_view_name": "ButtonView",
            "button_style": "",
            "description": "2",
            "disabled": false,
            "icon": "",
            "layout": "IPY_MODEL_3afb45b862624dd781a6b22f45c900ce",
            "style": "IPY_MODEL_892a748298184eac8e9a8ce85d85b485",
            "tooltip": ""
          }
        },
        "9859b8c4f6d84c9d801fe9622ad2e68d": {
          "model_module": "@jupyter-widgets/controls",
          "model_name": "ButtonModel",
          "model_module_version": "1.5.0",
          "state": {
            "_dom_classes": [],
            "_model_module": "@jupyter-widgets/controls",
            "_model_module_version": "1.5.0",
            "_model_name": "ButtonModel",
            "_view_count": null,
            "_view_module": "@jupyter-widgets/controls",
            "_view_module_version": "1.5.0",
            "_view_name": "ButtonView",
            "button_style": "",
            "description": "3",
            "disabled": false,
            "icon": "",
            "layout": "IPY_MODEL_3afb45b862624dd781a6b22f45c900ce",
            "style": "IPY_MODEL_94135c3e612d461fbf4a9812c8c2bf59",
            "tooltip": ""
          }
        },
        "aebe58e9de5a41d99e4e9fc7a343d580": {
          "model_module": "@jupyter-widgets/base",
          "model_name": "LayoutModel",
          "model_module_version": "1.2.0",
          "state": {
            "_model_module": "@jupyter-widgets/base",
            "_model_module_version": "1.2.0",
            "_model_name": "LayoutModel",
            "_view_count": null,
            "_view_module": "@jupyter-widgets/base",
            "_view_module_version": "1.2.0",
            "_view_name": "LayoutView",
            "align_content": null,
            "align_items": null,
            "align_self": null,
            "border": null,
            "bottom": null,
            "display": null,
            "flex": null,
            "flex_flow": null,
            "grid_area": null,
            "grid_auto_columns": null,
            "grid_auto_flow": null,
            "grid_auto_rows": null,
            "grid_column": null,
            "grid_gap": null,
            "grid_row": null,
            "grid_template_areas": null,
            "grid_template_columns": null,
            "grid_template_rows": null,
            "height": null,
            "justify_content": null,
            "justify_items": null,
            "left": null,
            "margin": null,
            "max_height": null,
            "max_width": null,
            "min_height": null,
            "min_width": null,
            "object_fit": null,
            "object_position": null,
            "order": null,
            "overflow": null,
            "overflow_x": null,
            "overflow_y": null,
            "padding": null,
            "right": null,
            "top": null,
            "visibility": null,
            "width": null
          }
        },
        "3afb45b862624dd781a6b22f45c900ce": {
          "model_module": "@jupyter-widgets/base",
          "model_name": "LayoutModel",
          "model_module_version": "1.2.0",
          "state": {
            "_model_module": "@jupyter-widgets/base",
            "_model_module_version": "1.2.0",
            "_model_name": "LayoutModel",
            "_view_count": null,
            "_view_module": "@jupyter-widgets/base",
            "_view_module_version": "1.2.0",
            "_view_name": "LayoutView",
            "align_content": null,
            "align_items": null,
            "align_self": null,
            "border": null,
            "bottom": null,
            "display": null,
            "flex": null,
            "flex_flow": null,
            "grid_area": null,
            "grid_auto_columns": null,
            "grid_auto_flow": null,
            "grid_auto_rows": null,
            "grid_column": null,
            "grid_gap": null,
            "grid_row": null,
            "grid_template_areas": null,
            "grid_template_columns": null,
            "grid_template_rows": null,
            "height": "30px",
            "justify_content": null,
            "justify_items": null,
            "left": null,
            "margin": null,
            "max_height": null,
            "max_width": null,
            "min_height": null,
            "min_width": null,
            "object_fit": null,
            "object_position": null,
            "order": null,
            "overflow": null,
            "overflow_x": null,
            "overflow_y": null,
            "padding": null,
            "right": null,
            "top": null,
            "visibility": null,
            "width": "50px"
          }
        },
        "c13015e409994f9789dc59cf661bed7c": {
          "model_module": "@jupyter-widgets/controls",
          "model_name": "ButtonStyleModel",
          "model_module_version": "1.5.0",
          "state": {
            "_model_module": "@jupyter-widgets/controls",
            "_model_module_version": "1.5.0",
            "_model_name": "ButtonStyleModel",
            "_view_count": null,
            "_view_module": "@jupyter-widgets/base",
            "_view_module_version": "1.2.0",
            "_view_name": "StyleView",
            "button_color": null,
            "font_weight": ""
          }
        },
        "892a748298184eac8e9a8ce85d85b485": {
          "model_module": "@jupyter-widgets/controls",
          "model_name": "ButtonStyleModel",
          "model_module_version": "1.5.0",
          "state": {
            "_model_module": "@jupyter-widgets/controls",
            "_model_module_version": "1.5.0",
            "_model_name": "ButtonStyleModel",
            "_view_count": null,
            "_view_module": "@jupyter-widgets/base",
            "_view_module_version": "1.2.0",
            "_view_name": "StyleView",
            "button_color": null,
            "font_weight": ""
          }
        },
        "94135c3e612d461fbf4a9812c8c2bf59": {
          "model_module": "@jupyter-widgets/controls",
          "model_name": "ButtonStyleModel",
          "model_module_version": "1.5.0",
          "state": {
            "_model_module": "@jupyter-widgets/controls",
            "_model_module_version": "1.5.0",
            "_model_name": "ButtonStyleModel",
            "_view_count": null,
            "_view_module": "@jupyter-widgets/base",
            "_view_module_version": "1.2.0",
            "_view_name": "StyleView",
            "button_color": null,
            "font_weight": ""
          }
        }
      }
    }
  },
  "cells": [
    {
      "cell_type": "markdown",
      "metadata": {
        "id": "view-in-github",
        "colab_type": "text"
      },
      "source": [
        "<a href=\"https://colab.research.google.com/github/ms624atyale/Python_Basics/blob/main/28_Tokenization_VariousWays.ipynb\" target=\"_parent\"><img src=\"https://colab.research.google.com/assets/colab-badge.svg\" alt=\"Open In Colab\"/></a>"
      ]
    },
    {
      "cell_type": "code",
      "source": [
        "#@markdown Python library & 전처리\n",
        "from IPython.display import display\n",
        "import ipywidgets as widgets\n",
        "import requests\n",
        "\n",
        "def on_button_click(button):\n",
        "    sn = int(button.description) - 1\n",
        "    image.value = requests.get(urls[sn]).content\n",
        "\n",
        "urls = [ \"https://raw.githubusercontent.com/junkyuhufs/workshop/main/slide.07.png\",\n",
        "         \"https://raw.githubusercontent.com/junkyuhufs/workshop/main/slide.08.png\",\n",
        "         \"https://raw.githubusercontent.com/junkyuhufs/workshop/main/slide.11.png\"\n",
        "]\n",
        "\n",
        "button_layout = widgets.Layout(width='50px', height='30px')\n",
        "\n",
        "buttons = [widgets.Button(description=str(i), layout=button_layout) for i in range(1, 4)]\n",
        "for button in buttons:\n",
        "    button.on_click(on_button_click)\n",
        "\n",
        "image = widgets.Image(value=requests.get(urls[0]).content, width=\"700\", height=\"600\")\n",
        "\n",
        "display(widgets.HBox([image, widgets.VBox(buttons)]))"
      ],
      "metadata": {
        "id": "Tj8kdbQDwcn3",
        "outputId": "a07e8497-5e0e-4583-f0d1-85ab3d10af55",
        "colab": {
          "base_uri": "https://localhost:8080/",
          "height": 415,
          "referenced_widgets": [
            "64e585d84be44966934239a6c3692e11",
            "74b7f82b752140cdaada48ac79b68854",
            "44510ad646c74f838d77066bba9bb4c4",
            "05c69a23897e411da7bf25544a8de624",
            "019424edc1044790b5e035540cff84f4",
            "1c76f5704a444a0593f1133897744edd",
            "e7104164ccfb48b69a04488fd853131f",
            "9859b8c4f6d84c9d801fe9622ad2e68d",
            "aebe58e9de5a41d99e4e9fc7a343d580",
            "3afb45b862624dd781a6b22f45c900ce",
            "c13015e409994f9789dc59cf661bed7c",
            "892a748298184eac8e9a8ce85d85b485",
            "94135c3e612d461fbf4a9812c8c2bf59"
          ]
        }
      },
      "execution_count": 17,
      "outputs": [
        {
          "output_type": "display_data",
          "data": {
            "text/plain": [
              "HBox(children=(Image(value=b'\\x89PNG\\r\\n\\x1a\\n\\x00\\x00\\x00\\rIHDR\\x00\\x00\\x03+\\x00\\x00\\x01\\xc8\\x08\\x06\\x00\\x00\\…"
            ],
            "application/vnd.jupyter.widget-view+json": {
              "version_major": 2,
              "version_minor": 0,
              "model_id": "64e585d84be44966934239a6c3692e11"
            }
          },
          "metadata": {}
        }
      ]
    },
    {
      "cell_type": "markdown",
      "source": [
        "4. 문장 토큰화(Sentence Tokenization)\n",
        "이번에는 토큰의 단위가 문장(sentence)일 경우를 논의해보겠습니다. 이 작업은 갖고있는 코퍼스 내에서 문장 단위로 구분하는 작업으로 때로는 문장 분류(sentence segmentation)라고도 부릅니다. 보통 갖고있는 코퍼스가 정제되지 않은 상태라면, 코퍼스는 문장 단위로 구분되어 있지 않아서 이를 사용하고자 하는 용도에 맞게 문장 토큰화가 필요할 수 있습니다.\n",
        "\n",
        "어떻게 주어진 코퍼스로부터 문장 단위로 분류할 수 있을까요? 직관적으로 생각해봤을 때는 ?나 마침표(.)나 ! 기준으로 문장을 잘라내면 되지 않을까라고 생각할 수 있지만, 꼭 그렇지만은 않습니다. !나 ?는 문장의 구분을 위한 꽤 명확한 구분자(boundary) 역할을 하지만 마침표는 그렇지 않기 때문입니다. 마침표는 문장의 끝이 아니더라도 등장할 수 있습니다.\n",
        "\n",
        "EX1) IP 192.168.56.31 서버에 들어가서 로그 파일 저장해서 aaa@gmail.com로 결과 좀 보내줘. 그 후 점심 먹으러 가자.\n",
        "\n",
        "EX2) Since I'm actively looking for Ph.D. students, I get the same question a dozen times every year.\n",
        "\n",
        "예를 들어 위의 예제에 마침표를 기준으로 문장 토큰화를 적용해본다면 어떨까요? 첫번째 예제에서는 보내줘.에서 그리고 두번째 예제에서는 year.에서 처음으로 문장이 끝난 것으로 인식하는 것이 제대로 문장의 끝을 예측했다고 볼 수 있습니다. 하지만 단순히 마침표(.)로 문장을 구분짓는다고 가정하면, 문장의 끝이 나오기 전에 이미 마침표가 여러번 등장하여 예상한 결과가 나오지 않게 됩니다.\n",
        "\n",
        "사용하는 코퍼스가 어떤 국적의 언어인지, 또는 해당 코퍼스 내에서 특수문자들이 어떻게 사용되고 있는지에 따라서 직접 규칙들을 정의해볼 수 있겠습니다. 100% 정확도를 얻는 일은 쉬운 일이 아닌데, 갖고있는 코퍼스 데이터에 오타나, 문장의 구성이 엉망이라면 정해놓은 규칙이 소용이 없을 수 있기 때문입니다.\n",
        "\n",
        "NLTK에서는 영어 문장의 토큰화를 수행하는 sent_tokenize를 지원하고 있습니다. NLTK를 통해 문장 토큰화를 실습해보겠습니다."
      ],
      "metadata": {
        "id": "PHOoPaU2OkGw"
      }
    },
    {
      "cell_type": "code",
      "execution_count": 18,
      "metadata": {
        "id": "qWcgp3AzSyi4",
        "outputId": "98239586-b732-4791-e8b7-c155328afcab",
        "colab": {
          "base_uri": "https://localhost:8080/"
        }
      },
      "outputs": [
        {
          "output_type": "stream",
          "name": "stdout",
          "text": [
            "Looking in indexes: https://pypi.org/simple, https://us-python.pkg.dev/colab-wheels/public/simple/\n",
            "Requirement already satisfied: nltk in /usr/local/lib/python3.10/dist-packages (3.8.1)\n",
            "Requirement already satisfied: click in /usr/local/lib/python3.10/dist-packages (from nltk) (8.1.3)\n",
            "Requirement already satisfied: joblib in /usr/local/lib/python3.10/dist-packages (from nltk) (1.2.0)\n",
            "Requirement already satisfied: regex>=2021.8.3 in /usr/local/lib/python3.10/dist-packages (from nltk) (2022.10.31)\n",
            "Requirement already satisfied: tqdm in /usr/local/lib/python3.10/dist-packages (from nltk) (4.65.0)\n"
          ]
        },
        {
          "output_type": "stream",
          "name": "stderr",
          "text": [
            "[nltk_data] Downloading package punkt to /root/nltk_data...\n",
            "[nltk_data]   Package punkt is already up-to-date!\n"
          ]
        },
        {
          "output_type": "execute_result",
          "data": {
            "text/plain": [
              "True"
            ]
          },
          "metadata": {},
          "execution_count": 18
        }
      ],
      "source": [
        "!pip install nltk\n",
        "import nltk\n",
        "nltk.download('punkt')"
      ]
    },
    {
      "cell_type": "markdown",
      "source": [
        "## 🐹 sent_tokenize()\n",
        "\n",
        "* I am not happy with results with conjunctions, post-numbers, etc. "
      ],
      "metadata": {
        "id": "eZ37_yhXOmFC"
      }
    },
    {
      "cell_type": "code",
      "source": [
        "from nltk.tokenize import sent_tokenize\n",
        "\n",
        "sentences = \"I'm actively looking for Ph.D. students. \\\n",
        "and you are a Ph.D student. \\\n",
        "Visit IP 192.168.56.31 \\\n",
        "and send the results to my email account. \\\n",
        "It's email@gmail.com.\"\n",
        "\n",
        "sentence = sent_tokenize(sentences)\n",
        "print('문장 토큰화: %s' %sentence)"
      ],
      "metadata": {
        "colab": {
          "base_uri": "https://localhost:8080/"
        },
        "id": "kv8s_PN-OlG_",
        "outputId": "0f15a4ce-7fbc-4fd4-dd4c-02ae12250c45"
      },
      "execution_count": 19,
      "outputs": [
        {
          "output_type": "stream",
          "name": "stdout",
          "text": [
            "문장 토큰화: [\"I'm actively looking for Ph.D. students.\", 'and you are a Ph.D student.', 'Visit IP 192.168.56.31 and send the results to my email account.', \"It's email@gmail.com.\"]\n"
          ]
        }
      ]
    },
    {
      "cell_type": "markdown",
      "source": [
        "# 🍔 🍟 🍩  <font color = 'blue'> **Under construction**\n",
        "\n",
        "### <font color = 'red'> **Corpus data (e.g., crawling) should be preprocessed before further analysis by means of Cleaning(정제), Normalization(정규화), & Tokenization(토큰화)**. \n",
        "* [English Tokenization](https://wikidocs.net/21698)\n",
        "\n",
        "## Cleaning\n",
        "* 구두점(punctuation (e.g., \".\", \",\", \"?\", \"!\", \";\", \":\")을 지우기\n",
        "* 특수문자 모두 지우기\n",
        "\n",
        "<font color = 'green'> Simplest tokenization: 구두점 지운 후 띄어쓰기(whitespace)를 기준으로 잘라내기 제외\n",
        "\n",
        "\n",
        "## Normalization\n",
        "\n",
        "* Stemming: am → am, the going → the go, having → hav\n",
        "* Lemmatization: am → be, the going → the going, having → have\n",
        "\n",
        "\n",
        "## Tokenization \n",
        "\n",
        "* Tokenization: 주어진 코퍼스(corpus)에서 토큰(token)이라 불리는 단위 (e.g., word, phrase, strings with meaning)로 나누는 작업\n",
        "* 토큰의 단위가 상황에 따라 다르지만, 보통 의미있는 단위로 토큰을 정의합니다. \n",
        "* NLTK, KoNLPY를 통해 실습을 진행하며 토큰화\n",
        "\n"
      ],
      "metadata": {
        "id": "gb1sh28mTSox"
      }
    },
    {
      "cell_type": "markdown",
      "source": [
        "🆘 What is PunktSentenceTokenizer?\n",
        "For more information read the original article\n",
        "In NLTK, PUNKT is an unsupervised trainable model, which means it can be trained on unlabeled data (Data that has not been tagged with information identifying its characteristics, properties, or categories is referred to as unlabeled data.)\n",
        "\n",
        "It generates a list of sentences from a text by developing a model for words that start sentences, prepositional phrases, and abbreviations using an unsupervised technique. Without first being put to use, it has to be trained on a sizable amount of plaintext in the intended language."
      ],
      "metadata": {
        "id": "ERqTcAMoywIU"
      }
    },
    {
      "cell_type": "code",
      "source": [
        "text = 'Here’s to the crazy ones, the misfits, the rebels, the troublemakers, the round pegs in the square holes. \\\n",
        "The ones who see things differently — they’re not fond of rules. \\\n",
        "I wanted to pay with a twenty-dolloar bill; however, she couldn’t get cash. \\\n",
        "I like Brown’s East back pack,\\\n",
        "I’ve got a big trouble, but other people were having lots of fun. \\\n",
        "I like Brown’s East back pack,\\\n",
        "but she doesn’t.'"
      ],
      "metadata": {
        "id": "4odDoSnPS18k"
      },
      "execution_count": 51,
      "outputs": []
    },
    {
      "cell_type": "code",
      "source": [
        "print(text)"
      ],
      "metadata": {
        "colab": {
          "base_uri": "https://localhost:8080/"
        },
        "id": "QovcT0MjS7gp",
        "outputId": "7ac86d74-b2a0-4ed0-fa92-ccd7c7facaf2"
      },
      "execution_count": 52,
      "outputs": [
        {
          "output_type": "stream",
          "name": "stdout",
          "text": [
            "Here’s to the crazy ones, the misfits, the rebels, the troublemakers, the round pegs in the square holes. The ones who see things differently — they’re not fond of rules. I wanted to pay with a twenty-dolloar bill; however, she couldn’t get cash. I like Brown’s East back pack,I’ve got a big trouble, but other people were having lots of fun. I like Brown’s East back pack,but she doesn’t.\n"
          ]
        }
      ]
    },
    {
      "cell_type": "code",
      "source": [
        "file = open('/content/sample_data/exercise/text_symbol_sample.txt','rt')\n",
        "file.read()"
      ],
      "metadata": {
        "colab": {
          "base_uri": "https://localhost:8080/",
          "height": 87
        },
        "id": "gbFvGofSTFDR",
        "outputId": "975841bc-d28e-4dc2-f2f6-a29a7f582900"
      },
      "execution_count": 53,
      "outputs": [
        {
          "output_type": "execute_result",
          "data": {
            "text/plain": [
              "'Here’s to the crazy ones, the misfits, the rebels, the troublemakers, the round pegs in the square holes.\\nThe ones who see things differently — they’re not fond of rules. \\nI wanted to pay with a twenty-dolloar bill; \\nhowever, but she couldn’t get cash. \\nI’ve got a big trouble, but other people were having lots of fun. \\nI like Brown’s East back pack,\\nbut she doesn’t.'"
            ],
            "application/vnd.google.colaboratory.intrinsic+json": {
              "type": "string"
            }
          },
          "metadata": {},
          "execution_count": 53
        }
      ]
    },
    {
      "cell_type": "code",
      "source": [
        "file = open('/content/sample_data/exercise/text_symbol_sample.txt','rt')\n",
        "file.read().replace(\"\\n\", \" \")\n"
      ],
      "metadata": {
        "colab": {
          "base_uri": "https://localhost:8080/",
          "height": 87
        },
        "id": "afJEPVK-0zZl",
        "outputId": "6993f722-6a24-4cc6-a567-509d28413486"
      },
      "execution_count": 54,
      "outputs": [
        {
          "output_type": "execute_result",
          "data": {
            "text/plain": [
              "'Here’s to the crazy ones, the misfits, the rebels, the troublemakers, the round pegs in the square holes. The ones who see things differently — they’re not fond of rules.  I wanted to pay with a twenty-dolloar bill;  however, but she couldn’t get cash.  I’ve got a big trouble, but other people were having lots of fun.  I like Brown’s East back pack, but she doesn’t.'"
            ],
            "application/vnd.google.colaboratory.intrinsic+json": {
              "type": "string"
            }
          },
          "metadata": {},
          "execution_count": 54
        }
      ]
    },
    {
      "cell_type": "markdown",
      "source": [
        "Simplest way to tokenize a text into units."
      ],
      "metadata": {
        "id": "sTnGhW7YrT_3"
      }
    },
    {
      "cell_type": "code",
      "source": [
        "file = open('/content/sample_data/exercise/text_symbol_sample.txt','rt')\n",
        "obj = file.read().replace(\"\\n\", \" \")\n",
        "obj.split()"
      ],
      "metadata": {
        "colab": {
          "base_uri": "https://localhost:8080/"
        },
        "id": "aWBNRkayhJeF",
        "outputId": "08025c29-44b7-4bed-8229-22fd7391eea1"
      },
      "execution_count": 55,
      "outputs": [
        {
          "output_type": "execute_result",
          "data": {
            "text/plain": [
              "['Here’s',\n",
              " 'to',\n",
              " 'the',\n",
              " 'crazy',\n",
              " 'ones,',\n",
              " 'the',\n",
              " 'misfits,',\n",
              " 'the',\n",
              " 'rebels,',\n",
              " 'the',\n",
              " 'troublemakers,',\n",
              " 'the',\n",
              " 'round',\n",
              " 'pegs',\n",
              " 'in',\n",
              " 'the',\n",
              " 'square',\n",
              " 'holes.',\n",
              " 'The',\n",
              " 'ones',\n",
              " 'who',\n",
              " 'see',\n",
              " 'things',\n",
              " 'differently',\n",
              " '—',\n",
              " 'they’re',\n",
              " 'not',\n",
              " 'fond',\n",
              " 'of',\n",
              " 'rules.',\n",
              " 'I',\n",
              " 'wanted',\n",
              " 'to',\n",
              " 'pay',\n",
              " 'with',\n",
              " 'a',\n",
              " 'twenty-dolloar',\n",
              " 'bill;',\n",
              " 'however,',\n",
              " 'but',\n",
              " 'she',\n",
              " 'couldn’t',\n",
              " 'get',\n",
              " 'cash.',\n",
              " 'I’ve',\n",
              " 'got',\n",
              " 'a',\n",
              " 'big',\n",
              " 'trouble,',\n",
              " 'but',\n",
              " 'other',\n",
              " 'people',\n",
              " 'were',\n",
              " 'having',\n",
              " 'lots',\n",
              " 'of',\n",
              " 'fun.',\n",
              " 'I',\n",
              " 'like',\n",
              " 'Brown’s',\n",
              " 'East',\n",
              " 'back',\n",
              " 'pack,',\n",
              " 'but',\n",
              " 'she',\n",
              " 'doesn’t.']"
            ]
          },
          "metadata": {},
          "execution_count": 55
        }
      ]
    },
    {
      "cell_type": "markdown",
      "source": [
        "## 🐹 nltk.tokenize.**word_tokenize()**\n",
        "\n",
        "* <font color = 'sky blue'> Punctuations as well as symbols such as a phrase-linking hiphen\"-\" and an apostrophe \"'\"(perfect tense, possessive) are tokenized.\n",
        "* <font color = 'sky blue'> cf., A within-word hiphen belongs to a word (e.g., 'ten-dollar'), not being tokenized on its own ."
      ],
      "metadata": {
        "id": "A03RIU6gnLZU"
      }
    },
    {
      "cell_type": "code",
      "source": [
        "from nltk.tokenize import word_tokenize\n",
        "import nltk \n",
        "nltk.download('punkt')\n",
        "\n",
        "print('Tokenizing Word and Punctuation:',word_tokenize(obj)) "
      ],
      "metadata": {
        "colab": {
          "base_uri": "https://localhost:8080/"
        },
        "id": "g9Pfw0_Thhka",
        "outputId": "d1804b28-a257-452a-c39a-e8437a749c95"
      },
      "execution_count": 56,
      "outputs": [
        {
          "output_type": "stream",
          "name": "stdout",
          "text": [
            "Tokenizing Word and Punctuation: ['Here', '’', 's', 'to', 'the', 'crazy', 'ones', ',', 'the', 'misfits', ',', 'the', 'rebels', ',', 'the', 'troublemakers', ',', 'the', 'round', 'pegs', 'in', 'the', 'square', 'holes', '.', 'The', 'ones', 'who', 'see', 'things', 'differently', '—', 'they', '’', 're', 'not', 'fond', 'of', 'rules', '.', 'I', 'wanted', 'to', 'pay', 'with', 'a', 'twenty-dolloar', 'bill', ';', 'however', ',', 'but', 'she', 'couldn', '’', 't', 'get', 'cash', '.', 'I', '’', 've', 'got', 'a', 'big', 'trouble', ',', 'but', 'other', 'people', 'were', 'having', 'lots', 'of', 'fun', '.', 'I', 'like', 'Brown', '’', 's', 'East', 'back', 'pack', ',', 'but', 'she', 'doesn', '’', 't', '.']\n"
          ]
        },
        {
          "output_type": "stream",
          "name": "stderr",
          "text": [
            "[nltk_data] Downloading package punkt to /root/nltk_data...\n",
            "[nltk_data]   Package punkt is already up-to-date!\n"
          ]
        }
      ]
    },
    {
      "cell_type": "code",
      "source": [
        "#@markdown Advanced for a print codeline.\n",
        "from nltk.tokenize import word_tokenize\n",
        "import nltk \n",
        "nltk.download('punkt')\n",
        "result1 = word_tokenize(obj)\n",
        "\n",
        "print('Tokenizing Word and Punctuation: %s' %result1)\n"
      ],
      "metadata": {
        "colab": {
          "base_uri": "https://localhost:8080/"
        },
        "id": "Q1NIz986mFTA",
        "outputId": "91fc961a-6aef-46ef-edb7-c850a1c590ab"
      },
      "execution_count": 57,
      "outputs": [
        {
          "output_type": "stream",
          "name": "stdout",
          "text": [
            "Tokenizing Word and Punctuation: ['Here', '’', 's', 'to', 'the', 'crazy', 'ones', ',', 'the', 'misfits', ',', 'the', 'rebels', ',', 'the', 'troublemakers', ',', 'the', 'round', 'pegs', 'in', 'the', 'square', 'holes', '.', 'The', 'ones', 'who', 'see', 'things', 'differently', '—', 'they', '’', 're', 'not', 'fond', 'of', 'rules', '.', 'I', 'wanted', 'to', 'pay', 'with', 'a', 'twenty-dolloar', 'bill', ';', 'however', ',', 'but', 'she', 'couldn', '’', 't', 'get', 'cash', '.', 'I', '’', 've', 'got', 'a', 'big', 'trouble', ',', 'but', 'other', 'people', 'were', 'having', 'lots', 'of', 'fun', '.', 'I', 'like', 'Brown', '’', 's', 'East', 'back', 'pack', ',', 'but', 'she', 'doesn', '’', 't', '.']\n"
          ]
        },
        {
          "output_type": "stream",
          "name": "stderr",
          "text": [
            "[nltk_data] Downloading package punkt to /root/nltk_data...\n",
            "[nltk_data]   Package punkt is already up-to-date!\n"
          ]
        }
      ]
    },
    {
      "cell_type": "markdown",
      "source": [
        "## 🐹 nltk.tokenize.**WordPunctTokenizer()**\n",
        "\n",
        "* <font color = 'sky blue'> Punctuations (\".\", \",\", \".\", \";\"), a phrase-linking hypthen (\"-\"), a word-linking hyphen (\"-\"), and an apostrophe (\"'\") (perfect tense, possessive, negation)) are tokenized as a unit across the board.\n",
        "\n",
        "  * <font color = 'pink'> Wrong command: >>WordPunctTokenizer(txt) or WordPunctTokenizer.tokenize(txt): Error message: WordPunctTokenizer.__init__() takes 1 positional argument but 2 were given."
      ],
      "metadata": {
        "id": "lOu9-q_Cn01a"
      }
    },
    {
      "cell_type": "code",
      "source": [
        "from nltk.tokenize import WordPunctTokenizer\n",
        "\n",
        "print('Tokenizing Words and Punctuations:', WordPunctTokenizer().tokenize(obj)) "
      ],
      "metadata": {
        "colab": {
          "base_uri": "https://localhost:8080/"
        },
        "id": "hYAWzvgbhiwd",
        "outputId": "216a7097-ca50-4593-a6fa-1ba9ddd953ff"
      },
      "execution_count": 58,
      "outputs": [
        {
          "output_type": "stream",
          "name": "stdout",
          "text": [
            "Tokenizing Words and Punctuations: ['Here', '’', 's', 'to', 'the', 'crazy', 'ones', ',', 'the', 'misfits', ',', 'the', 'rebels', ',', 'the', 'troublemakers', ',', 'the', 'round', 'pegs', 'in', 'the', 'square', 'holes', '.', 'The', 'ones', 'who', 'see', 'things', 'differently', '—', 'they', '’', 're', 'not', 'fond', 'of', 'rules', '.', 'I', 'wanted', 'to', 'pay', 'with', 'a', 'twenty', '-', 'dolloar', 'bill', ';', 'however', ',', 'but', 'she', 'couldn', '’', 't', 'get', 'cash', '.', 'I', '’', 've', 'got', 'a', 'big', 'trouble', ',', 'but', 'other', 'people', 'were', 'having', 'lots', 'of', 'fun', '.', 'I', 'like', 'Brown', '’', 's', 'East', 'back', 'pack', ',', 'but', 'she', 'doesn', '’', 't', '.']\n"
          ]
        }
      ]
    },
    {
      "cell_type": "code",
      "source": [
        "from nltk.tokenize import WordPunctTokenizer\n",
        "result2 = WordPunctTokenizer().tokenize(obj)\n",
        "\n",
        "print('Tokenizing Words and Punctuations: %s' %result2)"
      ],
      "metadata": {
        "colab": {
          "base_uri": "https://localhost:8080/"
        },
        "id": "Kfxxv5cImhFa",
        "outputId": "d7f5a1c2-57be-4af5-8499-dcc1200422f4"
      },
      "execution_count": 59,
      "outputs": [
        {
          "output_type": "stream",
          "name": "stdout",
          "text": [
            "Tokenizing Words and Punctuations: ['Here', '’', 's', 'to', 'the', 'crazy', 'ones', ',', 'the', 'misfits', ',', 'the', 'rebels', ',', 'the', 'troublemakers', ',', 'the', 'round', 'pegs', 'in', 'the', 'square', 'holes', '.', 'The', 'ones', 'who', 'see', 'things', 'differently', '—', 'they', '’', 're', 'not', 'fond', 'of', 'rules', '.', 'I', 'wanted', 'to', 'pay', 'with', 'a', 'twenty', '-', 'dolloar', 'bill', ';', 'however', ',', 'but', 'she', 'couldn', '’', 't', 'get', 'cash', '.', 'I', '’', 've', 'got', 'a', 'big', 'trouble', ',', 'but', 'other', 'people', 'were', 'having', 'lots', 'of', 'fun', '.', 'I', 'like', 'Brown', '’', 's', 'East', 'back', 'pack', ',', 'but', 'she', 'doesn', '’', 't', '.']\n"
          ]
        }
      ]
    },
    {
      "cell_type": "markdown",
      "source": [
        "## 🐹 tensorflow.keras.preprocessing.text.**text_to_word_sequence()**\n",
        "\n",
        "* <font color = 'sky blue'> Small letters across the board\n",
        "* An apostrophe (\"'\" for Perfect tense (e.g., \"I've\"), possessive (e.g., \"John's\"), negation (e.g., 'doesn't)) is part of a token.\n",
        "* A phrase-linking hyphen (-) are tokenized. \n",
        "* **All punctuations and a word-linking phyphen are deleted**. \n"
      ],
      "metadata": {
        "id": "boMBjWuFptSs"
      }
    },
    {
      "cell_type": "code",
      "source": [
        "from tensorflow.keras.preprocessing.text import text_to_word_sequence\n",
        "\n",
        "print('Tokenizing Words after Cleaning Punctuations:', text_to_word_sequence(obj))\n"
      ],
      "metadata": {
        "colab": {
          "base_uri": "https://localhost:8080/"
        },
        "id": "aowUE2sTrAi6",
        "outputId": "88e899b2-4434-4995-d03c-2e2233ad2e14"
      },
      "execution_count": 60,
      "outputs": [
        {
          "output_type": "stream",
          "name": "stdout",
          "text": [
            "Tokenizing Words after Cleaning Punctuations: ['here’s', 'to', 'the', 'crazy', 'ones', 'the', 'misfits', 'the', 'rebels', 'the', 'troublemakers', 'the', 'round', 'pegs', 'in', 'the', 'square', 'holes', 'the', 'ones', 'who', 'see', 'things', 'differently', '—', 'they’re', 'not', 'fond', 'of', 'rules', 'i', 'wanted', 'to', 'pay', 'with', 'a', 'twenty', 'dolloar', 'bill', 'however', 'but', 'she', 'couldn’t', 'get', 'cash', 'i’ve', 'got', 'a', 'big', 'trouble', 'but', 'other', 'people', 'were', 'having', 'lots', 'of', 'fun', 'i', 'like', 'brown’s', 'east', 'back', 'pack', 'but', 'she', 'doesn’t']\n"
          ]
        }
      ]
    },
    {
      "cell_type": "code",
      "source": [
        "from tensorflow.keras.preprocessing.text import text_to_word_sequence\n",
        "result3 = text_to_word_sequence(obj)\n",
        "\n",
        "print('Tokenizing Words after Cleaning Punctuations: %s' %result3)\n",
        "\n"
      ],
      "metadata": {
        "colab": {
          "base_uri": "https://localhost:8080/"
        },
        "id": "6KvxuBHrhler",
        "outputId": "dcbbbcd4-4b1f-4cac-a664-bbad7cec1cde"
      },
      "execution_count": 61,
      "outputs": [
        {
          "output_type": "stream",
          "name": "stdout",
          "text": [
            "Tokenizing Words after Cleaning Punctuations: ['here’s', 'to', 'the', 'crazy', 'ones', 'the', 'misfits', 'the', 'rebels', 'the', 'troublemakers', 'the', 'round', 'pegs', 'in', 'the', 'square', 'holes', 'the', 'ones', 'who', 'see', 'things', 'differently', '—', 'they’re', 'not', 'fond', 'of', 'rules', 'i', 'wanted', 'to', 'pay', 'with', 'a', 'twenty', 'dolloar', 'bill', 'however', 'but', 'she', 'couldn’t', 'get', 'cash', 'i’ve', 'got', 'a', 'big', 'trouble', 'but', 'other', 'people', 'were', 'having', 'lots', 'of', 'fun', 'i', 'like', 'brown’s', 'east', 'back', 'pack', 'but', 'she', 'doesn’t']\n"
          ]
        }
      ]
    },
    {
      "cell_type": "markdown",
      "source": [
        "## ** RegexpTokenizer + PorterStemmer 에서는 punctuation, other symbols are deleted (Check later as of May 21, 2023)"
      ],
      "metadata": {
        "id": "58snfSOY42Qq"
      }
    },
    {
      "cell_type": "code",
      "source": [
        "from nltk.tokenize import RegexpTokenizer\n",
        "retokenize = RegexpTokenizer(\"[\\w]+\")\n",
        "result4 = retokenize.tokenize(obj)\n",
        "\n",
        "print('Tokenizing Words with RegexpTokenizer: %s' %result4)"
      ],
      "metadata": {
        "id": "zcfE8gZd4S9j",
        "outputId": "def99b25-7dd8-42fa-cfc1-e12add471c26",
        "colab": {
          "base_uri": "https://localhost:8080/"
        }
      },
      "execution_count": 62,
      "outputs": [
        {
          "output_type": "stream",
          "name": "stdout",
          "text": [
            "Tokenizing Words with RegexpTokenizer: ['Here', 's', 'to', 'the', 'crazy', 'ones', 'the', 'misfits', 'the', 'rebels', 'the', 'troublemakers', 'the', 'round', 'pegs', 'in', 'the', 'square', 'holes', 'The', 'ones', 'who', 'see', 'things', 'differently', 'they', 're', 'not', 'fond', 'of', 'rules', 'I', 'wanted', 'to', 'pay', 'with', 'a', 'twenty', 'dolloar', 'bill', 'however', 'but', 'she', 'couldn', 't', 'get', 'cash', 'I', 've', 'got', 'a', 'big', 'trouble', 'but', 'other', 'people', 'were', 'having', 'lots', 'of', 'fun', 'I', 'like', 'Brown', 's', 'East', 'back', 'pack', 'but', 'she', 'doesn', 't']\n"
          ]
        }
      ]
    },
    {
      "cell_type": "markdown",
      "source": [
        "## Stemming"
      ],
      "metadata": {
        "id": "9O-CbxvV-DG_"
      }
    },
    {
      "cell_type": "code",
      "source": [
        "from nltk.stem import LancasterStemmer\n",
        "stemmer = LancasterStemmer()\n",
        "[stemmer.stem(w) for w in result4]"
      ],
      "metadata": {
        "id": "VDmNAzQJ69b5",
        "outputId": "eb1133c4-d787-4f5a-8cf4-0660e0bcb010",
        "colab": {
          "base_uri": "https://localhost:8080/"
        }
      },
      "execution_count": 65,
      "outputs": [
        {
          "output_type": "execute_result",
          "data": {
            "text/plain": [
              "['her',\n",
              " 's',\n",
              " 'to',\n",
              " 'the',\n",
              " 'crazy',\n",
              " 'on',\n",
              " 'the',\n",
              " 'misfit',\n",
              " 'the',\n",
              " 'rebel',\n",
              " 'the',\n",
              " 'troublemak',\n",
              " 'the',\n",
              " 'round',\n",
              " 'peg',\n",
              " 'in',\n",
              " 'the',\n",
              " 'squ',\n",
              " 'hol',\n",
              " 'the',\n",
              " 'on',\n",
              " 'who',\n",
              " 'see',\n",
              " 'thing',\n",
              " 'diff',\n",
              " 'they',\n",
              " 're',\n",
              " 'not',\n",
              " 'fond',\n",
              " 'of',\n",
              " 'rul',\n",
              " 'i',\n",
              " 'want',\n",
              " 'to',\n",
              " 'pay',\n",
              " 'with',\n",
              " 'a',\n",
              " 'twenty',\n",
              " 'dollo',\n",
              " 'bil',\n",
              " 'howev',\n",
              " 'but',\n",
              " 'she',\n",
              " 'couldn',\n",
              " 't',\n",
              " 'get',\n",
              " 'cash',\n",
              " 'i',\n",
              " 've',\n",
              " 'got',\n",
              " 'a',\n",
              " 'big',\n",
              " 'troubl',\n",
              " 'but',\n",
              " 'oth',\n",
              " 'peopl',\n",
              " 'wer',\n",
              " 'hav',\n",
              " 'lot',\n",
              " 'of',\n",
              " 'fun',\n",
              " 'i',\n",
              " 'lik',\n",
              " 'brown',\n",
              " 's',\n",
              " 'east',\n",
              " 'back',\n",
              " 'pack',\n",
              " 'but',\n",
              " 'she',\n",
              " 'doesn',\n",
              " 't']"
            ]
          },
          "metadata": {},
          "execution_count": 65
        }
      ]
    },
    {
      "cell_type": "markdown",
      "source": [
        "## Lematization \n",
        "\n",
        "* PB: no be copular verb retrieved... why?"
      ],
      "metadata": {
        "id": "oKUV4LRB-H4O"
      }
    },
    {
      "cell_type": "code",
      "source": [
        "from nltk.stem import PorterStemmer\n",
        "stemmer = PorterStemmer()\n",
        "[stemmer.stem(w) for w in result4] # words 로 list comprehension. 이 워즈에서 하나하나씩 루프를 도는데, 단어를 w 에 담아서, 앞에 stemmer.stem () 함수가 실행된다. 어떤 함수는 어떤 장/단점이 있구나.\n",
        "#small letter change  "
      ],
      "metadata": {
        "id": "BjKZYeOH5kMi",
        "outputId": "cc7a85e8-a7af-4e81-ef6d-851bb3138bd5",
        "colab": {
          "base_uri": "https://localhost:8080/"
        }
      },
      "execution_count": 66,
      "outputs": [
        {
          "output_type": "execute_result",
          "data": {
            "text/plain": [
              "['here',\n",
              " 's',\n",
              " 'to',\n",
              " 'the',\n",
              " 'crazi',\n",
              " 'one',\n",
              " 'the',\n",
              " 'misfit',\n",
              " 'the',\n",
              " 'rebel',\n",
              " 'the',\n",
              " 'troublemak',\n",
              " 'the',\n",
              " 'round',\n",
              " 'peg',\n",
              " 'in',\n",
              " 'the',\n",
              " 'squar',\n",
              " 'hole',\n",
              " 'the',\n",
              " 'one',\n",
              " 'who',\n",
              " 'see',\n",
              " 'thing',\n",
              " 'differ',\n",
              " 'they',\n",
              " 're',\n",
              " 'not',\n",
              " 'fond',\n",
              " 'of',\n",
              " 'rule',\n",
              " 'i',\n",
              " 'want',\n",
              " 'to',\n",
              " 'pay',\n",
              " 'with',\n",
              " 'a',\n",
              " 'twenti',\n",
              " 'dolloar',\n",
              " 'bill',\n",
              " 'howev',\n",
              " 'but',\n",
              " 'she',\n",
              " 'couldn',\n",
              " 't',\n",
              " 'get',\n",
              " 'cash',\n",
              " 'i',\n",
              " 've',\n",
              " 'got',\n",
              " 'a',\n",
              " 'big',\n",
              " 'troubl',\n",
              " 'but',\n",
              " 'other',\n",
              " 'peopl',\n",
              " 'were',\n",
              " 'have',\n",
              " 'lot',\n",
              " 'of',\n",
              " 'fun',\n",
              " 'i',\n",
              " 'like',\n",
              " 'brown',\n",
              " 's',\n",
              " 'east',\n",
              " 'back',\n",
              " 'pack',\n",
              " 'but',\n",
              " 'she',\n",
              " 'doesn',\n",
              " 't']"
            ]
          },
          "metadata": {},
          "execution_count": 66
        }
      ]
    },
    {
      "cell_type": "markdown",
      "source": [
        "# AGAIN as of May 21, 2023"
      ],
      "metadata": {
        "id": "HuRtnY3n-9fb"
      }
    },
    {
      "cell_type": "code",
      "source": [
        "from nltk.stem import WordNetLemmatizer # 활용을 복원하여 단어를 추출해줌. \n",
        "nltk.download('wordnet')\n",
        "lemmatizer = WordNetLemmatizer()\n",
        "[lemmatizer.lemmatize(w) for w in result4]"
      ],
      "metadata": {
        "id": "rsZNA64a-xIB",
        "outputId": "c2d2bafb-7ad8-4f9c-990d-b147515b6225",
        "colab": {
          "base_uri": "https://localhost:8080/"
        }
      },
      "execution_count": 67,
      "outputs": [
        {
          "output_type": "stream",
          "name": "stderr",
          "text": [
            "[nltk_data] Downloading package wordnet to /root/nltk_data...\n"
          ]
        },
        {
          "output_type": "execute_result",
          "data": {
            "text/plain": [
              "['Here',\n",
              " 's',\n",
              " 'to',\n",
              " 'the',\n",
              " 'crazy',\n",
              " 'one',\n",
              " 'the',\n",
              " 'misfit',\n",
              " 'the',\n",
              " 'rebel',\n",
              " 'the',\n",
              " 'troublemaker',\n",
              " 'the',\n",
              " 'round',\n",
              " 'peg',\n",
              " 'in',\n",
              " 'the',\n",
              " 'square',\n",
              " 'hole',\n",
              " 'The',\n",
              " 'one',\n",
              " 'who',\n",
              " 'see',\n",
              " 'thing',\n",
              " 'differently',\n",
              " 'they',\n",
              " 're',\n",
              " 'not',\n",
              " 'fond',\n",
              " 'of',\n",
              " 'rule',\n",
              " 'I',\n",
              " 'wanted',\n",
              " 'to',\n",
              " 'pay',\n",
              " 'with',\n",
              " 'a',\n",
              " 'twenty',\n",
              " 'dolloar',\n",
              " 'bill',\n",
              " 'however',\n",
              " 'but',\n",
              " 'she',\n",
              " 'couldn',\n",
              " 't',\n",
              " 'get',\n",
              " 'cash',\n",
              " 'I',\n",
              " 've',\n",
              " 'got',\n",
              " 'a',\n",
              " 'big',\n",
              " 'trouble',\n",
              " 'but',\n",
              " 'other',\n",
              " 'people',\n",
              " 'were',\n",
              " 'having',\n",
              " 'lot',\n",
              " 'of',\n",
              " 'fun',\n",
              " 'I',\n",
              " 'like',\n",
              " 'Brown',\n",
              " 's',\n",
              " 'East',\n",
              " 'back',\n",
              " 'pack',\n",
              " 'but',\n",
              " 'she',\n",
              " 'doesn',\n",
              " 't']"
            ]
          },
          "metadata": {},
          "execution_count": 67
        }
      ]
    },
    {
      "cell_type": "markdown",
      "source": [
        "Stopwords 불용어\n",
        "For more information, read the original article\n",
        "\n",
        "Stopwords are the English words which does not add much meaning to a sentence. They can safely be ignored without sacrificing the meaning of the sentence. For example, the words like the, he, have etc. Such words are already captured this in corpus named corpus. We first download it to our python environment.\n",
        "\n",
        "Stop words are common words like ‘the’, ‘and’, ‘I’, etc. that are very frequent in text, and so don’t convey insights into the specific topic of a document. We can remove these stop words from the text in a given corpus to clean up the data, and identify words that are more rare and potentially more relevant to what we’re interested in.\n",
        "\n",
        "Text may contain stop words like ‘the’, ‘is’, ‘are’. Stop words can be filtered from the text to be processed. There is no universal list of stop words in nlp research, however the nltk module contains a list of stop words."
      ],
      "metadata": {
        "id": "Paej0i2D_PRg"
      }
    },
    {
      "cell_type": "code",
      "source": [],
      "metadata": {
        "id": "advlsIDW_K0O"
      },
      "execution_count": null,
      "outputs": []
    },
    {
      "cell_type": "markdown",
      "source": [
        "# Conclusion: \n",
        "\n",
        "토큰화 작업을 단순하게 코퍼스에서 구두점을 제외하고 공백 기준으로 잘라내는 작업이라고 간주할 수는 없습니다. \n",
        "\n",
        "1) 구두점이나 특수 문자를 단순 제외해서는 안 된다.\n",
        "갖고있는 코퍼스에서 단어들을 걸러낼 때, 구두점이나 특수 문자를 단순히 제외하는 것은 옳지 않습니다. 코퍼스에 대한 정제 작업을 진행하다보면, 구두점조차도 하나의 토큰으로 분류하기도 합니다. 가장 기본적인 예를 들어보자면, 마침표(.)와 같은 경우는 문장의 경계를 알 수 있는데 도움이 되므로 단어를 뽑아낼 때, 마침표(.)를 제외하지 않을 수 있습니다.\n",
        "\n",
        "또 다른 예로 단어 자체에 구두점을 갖고 있는 경우도 있는데, m.p.h나 Ph.D나 AT&T 같은 경우가 있습니다. 또 특수 문자의 달러나 슬래시(/)로 예를 들어보면, $45.55와 같은 가격을 의미 하기도 하고, 01/02/06은 날짜를 의미하기도 합니다. 보통 이런 경우 45.55를 하나로 취급하고 45와 55로 따로 분류하고 싶지는 않을 수 있습니다.\n",
        "\n",
        "숫자 사이에 컴마(,)가 들어가는 경우도 있습니다. 보통 수치를 표현할 때는 123,456,789와 같이 세 자리 단위로 컴마가 있습니다.\n",
        "\n",
        "2) 줄임말과 단어 내에 띄어쓰기가 있는 경우.\n",
        "토큰화 작업에서 종종 영어권 언어의 아포스트로피(')는 압축된 단어를 다시 펼치는 역할을 하기도 합니다. 예를 들어 what're는 what are의 줄임말이며, we're는 we are의 줄임말입니다. 위의 예에서 re를 접어(clitic)이라고 합니다. 즉, 단어가 줄임말로 쓰일 때 생기는 형태를 말합니다. 가령 I am을 줄인 I'm이 있을 때, m을 접어라고 합니다.\n",
        "\n",
        "New York이라는 단어나 rock 'n' roll이라는 단어를 봅시다. 이 단어들은 하나의 단어이지만 중간에 띄어쓰기가 존재합니다. 사용 용도에 따라서, 하나의 단어 사이에 띄어쓰기가 있는 경우에도 하나의 토큰으로 봐야하는 경우도 있을 수 있으므로, 토큰화 작업은 저러한 단어를 하나로 인식할 수 있는 능력도 가져야합니다.\n",
        "\n"
      ],
      "metadata": {
        "id": "DtdT9VC6rp-d"
      }
    },
    {
      "cell_type": "markdown",
      "source": [
        "Penn Treebank Tokenization의 규칙에 대해서 소개하고, 토큰화의 결과를 확인해보겠습니다.\n",
        "\n",
        "  - 규칙 1. 하이푼으로 구성된 단어는 하나로 유지한다.\n",
        "  - 규칙 2. doesn't와 같이 아포스트로피로 '접어'가 함께하는 단어는 분리해준다.\n",
        "\n",
        "Alert: TypeError: TreebankWordTokenizer() takes no arguments."
      ],
      "metadata": {
        "id": "x71sxg3msLG0"
      }
    },
    {
      "cell_type": "code",
      "source": [
        "from nltk.tokenize import TreebankWordTokenizer #Wikidocs에서는 doesn't 에서 접어 n't 를 따로 토큰화 한다고 하는데, 여기 예시에서는 그렇지 않음. 이상함...\n",
        "\n",
        "tokenizer = TreebankWordTokenizer()\n",
        "result4 = tokenizer.tokenize(obj)\n",
        "\n",
        "print('트리뱅크 워드토크나이저 : %s' %result4)"
      ],
      "metadata": {
        "colab": {
          "base_uri": "https://localhost:8080/"
        },
        "id": "w4v47eMssAMO",
        "outputId": "1080915d-0277-4b6a-f649-fe7a0b7ca38e"
      },
      "execution_count": null,
      "outputs": [
        {
          "output_type": "stream",
          "name": "stdout",
          "text": [
            "트리뱅크 워드토크나이저 : ['Here’s', 'to', 'the', 'crazy', 'ones', ',', 'the', 'misfits', ',', 'the', 'rebels', ',', 'the', 'troublemakers', ',', 'the', 'round', 'pegs', 'in', 'the', 'square', 'holes.', 'The', 'ones', 'who', 'see', 'things', 'differently', '—', 'they’re', 'not', 'fond', 'of', 'rules.', 'I', 'wanted', 'to', 'pay', 'with', 'a', 'twenty-dolloar', 'bill', ';', 'however', ',', 'but', 'she', 'couldn’t', 'get', 'cash.', 'I', 'like', 'Brown’s', 'East', 'back', 'pack', ',', 'but', 'she', 'doesn’t', '.']\n"
          ]
        }
      ]
    },
    {
      "cell_type": "markdown",
      "source": [
        "Stemming"
      ],
      "metadata": {
        "id": "pXLoLgSJyTMt"
      }
    },
    {
      "cell_type": "markdown",
      "source": [
        "Lematization"
      ],
      "metadata": {
        "id": "uv4ftx76yVuB"
      }
    },
    {
      "cell_type": "markdown",
      "source": [
        "## [For Tokenization and POS in Korean, visit Wikidocs for further information](https://wikidocs.net/21698) \n",
        "* Sentence tokenizer for Korean: kss package"
      ],
      "metadata": {
        "id": "xGOApXRERwUy"
      }
    },
    {
      "cell_type": "code",
      "source": [
        "!pip install kss\n",
        "import kss"
      ],
      "metadata": {
        "colab": {
          "base_uri": "https://localhost:8080/"
        },
        "id": "hHP16yVbR4Z4",
        "outputId": "fd980c6a-5caa-42a8-b3e6-b4fce8ba0db9"
      },
      "execution_count": null,
      "outputs": [
        {
          "output_type": "stream",
          "name": "stdout",
          "text": [
            "Looking in indexes: https://pypi.org/simple, https://us-python.pkg.dev/colab-wheels/public/simple/\n",
            "Collecting kss\n",
            "  Using cached kss-4.5.3.tar.gz (78 kB)\n",
            "  Preparing metadata (setup.py) ... \u001b[?25l\u001b[?25hdone\n",
            "Collecting emoji==1.2.0 (from kss)\n",
            "  Using cached emoji-1.2.0-py3-none-any.whl (131 kB)\n",
            "Requirement already satisfied: regex in /usr/local/lib/python3.10/dist-packages (from kss) (2022.10.31)\n",
            "Collecting pecab (from kss)\n",
            "  Using cached pecab-1.0.8.tar.gz (26.4 MB)\n",
            "  Preparing metadata (setup.py) ... \u001b[?25l\u001b[?25hdone\n",
            "Requirement already satisfied: networkx in /usr/local/lib/python3.10/dist-packages (from kss) (3.1)\n",
            "Requirement already satisfied: numpy in /usr/local/lib/python3.10/dist-packages (from pecab->kss) (1.22.4)\n",
            "Requirement already satisfied: pyarrow in /usr/local/lib/python3.10/dist-packages (from pecab->kss) (9.0.0)\n",
            "Requirement already satisfied: pytest in /usr/local/lib/python3.10/dist-packages (from pecab->kss) (7.2.2)\n",
            "Requirement already satisfied: attrs>=19.2.0 in /usr/local/lib/python3.10/dist-packages (from pytest->pecab->kss) (23.1.0)\n",
            "Requirement already satisfied: iniconfig in /usr/local/lib/python3.10/dist-packages (from pytest->pecab->kss) (2.0.0)\n",
            "Requirement already satisfied: packaging in /usr/local/lib/python3.10/dist-packages (from pytest->pecab->kss) (23.1)\n",
            "Requirement already satisfied: pluggy<2.0,>=0.12 in /usr/local/lib/python3.10/dist-packages (from pytest->pecab->kss) (1.0.0)\n",
            "Requirement already satisfied: exceptiongroup>=1.0.0rc8 in /usr/local/lib/python3.10/dist-packages (from pytest->pecab->kss) (1.1.1)\n",
            "Requirement already satisfied: tomli>=1.0.0 in /usr/local/lib/python3.10/dist-packages (from pytest->pecab->kss) (2.0.1)\n",
            "Building wheels for collected packages: kss, pecab\n",
            "  Building wheel for kss (setup.py) ... \u001b[?25l\u001b[?25hdone\n",
            "  Created wheel for kss: filename=kss-4.5.3-py3-none-any.whl size=54258 sha256=07ac04a15bddf59d3dec45404a9d84d4124cba5b422f3945b1aaf434a9ac6e18\n",
            "  Stored in directory: /root/.cache/pip/wheels/d8/9e/a3/5b09e3f14722fa0d77f47fe840668d426760023bdd11b0fbd9\n",
            "  Building wheel for pecab (setup.py) ... \u001b[?25l\u001b[?25hdone\n",
            "  Created wheel for pecab: filename=pecab-1.0.8-py3-none-any.whl size=26646666 sha256=42d490a00b3b299cfa6e398b2a3c0f1c4fcdf0c8edc88db190d4d5b49fdba482\n",
            "  Stored in directory: /root/.cache/pip/wheels/5c/6f/b4/ab61b8863d7d8b1409def8ae31adcaa089fa91b8d022ec309d\n",
            "Successfully built kss pecab\n",
            "Installing collected packages: emoji, pecab, kss\n",
            "Successfully installed emoji-1.2.0 kss-4.5.3 pecab-1.0.8\n"
          ]
        }
      ]
    },
    {
      "cell_type": "code",
      "source": [
        "korfl = ('/content/sample_data/Exercise/Squall.txt', 'rt')\n",
        "korfl.read()"
      ],
      "metadata": {
        "colab": {
          "base_uri": "https://localhost:8080/",
          "height": 184
        },
        "id": "RQez4XkpTjSE",
        "outputId": "b7347f0a-a227-4baa-8923-e20b989573e9"
      },
      "execution_count": null,
      "outputs": [
        {
          "output_type": "error",
          "ename": "AttributeError",
          "evalue": "ignored",
          "traceback": [
            "\u001b[0;31m---------------------------------------------------------------------------\u001b[0m",
            "\u001b[0;31mAttributeError\u001b[0m                            Traceback (most recent call last)",
            "\u001b[0;32m<ipython-input-178-09b879893adf>\u001b[0m in \u001b[0;36m<cell line: 2>\u001b[0;34m()\u001b[0m\n\u001b[1;32m      1\u001b[0m \u001b[0mkorfl\u001b[0m \u001b[0;34m=\u001b[0m \u001b[0;34m(\u001b[0m\u001b[0;34m'/content/sample_data/Exercise/Squall.txt'\u001b[0m\u001b[0;34m,\u001b[0m \u001b[0;34m'rt'\u001b[0m\u001b[0;34m)\u001b[0m\u001b[0;34m\u001b[0m\u001b[0;34m\u001b[0m\u001b[0m\n\u001b[0;32m----> 2\u001b[0;31m \u001b[0mkorfl\u001b[0m\u001b[0;34m.\u001b[0m\u001b[0mread\u001b[0m\u001b[0;34m(\u001b[0m\u001b[0;34m)\u001b[0m\u001b[0;34m\u001b[0m\u001b[0;34m\u001b[0m\u001b[0m\n\u001b[0m",
            "\u001b[0;31mAttributeError\u001b[0m: 'tuple' object has no attribute 'read'"
          ]
        }
      ]
    }
  ]
}