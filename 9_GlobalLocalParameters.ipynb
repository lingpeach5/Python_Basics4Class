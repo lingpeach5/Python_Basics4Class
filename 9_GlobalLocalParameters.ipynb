{
  "nbformat": 4,
  "nbformat_minor": 0,
  "metadata": {
    "colab": {
      "provenance": [],
      "authorship_tag": "ABX9TyPvgUv+rj8R5lTsBuOOTJmB",
      "include_colab_link": true
    },
    "kernelspec": {
      "name": "python3",
      "display_name": "Python 3"
    },
    "language_info": {
      "name": "python"
    }
  },
  "cells": [
    {
      "cell_type": "markdown",
      "metadata": {
        "id": "view-in-github",
        "colab_type": "text"
      },
      "source": [
        "<a href=\"https://colab.research.google.com/github/ms624atyale/Python_Basics/blob/main/9_GlobalLocalParameters.ipynb\" target=\"_parent\"><img src=\"https://colab.research.google.com/assets/colab-badge.svg\" alt=\"Open In Colab\"/></a>"
      ]
    },
    {
      "cell_type": "markdown",
      "source": [
        "## Global parameter 전역변수 vs. Local parameter 지역변수\n",
        "  - Global parameter: Code 전반에 결쳐 유효한 변수 (전역변수)\n",
        "  - Local parameter: 함수 내에서만 유효한 변수 (지역변수)\n",
        "\n",
        " \n"
      ],
      "metadata": {
        "id": "FZIfErpsKCMn"
      }
    },
    {
      "cell_type": "code",
      "execution_count": 15,
      "metadata": {
        "colab": {
          "base_uri": "https://localhost:8080/"
        },
        "id": "xqZKOb3SDjRm",
        "outputId": "42f4bc62-e521-4dfa-d220-c4f133e5b4db"
      },
      "outputs": [
        {
          "output_type": "stream",
          "name": "stdout",
          "text": [
            "global\n",
            "local\n",
            "10\n",
            "100\n"
          ]
        }
      ],
      "source": [
        "param =10\n",
        "strdata = 'global' \n",
        "\n",
        "def function1():\n",
        "  strdata = 'local' \n",
        "  print(strdata)\n",
        "\n",
        "def function2(param):\n",
        "  param = 1\n",
        "\n",
        "def function3():\n",
        "  global param    #함수 내부에서 바깥에서 선언한 global variable 사용하려면 'global' keyword 사용하여 아랫줄 변수를 전역면수로 사용한다고 명시한다. \n",
        "  param = 100\n",
        "\n",
        "\n",
        "print(strdata)\n",
        "function1()      #<font color = 'red'> why is there no result? I expected 1.\n",
        "function2(param) \n",
        "print(param)\n",
        "function3()     #why is there no result? I expected 100.\n",
        "print(param)"
      ]
    }
  ]
}