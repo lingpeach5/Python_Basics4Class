{
  "nbformat": 4,
  "nbformat_minor": 0,
  "metadata": {
    "colab": {
      "provenance": [],
      "toc_visible": true,
      "authorship_tag": "ABX9TyO8vf4gjXOL/Iu/GRYWq98R",
      "include_colab_link": true
    },
    "kernelspec": {
      "name": "python3",
      "display_name": "Python 3"
    },
    "language_info": {
      "name": "python"
    }
  },
  "cells": [
    {
      "cell_type": "markdown",
      "metadata": {
        "id": "view-in-github",
        "colab_type": "text"
      },
      "source": [
        "<a href=\"https://colab.research.google.com/github/ms624atyale/Python_Basics/blob/main/22_Text2Speech_ModifiedfromMK316.ipynb\" target=\"_parent\"><img src=\"https://colab.research.google.com/assets/colab-badge.svg\" alt=\"Open In Colab\"/></a>"
      ]
    },
    {
      "cell_type": "markdown",
      "source": [
        "## 🐹 🐾  <font color = 'red'>**Text-to-Speech**\n",
        "\n",
        "### 📌 Precondition: \n",
        "Define your own functions and include them in your code lines. \n",
        "\n",
        "🔍 [about Functions](https://github.com/ms624atyale/Python_Basics/blob/main/8_DefiningFunctions.ipynb)\n",
        "\n",
        "#### **Step 0**: Refer to the link above and copy & paste the code lines and run them. \n",
        "\n",
        "     🎧 🔉 TTS (text-to-speech) with multiple accents available \n",
        "     \n",
        "     How to use: \n",
        "     1. Install the gTTS package 🏫 (**code line**: !pip install gTTS) \n",
        "     2. Import subordinate units (modues🎁 and  functions [📎📐][🏀⚽⚾][📕📗📘📙])\n",
        "     3. Select an accent of your choice among English (en), French (fr), Korean (ko), and Spanish (es).\n",
        "     4. Enter a text, and generate and save a wave file.\n",
        "     5. Play the wave file. \n",
        " "
      ],
      "metadata": {
        "id": "C6h1uqBC9UEQ"
      }
    },
    {
      "cell_type": "code",
      "source": [
        "#@markdown 🍎**Step 1**\n",
        "\n",
        "!pip install gTTS\n",
        "from gtts import gTTS \n",
        "from IPython.display import Audio "
      ],
      "metadata": {
        "id": "xhHr66iKVRI4",
        "cellView": "form"
      },
      "execution_count": null,
      "outputs": []
    },
    {
      "cell_type": "code",
      "source": [
        "#@markdown **Step 1 with annotations**: Install the **gTTS** packages and import its relevant modules and functions\n",
        "\n",
        "#@markdown [IPython & Shell](\"https://github.com/ms624atyale/Python_Basics/blob/main/ChatGPT_1_IPython_Shell.ipynb\")\n",
        "\n",
        "!pip install gTTS\n",
        "from gtts import gTTS #gTTS패키지에서 gTTS모듈을 불러들여라.\n",
        "from IPython.display import Audio #IPython.display모듈에서 Audio함수를 호출한다. "
      ],
      "metadata": {
        "id": "0phxy06O9zrT",
        "cellView": "form"
      },
      "execution_count": null,
      "outputs": []
    },
    {
      "cell_type": "code",
      "source": [
        "#@markdown 🍎**Step2**\n",
        "\n",
        "def tts(text):\n",
        "  text_to_speech = text\n",
        "  language=\"it\" #@param[\"en\",\"fr\",\"ko\",\"es\",\"de\",\"hi\",\"ja\",\"it\"]\n",
        " \n",
        "\n",
        "  gtts_object = gTTS(text = text_to_speech,\n",
        "                     lang = language,\n",
        "                     slow = False)\n",
        "  gtts_object.save(\"myaudio.wav\") \n",
        "  return Audio(\"myaudio.wav\") "
      ],
      "metadata": {
        "id": "gIU8us8VUQV-",
        "cellView": "form"
      },
      "execution_count": 11,
      "outputs": []
    },
    {
      "cell_type": "code",
      "source": [
        "#@markdown **Step 2 with annotations**: Define a function that enables a user to i) select an accent, ii) generate a wave file, and iii) spit out a corresponding play window.\n",
        "\n",
        "def tts(text):\n",
        "  text_to_speech = text\n",
        "  language=\"en\" #@param[\"en\",\"fr\",\"ko\",\"es\",\"de\",\"hi\",\"ja\",\"it\"]\n",
        " \n",
        "\n",
        "  gtts_object = gTTS(text = text_to_speech,\n",
        "                     lang = language,\n",
        "                     slow = False)\n",
        "  gtts_object.save(\"myaudio.wav\") #gtts_object변수를 save모듈 사용하여 'myaudio.wav'로 저장하기\n",
        "  return Audio(\"myaudio.wav\") #Audio함수를 사용하여 'myaudio.wav'를 반환하라.\n",
        "  "
      ],
      "metadata": {
        "id": "tuco71N4_cdv",
        "cellView": "form"
      },
      "execution_count": 6,
      "outputs": []
    },
    {
      "cell_type": "code",
      "source": [
        "#@markdown 🍎**Step3**\n",
        "\n",
        "text_to_speech = input('Enter a text you would like to hear:')\n",
        "txt = str(text_to_speech) \n",
        "print(\"Help: Three dots in the audio window provide various playback speed. The default is set up for normal.\")\n",
        "tts(txt) "
      ],
      "metadata": {
        "id": "1xrT60xCV2-s",
        "outputId": "69946e90-78f5-49ff-f0a2-172742fa83d1",
        "colab": {
          "base_uri": "https://localhost:8080/",
          "height": 110
        },
        "cellView": "form"
      },
      "execution_count": 12,
      "outputs": [
        {
          "output_type": "stream",
          "name": "stdout",
          "text": [
            "Enter a text you would like to hear:Chat GPT is a great innovation. Awesome!\n",
            "Help: Three dots in the audio window provide various playback speed. The default is set up for normal.\n"
          ]
        },
        {
          "output_type": "execute_result",
          "data": {
            "text/plain": [
              "<IPython.lib.display.Audio object>"
            ],
            "text/html": [
              "\n",
              "                <audio  controls=\"controls\" >\n",
              "                    <source src=\"data:audio/x-wav;base64,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\" type=\"audio/x-wav\" />\n",
              "                    Your browser does not support the audio element.\n",
              "                </audio>\n",
              "              "
            ]
          },
          "metadata": {},
          "execution_count": 12
        }
      ]
    },
    {
      "cell_type": "code",
      "source": [
        "#@markdown **Step 3 with annotations**: Type in (or copy & past) any texts of yoour interest in the input box. \n",
        "\n",
        "#@markdown <font size='2.8'>[Type-in example] : <font color='red'> _Top Gun Maverick is starring with Tom Cruise._\n",
        "text_to_speech = input('Enter a text you would like to hear:')\n",
        "txt = str(text_to_speech) #str함수에 입력된 텍스트를 인자로 넣어, 이를 txt변수에 할당.\n",
        "print(\"Help: Three dots in the audio window provide various playback speed. The default is set up for normal.\")\n",
        "tts(txt) #tts함수에 txt변수를 인자로 넣기"
      ],
      "metadata": {
        "id": "E_V4XqfPNf3r",
        "cellView": "form"
      },
      "execution_count": null,
      "outputs": []
    }
  ]
}