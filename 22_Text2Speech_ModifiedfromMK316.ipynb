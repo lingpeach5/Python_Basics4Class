{
  "nbformat": 4,
  "nbformat_minor": 0,
  "metadata": {
    "colab": {
      "provenance": [],
      "toc_visible": true,
      "authorship_tag": "ABX9TyOJCfeb90Nt3YRyGYViEhrY",
      "include_colab_link": true
    },
    "kernelspec": {
      "name": "python3",
      "display_name": "Python 3"
    },
    "language_info": {
      "name": "python"
    }
  },
  "cells": [
    {
      "cell_type": "markdown",
      "metadata": {
        "id": "view-in-github",
        "colab_type": "text"
      },
      "source": [
        "<a href=\"https://colab.research.google.com/github/ms624atyale/Python_Basics/blob/main/22_Text2Speech_ModifiedfromMK316.ipynb\" target=\"_parent\"><img src=\"https://colab.research.google.com/assets/colab-badge.svg\" alt=\"Open In Colab\"/></a>"
      ]
    },
    {
      "cell_type": "markdown",
      "source": [
        "## 🐹 🐾  <font color = 'red'>**Text-to-Speech**\n",
        "\n",
        "### 📌 Precondition: \n",
        "Define your own functions and include them in your code lines. \n",
        "\n",
        "🔍 [Refer to class material in the previous section](http://INSERT...)\n",
        "\n",
        "#### **Step 0**: Refer to the link above and copy & paste the code lines and run them. \n",
        "\n",
        "     🎧 🔉 TTS (text-to-speech) with multiple accents available \n",
        "     \n",
        "     How to use: \n",
        "     1. Install the gTTS package 🏫 (**code line**: !pip install gTTS) \n",
        "     2. Import subordinate units (modues🎁🎁 and  functions [📎 📁 📐][🏈🏀⚽🎱⚾][📕📗📘📙])\n",
        "     3. Select an accent of your choice among English (en), French (fr), Korean (ko), and Spanish (es).\n",
        "     4. Enter a text, and generate and save a wave file.\n",
        "     5. Play the wave file. \n",
        " "
      ],
      "metadata": {
        "id": "C6h1uqBC9UEQ"
      }
    },
    {
      "cell_type": "code",
      "source": [
        "#@markdown 🍎**Step 1**\n",
        "\n",
        "!pip install gTTS\n",
        "from gtts import gTTS \n",
        "from IPython.display import Audio "
      ],
      "metadata": {
        "id": "xhHr66iKVRI4",
        "outputId": "3c626ecb-4569-4b9f-a0bc-a563740240bc",
        "colab": {
          "base_uri": "https://localhost:8080/"
        }
      },
      "execution_count": 2,
      "outputs": [
        {
          "output_type": "stream",
          "name": "stdout",
          "text": [
            "Looking in indexes: https://pypi.org/simple, https://us-python.pkg.dev/colab-wheels/public/simple/\n",
            "Requirement already satisfied: gTTS in /usr/local/lib/python3.10/dist-packages (2.3.2)\n",
            "Requirement already satisfied: requests<3,>=2.27 in /usr/local/lib/python3.10/dist-packages (from gTTS) (2.27.1)\n",
            "Requirement already satisfied: click<8.2,>=7.1 in /usr/local/lib/python3.10/dist-packages (from gTTS) (8.1.3)\n",
            "Requirement already satisfied: urllib3<1.27,>=1.21.1 in /usr/local/lib/python3.10/dist-packages (from requests<3,>=2.27->gTTS) (1.26.15)\n",
            "Requirement already satisfied: certifi>=2017.4.17 in /usr/local/lib/python3.10/dist-packages (from requests<3,>=2.27->gTTS) (2022.12.7)\n",
            "Requirement already satisfied: charset-normalizer~=2.0.0 in /usr/local/lib/python3.10/dist-packages (from requests<3,>=2.27->gTTS) (2.0.12)\n",
            "Requirement already satisfied: idna<4,>=2.5 in /usr/local/lib/python3.10/dist-packages (from requests<3,>=2.27->gTTS) (3.4)\n"
          ]
        }
      ]
    },
    {
      "cell_type": "code",
      "source": [
        "#@markdown **Step 1**: Install the **gTTS** packages and import its relevant modules and functions\n",
        "\n",
        "!pip install gTTS\n",
        "from gtts import gTTS #gTTS패키지에서 gTTS모듈을 불러들여라.\n",
        "from IPython.display import Audio #IPython.display모듈에서 Audio함수를 호출한다. "
      ],
      "metadata": {
        "id": "0phxy06O9zrT",
        "cellView": "form"
      },
      "execution_count": null,
      "outputs": []
    },
    {
      "cell_type": "code",
      "source": [
        "#@markdown 🍎**Step2**\n",
        "\n",
        "def tts(text):\n",
        "  text_to_speech = text\n",
        "  language=\"en\" #@param[\"en\",\"fr\",\"ko\",\"es\"]\n",
        " \n",
        "\n",
        "  gtts_object = gTTS(text = text_to_speech,\n",
        "                     lang = language,\n",
        "                     slow = False)\n",
        "  gtts_object.save(\"myaudio.wav\") \n",
        "  return Audio(\"myaudio.wav\") "
      ],
      "metadata": {
        "id": "gIU8us8VUQV-"
      },
      "execution_count": 3,
      "outputs": []
    },
    {
      "cell_type": "code",
      "source": [
        "#@markdown **Step 2**: Define a function that enables a user to i) select an accent, ii) generate a wave file, and iii) spit out a corresponding play window.\n",
        "def tts(text):\n",
        "  text_to_speech = text\n",
        "  language=\"en\" #@param[\"en\",\"fr\",\"ko\",\"es\"]\n",
        " \n",
        "\n",
        "  gtts_object = gTTS(text = text_to_speech,\n",
        "                     lang = language,\n",
        "                     slow = False)\n",
        "  gtts_object.save(\"myaudio.wav\") #gtts_object변수를 save모듈 사용하여 'myaudio.wav'로 저장하기\n",
        "  return Audio(\"myaudio.wav\") #Audio함수를 사용하여 'myaudio.wav'를 반환하라.\n",
        "  "
      ],
      "metadata": {
        "id": "tuco71N4_cdv",
        "cellView": "form"
      },
      "execution_count": null,
      "outputs": []
    },
    {
      "cell_type": "code",
      "source": [
        "#@markdown 🍎**Step3**\n",
        "\n",
        "text_to_speech = input('Enter a text you would like to hear:')\n",
        "txt = str(text_to_speech) \n",
        "print(\"Help: Three dots in the audio window provide various playback speed. The default is set up for normal.\")\n",
        "tts(txt) "
      ],
      "metadata": {
        "id": "1xrT60xCV2-s",
        "outputId": "de2cd4c2-5f5d-4914-fc60-61beab190533",
        "colab": {
          "base_uri": "https://localhost:8080/",
          "height": 110
        }
      },
      "execution_count": 6,
      "outputs": [
        {
          "output_type": "stream",
          "name": "stdout",
          "text": [
            "Enter a text you would like to hear:Top Gun Maverick is starring with Tom Cruise.\n",
            "Help: Three dots in the audio window provide various playback speed. The default is set up for normal.\n"
          ]
        },
        {
          "output_type": "execute_result",
          "data": {
            "text/plain": [
              "<IPython.lib.display.Audio object>"
            ],
            "text/html": [
              "\n",
              "                <audio  controls=\"controls\" >\n",
              "                    <source src=\"data:audio/x-wav;base64,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\" type=\"audio/x-wav\" />\n",
              "                    Your browser does not support the audio element.\n",
              "                </audio>\n",
              "              "
            ]
          },
          "metadata": {},
          "execution_count": 6
        }
      ]
    },
    {
      "cell_type": "code",
      "source": [
        "#@markdown **Step 3**: Type in (or copy & past) any texts of yoour interest in the input box. \n",
        "\n",
        "#@markdown <font size='2.8'>[Type-in example] : <font color='red'> _Top Gun Maverick is starring with Tom Cruise._\n",
        "text_to_speech = input('Enter a text you would like to hear:')\n",
        "txt = str(text_to_speech) #str함수에 입력된 텍스트를 인자로 넣어, 이를 txt변수에 할당.\n",
        "print(\"Help: Three dots in the audio window provide various playback speed. The default is set up for normal.\")\n",
        "tts(txt) #tts함수에 txt변수를 인자로 넣기"
      ],
      "metadata": {
        "id": "E_V4XqfPNf3r",
        "cellView": "form"
      },
      "execution_count": null,
      "outputs": []
    }
  ]
}